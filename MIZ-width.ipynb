{
 "cells": [
  {
   "cell_type": "code",
   "execution_count": 4,
   "id": "a643934c-c35f-4be1-9b29-0d74166d14f4",
   "metadata": {},
   "outputs": [],
   "source": [
    "import matplotlib.pyplot as plt\n",
    "import numpy as np\n",
    "import xarray as xr\n",
    "import pandas as pd\n",
    "#from kneed import KneeLocator\n",
    "from sklearn.datasets import make_classification\n",
    "from sklearn.linear_model import LogisticRegression\n",
    "from sklearn.model_selection import train_test_split\n",
    "from sklearn.pipeline import make_pipeline\n",
    "from sklearn.preprocessing import StandardScaler\n",
    "from sklearn import preprocessing\n",
    "from sklearn.cluster import KMeans\n",
    "from sklearn.metrics import silhouette_score\n",
    "from sklearn.datasets import make_blobs\n",
    "from os import listdir\n",
    "from os.path import isfile, join\n",
    "import os\n",
    "import datetime as dt\n",
    "import scipy.io\n",
    "import glob\n",
    "import pyresample\n",
    "from mpl_toolkits.axes_grid1.anchored_artists import AnchoredSizeBar\n",
    "import matplotlib.font_manager as fm\n",
    "import netCDF4\n",
    "import datetime as dt\n",
    "from netCDF4 import date2num,num2date\n",
    "import matplotlib.colors as colors\n",
    "import matplotlib as mpl\n",
    "from netCDF4 import Dataset\n",
    "import IPython.display\n",
    "import cmocean\n",
    "import cmocean.cm as cmo\n",
    "import cartopy.crs as ccrs\n",
    "import cartopy.feature as cft\n",
    "import matplotlib.dates as mdates\n",
    "import plotly.express as px\n",
    "from matplotlib.ticker import NullFormatter\n",
    "from matplotlib import rc\n",
    "#import cosima_cookbook as cc\n",
    "#from mpl_toolkits.basemap import Basemap\n",
    "import math\n",
    "import time\n",
    "import sys\n",
    "\n",
    "\n",
    "def ProgressBar(Total, Progress, BarLength=20, ProgressIcon=\"#\", BarIcon=\"-\"):\n",
    "    try:\n",
    "        # You can't have a progress bar with zero or negative length.\n",
    "        if BarLength <1:\n",
    "            BarLength = 20\n",
    "        # Use status variable for going to the next line after progress completion.\n",
    "        Status = \"\"\n",
    "        # Calcuting progress between 0 and 1 for percentage.\n",
    "        Progress = float(Progress) / float(Total)\n",
    "        # Doing this conditions at final progressing.\n",
    "        if Progress >= 1.:\n",
    "            Progress = 1\n",
    "            Status = \"\\r\\n\"    # Going to the next line\n",
    "        # Calculating how many places should be filled\n",
    "        Block = int(round(BarLength * Progress))\n",
    "        # Show this\n",
    "        Bar = \"[{}] {:.0f}% {}\".format(ProgressIcon * Block + BarIcon * (BarLength - Block), round(Progress * 100, 0), Status)\n",
    "        return Bar\n",
    "    except:\n",
    "        return \"ERROR\"\n",
    "\n",
    "\n",
    "def ShowBar(Bar):\n",
    "    sys.stdout.write(Bar)\n",
    "    sys.stdout.flush()"
   ]
  },
  {
   "cell_type": "code",
   "execution_count": 6,
   "id": "4de9c12d-ec87-4caf-86af-e1b997acc17e",
   "metadata": {},
   "outputs": [
    {
     "name": "stdout",
     "output_type": "stream",
     "text": [
      "Progress: [####################] 100% \n"
     ]
    }
   ],
   "source": [
    "# Calculate MIZ width\n",
    "filename = '/g/data/ia40/sea-ice-classification/kmean_2017.nc'\n",
    "ds = xr.open_dataset(filename)\n",
    "LT = ds['LAT']\n",
    "LN = ds['LON']\n",
    "n_days, n_lat, n_lon = ds['k'].shape\n",
    "miz_cluster = 0 # What cluster does the MIZ correspond with?\n",
    "\n",
    "# Initialise arrays\n",
    "miz_width_array = np.empty((n_days,n_lon))\n",
    "effective_miz_width_array = np.empty((n_days,n_lon))\n",
    "sic_width_array = np.empty((n_days,n_lon))\n",
    "\n",
    "miz_upper_boundary = np.empty((n_days,n_lon))\n",
    "miz_lower_boundary = np.empty((n_days,n_lon))\n",
    "\n",
    "\n",
    "day_vec = range(0,n_days,1)\n",
    "\n",
    "# Circumpolar for each day\n",
    "for day_idx in day_vec:\n",
    "    progressBar = \"\\rProgress: \" + ProgressBar(n_days, day_idx+1, 20, '#', '.')\n",
    "    ShowBar(progressBar)\n",
    "    for lon_idx in range(0,n_lon):\n",
    "        # MIZ width\n",
    "        miz_idx = ds['k'][day_idx,:,lon_idx].data == miz_cluster\n",
    "        sic_idx = ds['aice'][day_idx,:,lon_idx].data > 0.15\n",
    "        miz_idx = miz_idx*sic_idx\n",
    "        sic_1580_idx = np.logical_and(sic_idx,ds['aice'][day_idx,:,lon_idx].data < 0.8)\n",
    "        if not any(miz_idx):\n",
    "            # If there are no MIZ cells then set distance to 0\n",
    "            miz_width_array[day_idx,lon_idx] = 0\n",
    "            effective_miz_width_array[day_idx,lon_idx] = 0\n",
    "            \n",
    "            \n",
    "            miz_upper_boundary[day_idx,lon_idx] = LT[0,lon_idx]\n",
    "            miz_lower_boundary[day_idx,lon_idx] = LT[0,lon_idx]\n",
    "        else:\n",
    "            miz_width_array[day_idx,lon_idx] = ds['HTE'][miz_idx,lon_idx].data.sum()\n",
    "            effective_miz_width_array[day_idx,lon_idx] = np.multiply(ds['HTE'][miz_idx,lon_idx].data, ds['aice'][day_idx,miz_idx,lon_idx].data).sum()\n",
    "            \n",
    "            locs = np.asarray(miz_idx).nonzero()\n",
    "            miz_upper_boundary[day_idx,lon_idx] = LT[locs[0][-1],lon_idx]\n",
    "            miz_lower_boundary[day_idx,lon_idx] = LT[locs[0][0],lon_idx]\n",
    "            \n",
    "        if not any(sic_1580_idx):\n",
    "            sic_width_array[day_idx,lon_idx] = 0\n",
    "        else:\n",
    "            sic_width_array[day_idx,lon_idx] = ds['HTE'][sic_1580_idx,lon_idx].data.sum()"
   ]
  },
  {
   "cell_type": "code",
   "execution_count": 9,
   "id": "34bfd76c-46f0-48cf-bc0e-aea58c883f1b",
   "metadata": {},
   "outputs": [
    {
     "name": "stdout",
     "output_type": "stream",
     "text": [
      "[31, 120, 243, 334]\n",
      "<matplotlib.dates.MonthLocator object at 0x14ba697f5f40>\n"
     ]
    },
    {
     "data": {
      "image/png": "[encoded data removed]",
      "text/plain": [
       "<Figure size 576x288 with 1 Axes>"
      ]
     },
     "metadata": {},
     "output_type": "display_data"
    },
    {
     "ename": "NameError",
     "evalue": "name 'savepath' is not defined",
     "output_type": "error",
     "traceback": [
      "\u001b[0;31m---------------------------------------------------------------------------\u001b[0m",
      "\u001b[0;31mNameError\u001b[0m                                 Traceback (most recent call last)",
      "Cell \u001b[0;32mIn[9], line 55\u001b[0m\n\u001b[1;32m     52\u001b[0m plt\u001b[38;5;241m.\u001b[39mshow()\n\u001b[1;32m     54\u001b[0m fig\u001b[38;5;241m.\u001b[39mautofmt_xdate()\n\u001b[0;32m---> 55\u001b[0m fig\u001b[38;5;241m.\u001b[39msavefig(\u001b[43msavepath\u001b[49m\u001b[38;5;241m+\u001b[39m\u001b[38;5;124m'\u001b[39m\u001b[38;5;124mmiz_width.png\u001b[39m\u001b[38;5;124m'\u001b[39m, dpi \u001b[38;5;241m=\u001b[39m \u001b[38;5;241m300\u001b[39m)\n",
      "\u001b[0;31mNameError\u001b[0m: name 'savepath' is not defined"
     ]
    }
   ],
   "source": [
    "Cmap = np.asarray([[0.9805, 0.5000, 0.4453], [0.4416, 0.7490, 0.4322], [0.3639, 0.5755, 0.748]])\n",
    "    \n",
    "    \n",
    "rc('font',**{'family':'serif','serif':['Times']})\n",
    "rc('text', usetex=True)\n",
    "#x_dates = np.array(unique_dates[day_vec], dtype=np.datetime64)\n",
    "x_dates = range(0,365)\n",
    "month_year_formatter = mdates.DateFormatter('%b') # The \",\" is intentional.\n",
    "\n",
    "# Plot the MIZ widths\n",
    "fig, ax = plt.subplots(figsize=(8, 4))\n",
    "\n",
    "monthly_locator = mdates.MonthLocator()\n",
    "#ax.xaxis.set_major_locator(half_year_locator)\n",
    "#ax.xaxis.set_minor_locator(monthly_locator)\n",
    "#ax.xaxis.set_major_formatter(month_year_formatter)\n",
    "#ax.xaxis.set_major_locator(mdates.MonthLocator(bymonth=1))#(1,2,3,4,5,6,7,8,9,10,11,12)))\n",
    "#ax.xaxis.set_minor_locator(mdates.MonthLocator())\n",
    "ax.xaxis.set_major_locator(mdates.MonthLocator())\n",
    "ax.xaxis.set_minor_locator(mdates.MonthLocator(bymonthday=15))\n",
    "ax.xaxis.set_major_formatter(NullFormatter())\n",
    "ax.xaxis.set_minor_formatter(mdates.DateFormatter('%b'))\n",
    "\n",
    "brouwer_dates = [31,31+28+31+30,31+28+31+30+31+30+31+31,31+28+31+30+31+30+31+31+30+31+30]\n",
    "print(brouwer_dates)\n",
    "\n",
    "print(mdates.MonthLocator(bymonthday=15))\n",
    "\n",
    "#plt.style.use(\"ggplot\")\n",
    "plt.style.use(\"fivethirtyeight\")\n",
    "\n",
    "line_deviation = 1 * (effective_miz_width_array[day_vec,:].std(axis=1)/1000)\n",
    "mean = effective_miz_width_array[day_vec,:].mean(axis=1)/1000\n",
    "lower = (mean - line_deviation)\n",
    "upper = (mean + line_deviation)\n",
    "\n",
    "plt.plot(x_dates, miz_width_array[day_vec,:].mean(axis=1)/1000, label = \"Absolute\")\n",
    "plt.plot(x_dates, mean, label = \"Effective\", color=Cmap[0,:])\n",
    "#plt.plot(x_dates[brouwer_dates],[40,150,200,60], '^', markersize=12, label = \"Brouwer et al. (2022)\")\n",
    "plt.plot(x_dates, sic_width_array[day_vec,:].mean(axis=1)/1000, label = \"0.15-0.80\")\n",
    "\n",
    "\n",
    "plt.fill_between(x_dates, lower, upper, color=Cmap[0,:], alpha=.1)\n",
    "\n",
    "\n",
    "#plt.xticks(range(0, n_days))\n",
    "\n",
    "plt.xlabel(\"Days\")\n",
    "plt.ylabel(\"MIZ width [km]\")\n",
    "plt.legend()\n",
    "ax.set_ylim([0, 550])\n",
    "plt.show()\n",
    "\n",
    "fig.autofmt_xdate()\n",
    "fig.savefig(savepath+'miz_width.png', dpi = 300) \n"
   ]
  },
  {
   "cell_type": "code",
   "execution_count": 10,
   "id": "ac3a6874-e4ec-44f9-acc8-b080e83e4c1f",
   "metadata": {},
   "outputs": [
    {
     "data": {
      "text/plain": [
       "array([[0., 0., 0., ..., 0., 0., 0.],\n",
       "       [0., 0., 0., ..., 0., 0., 0.],\n",
       "       [0., 0., 0., ..., 0., 0., 0.],\n",
       "       ...,\n",
       "       [0., 0., 0., ..., 0., 0., 0.],\n",
       "       [0., 0., 0., ..., 0., 0., 0.],\n",
       "       [0., 0., 0., ..., 0., 0., 0.]])"
      ]
     },
     "execution_count": 10,
     "metadata": {},
     "output_type": "execute_result"
    }
   ],
   "source": [
    "effective_miz_width_array"
   ]
  }
 ],
 "metadata": {
  "kernelspec": {
   "display_name": "Python 3 (ipykernel)",
   "language": "python",
   "name": "python3"
  },
  "language_info": {
   "codemirror_mode": {
    "name": "ipython",
    "version": 3
   },
   "file_extension": ".py",
   "mimetype": "text/x-python",
   "name": "python",
   "nbconvert_exporter": "python",
   "pygments_lexer": "ipython3",
   "version": "3.9.15"
  }
 },
 "nbformat": 4,
 "nbformat_minor": 5
}
