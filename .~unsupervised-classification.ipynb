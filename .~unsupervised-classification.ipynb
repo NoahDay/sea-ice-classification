{
 "cells": [
  {
   "cell_type": "code",
   "execution_count": 2,
   "id": "c5903aa8-bcf4-4af0-b65e-b6b282b6093a",
   "metadata": {},
   "outputs": [],
   "source": [
    "import matplotlib.pyplot as plt\n",
    "import numpy as np\n",
    "import xarray as xr\n",
    "import pandas as pd\n",
    "#from kneed import KneeLocator\n",
    "from sklearn.datasets import make_classification\n",
    "from sklearn.linear_model import LogisticRegression\n",
    "from sklearn.model_selection import train_test_split\n",
    "from sklearn.pipeline import make_pipeline\n",
    "from sklearn.preprocessing import StandardScaler\n",
    "from sklearn import preprocessing\n",
    "from sklearn.cluster import KMeans\n",
    "from sklearn.metrics import silhouette_score\n",
    "from sklearn.datasets import make_blobs\n",
    "from os import listdir\n",
    "from os.path import isfile, join\n",
    "import os\n",
    "import datetime as dt\n",
    "import scipy.io\n",
    "import glob\n",
    "import pyresample\n",
    "from mpl_toolkits.axes_grid1.anchored_artists import AnchoredSizeBar\n",
    "import matplotlib.font_manager as fm\n",
    "import netCDF4\n",
    "import datetime as dt\n",
    "from netCDF4 import date2num,num2date\n",
    "\n",
    "import matplotlib.colors as colors\n",
    "import matplotlib as mpl\n",
    "from netCDF4 import Dataset\n",
    "import IPython.display\n",
    "import cmocean\n",
    "import cmocean.cm as cmo\n",
    "import cartopy.crs as ccrs\n",
    "import cartopy.feature as cft\n",
    "import matplotlib.dates as mdates\n",
    "import plotly.express as px\n",
    "from matplotlib.ticker import NullFormatter\n",
    "from matplotlib import rc\n",
    "#import cosima_cookbook as cc\n",
    "#from mpl_toolkits.basemap import Basemap\n",
    "import math\n",
    "import time\n",
    "import sys\n",
    "\n",
    "def get_var_list(list_name):\n",
    "    '''\n",
    "    Get a list of variables associated with a pre-defined name.\n",
    "    '''\n",
    "    if list_name == 'ocn':\n",
    "        var_list = ['sst','sss','uocn','vocn','frzmlt']\n",
    "    elif list_name == 'atmo':\n",
    "        var_list = ['Tair','uatm','vatm','fswdn','flwdn','snow']\n",
    "    elif list_name == 'wave':\n",
    "        var_list = ['aice','wave_sig_ht','peak_period','mean_wave_dir']\n",
    "    elif list_name == 'ice':\n",
    "        var_list = ['aice','hi','fsdrad','iage','uvel','vvel','frazil','congel']\n",
    "    elif list_name == 'JRA55':\n",
    "            var_list = ['airtmp']\n",
    "    elif list_name == 'static':\n",
    "#        var_list = ['aice','hi','hs','fsdrad','sice','iage','vlvl','vrdg']\n",
    "        var_list = ['aice','hi','hs','fsdrad','iage','alvl']\n",
    "    else:\n",
    "        var_list = [list_name]\n",
    "\n",
    "    return var_list\n",
    "\n",
    "def ProgressBar(Total, Progress, BarLength=20, ProgressIcon=\"#\", BarIcon=\"-\"):\n",
    "    try:\n",
    "        # You can't have a progress bar with zero or negative length.\n",
    "        if BarLength <1:\n",
    "            BarLength = 20\n",
    "        # Use status variable for going to the next line after progress completion.\n",
    "        Status = \"\"\n",
    "        # Calcuting progress between 0 and 1 for percentage.\n",
    "        Progress = float(Progress) / float(Total)\n",
    "        # Doing this conditions at final progressing.\n",
    "        if Progress >= 1.:\n",
    "            Progress = 1\n",
    "            Status = \"\\r\\n\"    # Going to the next line\n",
    "        # Calculating how many places should be filled\n",
    "        Block = int(round(BarLength * Progress))\n",
    "        # Show this\n",
    "        Bar = \"[{}] {:.0f}% {}\".format(ProgressIcon * Block + BarIcon * (BarLength - Block), round(Progress * 100, 0), Status)\n",
    "        return Bar\n",
    "    except:\n",
    "        return \"ERROR\"\n",
    "\n",
    "\n",
    "def ShowBar(Bar):\n",
    "    sys.stdout.write(Bar)\n",
    "    sys.stdout.flush()\n",
    "    \n",
    "#del length"
   ]
  },
  {
   "cell_type": "code",
   "execution_count": 3,
   "id": "72252e95",
   "metadata": {},
   "outputs": [
    {
     "name": "stdout",
     "output_type": "stream",
     "text": [
      "2014\n",
      "Progress: [####################] 100% \n"
     ]
    },
    {
     "data": {
      "text/html": [
       "<div>\n",
       "<style scoped>\n",
       "    .dataframe tbody tr th:only-of-type {\n",
       "        vertical-align: middle;\n",
       "    }\n",
       "\n",
       "    .dataframe tbody tr th {\n",
       "        vertical-align: top;\n",
       "    }\n",
       "\n",
       "    .dataframe thead th {\n",
       "        text-align: right;\n",
       "    }\n",
       "</style>\n",
       "<table border=\"1\" class=\"dataframe\">\n",
       "  <thead>\n",
       "    <tr style=\"text-align: right;\">\n",
       "      <th></th>\n",
       "      <th>aice</th>\n",
       "      <th>hi</th>\n",
       "      <th>hs</th>\n",
       "      <th>fsdrad</th>\n",
       "      <th>iage</th>\n",
       "      <th>alvl</th>\n",
       "      <th>longitude</th>\n",
       "      <th>latitude</th>\n",
       "    </tr>\n",
       "  </thead>\n",
       "  <tbody>\n",
       "    <tr>\n",
       "      <th>count</th>\n",
       "      <td>2.222309e+06</td>\n",
       "      <td>2.222309e+06</td>\n",
       "      <td>2.222309e+06</td>\n",
       "      <td>2.222309e+06</td>\n",
       "      <td>2.222309e+06</td>\n",
       "      <td>2.222309e+06</td>\n",
       "      <td>2.222309e+06</td>\n",
       "      <td>2.222309e+06</td>\n",
       "    </tr>\n",
       "    <tr>\n",
       "      <th>mean</th>\n",
       "      <td>9.485694e-01</td>\n",
       "      <td>1.077703e+00</td>\n",
       "      <td>1.781355e-01</td>\n",
       "      <td>5.516682e+02</td>\n",
       "      <td>3.523304e-01</td>\n",
       "      <td>7.551380e-01</td>\n",
       "      <td>2.057405e+02</td>\n",
       "      <td>-6.827138e+01</td>\n",
       "    </tr>\n",
       "    <tr>\n",
       "      <th>std</th>\n",
       "      <td>1.307282e-01</td>\n",
       "      <td>6.681880e-01</td>\n",
       "      <td>1.586024e-01</td>\n",
       "      <td>2.877221e+02</td>\n",
       "      <td>2.538545e-01</td>\n",
       "      <td>2.080381e-01</td>\n",
       "      <td>1.012025e+02</td>\n",
       "      <td>5.191647e+00</td>\n",
       "    </tr>\n",
       "    <tr>\n",
       "      <th>min</th>\n",
       "      <td>1.500105e-01</td>\n",
       "      <td>6.592733e-03</td>\n",
       "      <td>0.000000e+00</td>\n",
       "      <td>7.841179e-01</td>\n",
       "      <td>5.421228e-04</td>\n",
       "      <td>1.880383e-03</td>\n",
       "      <td>5.000000e-01</td>\n",
       "      <td>-7.762990e+01</td>\n",
       "    </tr>\n",
       "    <tr>\n",
       "      <th>25%</th>\n",
       "      <td>9.711599e-01</td>\n",
       "      <td>5.434335e-01</td>\n",
       "      <td>5.710820e-02</td>\n",
       "      <td>3.331745e+02</td>\n",
       "      <td>1.557269e-01</td>\n",
       "      <td>6.496736e-01</td>\n",
       "      <td>1.485000e+02</td>\n",
       "      <td>-7.243740e+01</td>\n",
       "    </tr>\n",
       "    <tr>\n",
       "      <th>50%</th>\n",
       "      <td>9.974597e-01</td>\n",
       "      <td>1.022592e+00</td>\n",
       "      <td>1.335549e-01</td>\n",
       "      <td>6.563134e+02</td>\n",
       "      <td>3.005732e-01</td>\n",
       "      <td>8.151358e-01</td>\n",
       "      <td>2.085000e+02</td>\n",
       "      <td>-6.822556e+01</td>\n",
       "    </tr>\n",
       "    <tr>\n",
       "      <th>75%</th>\n",
       "      <td>9.995916e-01</td>\n",
       "      <td>1.509524e+00</td>\n",
       "      <td>2.615275e-01</td>\n",
       "      <td>8.071931e+02</td>\n",
       "      <td>4.959505e-01</td>\n",
       "      <td>9.168772e-01</td>\n",
       "      <td>3.055000e+02</td>\n",
       "      <td>-6.444659e+01</td>\n",
       "    </tr>\n",
       "    <tr>\n",
       "      <th>max</th>\n",
       "      <td>1.000000e+00</td>\n",
       "      <td>6.742590e+00</td>\n",
       "      <td>1.387422e+00</td>\n",
       "      <td>8.504770e+02</td>\n",
       "      <td>3.739222e+00</td>\n",
       "      <td>9.998409e-01</td>\n",
       "      <td>3.595000e+02</td>\n",
       "      <td>-5.303830e+01</td>\n",
       "    </tr>\n",
       "  </tbody>\n",
       "</table>\n",
       "</div>"
      ],
      "text/plain": [
       "               aice            hi            hs        fsdrad          iage  \\\n",
       "count  2.222309e+06  2.222309e+06  2.222309e+06  2.222309e+06  2.222309e+06   \n",
       "mean   9.485694e-01  1.077703e+00  1.781355e-01  5.516682e+02  3.523304e-01   \n",
       "std    1.307282e-01  6.681880e-01  1.586024e-01  2.877221e+02  2.538545e-01   \n",
       "min    1.500105e-01  6.592733e-03  0.000000e+00  7.841179e-01  5.421228e-04   \n",
       "25%    9.711599e-01  5.434335e-01  5.710820e-02  3.331745e+02  1.557269e-01   \n",
       "50%    9.974597e-01  1.022592e+00  1.335549e-01  6.563134e+02  3.005732e-01   \n",
       "75%    9.995916e-01  1.509524e+00  2.615275e-01  8.071931e+02  4.959505e-01   \n",
       "max    1.000000e+00  6.742590e+00  1.387422e+00  8.504770e+02  3.739222e+00   \n",
       "\n",
       "               alvl     longitude      latitude  \n",
       "count  2.222309e+06  2.222309e+06  2.222309e+06  \n",
       "mean   7.551380e-01  2.057405e+02 -6.827138e+01  \n",
       "std    2.080381e-01  1.012025e+02  5.191647e+00  \n",
       "min    1.880383e-03  5.000000e-01 -7.762990e+01  \n",
       "25%    6.496736e-01  1.485000e+02 -7.243740e+01  \n",
       "50%    8.151358e-01  2.085000e+02 -6.822556e+01  \n",
       "75%    9.168772e-01  3.055000e+02 -6.444659e+01  \n",
       "max    9.998409e-01  3.595000e+02 -5.303830e+01  "
      ]
     },
     "execution_count": 3,
     "metadata": {},
     "output_type": "execute_result"
    }
   ],
   "source": [
    "# Read in the CICE data\n",
    "var_name = 'static'\n",
    "variable_list = get_var_list(var_name)\n",
    "num_variables = np.size(variable_list)\n",
    "\n",
    "\n",
    "\n",
    "# '/Users/noahday/Gadi/ia40/waves-10/history/iceh.2002-08-26.nc' \n",
    "mypath = '/g/data/ia40/cice-dirs/runs/waves-10/history/'\n",
    "savepath = '/home/566/nd0349/notebooks/'\n",
    "\n",
    "os.chdir(mypath)\n",
    "file_dates = []\n",
    "year_range = range(2014,2015)\n",
    "\n",
    "for year in year_range:\n",
    "#    year = '2005'\n",
    "    print(year)\n",
    "    filename =  mypath + 'iceh.' + str(year) + '-01-01.nc'\n",
    "\n",
    "    onlyfiles = glob.glob(\"{path}/iceh.*{year}*\".format(path=mypath, year=year))\n",
    "    onlyfiles.sort()\n",
    "\n",
    "    ds = xr.open_dataset(filename)\n",
    "    LN = ds.TLON.values\n",
    "    LT = ds.TLAT.values\n",
    "    # Get the total number of grid points\n",
    "    size = 1\n",
    "    for dim in np.shape(LN): size *= dim\n",
    "    aice_data = ds['aice'][0,:,:]\n",
    "    mask1 = np.ma.masked_where(LT > 0.0, aice_data)\n",
    "    mask2 = np.ma.masked_where(aice_data < 0.15, aice_data)\n",
    "    master_mask = mask1.mask | mask2.mask\n",
    "    mask = master_mask\n",
    "\n",
    "    X_out =  np.ma.masked_array(np.empty((size,1)), mask=mask)\n",
    "    for filecount, file in enumerate(onlyfiles):\n",
    "        progressBar = \"\\rProgress: \" + ProgressBar(len(onlyfiles), filecount+1, 20, '#', '.')\n",
    "        ShowBar(progressBar)\n",
    "        \n",
    "        filename = file\n",
    "        file_dates.append(np.datetime64(file[-13:-3]))\n",
    "\n",
    "        ds = xr.open_dataset(filename)\n",
    "        LN = ds.TLON.values\n",
    "        LT = ds.TLAT.values\n",
    "\n",
    "        aice_data = ds['aice'][0,:,:]\n",
    "\n",
    "        mask1 = np.ma.masked_where(LT > 0.0, aice_data)\n",
    "        mask2 = np.ma.masked_where(aice_data < 0.15, aice_data)\n",
    "        master_mask = mask1.mask | mask2.mask\n",
    "        mask = master_mask\n",
    "\n",
    "        for counter, exp in enumerate(variable_list):\n",
    "            data = ds[exp][0,:,:]\n",
    "            data_masked = np.ma.masked_where(mask, data.values)\n",
    "            data_masked_vec = data_masked.compressed()\n",
    "            size, = data_masked_vec.shape\n",
    "\n",
    "            if counter == 0: \n",
    "                X_temp = data_masked_vec.reshape(size,1)\n",
    "            else:\n",
    "                X_temp = np.concatenate([X_temp, data_masked_vec.reshape(size,1)],axis=1)\n",
    "\n",
    "        LN_masked = np.ma.masked_where(mask, LN)\n",
    "        LN_vec = LN_masked.compressed()\n",
    "        LT_masked = np.ma.masked_where(mask, LT)\n",
    "        LT_vec = LT_masked.compressed()\n",
    "        X_temp = np.concatenate([X_temp, LN_vec.reshape(size,1), LT_vec.reshape(size,1)],axis=1)\n",
    "        if filecount == 0 and year == year_range[0]: \n",
    "            X_out = X_temp\n",
    "            datetime_vec =  np.tile(np.datetime64(file[-13:-3]),(size,1))\n",
    "        else:\n",
    "            X_out = np.concatenate([X_out, X_temp],axis=0)\n",
    "            datetime_vec = np.concatenate([datetime_vec, np.tile(np.datetime64(file[-13:-3]),(size,1))],axis=0)\n",
    "\n",
    "\n",
    "df_raw = pd.DataFrame(X_out, columns = variable_list+['longitude','latitude'])#,'date'])\n",
    "df_raw['date'] = datetime_vec\n",
    "df_raw = df_raw.dropna()\n",
    "\n",
    "\n",
    "# Print the dataset\n",
    "\n",
    "df_raw.describe()\n"
   ]
  },
  {
   "cell_type": "code",
   "execution_count": 4,
   "id": "bcdbe062",
   "metadata": {},
   "outputs": [
    {
     "data": {
      "text/plain": [
       "2005"
      ]
     },
     "execution_count": 4,
     "metadata": {},
     "output_type": "execute_result"
    }
   ],
   "source": [
    "\n",
    "df_raw['date'].unique()\n",
    "\n",
    "len(onlyfiles)\n",
    "\n",
    "year_range = range(2005,2012)\n",
    "year_range[0]"
   ]
  },
  {
   "cell_type": "code",
   "execution_count": 5,
   "id": "99edcf2b-7b1b-49e8-b535-474874e3223c",
   "metadata": {},
   "outputs": [
    {
     "data": {
      "text/plain": [
       "Text(0.5, 1.0, 'Log-Min/Max')"
      ]
     },
     "execution_count": 5,
     "metadata": {},
     "output_type": "execute_result"
    },
    {
     "data": {
      "image/png": "[encoded data removed]",
      "text/plain": [
       "<Figure size 432x288 with 3 Axes>"
      ]
     },
     "metadata": {
      "needs_background": "light"
     },
     "output_type": "display_data"
    }
   ],
   "source": [
    "# Standardisation\n",
    "X_train = df_raw['fsdrad'].values\n",
    "len, = X_train.shape\n",
    "\n",
    "\n",
    "min_max_scaler = preprocessing.MinMaxScaler()\n",
    "X_train_minmax = min_max_scaler.fit_transform(X_train.reshape(len,1))\n",
    "\n",
    "\n",
    "#create log-transformed data\n",
    "X_log = np.log(X_train_minmax+1)\n",
    "scaler = StandardScaler()\n",
    "#scaled_features = scaler.fit_transform(X_standardized)\n",
    "\n",
    "X_log_minmax = min_max_scaler.fit_transform(X_log.reshape(len,1))\n",
    "\n",
    "\n",
    "#define grid of plots\n",
    "\n",
    "fig, axs = plt.subplots(nrows=1, ncols=3)\n",
    "\n",
    "#create histograms\n",
    "\n",
    "axs[0].hist(X_train_minmax, edgecolor='black',bins=31,log=True,range=[0, 1])\n",
    "axs[1].hist(X_log, edgecolor='black',bins=31,log=True,range=[0, 1])\n",
    "axs[2].hist(X_log_minmax, edgecolor='black',bins=31,log=True,range=[0, 1])\n",
    "\n",
    "\n",
    "#add title to each histogram\n",
    "axs[0].set_title('Min/Max')\n",
    "axs[1].set_title('Log-Transformed')\n",
    "axs[2].set_title('Log-Min/Max')\n",
    "    \n"
   ]
  },
  {
   "cell_type": "code",
   "execution_count": 4,
   "id": "e0c5637c",
   "metadata": {},
   "outputs": [
    {
     "name": "stdout",
     "output_type": "stream",
     "text": [
      "               aice            hi            hs        fsdrad          iage  \\\n",
      "count  2.222309e+06  2.222309e+06  2.222309e+06  2.222309e+06  2.222309e+06   \n",
      "mean   9.394923e-01  1.590129e-01  1.283931e-01  6.483330e-01  9.409430e-02   \n",
      "std    1.544966e-01  9.924832e-02  1.143786e-01  3.393450e-01  6.796133e-02   \n",
      "min    0.000000e+00  0.000000e+00  0.000000e+00  0.000000e+00  0.000000e+00   \n",
      "25%    9.660701e-01  7.969730e-02  4.116137e-02  3.911889e-01  4.150790e-02   \n",
      "50%    9.970114e-01  1.508313e-01  9.626120e-02  7.714897e-01  8.025055e-02   \n",
      "75%    9.995196e-01  2.231194e-01  1.884988e-01  9.490593e-01  1.325089e-01   \n",
      "max    1.000000e+00  1.000000e+00  1.000000e+00  1.000000e+00  1.000000e+00   \n",
      "\n",
      "               alvl     longitude      latitude  \n",
      "count  2.222309e+06  2.222309e+06  2.222309e+06  \n",
      "mean   7.547972e-01  2.057406e+02 -6.827137e+01  \n",
      "std    2.086195e-01  1.013014e+02  5.191659e+00  \n",
      "min    0.000000e+00  5.000000e-01 -7.762990e+01  \n",
      "25%    6.491172e-01  1.485000e+02 -7.243740e+01  \n",
      "50%    8.149174e-01  2.085000e+02 -6.822556e+01  \n",
      "75%    9.168668e-01  3.055000e+02 -6.444659e+01  \n",
      "max    1.000000e+00  3.595000e+02 -5.303830e+01  \n",
      "0         2014-01-01\n",
      "1         2014-01-01\n",
      "2         2014-01-01\n",
      "3         2014-01-01\n",
      "4         2014-01-01\n",
      "             ...    \n",
      "2222304   2014-12-31\n",
      "2222305   2014-12-31\n",
      "2222306   2014-12-31\n",
      "2222307   2014-12-31\n",
      "2222308   2014-12-31\n",
      "Name: date, Length: 2222309, dtype: datetime64[ns]\n"
     ]
    }
   ],
   "source": [
    "# Standardise all the variables\n",
    "\n",
    "X_temp = df_raw['aice'].values\n",
    "len, = X_temp.shape\n",
    "row_index = len\n",
    "X_train = np.zeros((row_index,1))\n",
    "for counter, exp in enumerate(variable_list):\n",
    "    X_temp_vec = df_raw[exp].values\n",
    "\n",
    "    min_max_scaler = preprocessing.MinMaxScaler()\n",
    "    X_temp_vec = min_max_scaler.fit_transform(X_temp_vec.reshape(row_index,1))\n",
    "\n",
    "    # Log transformation\n",
    "#    X_temp_vec = np.log(X_temp_vec+1)\n",
    "   # scaler = StandardScaler()\n",
    "    X_temp_vec = min_max_scaler.fit_transform(X_temp_vec.reshape(row_index,1))\n",
    "    X_train = np.concatenate([X_train, X_temp_vec],axis=1)\n",
    "\n",
    "temp_lon = df_raw['longitude'].to_numpy()\n",
    "temp_lat = df_raw['latitude'].to_numpy()\n",
    "X_train = np.concatenate([X_train, temp_lon.reshape(row_index,1), temp_lat.reshape(row_index,1)],axis=1)\n",
    "X_train=np.delete(X_train,0,1)\n",
    "\n",
    "df_standard = pd.DataFrame(X_train, columns = variable_list+['longitude','latitude'])\n",
    "#df_standard['date'] = df_raw['date']#np.datetime64(file_date)\n",
    "df_standard['date'] = df_raw['date'].values\n",
    "\n",
    "\n",
    "print(df_standard.describe())\n",
    "df_standard\n",
    "\n",
    "print(df_standard['date'])\n",
    "\n"
   ]
  },
  {
   "cell_type": "code",
   "execution_count": 192,
   "id": "fd87ee4f-0145-452f-a574-d8ec1b064aee",
   "metadata": {},
   "outputs": [
    {
     "ename": "KeyboardInterrupt",
     "evalue": "",
     "output_type": "error",
     "traceback": [
      "\u001b[0;31m---------------------------------------------------------------------------\u001b[0m",
      "\u001b[0;31mKeyboardInterrupt\u001b[0m                         Traceback (most recent call last)",
      "File \u001b[0;32m<__array_function__ internals>:177\u001b[0m, in \u001b[0;36mwhere\u001b[0;34m(*args, **kwargs)\u001b[0m\n",
      "\u001b[0;31mKeyboardInterrupt\u001b[0m: "
     ]
    },
    {
     "name": "stderr",
     "output_type": "stream",
     "text": [
      "Exception ignored in: 'sklearn.cluster._k_means_common._relocate_empty_clusters_dense'\n",
      "Traceback (most recent call last):\n",
      "  File \"<__array_function__ internals>\", line 177, in where\n",
      "KeyboardInterrupt: \n"
     ]
    },
    {
     "data": {
      "image/png": "[encoded data removed]",
      "text/plain": [
       "<Figure size 432x288 with 1 Axes>"
      ]
     },
     "metadata": {},
     "output_type": "display_data"
    },
    {
     "data": {
      "text/plain": [
       "<Figure size 432x288 with 0 Axes>"
      ]
     },
     "metadata": {},
     "output_type": "display_data"
    }
   ],
   "source": [
    "kmeans = KMeans(\n",
    "    init=\"random\",\n",
    "    n_clusters=3,\n",
    "    n_init=10,\n",
    "    max_iter=300,\n",
    "    random_state=42\n",
    ")\n",
    "#print(df_standard.iloc[:, 3] )\n",
    "del X_train\n",
    "X_train = df_standard.iloc[:, 0:-3] \n",
    "X_train\n",
    "kmeans.fit(X_train)\n",
    "\n",
    "# The lowest SSE value\n",
    "kmeans.inertia_\n",
    "\n",
    "# Final locations of the centroid\n",
    "kmeans.cluster_centers_\n",
    "\n",
    "# The number of iterations required to converge\n",
    "kmeans.n_iter_\n",
    "kmeans.labels_[:5]\n",
    "\n",
    "\n",
    "kmeans_kwargs = {\n",
    "    \"init\": \"random\",\n",
    "    \"n_init\": 10,\n",
    "    \"max_iter\": 300,\n",
    "    \"random_state\": 42,\n",
    "}\n",
    "\n",
    "# A list holds the SSE values for each k\n",
    "sse = []\n",
    "for k in range(1, 5):\n",
    "    kmeans = KMeans(n_clusters=k, **kmeans_kwargs)\n",
    "    kmeans.fit(X_train)\n",
    "    sse.append(kmeans.inertia_)\n",
    "    \n",
    "plt.style.use(\"fivethirtyeight\")\n",
    "plt.plot(range(1, 5), sse)\n",
    "plt.xticks(range(1, 5))\n",
    "plt.xlabel(\"Number of Clusters\")\n",
    "plt.ylabel(\"SSE\")\n",
    "plt.show()\n",
    "plt.savefig(savepath+'SSE.png', dpi = 300)  \n",
    "\n"
   ]
  },
  {
   "cell_type": "code",
   "execution_count": null,
   "id": "18245f26",
   "metadata": {},
   "outputs": [],
   "source": [
    "# A list holds the silhouette coefficients for each k\n",
    "silhouette_coefficients = []\n",
    "\n",
    "# Notice you start at 2 clusters for silhouette coefficient\n",
    "for k in range(2, 5):\n",
    "    kmeans = KMeans(n_clusters=k, **kmeans_kwargs)\n",
    "    kmeans.fit(X_train)\n",
    "    score = silhouette_score(X_train, kmeans.labels_)\n",
    "    silhouette_coefficients.append(score)\n",
    "\n",
    "plt.style.use(\"fivethirtyeight\")\n",
    "plt.plot(range(2, 5), silhouette_coefficients)\n",
    "plt.xticks(range(2, 5))\n",
    "plt.xlabel(\"Number of Clusters\")\n",
    "plt.ylabel(\"Silhouette Coefficient\")\n",
    "plt.show()\n",
    "plt.savefig(savepath+'silhouette.png', dpi = 300)  "
   ]
  },
  {
   "cell_type": "code",
   "execution_count": 30,
   "id": "35e5c6bf",
   "metadata": {},
   "outputs": [
    {
     "name": "stdout",
     "output_type": "stream",
     "text": [
      "[[0.76306007 0.04041951 0.02538844 0.02783396 0.05290037 0.74416677]\n",
      " [0.96479608 0.11019326 0.10738233 0.26478933 0.07206991 0.80610988]\n",
      " [0.96413898 0.18858583 0.14985236 0.82837526 0.10536767 0.74644532]]\n"
     ]
    },
    {
     "data": {
      "text/html": [
       "<div>\n",
       "<style scoped>\n",
       "    .dataframe tbody tr th:only-of-type {\n",
       "        vertical-align: middle;\n",
       "    }\n",
       "\n",
       "    .dataframe tbody tr th {\n",
       "        vertical-align: top;\n",
       "    }\n",
       "\n",
       "    .dataframe thead tr th {\n",
       "        text-align: left;\n",
       "    }\n",
       "\n",
       "    .dataframe thead tr:last-of-type th {\n",
       "        text-align: right;\n",
       "    }\n",
       "</style>\n",
       "<table border=\"1\" class=\"dataframe\">\n",
       "  <thead>\n",
       "    <tr>\n",
       "      <th></th>\n",
       "      <th colspan=\"8\" halign=\"left\">aice</th>\n",
       "      <th colspan=\"2\" halign=\"left\">hi</th>\n",
       "      <th>...</th>\n",
       "      <th colspan=\"2\" halign=\"left\">longitude</th>\n",
       "      <th colspan=\"8\" halign=\"left\">latitude</th>\n",
       "    </tr>\n",
       "    <tr>\n",
       "      <th></th>\n",
       "      <th>count</th>\n",
       "      <th>mean</th>\n",
       "      <th>std</th>\n",
       "      <th>min</th>\n",
       "      <th>25%</th>\n",
       "      <th>50%</th>\n",
       "      <th>75%</th>\n",
       "      <th>max</th>\n",
       "      <th>count</th>\n",
       "      <th>mean</th>\n",
       "      <th>...</th>\n",
       "      <th>75%</th>\n",
       "      <th>max</th>\n",
       "      <th>count</th>\n",
       "      <th>mean</th>\n",
       "      <th>std</th>\n",
       "      <th>min</th>\n",
       "      <th>25%</th>\n",
       "      <th>50%</th>\n",
       "      <th>75%</th>\n",
       "      <th>max</th>\n",
       "    </tr>\n",
       "    <tr>\n",
       "      <th>k</th>\n",
       "      <th></th>\n",
       "      <th></th>\n",
       "      <th></th>\n",
       "      <th></th>\n",
       "      <th></th>\n",
       "      <th></th>\n",
       "      <th></th>\n",
       "      <th></th>\n",
       "      <th></th>\n",
       "      <th></th>\n",
       "      <th></th>\n",
       "      <th></th>\n",
       "      <th></th>\n",
       "      <th></th>\n",
       "      <th></th>\n",
       "      <th></th>\n",
       "      <th></th>\n",
       "      <th></th>\n",
       "      <th></th>\n",
       "      <th></th>\n",
       "      <th></th>\n",
       "    </tr>\n",
       "  </thead>\n",
       "  <tbody>\n",
       "    <tr>\n",
       "      <th>0</th>\n",
       "      <td>232371.0</td>\n",
       "      <td>0.705269</td>\n",
       "      <td>0.290389</td>\n",
       "      <td>0.000012</td>\n",
       "      <td>0.520111</td>\n",
       "      <td>0.820259</td>\n",
       "      <td>0.945760</td>\n",
       "      <td>0.999998</td>\n",
       "      <td>232371.0</td>\n",
       "      <td>0.046854</td>\n",
       "      <td>...</td>\n",
       "      <td>270.5</td>\n",
       "      <td>359.5</td>\n",
       "      <td>232371.0</td>\n",
       "      <td>-62.937202</td>\n",
       "      <td>4.571950</td>\n",
       "      <td>-77.629898</td>\n",
       "      <td>-65.601395</td>\n",
       "      <td>-62.599541</td>\n",
       "      <td>-59.922382</td>\n",
       "      <td>-53.038300</td>\n",
       "    </tr>\n",
       "    <tr>\n",
       "      <th>1</th>\n",
       "      <td>511803.0</td>\n",
       "      <td>0.980446</td>\n",
       "      <td>0.039855</td>\n",
       "      <td>0.516889</td>\n",
       "      <td>0.980608</td>\n",
       "      <td>0.995899</td>\n",
       "      <td>0.999275</td>\n",
       "      <td>1.000000</td>\n",
       "      <td>511803.0</td>\n",
       "      <td>0.094598</td>\n",
       "      <td>...</td>\n",
       "      <td>269.5</td>\n",
       "      <td>359.5</td>\n",
       "      <td>511803.0</td>\n",
       "      <td>-64.932887</td>\n",
       "      <td>4.118413</td>\n",
       "      <td>-77.629898</td>\n",
       "      <td>-67.730186</td>\n",
       "      <td>-65.031616</td>\n",
       "      <td>-61.953148</td>\n",
       "      <td>-53.858738</td>\n",
       "    </tr>\n",
       "    <tr>\n",
       "      <th>2</th>\n",
       "      <td>1478135.0</td>\n",
       "      <td>0.962133</td>\n",
       "      <td>0.111185</td>\n",
       "      <td>0.000000</td>\n",
       "      <td>0.985447</td>\n",
       "      <td>0.998516</td>\n",
       "      <td>0.999651</td>\n",
       "      <td>1.000000</td>\n",
       "      <td>1478135.0</td>\n",
       "      <td>0.198949</td>\n",
       "      <td>...</td>\n",
       "      <td>311.5</td>\n",
       "      <td>359.5</td>\n",
       "      <td>1478135.0</td>\n",
       "      <td>-70.265872</td>\n",
       "      <td>4.365097</td>\n",
       "      <td>-77.629898</td>\n",
       "      <td>-73.793755</td>\n",
       "      <td>-70.492485</td>\n",
       "      <td>-67.220253</td>\n",
       "      <td>-56.239342</td>\n",
       "    </tr>\n",
       "  </tbody>\n",
       "</table>\n",
       "<p>3 rows × 64 columns</p>\n",
       "</div>"
      ],
      "text/plain": [
       "        aice                                                              \\\n",
       "       count      mean       std       min       25%       50%       75%   \n",
       "k                                                                          \n",
       "0   232371.0  0.705269  0.290389  0.000012  0.520111  0.820259  0.945760   \n",
       "1   511803.0  0.980446  0.039855  0.516889  0.980608  0.995899  0.999275   \n",
       "2  1478135.0  0.962133  0.111185  0.000000  0.985447  0.998516  0.999651   \n",
       "\n",
       "                    hi            ... longitude          latitude             \\\n",
       "        max      count      mean  ...       75%    max      count       mean   \n",
       "k                                 ...                                          \n",
       "0  0.999998   232371.0  0.046854  ...     270.5  359.5   232371.0 -62.937202   \n",
       "1  1.000000   511803.0  0.094598  ...     269.5  359.5   511803.0 -64.932887   \n",
       "2  1.000000  1478135.0  0.198949  ...     311.5  359.5  1478135.0 -70.265872   \n",
       "\n",
       "                                                                    \n",
       "        std        min        25%        50%        75%        max  \n",
       "k                                                                   \n",
       "0  4.571950 -77.629898 -65.601395 -62.599541 -59.922382 -53.038300  \n",
       "1  4.118413 -77.629898 -67.730186 -65.031616 -61.953148 -53.858738  \n",
       "2  4.365097 -77.629898 -73.793755 -70.492485 -67.220253 -56.239342  \n",
       "\n",
       "[3 rows x 64 columns]"
      ]
     },
     "execution_count": 30,
     "metadata": {},
     "output_type": "execute_result"
    }
   ],
   "source": [
    "# Initial centroid\n",
    "#0.0123    0.0054    0.0009    0.0077    0.0139    0.0075    0.0013    0.0048\n",
    "#0.9825    0.4804    0.2950    0.9470    0.5100    0.2033    0.3641    0.3532\n",
    "#0.9432    0.1913    0.0802    0.7402    0.6518    0.0914    0.2116    0.0867\n",
    "\n",
    "init_centroids = np.array([[0.223, 0.0054, 0.0009, 0.0007, 0.0139, 0.0075, 0.0013, 0.0048], \n",
    "                           [0.9825, 0.4804, 0.2950, 0.9470, 0.5100, 0.2033, 0.3641, 0.3532], \n",
    "                           [0.9432, 0.1913, 0.0802, 0.7402, 0.6518, 0.0914, 0.2116, 0.0867]])\n",
    "\n",
    "init_centroids2 = np.array([[0.96221878, 0.08398237, 0.06508808, 0.04646253, 0.3788989,  0.05517018, 0.21942225], \n",
    "                            [0.95768088, 0.29923383, 0.24225471, 0.21369082, 0.13641108, 0.1632028,  0.31585801], \n",
    "                            [0.95627117, 0.2773644,  0.18689209, 0.84940695, 0.17923583, 0.17167591, 0.46987752]])\n",
    "# [0.33422491, 0.11073472, 0.04112143, 0.17990378, 0.19245547, 0.22089278,  0.06789923]\n",
    "\n",
    "init_centroids3 = np.array([[0.88114293, 0.07834562, 0.06959487, 0.15402359, 0.25723424, 0.08001789, 0.15786113], \n",
    "                            [0.9762807,  0.21524319, 0.15204812, 0.93874533, 0.1757047,  0.11999053, 0.44372855],\n",
    "                            [0.93300114, 0.25759262, 0.26726858, 0.68848653, 0.101471,   0.18438339, 0.24430108]])\n",
    "\n",
    "init_centroids_6 = np.array([[0.96221878, 0.08398237, 0.06508808, 0.04646253,  0.05517018, 0.21942225], \n",
    "                            [0.95768088, 0.29923383, 0.24225471, 0.21369082, 0.1632028,  0.31585801], \n",
    "                            [0.95627117, 0.2773644,  0.18689209, 0.84940695, 0.17167591, 0.46987752]])\n",
    "kmeans = KMeans(\n",
    "#    init=\"random\",\n",
    "    init=init_centroids_6,\n",
    "    n_clusters=3,\n",
    "    n_init=1, #10,\n",
    "    max_iter=1,\n",
    "    random_state=2020\n",
    ")\n",
    "\n",
    "# Take a sub-sample (same number of points for each date)\n",
    "#df_temp = df_standard\n",
    "df_temp = df_standard.drop(df_raw[df_raw.aice < 0.01].index)\n",
    "#df_subsample = df_temp.groupby('date', group_keys=False).apply(lambda x: x.sample(500))\n",
    "#df_subsample = df_temp\n",
    "X_train = df_subsample.iloc[:, 0:6] \n",
    "X_train = df_standard.iloc[:, 0:6] \n",
    "\n",
    "kmeans.fit(X_train)\n",
    "#kmeans.cluster_centers_ = init_centroids\n",
    "\n",
    "X_all = df_standard.iloc[:, 0:6] \n",
    "predicted = kmeans.predict(X_all) \n",
    "\n",
    "df_kmeans = df_standard\n",
    "df_kmeans['k'] = predicted # kmeans.labels_\n",
    "\n",
    "print(kmeans.cluster_centers_)\n",
    "#df_kmeans.to_csv('kmeans.csv', index=False)\n",
    "df_kmeans.groupby('k').describe()"
   ]
  },
  {
   "cell_type": "code",
   "execution_count": 24,
   "id": "7861ac5d-a906-47c2-9669-608679cf4db9",
   "metadata": {},
   "outputs": [
    {
     "data": {
      "text/html": [
       "<div>\n",
       "<style scoped>\n",
       "    .dataframe tbody tr th:only-of-type {\n",
       "        vertical-align: middle;\n",
       "    }\n",
       "\n",
       "    .dataframe tbody tr th {\n",
       "        vertical-align: top;\n",
       "    }\n",
       "\n",
       "    .dataframe thead th {\n",
       "        text-align: right;\n",
       "    }\n",
       "</style>\n",
       "<table border=\"1\" class=\"dataframe\">\n",
       "  <thead>\n",
       "    <tr style=\"text-align: right;\">\n",
       "      <th></th>\n",
       "      <th>aice</th>\n",
       "      <th>hi</th>\n",
       "      <th>hs</th>\n",
       "      <th>fsdrad</th>\n",
       "      <th>sice</th>\n",
       "      <th>iage</th>\n",
       "      <th>vlvl</th>\n",
       "      <th>vrdg</th>\n",
       "      <th>longitude</th>\n",
       "      <th>latitude</th>\n",
       "      <th>date</th>\n",
       "      <th>k</th>\n",
       "    </tr>\n",
       "  </thead>\n",
       "  <tbody>\n",
       "    <tr>\n",
       "      <th>0</th>\n",
       "      <td>0.623281</td>\n",
       "      <td>0.318859</td>\n",
       "      <td>0.095338</td>\n",
       "      <td>0.999611</td>\n",
       "      <td>0.184062</td>\n",
       "      <td>0.103800</td>\n",
       "      <td>0.063082</td>\n",
       "      <td>0.303015</td>\n",
       "      <td>312.5</td>\n",
       "      <td>-77.629898</td>\n",
       "      <td>2015-01-01</td>\n",
       "      <td>2</td>\n",
       "    </tr>\n",
       "    <tr>\n",
       "      <th>1</th>\n",
       "      <td>0.500016</td>\n",
       "      <td>0.229953</td>\n",
       "      <td>0.063062</td>\n",
       "      <td>0.996662</td>\n",
       "      <td>0.172201</td>\n",
       "      <td>0.110799</td>\n",
       "      <td>0.075466</td>\n",
       "      <td>0.210794</td>\n",
       "      <td>313.5</td>\n",
       "      <td>-77.629898</td>\n",
       "      <td>2015-01-01</td>\n",
       "      <td>2</td>\n",
       "    </tr>\n",
       "    <tr>\n",
       "      <th>2</th>\n",
       "      <td>0.502440</td>\n",
       "      <td>0.226888</td>\n",
       "      <td>0.069519</td>\n",
       "      <td>0.994825</td>\n",
       "      <td>0.157812</td>\n",
       "      <td>0.127295</td>\n",
       "      <td>0.095900</td>\n",
       "      <td>0.202285</td>\n",
       "      <td>314.5</td>\n",
       "      <td>-77.629898</td>\n",
       "      <td>2015-01-01</td>\n",
       "      <td>2</td>\n",
       "    </tr>\n",
       "    <tr>\n",
       "      <th>3</th>\n",
       "      <td>0.503418</td>\n",
       "      <td>0.231813</td>\n",
       "      <td>0.077900</td>\n",
       "      <td>0.997175</td>\n",
       "      <td>0.146688</td>\n",
       "      <td>0.138439</td>\n",
       "      <td>0.107974</td>\n",
       "      <td>0.203996</td>\n",
       "      <td>315.5</td>\n",
       "      <td>-77.629898</td>\n",
       "      <td>2015-01-01</td>\n",
       "      <td>2</td>\n",
       "    </tr>\n",
       "    <tr>\n",
       "      <th>4</th>\n",
       "      <td>0.516068</td>\n",
       "      <td>0.238184</td>\n",
       "      <td>0.080287</td>\n",
       "      <td>0.989021</td>\n",
       "      <td>0.139940</td>\n",
       "      <td>0.143729</td>\n",
       "      <td>0.118809</td>\n",
       "      <td>0.207483</td>\n",
       "      <td>316.5</td>\n",
       "      <td>-77.629898</td>\n",
       "      <td>2015-01-01</td>\n",
       "      <td>2</td>\n",
       "    </tr>\n",
       "    <tr>\n",
       "      <th>...</th>\n",
       "      <td>...</td>\n",
       "      <td>...</td>\n",
       "      <td>...</td>\n",
       "      <td>...</td>\n",
       "      <td>...</td>\n",
       "      <td>...</td>\n",
       "      <td>...</td>\n",
       "      <td>...</td>\n",
       "      <td>...</td>\n",
       "      <td>...</td>\n",
       "      <td>...</td>\n",
       "      <td>...</td>\n",
       "    </tr>\n",
       "    <tr>\n",
       "      <th>2238854</th>\n",
       "      <td>0.118517</td>\n",
       "      <td>0.048255</td>\n",
       "      <td>0.041173</td>\n",
       "      <td>0.002404</td>\n",
       "      <td>0.116171</td>\n",
       "      <td>0.208808</td>\n",
       "      <td>0.028192</td>\n",
       "      <td>0.041648</td>\n",
       "      <td>77.5</td>\n",
       "      <td>-61.291443</td>\n",
       "      <td>2015-12-31</td>\n",
       "      <td>0</td>\n",
       "    </tr>\n",
       "    <tr>\n",
       "      <th>2238855</th>\n",
       "      <td>0.301688</td>\n",
       "      <td>0.108124</td>\n",
       "      <td>0.046467</td>\n",
       "      <td>0.002679</td>\n",
       "      <td>0.076470</td>\n",
       "      <td>0.205330</td>\n",
       "      <td>0.041511</td>\n",
       "      <td>0.097983</td>\n",
       "      <td>85.5</td>\n",
       "      <td>-60.614491</td>\n",
       "      <td>2015-12-31</td>\n",
       "      <td>0</td>\n",
       "    </tr>\n",
       "    <tr>\n",
       "      <th>2238856</th>\n",
       "      <td>0.550775</td>\n",
       "      <td>0.170784</td>\n",
       "      <td>0.063531</td>\n",
       "      <td>0.003149</td>\n",
       "      <td>0.072814</td>\n",
       "      <td>0.206192</td>\n",
       "      <td>0.073594</td>\n",
       "      <td>0.152111</td>\n",
       "      <td>86.5</td>\n",
       "      <td>-60.614491</td>\n",
       "      <td>2015-12-31</td>\n",
       "      <td>0</td>\n",
       "    </tr>\n",
       "    <tr>\n",
       "      <th>2238857</th>\n",
       "      <td>0.438356</td>\n",
       "      <td>0.142143</td>\n",
       "      <td>0.050980</td>\n",
       "      <td>0.002418</td>\n",
       "      <td>0.073481</td>\n",
       "      <td>0.209632</td>\n",
       "      <td>0.056204</td>\n",
       "      <td>0.128095</td>\n",
       "      <td>87.5</td>\n",
       "      <td>-60.614491</td>\n",
       "      <td>2015-12-31</td>\n",
       "      <td>0</td>\n",
       "    </tr>\n",
       "    <tr>\n",
       "      <th>2238858</th>\n",
       "      <td>0.030266</td>\n",
       "      <td>0.047184</td>\n",
       "      <td>0.014495</td>\n",
       "      <td>0.002386</td>\n",
       "      <td>0.076425</td>\n",
       "      <td>0.208656</td>\n",
       "      <td>0.014063</td>\n",
       "      <td>0.044339</td>\n",
       "      <td>86.5</td>\n",
       "      <td>-59.922382</td>\n",
       "      <td>2015-12-31</td>\n",
       "      <td>0</td>\n",
       "    </tr>\n",
       "  </tbody>\n",
       "</table>\n",
       "<p>2238859 rows × 12 columns</p>\n",
       "</div>"
      ],
      "text/plain": [
       "             aice        hi        hs    fsdrad      sice      iage      vlvl  \\\n",
       "0        0.623281  0.318859  0.095338  0.999611  0.184062  0.103800  0.063082   \n",
       "1        0.500016  0.229953  0.063062  0.996662  0.172201  0.110799  0.075466   \n",
       "2        0.502440  0.226888  0.069519  0.994825  0.157812  0.127295  0.095900   \n",
       "3        0.503418  0.231813  0.077900  0.997175  0.146688  0.138439  0.107974   \n",
       "4        0.516068  0.238184  0.080287  0.989021  0.139940  0.143729  0.118809   \n",
       "...           ...       ...       ...       ...       ...       ...       ...   \n",
       "2238854  0.118517  0.048255  0.041173  0.002404  0.116171  0.208808  0.028192   \n",
       "2238855  0.301688  0.108124  0.046467  0.002679  0.076470  0.205330  0.041511   \n",
       "2238856  0.550775  0.170784  0.063531  0.003149  0.072814  0.206192  0.073594   \n",
       "2238857  0.438356  0.142143  0.050980  0.002418  0.073481  0.209632  0.056204   \n",
       "2238858  0.030266  0.047184  0.014495  0.002386  0.076425  0.208656  0.014063   \n",
       "\n",
       "             vrdg  longitude   latitude       date  k  \n",
       "0        0.303015      312.5 -77.629898 2015-01-01  2  \n",
       "1        0.210794      313.5 -77.629898 2015-01-01  2  \n",
       "2        0.202285      314.5 -77.629898 2015-01-01  2  \n",
       "3        0.203996      315.5 -77.629898 2015-01-01  2  \n",
       "4        0.207483      316.5 -77.629898 2015-01-01  2  \n",
       "...           ...        ...        ...        ... ..  \n",
       "2238854  0.041648       77.5 -61.291443 2015-12-31  0  \n",
       "2238855  0.097983       85.5 -60.614491 2015-12-31  0  \n",
       "2238856  0.152111       86.5 -60.614491 2015-12-31  0  \n",
       "2238857  0.128095       87.5 -60.614491 2015-12-31  0  \n",
       "2238858  0.044339       86.5 -59.922382 2015-12-31  0  \n",
       "\n",
       "[2238859 rows x 12 columns]"
      ]
     },
     "execution_count": 24,
     "metadata": {},
     "output_type": "execute_result"
    }
   ],
   "source": [
    "df_standard['date'].unique()\n",
    "\n",
    "df_standard"
   ]
  },
  {
   "cell_type": "code",
   "execution_count": 31,
   "id": "348369a6-e602-498a-81ee-740552d27b7f",
   "metadata": {},
   "outputs": [
    {
     "name": "stdout",
     "output_type": "stream",
     "text": [
      "/home/566/nd0349/notebooks/kmean_2011.nc\n",
      "(365, 300, 360)\n"
     ]
    },
    {
     "data": {
      "image/png": "[encoded data removed]",
      "text/plain": [
       "<Figure size 432x288 with 4 Axes>"
      ]
     },
     "metadata": {
      "needs_background": "light"
     },
     "output_type": "display_data"
    }
   ],
   "source": [
    "filename = '/home/566/nd0349/notebooks/kmean_2011.nc'\n",
    "print(filename)\n",
    "ds = xr.open_dataset(filename)\n",
    "LN = ds.LON.values\n",
    "LT = ds.LAT.values\n",
    "\n",
    "print(ds['k'].shape)\n",
    "#k_means_plot = df_kmeans['k']\n",
    "#fsdrad_plot = df_kmeans['fsdrad'][:,:]\n",
    "\n",
    "selected_date = '2014-09-01'\n",
    "date_idx = df_kmeans['date'] == selected_date\n",
    "\n",
    "lon = df_kmeans['longitude'][date_idx];\n",
    "lat = df_kmeans['latitude'][date_idx];\n",
    "k = df_kmeans['k'][date_idx];\n",
    "ra = df_kmeans['fsdrad'][date_idx];\n",
    "\n",
    "row_length = date_idx.sum()\n",
    "lon = lon.values.reshape(row_length,1)\n",
    "lat = lat.values.reshape(row_length,1)\n",
    "k = k.values.reshape(row_length,1)\n",
    "ra = ra.values.reshape(row_length,1)\n",
    "\n",
    "k_means_array = np.empty(LN.shape)\n",
    "k_means_array[:] = np.nan\n",
    "\n",
    "fsdrad_array = np.empty(LN.shape)\n",
    "fsdrad_array[:] = np.nan\n",
    "\n",
    "lats = LT\n",
    "lons = LN\n",
    "\n",
    "for row_lp in range(0, row_length):\n",
    "    a = abs(lats-lat[row_lp])+abs(lons-lon[row_lp])\n",
    "    i,j = np.unravel_index(a.argmin(),a.shape)\n",
    "    k_means_array[i,j] = k[row_lp]\n",
    "    fsdrad_array[i,j] = ra[row_lp]\n",
    "\n",
    "\n",
    "fontprops = fm.FontProperties(size=18)\n",
    "plt.figure()\n",
    "cmap = cmo.deep\n",
    "coord_lims = [-180, 180, -50, -90]\n",
    "\n",
    "ax = plt.subplot(1, 2, 0+1, projection=ccrs.SouthPolarStereo(), label='{0}'.format(counter))\n",
    "ax.set_extent(coord_lims, ccrs.PlateCarree())\n",
    "land_50m = cft.NaturalEarthFeature('physical', 'land', '50m',\n",
    "                            edgecolor='black', facecolor='gray', linewidth=0.5)\n",
    "ax.coastlines(resolution='50m')\n",
    "ax.add_feature(land_50m)\n",
    "p = ax.pcolormesh(LN, LT, k_means_array,\n",
    "                transform=ccrs.PlateCarree(),\n",
    "                cmap=cmap,\n",
    "#                norm=colors.LogNorm(vmin=1, vmax=1000),\n",
    "                shading='auto')\n",
    "cb = plt.colorbar(p, orientation='vertical', fraction=0.046, pad=0.04)\n",
    "#gl = ax.gridlines(draw_labels=False)\n",
    "#scalebar = AnchoredSizeBar(ax.transData,\n",
    "#                           100000, '100 km', 'lower center', \n",
    "#                           pad=0.1,\n",
    "#                           color='black',\n",
    "#                           frameon=False,\n",
    "#                           size_vertical=1,\n",
    "#                           fontproperties=fontprops)\n",
    "#\n",
    "#ax.add_artist(scalebar)\n",
    "#plt.savefig('kmean.png', dpi = 300)  \n",
    "\n",
    "ax = plt.subplot(1, 2, 0+2, projection=ccrs.SouthPolarStereo(), label='{0}'.format(counter))\n",
    "ax.set_extent(coord_lims, ccrs.PlateCarree())\n",
    "land_50m = cft.NaturalEarthFeature('physical', 'land', '50m',\n",
    "                            edgecolor='black', facecolor='gray', linewidth=0.5)\n",
    "ax.coastlines(resolution='50m')\n",
    "ax.add_feature(land_50m)\n",
    "p = ax.pcolormesh(LN, LT, fsdrad_array,\n",
    "                transform=ccrs.PlateCarree(),\n",
    "                cmap=cmap,\n",
    "#                norm=colors.LogNorm(vmin=1, vmax=1000),\n",
    "                shading='auto')\n",
    "cb = plt.colorbar(p, orientation='vertical', fraction=0.046, pad=0.04)\n",
    "#scalebar = AnchoredSizeBar(ax.transData,\n",
    "#                           100000, '100 km', 'lower center', \n",
    "#                           pad=0.1,\n",
    "#                           color='black',\n",
    "#                           frameon=False,\n",
    "#                           size_vertical=1,\n",
    "#                           fontproperties=fontprops)\n",
    "#ax.add_artist(scalebar)\n",
    "plt.savefig(savepath+'kmean_and_fsdrad_'+selected_date+'.png', dpi = 300)  \n",
    "\n"
   ]
  },
  {
   "cell_type": "code",
   "execution_count": 32,
   "id": "7ad3955f-2d12-435e-9178-83966fcdc6c0",
   "metadata": {},
   "outputs": [
    {
     "name": "stdout",
     "output_type": "stream",
     "text": [
      "Progress: [####################] 100% \n"
     ]
    }
   ],
   "source": [
    "unique_dates = df_kmeans['date'].unique()\n",
    "tmp1, = unique_dates.shape\n",
    "\n",
    "tmp2, tmp3 = LN.shape\n",
    "k_means_array = np.empty((tmp1,tmp2,tmp3))\n",
    "k_means_array[:] = np.nan\n",
    "\n",
    "date_length, = unique_dates.shape\n",
    "\n",
    "for time_lp, date_tmp in enumerate(unique_dates):\n",
    "    progressBar = \"\\rProgress: \" + ProgressBar(date_length, time_lp+1, 20, '#', '.')\n",
    "    ShowBar(progressBar)\n",
    "    date_idx = df_kmeans['date'] == date_tmp\n",
    "\n",
    "    lon = df_kmeans['longitude'][date_idx];\n",
    "    lat = df_kmeans['latitude'][date_idx];\n",
    "    k = df_kmeans['k'][date_idx];\n",
    "\n",
    "    row_length = date_idx.sum()\n",
    "    lon = lon.values.reshape(row_length,1)\n",
    "    lat = lat.values.reshape(row_length,1)\n",
    "    k = k.values.reshape(row_length,1)\n",
    "    for row_lp in range(0, row_length):\n",
    "        a = abs(LT-lat[row_lp])+abs(LN-lon[row_lp])\n",
    "        i,j = np.unravel_index(a.argmin(),a.shape)\n",
    "        k_means_array[time_lp,i,j] = k[row_lp]"
   ]
  },
  {
   "cell_type": "code",
   "execution_count": 36,
   "id": "6bf5b079-8458-41af-aa32-a8cd3c284c4b",
   "metadata": {},
   "outputs": [
    {
     "name": "stdout",
     "output_type": "stream",
     "text": [
      "Progress: [####################] 100% \n"
     ]
    }
   ],
   "source": [
    "unique_dates = df_kmeans['date'].unique()\n",
    "tmp1, = unique_dates.shape\n",
    "tmp2, tmp3 = LN.shape\n",
    "# Training variables for k-means\n",
    "aice_array = np.empty((tmp1,tmp2,tmp3))\n",
    "hi_array = np.empty((tmp1,tmp2,tmp3))\n",
    "hs_array = np.empty((tmp1,tmp2,tmp3))\n",
    "fsdrad_array = np.empty((tmp1,tmp2,tmp3))\n",
    "#sice_array = np.empty((tmp1,tmp2,tmp3))\n",
    "iage_array = np.empty((tmp1,tmp2,tmp3))\n",
    "#vlvl_array = np.empty((tmp1,tmp2,tmp3))\n",
    "alvl_array = np.empty((tmp1,tmp2,tmp3))\n",
    "\n",
    "# Extra variables of interest\n",
    "swh_array = np.empty((tmp1,tmp2,tmp3))\n",
    "ppd_array = np.empty((tmp1,tmp2,tmp3))\n",
    "\n",
    "\n",
    "date_length, = unique_dates.shape\n",
    "\n",
    "for filecount, file in enumerate(onlyfiles):\n",
    "    filename = file\n",
    "    progressBar = \"\\rProgress: \" + ProgressBar(date_length, filecount+1, 20, '#', '.')\n",
    "    ShowBar(progressBar)\n",
    "\n",
    "    ds = xr.open_dataset(filename)\n",
    "    LN = ds.TLON.values\n",
    "    LT = ds.TLAT.values\n",
    "\n",
    "    aice_data = ds['aice'][0,:,:]\n",
    "\n",
    "    mask1 = np.ma.masked_where(LT > 0.0, aice_data)\n",
    "    mask2 = np.ma.masked_where(aice_data < 0.15, aice_data)\n",
    "    master_mask = mask1.mask | mask2.mask\n",
    "    mask = master_mask\n",
    "\n",
    "    data = ds['aice'][0,:,:]\n",
    "    aice_array[filecount,:,:] = data\n",
    "    aice_array[filecount,mask] = np.nan\n",
    "    \n",
    "    data = ds['hi'][0,:,:]\n",
    "    hi_array[filecount,:,:] = data\n",
    "    hi_array[filecount,mask] = np.nan\n",
    "    \n",
    "    data = ds['hs'][0,:,:]\n",
    "    hs_array[filecount,:,:] = data\n",
    "    hs_array[filecount,mask] = np.nan\n",
    "    \n",
    "    data = ds['fsdrad'][0,:,:]\n",
    "    fsdrad_array[filecount,:,:] = data\n",
    "    fsdrad_array[filecount,mask] = np.nan\n",
    "    \n",
    "#    data = ds['sice'][0,:,:]\n",
    "#    sice_array[filecount,:,:] = data\n",
    "#    sice_array[filecount,mask] = np.nan\n",
    "    \n",
    "    data = ds['iage'][0,:,:]\n",
    "    iage_array[filecount,:,:] = data\n",
    "    iage_array[filecount,mask] = np.nan\n",
    "    \n",
    "    #data = ds['vlvl'][0,:,:]\n",
    "    #vlvl_array[filecount,:,:] = data\n",
    "    #vlvl_array[filecount,mask] = np.nan\n",
    "    data = ds['alvl'][0,:,:]\n",
    "    alvl_array[filecount,:,:] = data\n",
    "    alvl_array[filecount,mask] = np.nan\n",
    "    \n",
    "    # Extra variables of interest\n",
    "    data = ds['wave_sig_ht'][0,:,:]\n",
    "    swh_array[filecount,:,:] = data\n",
    "    swh_array[filecount,mask] = np.nan\n",
    "    \n",
    "    data = ds['peak_period'][0,:,:]\n",
    "    ppd_array[filecount,:,:] = data\n",
    "    ppd_array[filecount,mask] = np.nan"
   ]
  },
  {
   "cell_type": "code",
   "execution_count": null,
   "id": "357dde5c-3d88-4601-bf17-9e06c90d3609",
   "metadata": {},
   "outputs": [],
   "source": [
    "#onlyfiles[0]\n",
    "#unique_dates = df_kmeans['date'].unique()\n",
    "#tmp1, = unique_dates.shape\n",
    "#tmp2, tmp3 = LN.shape\n",
    "#aice_array = np.empty((tmp1,tmp2,tmp3))\n",
    "#aice_array[:] = np.nan\n",
    "\n",
    "#aice_array.shape()\n",
    "#aice_array.shape\n",
    "#aice_array[filecount,:,:] = aice_data\n",
    "#aice_array[filecount,mask] = np.nan\n",
    "#aice_array[filecount,:,:]"
   ]
  },
  {
   "cell_type": "code",
   "execution_count": 13,
   "id": "ee105681-65e1-49ce-b284-e12d4529a3c4",
   "metadata": {},
   "outputs": [],
   "source": [
    "#filename=f\"/home/566/nd0349/kmeans_{year:s}.nc\"\n",
    "# HTE, HTN, tarea, tmask\n",
    "ds = xr.open_dataset(onlyfiles[0])\n",
    "HTE = ds.HTE.values\n",
    "HTN = ds.HTN.values\n",
    "tarea = ds.tarea.values\n",
    "tmask = ds.tmask.values\n",
    "\n",
    "filename=f\"/home/566/nd0349/notebooks/kmean_2014.nc\"\n",
    "d_vars = {\"k\" : (['time','nj','ni'],k_means_array,\n",
    "                              {'long_name' :\"k-means_clusters\",\n",
    "                               'units'     :\"cluster number\",\n",
    "                               '_FillValue':-2e8}),\n",
    "          \"aice\" : (['time','nj','ni'],aice_array,\n",
    "                              {'long_name' :\"Areal sea ice area proportion of cell\",\n",
    "                               'units'     :\"-\",\n",
    "                               '_FillValue':-2e8}),\n",
    "          \"hi\" : (['time','nj','ni'],hi_array,\n",
    "                              {'long_name' :\"Grid cell mean ice thickness\",\n",
    "                               'units'     :\"m\",\n",
    "                               '_FillValue':-2e8}),\n",
    "          \"hs\" : (['time','nj','ni'],hs_array,\n",
    "                              {'long_name' :\"Grid cell mean snow thickness\",\n",
    "                               'units'     :\"m\",\n",
    "                               '_FillValue':-2e8}),\n",
    "          \"fsdrad\" : (['time','nj','ni'],fsdrad_array,\n",
    "                              {'long_name' :\"Representative floe radius\",\n",
    "                               'units'     :\"m\",\n",
    "                               '_FillValue':-2e8}),\n",
    "          \"iage\" : (['time','nj','ni'],iage_array,\n",
    "                              {'long_name' :\"Sea ice age\",\n",
    "                               'units'     :\"m\",\n",
    "                               '_FillValue':-2e8}),\n",
    "          \"alvl\" : (['time','nj','ni'],alvl_array,\n",
    "                              {'long_name' :\"Level ice area fraction\",\n",
    "                               'units'     :\"-\",\n",
    "                               '_FillValue':-2e8}),\n",
    "          \"wave_sig_ht\" : (['time','nj','ni'],swh_array,\n",
    "                              {'long_name' :\"Signficant wave height\",\n",
    "                               'units'     :\"m\",\n",
    "                               '_FillValue':-2e8}),\n",
    "          \"HTE\" : (['nj','ni'],HTE,\n",
    "                          {'long_name':\"T cell width on East side\",\n",
    "                           'units'    :\"m\",\n",
    "                           '_FillValue':-2e8}),\n",
    "          \"HTN\" : (['nj','ni'],HTN,\n",
    "                          {'long_name':\"T cell width on North side\",\n",
    "                           'units'    :\"m\",\n",
    "                           '_FillValue':-2e8}),\n",
    "          \"tarea\" : (['nj','ni'],tarea,\n",
    "                          {'long_name':\"area of T grid cells\",\n",
    "                           'units'    :\"m^2\",\n",
    "                           '_FillValue':-2e8}),\n",
    "          \"tmask\" : (['nj','ni'],tmask,\n",
    "                          {'long_name':\"ocean grid mask\",\n",
    "                           'units'    :\"Boolean\",\n",
    "                           '_FillValue':-2e8})}\n",
    "          \n",
    "coords = {\"LON\"  : ([\"nj\",\"ni\"],LN,{'units':'degrees_east'}),\n",
    "          \"LAT\"  : ([\"nj\",\"ni\"],LT,{'units':'degrees_north'}),\n",
    "          \"time\" : ([\"time\"],unique_dates)}\n",
    "attrs = {'creation_date': \"2023-04-06\",#datetime.now().strftime('%Y-%m-%d %H'),\n",
    "         'conventions'  : \"\",\n",
    "         'title'        : \"k-means clusters for CICE-WIM standalone 1-degree data\",\n",
    "         'source'       : \", \",\n",
    "         'comment'      : \"\",\n",
    "         'author'       : 'Noah Day',\n",
    "         'email'        : 'noah.day@adelaide.edu.au'}\n",
    "enc_dict  = {'shuffle':True,'zlib':True,'complevel':5} \n",
    "nc_out = xr.Dataset(data_vars=d_vars,coords=coords,attrs=attrs)\n",
    "write_job = nc_out.to_netcdf(filename,unlimited_dims=['time'],compute=False)#,encoding={'glbrad':enc_dict})\n",
    "\n",
    "#nc_out.close(); print('Dataset is closed!')"
   ]
  },
  {
   "cell_type": "code",
   "execution_count": null,
   "id": "73e9cfad-8d2d-4aa8-a463-5013377c6b92",
   "metadata": {},
   "outputs": [],
   "source": []
  },
  {
   "cell_type": "code",
   "execution_count": null,
   "id": "6765b0a2-8446-4ab8-9960-a4a46bd74c1f",
   "metadata": {},
   "outputs": [],
   "source": []
  },
  {
   "cell_type": "code",
   "execution_count": null,
   "id": "2c8953e5-eb38-41f8-9d54-a00006173572",
   "metadata": {},
   "outputs": [],
   "source": []
  },
  {
   "cell_type": "code",
   "execution_count": 33,
   "id": "a2faeec0-0b79-4791-b128-fbddcdac287c",
   "metadata": {},
   "outputs": [
    {
     "ename": "FileNotFoundError",
     "evalue": "[Errno 2] No such file or directory: b'/home/566/nd0349/notebooks/kmean_2015.nc'",
     "output_type": "error",
     "traceback": [
      "\u001b[0;31m---------------------------------------------------------------------------\u001b[0m",
      "\u001b[0;31mKeyError\u001b[0m                                  Traceback (most recent call last)",
      "File \u001b[0;32m/g/data/hh5/public/apps/miniconda3/envs/analysis3-22.07/lib/python3.9/site-packages/xarray/backends/file_manager.py:209\u001b[0m, in \u001b[0;36mCachingFileManager._acquire_with_cache_info\u001b[0;34m(self, needs_lock)\u001b[0m\n\u001b[1;32m    208\u001b[0m \u001b[38;5;28;01mtry\u001b[39;00m:\n\u001b[0;32m--> 209\u001b[0m     file \u001b[38;5;241m=\u001b[39m \u001b[38;5;28;43mself\u001b[39;49m\u001b[38;5;241;43m.\u001b[39;49m\u001b[43m_cache\u001b[49m\u001b[43m[\u001b[49m\u001b[38;5;28;43mself\u001b[39;49m\u001b[38;5;241;43m.\u001b[39;49m\u001b[43m_key\u001b[49m\u001b[43m]\u001b[49m\n\u001b[1;32m    210\u001b[0m \u001b[38;5;28;01mexcept\u001b[39;00m \u001b[38;5;167;01mKeyError\u001b[39;00m:\n",
      "File \u001b[0;32m/g/data/hh5/public/apps/miniconda3/envs/analysis3-22.07/lib/python3.9/site-packages/xarray/backends/lru_cache.py:55\u001b[0m, in \u001b[0;36mLRUCache.__getitem__\u001b[0;34m(self, key)\u001b[0m\n\u001b[1;32m     54\u001b[0m \u001b[38;5;28;01mwith\u001b[39;00m \u001b[38;5;28mself\u001b[39m\u001b[38;5;241m.\u001b[39m_lock:\n\u001b[0;32m---> 55\u001b[0m     value \u001b[38;5;241m=\u001b[39m \u001b[38;5;28;43mself\u001b[39;49m\u001b[38;5;241;43m.\u001b[39;49m\u001b[43m_cache\u001b[49m\u001b[43m[\u001b[49m\u001b[43mkey\u001b[49m\u001b[43m]\u001b[49m\n\u001b[1;32m     56\u001b[0m     \u001b[38;5;28mself\u001b[39m\u001b[38;5;241m.\u001b[39m_cache\u001b[38;5;241m.\u001b[39mmove_to_end(key)\n",
      "\u001b[0;31mKeyError\u001b[0m: [<class 'netCDF4._netCDF4.Dataset'>, ('/home/566/nd0349/notebooks/kmean_2015.nc',), 'r', (('clobber', True), ('diskless', False), ('format', 'NETCDF4'), ('persist', False)), 'e09cea07-40fd-486d-95b0-4639c3f83f62']",
      "\nDuring handling of the above exception, another exception occurred:\n",
      "\u001b[0;31mFileNotFoundError\u001b[0m                         Traceback (most recent call last)",
      "Cell \u001b[0;32mIn[33], line 2\u001b[0m\n\u001b[1;32m      1\u001b[0m \u001b[38;5;66;03m# Calculate MIZ width\u001b[39;00m\n\u001b[0;32m----> 2\u001b[0m ds \u001b[38;5;241m=\u001b[39m \u001b[43mxr\u001b[49m\u001b[38;5;241;43m.\u001b[39;49m\u001b[43mopen_dataset\u001b[49m\u001b[43m(\u001b[49m\u001b[38;5;124;43m\"\u001b[39;49m\u001b[38;5;124;43m/home/566/nd0349/notebooks/kmean_2015.nc\u001b[39;49m\u001b[38;5;124;43m\"\u001b[39;49m\u001b[43m)\u001b[49m\n\u001b[1;32m      3\u001b[0m n_days, n_lat, n_lon \u001b[38;5;241m=\u001b[39m ds[\u001b[38;5;124m'\u001b[39m\u001b[38;5;124mk\u001b[39m\u001b[38;5;124m'\u001b[39m]\u001b[38;5;241m.\u001b[39mshape\n\u001b[1;32m      4\u001b[0m miz_cluster \u001b[38;5;241m=\u001b[39m \u001b[38;5;241m0\u001b[39m \u001b[38;5;66;03m# What cluster does the MIZ correspond with?\u001b[39;00m\n",
      "File \u001b[0;32m/g/data/hh5/public/apps/miniconda3/envs/analysis3-22.07/lib/python3.9/site-packages/xarray/backends/api.py:539\u001b[0m, in \u001b[0;36mopen_dataset\u001b[0;34m(filename_or_obj, engine, chunks, cache, decode_cf, mask_and_scale, decode_times, decode_timedelta, use_cftime, concat_characters, decode_coords, drop_variables, inline_array, backend_kwargs, **kwargs)\u001b[0m\n\u001b[1;32m    527\u001b[0m decoders \u001b[38;5;241m=\u001b[39m _resolve_decoders_kwargs(\n\u001b[1;32m    528\u001b[0m     decode_cf,\n\u001b[1;32m    529\u001b[0m     open_backend_dataset_parameters\u001b[38;5;241m=\u001b[39mbackend\u001b[38;5;241m.\u001b[39mopen_dataset_parameters,\n\u001b[0;32m   (...)\u001b[0m\n\u001b[1;32m    535\u001b[0m     decode_coords\u001b[38;5;241m=\u001b[39mdecode_coords,\n\u001b[1;32m    536\u001b[0m )\n\u001b[1;32m    538\u001b[0m overwrite_encoded_chunks \u001b[38;5;241m=\u001b[39m kwargs\u001b[38;5;241m.\u001b[39mpop(\u001b[38;5;124m\"\u001b[39m\u001b[38;5;124moverwrite_encoded_chunks\u001b[39m\u001b[38;5;124m\"\u001b[39m, \u001b[38;5;28;01mNone\u001b[39;00m)\n\u001b[0;32m--> 539\u001b[0m backend_ds \u001b[38;5;241m=\u001b[39m \u001b[43mbackend\u001b[49m\u001b[38;5;241;43m.\u001b[39;49m\u001b[43mopen_dataset\u001b[49m\u001b[43m(\u001b[49m\n\u001b[1;32m    540\u001b[0m \u001b[43m    \u001b[49m\u001b[43mfilename_or_obj\u001b[49m\u001b[43m,\u001b[49m\n\u001b[1;32m    541\u001b[0m \u001b[43m    \u001b[49m\u001b[43mdrop_variables\u001b[49m\u001b[38;5;241;43m=\u001b[39;49m\u001b[43mdrop_variables\u001b[49m\u001b[43m,\u001b[49m\n\u001b[1;32m    542\u001b[0m \u001b[43m    \u001b[49m\u001b[38;5;241;43m*\u001b[39;49m\u001b[38;5;241;43m*\u001b[39;49m\u001b[43mdecoders\u001b[49m\u001b[43m,\u001b[49m\n\u001b[1;32m    543\u001b[0m \u001b[43m    \u001b[49m\u001b[38;5;241;43m*\u001b[39;49m\u001b[38;5;241;43m*\u001b[39;49m\u001b[43mkwargs\u001b[49m\u001b[43m,\u001b[49m\n\u001b[1;32m    544\u001b[0m \u001b[43m\u001b[49m\u001b[43m)\u001b[49m\n\u001b[1;32m    545\u001b[0m ds \u001b[38;5;241m=\u001b[39m _dataset_from_backend_dataset(\n\u001b[1;32m    546\u001b[0m     backend_ds,\n\u001b[1;32m    547\u001b[0m     filename_or_obj,\n\u001b[0;32m   (...)\u001b[0m\n\u001b[1;32m    555\u001b[0m     \u001b[38;5;241m*\u001b[39m\u001b[38;5;241m*\u001b[39mkwargs,\n\u001b[1;32m    556\u001b[0m )\n\u001b[1;32m    557\u001b[0m \u001b[38;5;28;01mreturn\u001b[39;00m ds\n",
      "File \u001b[0;32m/g/data/hh5/public/apps/miniconda3/envs/analysis3-22.07/lib/python3.9/site-packages/xarray/backends/netCDF4_.py:572\u001b[0m, in \u001b[0;36mNetCDF4BackendEntrypoint.open_dataset\u001b[0;34m(self, filename_or_obj, mask_and_scale, decode_times, concat_characters, decode_coords, drop_variables, use_cftime, decode_timedelta, group, mode, format, clobber, diskless, persist, lock, autoclose)\u001b[0m\n\u001b[1;32m    551\u001b[0m \u001b[38;5;28;01mdef\u001b[39;00m \u001b[38;5;21mopen_dataset\u001b[39m(\n\u001b[1;32m    552\u001b[0m     \u001b[38;5;28mself\u001b[39m,\n\u001b[1;32m    553\u001b[0m     filename_or_obj,\n\u001b[0;32m   (...)\u001b[0m\n\u001b[1;32m    568\u001b[0m     autoclose\u001b[38;5;241m=\u001b[39m\u001b[38;5;28;01mFalse\u001b[39;00m,\n\u001b[1;32m    569\u001b[0m ):\n\u001b[1;32m    571\u001b[0m     filename_or_obj \u001b[38;5;241m=\u001b[39m _normalize_path(filename_or_obj)\n\u001b[0;32m--> 572\u001b[0m     store \u001b[38;5;241m=\u001b[39m \u001b[43mNetCDF4DataStore\u001b[49m\u001b[38;5;241;43m.\u001b[39;49m\u001b[43mopen\u001b[49m\u001b[43m(\u001b[49m\n\u001b[1;32m    573\u001b[0m \u001b[43m        \u001b[49m\u001b[43mfilename_or_obj\u001b[49m\u001b[43m,\u001b[49m\n\u001b[1;32m    574\u001b[0m \u001b[43m        \u001b[49m\u001b[43mmode\u001b[49m\u001b[38;5;241;43m=\u001b[39;49m\u001b[43mmode\u001b[49m\u001b[43m,\u001b[49m\n\u001b[1;32m    575\u001b[0m \u001b[43m        \u001b[49m\u001b[38;5;28;43mformat\u001b[39;49m\u001b[38;5;241;43m=\u001b[39;49m\u001b[38;5;28;43mformat\u001b[39;49m\u001b[43m,\u001b[49m\n\u001b[1;32m    576\u001b[0m \u001b[43m        \u001b[49m\u001b[43mgroup\u001b[49m\u001b[38;5;241;43m=\u001b[39;49m\u001b[43mgroup\u001b[49m\u001b[43m,\u001b[49m\n\u001b[1;32m    577\u001b[0m \u001b[43m        \u001b[49m\u001b[43mclobber\u001b[49m\u001b[38;5;241;43m=\u001b[39;49m\u001b[43mclobber\u001b[49m\u001b[43m,\u001b[49m\n\u001b[1;32m    578\u001b[0m \u001b[43m        \u001b[49m\u001b[43mdiskless\u001b[49m\u001b[38;5;241;43m=\u001b[39;49m\u001b[43mdiskless\u001b[49m\u001b[43m,\u001b[49m\n\u001b[1;32m    579\u001b[0m \u001b[43m        \u001b[49m\u001b[43mpersist\u001b[49m\u001b[38;5;241;43m=\u001b[39;49m\u001b[43mpersist\u001b[49m\u001b[43m,\u001b[49m\n\u001b[1;32m    580\u001b[0m \u001b[43m        \u001b[49m\u001b[43mlock\u001b[49m\u001b[38;5;241;43m=\u001b[39;49m\u001b[43mlock\u001b[49m\u001b[43m,\u001b[49m\n\u001b[1;32m    581\u001b[0m \u001b[43m        \u001b[49m\u001b[43mautoclose\u001b[49m\u001b[38;5;241;43m=\u001b[39;49m\u001b[43mautoclose\u001b[49m\u001b[43m,\u001b[49m\n\u001b[1;32m    582\u001b[0m \u001b[43m    \u001b[49m\u001b[43m)\u001b[49m\n\u001b[1;32m    584\u001b[0m     store_entrypoint \u001b[38;5;241m=\u001b[39m StoreBackendEntrypoint()\n\u001b[1;32m    585\u001b[0m     \u001b[38;5;28;01mwith\u001b[39;00m close_on_error(store):\n",
      "File \u001b[0;32m/g/data/hh5/public/apps/miniconda3/envs/analysis3-22.07/lib/python3.9/site-packages/xarray/backends/netCDF4_.py:376\u001b[0m, in \u001b[0;36mNetCDF4DataStore.open\u001b[0;34m(cls, filename, mode, format, group, clobber, diskless, persist, lock, lock_maker, autoclose)\u001b[0m\n\u001b[1;32m    370\u001b[0m kwargs \u001b[38;5;241m=\u001b[39m \u001b[38;5;28mdict\u001b[39m(\n\u001b[1;32m    371\u001b[0m     clobber\u001b[38;5;241m=\u001b[39mclobber, diskless\u001b[38;5;241m=\u001b[39mdiskless, persist\u001b[38;5;241m=\u001b[39mpersist, \u001b[38;5;28mformat\u001b[39m\u001b[38;5;241m=\u001b[39m\u001b[38;5;28mformat\u001b[39m\n\u001b[1;32m    372\u001b[0m )\n\u001b[1;32m    373\u001b[0m manager \u001b[38;5;241m=\u001b[39m CachingFileManager(\n\u001b[1;32m    374\u001b[0m     netCDF4\u001b[38;5;241m.\u001b[39mDataset, filename, mode\u001b[38;5;241m=\u001b[39mmode, kwargs\u001b[38;5;241m=\u001b[39mkwargs\n\u001b[1;32m    375\u001b[0m )\n\u001b[0;32m--> 376\u001b[0m \u001b[38;5;28;01mreturn\u001b[39;00m \u001b[38;5;28;43mcls\u001b[39;49m\u001b[43m(\u001b[49m\u001b[43mmanager\u001b[49m\u001b[43m,\u001b[49m\u001b[43m \u001b[49m\u001b[43mgroup\u001b[49m\u001b[38;5;241;43m=\u001b[39;49m\u001b[43mgroup\u001b[49m\u001b[43m,\u001b[49m\u001b[43m \u001b[49m\u001b[43mmode\u001b[49m\u001b[38;5;241;43m=\u001b[39;49m\u001b[43mmode\u001b[49m\u001b[43m,\u001b[49m\u001b[43m \u001b[49m\u001b[43mlock\u001b[49m\u001b[38;5;241;43m=\u001b[39;49m\u001b[43mlock\u001b[49m\u001b[43m,\u001b[49m\u001b[43m \u001b[49m\u001b[43mautoclose\u001b[49m\u001b[38;5;241;43m=\u001b[39;49m\u001b[43mautoclose\u001b[49m\u001b[43m)\u001b[49m\n",
      "File \u001b[0;32m/g/data/hh5/public/apps/miniconda3/envs/analysis3-22.07/lib/python3.9/site-packages/xarray/backends/netCDF4_.py:323\u001b[0m, in \u001b[0;36mNetCDF4DataStore.__init__\u001b[0;34m(self, manager, group, mode, lock, autoclose)\u001b[0m\n\u001b[1;32m    321\u001b[0m \u001b[38;5;28mself\u001b[39m\u001b[38;5;241m.\u001b[39m_group \u001b[38;5;241m=\u001b[39m group\n\u001b[1;32m    322\u001b[0m \u001b[38;5;28mself\u001b[39m\u001b[38;5;241m.\u001b[39m_mode \u001b[38;5;241m=\u001b[39m mode\n\u001b[0;32m--> 323\u001b[0m \u001b[38;5;28mself\u001b[39m\u001b[38;5;241m.\u001b[39mformat \u001b[38;5;241m=\u001b[39m \u001b[38;5;28;43mself\u001b[39;49m\u001b[38;5;241;43m.\u001b[39;49m\u001b[43mds\u001b[49m\u001b[38;5;241m.\u001b[39mdata_model\n\u001b[1;32m    324\u001b[0m \u001b[38;5;28mself\u001b[39m\u001b[38;5;241m.\u001b[39m_filename \u001b[38;5;241m=\u001b[39m \u001b[38;5;28mself\u001b[39m\u001b[38;5;241m.\u001b[39mds\u001b[38;5;241m.\u001b[39mfilepath()\n\u001b[1;32m    325\u001b[0m \u001b[38;5;28mself\u001b[39m\u001b[38;5;241m.\u001b[39mis_remote \u001b[38;5;241m=\u001b[39m is_remote_uri(\u001b[38;5;28mself\u001b[39m\u001b[38;5;241m.\u001b[39m_filename)\n",
      "File \u001b[0;32m/g/data/hh5/public/apps/miniconda3/envs/analysis3-22.07/lib/python3.9/site-packages/xarray/backends/netCDF4_.py:385\u001b[0m, in \u001b[0;36mNetCDF4DataStore.ds\u001b[0;34m(self)\u001b[0m\n\u001b[1;32m    383\u001b[0m \u001b[38;5;129m@property\u001b[39m\n\u001b[1;32m    384\u001b[0m \u001b[38;5;28;01mdef\u001b[39;00m \u001b[38;5;21mds\u001b[39m(\u001b[38;5;28mself\u001b[39m):\n\u001b[0;32m--> 385\u001b[0m     \u001b[38;5;28;01mreturn\u001b[39;00m \u001b[38;5;28;43mself\u001b[39;49m\u001b[38;5;241;43m.\u001b[39;49m\u001b[43m_acquire\u001b[49m\u001b[43m(\u001b[49m\u001b[43m)\u001b[49m\n",
      "File \u001b[0;32m/g/data/hh5/public/apps/miniconda3/envs/analysis3-22.07/lib/python3.9/site-packages/xarray/backends/netCDF4_.py:379\u001b[0m, in \u001b[0;36mNetCDF4DataStore._acquire\u001b[0;34m(self, needs_lock)\u001b[0m\n\u001b[1;32m    378\u001b[0m \u001b[38;5;28;01mdef\u001b[39;00m \u001b[38;5;21m_acquire\u001b[39m(\u001b[38;5;28mself\u001b[39m, needs_lock\u001b[38;5;241m=\u001b[39m\u001b[38;5;28;01mTrue\u001b[39;00m):\n\u001b[0;32m--> 379\u001b[0m     \u001b[38;5;28;01mwith\u001b[39;00m \u001b[38;5;28mself\u001b[39m\u001b[38;5;241m.\u001b[39m_manager\u001b[38;5;241m.\u001b[39macquire_context(needs_lock) \u001b[38;5;28;01mas\u001b[39;00m root:\n\u001b[1;32m    380\u001b[0m         ds \u001b[38;5;241m=\u001b[39m _nc4_require_group(root, \u001b[38;5;28mself\u001b[39m\u001b[38;5;241m.\u001b[39m_group, \u001b[38;5;28mself\u001b[39m\u001b[38;5;241m.\u001b[39m_mode)\n\u001b[1;32m    381\u001b[0m     \u001b[38;5;28;01mreturn\u001b[39;00m ds\n",
      "File \u001b[0;32m/g/data/hh5/public/apps/miniconda3/envs/analysis3-22.07/lib/python3.9/contextlib.py:119\u001b[0m, in \u001b[0;36m_GeneratorContextManager.__enter__\u001b[0;34m(self)\u001b[0m\n\u001b[1;32m    117\u001b[0m \u001b[38;5;28;01mdel\u001b[39;00m \u001b[38;5;28mself\u001b[39m\u001b[38;5;241m.\u001b[39margs, \u001b[38;5;28mself\u001b[39m\u001b[38;5;241m.\u001b[39mkwds, \u001b[38;5;28mself\u001b[39m\u001b[38;5;241m.\u001b[39mfunc\n\u001b[1;32m    118\u001b[0m \u001b[38;5;28;01mtry\u001b[39;00m:\n\u001b[0;32m--> 119\u001b[0m     \u001b[38;5;28;01mreturn\u001b[39;00m \u001b[38;5;28;43mnext\u001b[39;49m\u001b[43m(\u001b[49m\u001b[38;5;28;43mself\u001b[39;49m\u001b[38;5;241;43m.\u001b[39;49m\u001b[43mgen\u001b[49m\u001b[43m)\u001b[49m\n\u001b[1;32m    120\u001b[0m \u001b[38;5;28;01mexcept\u001b[39;00m \u001b[38;5;167;01mStopIteration\u001b[39;00m:\n\u001b[1;32m    121\u001b[0m     \u001b[38;5;28;01mraise\u001b[39;00m \u001b[38;5;167;01mRuntimeError\u001b[39;00m(\u001b[38;5;124m\"\u001b[39m\u001b[38;5;124mgenerator didn\u001b[39m\u001b[38;5;124m'\u001b[39m\u001b[38;5;124mt yield\u001b[39m\u001b[38;5;124m\"\u001b[39m) \u001b[38;5;28;01mfrom\u001b[39;00m \u001b[38;5;28mNone\u001b[39m\n",
      "File \u001b[0;32m/g/data/hh5/public/apps/miniconda3/envs/analysis3-22.07/lib/python3.9/site-packages/xarray/backends/file_manager.py:197\u001b[0m, in \u001b[0;36mCachingFileManager.acquire_context\u001b[0;34m(self, needs_lock)\u001b[0m\n\u001b[1;32m    194\u001b[0m \u001b[38;5;129m@contextlib\u001b[39m\u001b[38;5;241m.\u001b[39mcontextmanager\n\u001b[1;32m    195\u001b[0m \u001b[38;5;28;01mdef\u001b[39;00m \u001b[38;5;21macquire_context\u001b[39m(\u001b[38;5;28mself\u001b[39m, needs_lock\u001b[38;5;241m=\u001b[39m\u001b[38;5;28;01mTrue\u001b[39;00m):\n\u001b[1;32m    196\u001b[0m     \u001b[38;5;124;03m\"\"\"Context manager for acquiring a file.\"\"\"\u001b[39;00m\n\u001b[0;32m--> 197\u001b[0m     file, cached \u001b[38;5;241m=\u001b[39m \u001b[38;5;28;43mself\u001b[39;49m\u001b[38;5;241;43m.\u001b[39;49m\u001b[43m_acquire_with_cache_info\u001b[49m\u001b[43m(\u001b[49m\u001b[43mneeds_lock\u001b[49m\u001b[43m)\u001b[49m\n\u001b[1;32m    198\u001b[0m     \u001b[38;5;28;01mtry\u001b[39;00m:\n\u001b[1;32m    199\u001b[0m         \u001b[38;5;28;01myield\u001b[39;00m file\n",
      "File \u001b[0;32m/g/data/hh5/public/apps/miniconda3/envs/analysis3-22.07/lib/python3.9/site-packages/xarray/backends/file_manager.py:215\u001b[0m, in \u001b[0;36mCachingFileManager._acquire_with_cache_info\u001b[0;34m(self, needs_lock)\u001b[0m\n\u001b[1;32m    213\u001b[0m     kwargs \u001b[38;5;241m=\u001b[39m kwargs\u001b[38;5;241m.\u001b[39mcopy()\n\u001b[1;32m    214\u001b[0m     kwargs[\u001b[38;5;124m\"\u001b[39m\u001b[38;5;124mmode\u001b[39m\u001b[38;5;124m\"\u001b[39m] \u001b[38;5;241m=\u001b[39m \u001b[38;5;28mself\u001b[39m\u001b[38;5;241m.\u001b[39m_mode\n\u001b[0;32m--> 215\u001b[0m file \u001b[38;5;241m=\u001b[39m \u001b[38;5;28;43mself\u001b[39;49m\u001b[38;5;241;43m.\u001b[39;49m\u001b[43m_opener\u001b[49m\u001b[43m(\u001b[49m\u001b[38;5;241;43m*\u001b[39;49m\u001b[38;5;28;43mself\u001b[39;49m\u001b[38;5;241;43m.\u001b[39;49m\u001b[43m_args\u001b[49m\u001b[43m,\u001b[49m\u001b[43m \u001b[49m\u001b[38;5;241;43m*\u001b[39;49m\u001b[38;5;241;43m*\u001b[39;49m\u001b[43mkwargs\u001b[49m\u001b[43m)\u001b[49m\n\u001b[1;32m    216\u001b[0m \u001b[38;5;28;01mif\u001b[39;00m \u001b[38;5;28mself\u001b[39m\u001b[38;5;241m.\u001b[39m_mode \u001b[38;5;241m==\u001b[39m \u001b[38;5;124m\"\u001b[39m\u001b[38;5;124mw\u001b[39m\u001b[38;5;124m\"\u001b[39m:\n\u001b[1;32m    217\u001b[0m     \u001b[38;5;66;03m# ensure file doesn't get overridden when opened again\u001b[39;00m\n\u001b[1;32m    218\u001b[0m     \u001b[38;5;28mself\u001b[39m\u001b[38;5;241m.\u001b[39m_mode \u001b[38;5;241m=\u001b[39m \u001b[38;5;124m\"\u001b[39m\u001b[38;5;124ma\u001b[39m\u001b[38;5;124m\"\u001b[39m\n",
      "File \u001b[0;32msrc/netCDF4/_netCDF4.pyx:2353\u001b[0m, in \u001b[0;36mnetCDF4._netCDF4.Dataset.__init__\u001b[0;34m()\u001b[0m\n",
      "File \u001b[0;32msrc/netCDF4/_netCDF4.pyx:1963\u001b[0m, in \u001b[0;36mnetCDF4._netCDF4._ensure_nc_success\u001b[0;34m()\u001b[0m\n",
      "\u001b[0;31mFileNotFoundError\u001b[0m: [Errno 2] No such file or directory: b'/home/566/nd0349/notebooks/kmean_2015.nc'"
     ]
    }
   ],
   "source": [
    "# Calculate MIZ width\n",
    "ds = xr.open_dataset(\"/home/566/nd0349/notebooks/kmean_2015.nc\")\n",
    "n_days, n_lat, n_lon = ds['k'].shape\n",
    "miz_cluster = 0 # What cluster does the MIZ correspond with?\n",
    "\n",
    "# Initialise arrays\n",
    "miz_width_array = np.empty((n_days,n_lon))\n",
    "effective_miz_width_array = np.empty((n_days,n_lon))\n",
    "sic_width_array = np.empty((n_days,n_lon))\n",
    "\n",
    "miz_upper_boundary = np.empty((n_days,n_lon))\n",
    "miz_lower_boundary = np.empty((n_days,n_lon))\n",
    "\n",
    "\n",
    "day_vec = range(0,n_days,1)\n",
    "\n",
    "# Circumpolar for each day\n",
    "for day_idx in day_vec:\n",
    "    progressBar = \"\\rProgress: \" + ProgressBar(n_days, day_idx+1, 20, '#', '.')\n",
    "    ShowBar(progressBar)\n",
    "    for lon_idx in range(0,n_lon):\n",
    "        # MIZ width\n",
    "        miz_idx = ds['k'][day_idx,:,lon_idx].data == miz_cluster\n",
    "        sic_idx = ds['aice'][day_idx,:,lon_idx].data > 0.15\n",
    "        miz_idx = miz_idx*sic_idx\n",
    "        sic_1580_idx = np.logical_and(sic_idx,ds['aice'][day_idx,:,lon_idx].data < 0.8)\n",
    "        if not any(miz_idx):\n",
    "            # If there are no MIZ cells then set distance to 0\n",
    "            miz_width_array[day_idx,lon_idx] = 0\n",
    "            effective_miz_width_array[day_idx,lon_idx] = 0\n",
    "            \n",
    "            \n",
    "            miz_upper_boundary[day_idx,lon_idx] = LT[0,lon_idx]\n",
    "            miz_lower_boundary[day_idx,lon_idx] = LT[0,lon_idx]\n",
    "        else:\n",
    "            miz_width_array[day_idx,lon_idx] = ds['HTE'][miz_idx,lon_idx].data.sum()\n",
    "            effective_miz_width_array[day_idx,lon_idx] = np.multiply(ds['HTE'][miz_idx,lon_idx].data, ds['aice'][day_idx,miz_idx,lon_idx].data).sum()\n",
    "            \n",
    "            locs = np.asarray(miz_idx).nonzero()\n",
    "            miz_upper_boundary[day_idx,lon_idx] = LT[locs[0][-1],lon_idx]\n",
    "            miz_lower_boundary[day_idx,lon_idx] = LT[locs[0][0],lon_idx]\n",
    "            \n",
    "        if not any(sic_1580_idx):\n",
    "            sic_width_array[day_idx,lon_idx] = 0\n",
    "        else:\n",
    "            sic_width_array[day_idx,lon_idx] = ds['HTE'][sic_1580_idx,lon_idx].data.sum()\n"
   ]
  },
  {
   "cell_type": "code",
   "execution_count": 64,
   "id": "6020dc2c-585f-48f8-a756-ba8a4985272d",
   "metadata": {},
   "outputs": [
    {
     "name": "stdout",
     "output_type": "stream",
     "text": [
      "(300, 360)\n",
      "(300, 360)\n",
      "[-62.59954  -61.953148 -61.291443]\n",
      "False\n",
      "(array([39, 40, 41]),)\n",
      "[39 40 41]\n",
      "39\n",
      "41\n"
     ]
    }
   ],
   "source": [
    "print(LN.shape)\n",
    "print(ds['HTE'].shape)\n",
    "LN[1,:]\n",
    "\n",
    "print(LT[miz_idx,lon_idx])\n",
    "print(miz_idx[0])\n",
    "#print(LT[miz_idx[0],lon_idx])\n",
    "\n",
    "#miz_idx.index(True)\n",
    "\n",
    "locs = np.asarray(miz_idx).nonzero()\n",
    "locs[0][0]\n",
    "print(locs)\n",
    "print(locs[0])\n",
    "print(locs[0][0])\n",
    "print(locs[0][-1])\n"
   ]
  },
  {
   "cell_type": "code",
   "execution_count": null,
   "id": "9ec06b30-13e0-483b-9439-0ba8013095f0",
   "metadata": {},
   "outputs": [],
   "source": [
    "#not any(sic_1580_idx)\n",
    "#savepath\n",
    "X_temp = np.empty((n_days,4))\n",
    "X_temp[:,0] = miz_width_array[day_vec,:].mean(axis=1)/1000\n",
    "X_temp[:,1] = effective_miz_width_array[day_vec,:].mean(axis=1)/1000\n",
    "X_temp[:,2] = sic_width_array[day_vec,:].mean(axis=1)/1000\n",
    "df_mizWidthsMean = pd.DataFrame(X_temp, columns = ['date', 'absolute', 'effective', 'sic'])#,'date'])\n",
    "df_mizWidthsMean['date'] = unique_dates[day_vec]\n",
    "df_mizWidthsMean\n",
    "\n"
   ]
  },
  {
   "cell_type": "code",
   "execution_count": 18,
   "id": "af532e28-4c23-4129-846b-36cc7ea782ea",
   "metadata": {},
   "outputs": [
    {
     "name": "stdout",
     "output_type": "stream",
     "text": [
      "[31, 120, 243, 334]\n",
      "<matplotlib.dates.MonthLocator object at 0x147b32468190>\n"
     ]
    },
    {
     "data": {
      "image/png": "[encoded data removed]",
      "text/plain": [
       "<Figure size 576x288 with 1 Axes>"
      ]
     },
     "metadata": {},
     "output_type": "display_data"
    }
   ],
   "source": [
    "#not any(miz_idx)\n",
    "Cmap = np.asarray([[0.9805, 0.5000, 0.4453], [0.4416, 0.7490, 0.4322], [0.3639, 0.5755, 0.748]])\n",
    "    \n",
    "    \n",
    "rc('font',**{'family':'serif','serif':['Times']})\n",
    "rc('text', usetex=True)\n",
    "x_dates = np.array(unique_dates[day_vec], dtype=np.datetime64)\n",
    "month_year_formatter = mdates.DateFormatter('%b') # The \",\" is intentional.\n",
    "\n",
    "# Plot the MIZ widths\n",
    "fig, ax = plt.subplots(figsize=(8, 4))\n",
    "\n",
    "monthly_locator = mdates.MonthLocator()\n",
    "#ax.xaxis.set_major_locator(half_year_locator)\n",
    "#ax.xaxis.set_minor_locator(monthly_locator)\n",
    "#ax.xaxis.set_major_formatter(month_year_formatter)\n",
    "#ax.xaxis.set_major_locator(mdates.MonthLocator(bymonth=1))#(1,2,3,4,5,6,7,8,9,10,11,12)))\n",
    "#ax.xaxis.set_minor_locator(mdates.MonthLocator())\n",
    "ax.xaxis.set_major_locator(mdates.MonthLocator())\n",
    "ax.xaxis.set_minor_locator(mdates.MonthLocator(bymonthday=15))\n",
    "ax.xaxis.set_major_formatter(NullFormatter())\n",
    "ax.xaxis.set_minor_formatter(mdates.DateFormatter('%b'))\n",
    "\n",
    "brouwer_dates = [31,31+28+31+30,31+28+31+30+31+30+31+31,31+28+31+30+31+30+31+31+30+31+30]\n",
    "print(brouwer_dates)\n",
    "\n",
    "print(mdates.MonthLocator(bymonthday=15))\n",
    "\n",
    "plt.style.use(\"ggplot\")\n",
    "\n",
    "line_deviation = 1 * (effective_miz_width_array[day_vec,:].std(axis=1)/1000)\n",
    "mean = effective_miz_width_array[day_vec,:].mean(axis=1)/1000\n",
    "lower = (mean - line_deviation)\n",
    "upper = (mean + line_deviation)\n",
    "\n",
    "plt.plot(x_dates, miz_width_array[day_vec,:].mean(axis=1)/1000, label = \"Absolute\")\n",
    "plt.plot(x_dates, mean, label = \"Effective\", color=Cmap[0,:])\n",
    "plt.plot(x_dates[brouwer_dates],[40,150,200,60], '^', markersize=12, label = \"Brouwer et al. (2022)\")\n",
    "plt.plot(x_dates, sic_width_array[day_vec,:].mean(axis=1)/1000, label = \"0.15-0.80\")\n",
    "\n",
    "\n",
    "plt.fill_between(x_dates, lower, upper, color=Cmap[0,:], alpha=.1)\n",
    "\n",
    "\n",
    "#plt.xticks(range(0, n_days))\n",
    "\n",
    "plt.xlabel(\"Days\")\n",
    "plt.ylabel(\"MIZ width [km]\")\n",
    "plt.legend()\n",
    "ax.set_ylim([0, 550])\n",
    "plt.show()\n",
    "\n",
    "fig.autofmt_xdate()\n",
    "fig.savefig(savepath+'miz_width.png', dpi = 300) \n",
    "\n",
    "\n"
   ]
  },
  {
   "cell_type": "code",
   "execution_count": 189,
   "id": "77e0be9d-fad0-49a6-b427-f8ac94566bbc",
   "metadata": {},
   "outputs": [
    {
     "name": "stdout",
     "output_type": "stream",
     "text": [
      "84\n",
      "154\n",
      "264\n",
      "354\n",
      "354\n",
      "84\n",
      "Amundsen Belling\n",
      "154\n",
      "219\n",
      "Weddell\n",
      "219\n",
      "264\n"
     ]
    },
    {
     "data": {
      "image/png": "[encoded data removed]",
      "text/plain": [
       "<Figure size 576x288 with 1 Axes>"
      ]
     },
     "metadata": {},
     "output_type": "display_data"
    }
   ],
   "source": [
    "# MIZ Width sectors\n",
    "x_dates = day_vec\n",
    "# SECTORS\n",
    "## Ross-Amundsen Sea\n",
    "sector_min = 165\n",
    "sector_max = 235\n",
    "a = abs(LN[1,:]-sector_min)\n",
    "sector_idx_min, = np.unravel_index(a.argmin(),a.shape)\n",
    "a = abs(LN[1,:]-sector_max)\n",
    "sector_idx_max, = np.unravel_index(a.argmin(),a.shape)\n",
    "print(sector_idx_min)\n",
    "print(sector_idx_max)\n",
    "line_deviation = 1 * ((effective_miz_width_array[day_vec,sector_idx_min:sector_idx_max]/1000).std(axis=1))\n",
    "mean = effective_miz_width_array[day_vec,sector_idx_min:sector_idx_max].mean(axis=1)/1000\n",
    "lower = (mean - line_deviation)\n",
    "upper = (mean + line_deviation)\n",
    "\n",
    "\n",
    "fig, ax = plt.subplots(figsize=(8, 4))\n",
    "plt.plot(x_dates, mean, label = \"Ross-Amundsen\")\n",
    "#plt.fill_between(x_dates, lower, upper, color='b', alpha=.1)\n",
    "\n",
    "\n",
    "## King Hakon VII\n",
    "sector_min = 345\n",
    "sector_max = 75\n",
    "a = abs(LN[1,:]-sector_min)\n",
    "sector_idx_min, = np.unravel_index(a.argmin(),a.shape)\n",
    "a = abs(LN[1,:]-sector_max)\n",
    "sector_idx_max, = np.unravel_index(a.argmin(),a.shape)\n",
    "print(sector_idx_min)\n",
    "print(sector_idx_max)\n",
    "line_deviation = 1 * ((effective_miz_width_array[day_vec,sector_idx_min:sector_idx_max]/1000).std(axis=1))\n",
    "mean = effective_miz_width_array[day_vec,sector_idx_min:sector_idx_max].mean(axis=1)/1000\n",
    "lower = (mean - line_deviation)\n",
    "upper = (mean + line_deviation)\n",
    "\n",
    "plt.plot(x_dates, mean, label = \"King Hakon VII\")\n",
    "#plt.fill_between(x_dates, lower, upper, color='r', alpha=.1)\n",
    "\n",
    "\n",
    "## East Antarctica\n",
    "sector_min = 75\n",
    "sector_max = 165\n",
    "a = abs(LN[1,:]-sector_min)\n",
    "sector_idx_min, = np.unravel_index(a.argmin(),a.shape)\n",
    "a = abs(LN[1,:]-sector_max)\n",
    "sector_idx_max, = np.unravel_index(a.argmin(),a.shape)\n",
    "print(sector_idx_min)\n",
    "print(sector_idx_max)\n",
    "sector_idx = ((LN[1,:] > sector_min) & (LN[1,:] < sector_max))\n",
    "sector_idx = sector_idx[0]\n",
    "line_deviation = 1 * ((effective_miz_width_array[day_vec,sector_idx]/1000).std(axis=1))\n",
    "mean = (effective_miz_width_array[day_vec,sector_idx]/1000).mean(axis=1)\n",
    "lower = (mean - line_deviation)\n",
    "upper = (mean + line_deviation)\n",
    "\n",
    "plt.plot(x_dates, mean, label=\"East Antarctica\")\n",
    "#plt.fill_between(x_dates, lower, upper, color='y', alpha=.1)\n",
    "\n",
    "\n",
    "## Amundsen Belling\n",
    "print(\"Amundsen Belling\")\n",
    "sector_min = 235\n",
    "sector_max = 300\n",
    "a = abs(LN[1,:]-sector_min)\n",
    "sector_idx_min, = np.unravel_index(a.argmin(),a.shape)\n",
    "a = abs(LN[1,:]-sector_max)\n",
    "sector_idx_max, = np.unravel_index(a.argmin(),a.shape)\n",
    "print(sector_idx_min)\n",
    "print(sector_idx_max)\n",
    "#sector_idx = ((LN[1,:] > sector_min) & (LN[1,:] < sector_max))\n",
    "#sector_idx = sector_idx\n",
    "line_deviation = 1 * ((effective_miz_width_array[day_vec,sector_idx_min:sector_idx_max]/1000).std(axis=1))\n",
    "mean = (effective_miz_width_array[day_vec,sector_idx_min:sector_idx_max]/1000).mean(axis=1)\n",
    "lower = (mean - line_deviation)\n",
    "upper = (mean + line_deviation)\n",
    "\n",
    "plt.plot(x_dates, mean, label = \"Amundsen-Bellingshausen\")\n",
    "#plt.fill_between(x_dates, lower, upper, color='g', alpha=.1)\n",
    "\n",
    "## Weddell\n",
    "print(\"Weddell\")\n",
    "sector_min = 300\n",
    "sector_max = 345\n",
    "a = abs(LN[1,:]-sector_min)\n",
    "sector_idx_min, = np.unravel_index(a.argmin(),a.shape)\n",
    "a = abs(LN[1,:]-sector_max)\n",
    "sector_idx_max, = np.unravel_index(a.argmin(),a.shape)\n",
    "print(sector_idx_min)\n",
    "print(sector_idx_max)\n",
    "#sector_idx = ((LN[1,:] > sector_min) & (LN[1,:] < sector_max))\n",
    "#sector_idx = sector_idx\n",
    "line_deviation = 1 * ((effective_miz_width_array[day_vec,sector_idx_min:sector_idx_max]/1000).std(axis=1))\n",
    "mean = (effective_miz_width_array[day_vec,sector_idx_min:sector_idx_max]/1000).mean(axis=1)\n",
    "lower = (mean - line_deviation)\n",
    "upper = (mean + line_deviation)\n",
    "\n",
    "plt.plot(x_dates, mean, label = \"Weddell\", color='m')\n",
    "#plt.fill_between(x_dates, lower, upper, color='m', alpha=.1)\n",
    "\n",
    "plt.xlabel(\"Days\")\n",
    "plt.ylabel(\"MIZ width [km]\")\n",
    "plt.legend()\n",
    "plt.show()\n",
    "\n",
    "fig.autofmt_xdate()\n",
    "\n",
    "fig.autofmt_xdate()\n",
    "fig.savefig(savepath+'miz_width_sector.png', dpi = 300) \n",
    "import matplotlib2tikz\n",
    "matplotlib2tikz.save(\"miz_width_sector.tex\")"
   ]
  },
  {
   "cell_type": "code",
   "execution_count": 175,
   "id": "8be7be99-434b-45fd-8012-b1d6c5728025",
   "metadata": {},
   "outputs": [
    {
     "data": {
      "image/png": "[encoded data removed]",
      "text/plain": [
       "<Figure size 576x288 with 1 Axes>"
      ]
     },
     "metadata": {},
     "output_type": "display_data"
    },
    {
     "name": "stdout",
     "output_type": "stream",
     "text": [
      "84\n",
      "154\n"
     ]
    },
    {
     "data": {
      "image/png": "[encoded data removed]",
      "text/plain": [
       "<Figure size 432x288 with 1 Axes>"
      ]
     },
     "metadata": {},
     "output_type": "display_data"
    },
    {
     "name": "stdout",
     "output_type": "stream",
     "text": [
      "264\n",
      "354\n"
     ]
    },
    {
     "data": {
      "image/png": "[encoded data removed]",
      "text/plain": [
       "<Figure size 432x288 with 1 Axes>"
      ]
     },
     "metadata": {},
     "output_type": "display_data"
    },
    {
     "name": "stdout",
     "output_type": "stream",
     "text": [
      "354\n",
      "84\n"
     ]
    },
    {
     "data": {
      "image/png": "[encoded data removed]",
      "text/plain": [
       "<Figure size 432x288 with 1 Axes>"
      ]
     },
     "metadata": {},
     "output_type": "display_data"
    },
    {
     "name": "stdout",
     "output_type": "stream",
     "text": [
      "Amundsen Belling\n",
      "154\n",
      "219\n"
     ]
    },
    {
     "data": {
      "image/png": "[encoded data removed]",
      "text/plain": [
       "<Figure size 432x288 with 1 Axes>"
      ]
     },
     "metadata": {},
     "output_type": "display_data"
    },
    {
     "name": "stdout",
     "output_type": "stream",
     "text": [
      "Weddell\n",
      "219\n",
      "264\n"
     ]
    },
    {
     "data": {
      "image/png": "[encoded data removed]",
      "text/plain": [
       "<Figure size 432x288 with 1 Axes>"
      ]
     },
     "metadata": {},
     "output_type": "display_data"
    }
   ],
   "source": [
    "rc('font',**{'family':'serif','serif':['Times']})\n",
    "rc('text', usetex=True)\n",
    "x_dates = day_vec #np.array(unique_dates[day_vec], dtype=np.datetime64)\n",
    "#month_year_formatter = mdates.DateFormatter('%b') # The \",\" is intentional.\n",
    "\n",
    "# Plot the MIZ widths\n",
    "fig, ax = plt.subplots(figsize=(8, 4))\n",
    "\n",
    "\n",
    "#monthly_locator = mdates.MonthLocator()\n",
    "#ax.xaxis.set_major_locator(mdates.MonthLocator())\n",
    "#ax.xaxis.set_minor_locator(mdates.MonthLocator(bymonthday=15))\n",
    "#ax.xaxis.set_major_formatter(NullFormatter())\n",
    "#ax.xaxis.set_minor_formatter(mdates.DateFormatter('%b'))\n",
    "\n",
    "plt.style.use(\"fivethirtyeight\")\n",
    "\n",
    "line_deviation = 1 * (miz_upper_boundary[day_vec,:].std(axis=1))\n",
    "mean = miz_upper_boundary[day_vec,:].mean(axis=1)\n",
    "lower = (mean - line_deviation)\n",
    "upper = (mean + line_deviation)\n",
    "\n",
    "plt.plot(x_dates, miz_upper_boundary[day_vec,:].mean(axis=1), label = \"Upper boundary\")\n",
    "plt.fill_between(x_dates, lower, upper, color='b', alpha=.1)\n",
    "\n",
    "line_deviation = 1 * (miz_lower_boundary[day_vec,:].std(axis=1))\n",
    "mean = miz_lower_boundary[day_vec,:].mean(axis=1)\n",
    "lower = (mean - line_deviation)\n",
    "upper = (mean + line_deviation)\n",
    "plt.plot(x_dates, miz_lower_boundary[day_vec,:].mean(axis=1), label = \"Lower boundary\")\n",
    "plt.fill_between(x_dates, lower, upper, color='r', alpha=.1)\n",
    "\n",
    "#plt.xticks(range(0, n_days))\n",
    "\n",
    "plt.xlabel(\"Days\")\n",
    "plt.ylabel(\"MIZ location [latitude]\")\n",
    "plt.legend()\n",
    "ax.set_ylim([-80, -55])\n",
    "plt.show()\n",
    "\n",
    "fig.autofmt_xdate()\n",
    "fig.savefig(savepath+'miz_location.png', dpi = 300) \n",
    "\n",
    "\n",
    "\n",
    "# SECTORS\n",
    "## Ross-Amundsen Sea\n",
    "sector_min = 165\n",
    "sector_max = 235\n",
    "a = abs(LN[1,:]-sector_min)\n",
    "sector_idx_min, = np.unravel_index(a.argmin(),a.shape)\n",
    "a = abs(LN[1,:]-sector_max)\n",
    "sector_idx_max, = np.unravel_index(a.argmin(),a.shape)\n",
    "print(sector_idx_min)\n",
    "print(sector_idx_max)\n",
    "line_deviation = 1 * (miz_upper_boundary[day_vec,sector_idx_min:sector_idx_max].std(axis=1))\n",
    "mean = miz_upper_boundary[day_vec,sector_idx_min:sector_idx_max].mean(axis=1)\n",
    "lower = (mean - line_deviation)\n",
    "upper = (mean + line_deviation)\n",
    "\n",
    "plt.plot(x_dates, miz_upper_boundary[day_vec,sector_idx_min:sector_idx_max].mean(axis=1), label = \"Upper boundary\")\n",
    "plt.fill_between(x_dates, lower, upper, color='b', alpha=.1)\n",
    "\n",
    "line_deviation = 1 * (miz_lower_boundary[day_vec,sector_idx_min:sector_idx_max].std(axis=1))\n",
    "mean = miz_lower_boundary[day_vec,sector_idx_min:sector_idx_max].mean(axis=1)\n",
    "lower = (mean - line_deviation)\n",
    "upper = (mean + line_deviation)\n",
    "plt.plot(x_dates, miz_lower_boundary[day_vec,sector_idx_min:sector_idx_max].mean(axis=1), label = \"Lower boundary\")\n",
    "plt.fill_between(x_dates, lower, upper, color='r', alpha=.1)\n",
    "\n",
    "plt.xlabel(\"Days\")\n",
    "plt.ylabel(\"MIZ location [latitude]\")\n",
    "plt.legend()\n",
    "ax.set_ylim([-80, -55])\n",
    "plt.show()\n",
    "\n",
    "fig.autofmt_xdate()\n",
    "fig.savefig(savepath+'miz_location_Ross-Amundsen.png', dpi = 300) \n",
    "\n",
    "\n",
    "## King Hakon VII\n",
    "sector_min = 345\n",
    "sector_max = 75\n",
    "a = abs(LN[1,:]-sector_min)\n",
    "sector_idx_min, = np.unravel_index(a.argmin(),a.shape)\n",
    "a = abs(LN[1,:]-sector_max)\n",
    "sector_idx_max, = np.unravel_index(a.argmin(),a.shape)\n",
    "print(sector_idx_min)\n",
    "print(sector_idx_max)\n",
    "line_deviation = 1 * (miz_upper_boundary[day_vec,sector_idx_min:sector_idx_max].std(axis=1))\n",
    "mean = miz_upper_boundary[day_vec,sector_idx_min:sector_idx_max].mean(axis=1)\n",
    "lower = (mean - line_deviation)\n",
    "upper = (mean + line_deviation)\n",
    "\n",
    "plt.plot(x_dates, miz_upper_boundary[day_vec,sector_idx_min:sector_idx_max].mean(axis=1), label = \"Upper boundary\")\n",
    "plt.fill_between(x_dates, lower, upper, color='b', alpha=.1)\n",
    "\n",
    "line_deviation = 1 * (miz_lower_boundary[day_vec,sector_idx_min:sector_idx_max].std(axis=1))\n",
    "mean = miz_lower_boundary[day_vec,sector_idx_min:sector_idx_max].mean(axis=1)\n",
    "lower = (mean - line_deviation)\n",
    "upper = (mean + line_deviation)\n",
    "plt.plot(x_dates, miz_lower_boundary[day_vec,sector_idx_min:sector_idx_max].mean(axis=1), label = \"Lower boundary\")\n",
    "plt.fill_between(x_dates, lower, upper, color='r', alpha=.1)\n",
    "\n",
    "plt.xlabel(\"Days\")\n",
    "plt.ylabel(\"MIZ location [latitude]\")\n",
    "plt.legend()\n",
    "ax.set_ylim([-80, -55])\n",
    "plt.show()\n",
    "\n",
    "fig.autofmt_xdate()\n",
    "fig.savefig(savepath+'miz_location_King-Hakon-VII.png', dpi = 300) \n",
    "\n",
    "\n",
    "## East Antarctica\n",
    "sector_min = 75\n",
    "sector_max = 165\n",
    "a = abs(LN[1,:]-sector_min)\n",
    "sector_idx_min, = np.unravel_index(a.argmin(),a.shape)\n",
    "a = abs(LN[1,:]-sector_max)\n",
    "sector_idx_max, = np.unravel_index(a.argmin(),a.shape)\n",
    "print(sector_idx_min)\n",
    "print(sector_idx_max)\n",
    "sector_idx = ((LN[1,:] > sector_min) & (LN[1,:] < sector_max))\n",
    "sector_idx = sector_idx[0]\n",
    "line_deviation = 1 * (miz_upper_boundary[day_vec,sector_idx].std(axis=1))\n",
    "mean = miz_upper_boundary[day_vec,sector_idx].mean(axis=1)\n",
    "lower = (mean - line_deviation)\n",
    "upper = (mean + line_deviation)\n",
    "\n",
    "plt.plot(x_dates, miz_upper_boundary[day_vec,sector_idx].mean(axis=1), label = \"Upper boundary\")\n",
    "plt.fill_between(x_dates, lower, upper, color='b', alpha=.1)\n",
    "\n",
    "line_deviation = 1 * (miz_lower_boundary[day_vec,sector_idx].std(axis=1))\n",
    "mean = miz_lower_boundary[day_vec,sector_idx].mean(axis=1)\n",
    "lower = (mean - line_deviation)\n",
    "upper = (mean + line_deviation)\n",
    "plt.plot(x_dates, miz_lower_boundary[day_vec,sector_idx].mean(axis=1), label = \"Lower boundary\")\n",
    "plt.fill_between(x_dates, lower, upper, color='r', alpha=.1)\n",
    "\n",
    "plt.xlabel(\"Days\")\n",
    "plt.ylabel(\"MIZ location [latitude]\")\n",
    "plt.legend()\n",
    "ax.set_ylim([-80, -55])\n",
    "plt.show()\n",
    "\n",
    "fig.autofmt_xdate()\n",
    "fig.savefig(savepath+'miz_location_East-Antarctica.png', dpi = 300) \n",
    "\n",
    "## Amundsen Belling\n",
    "print(\"Amundsen Belling\")\n",
    "sector_min = 235\n",
    "sector_max = 300\n",
    "a = abs(LN[1,:]-sector_min)\n",
    "sector_idx_min, = np.unravel_index(a.argmin(),a.shape)\n",
    "a = abs(LN[1,:]-sector_max)\n",
    "sector_idx_max, = np.unravel_index(a.argmin(),a.shape)\n",
    "print(sector_idx_min)\n",
    "print(sector_idx_max)\n",
    "#sector_idx = ((LN[1,:] > sector_min) & (LN[1,:] < sector_max))\n",
    "#sector_idx = sector_idx\n",
    "line_deviation = 1 * (miz_upper_boundary[day_vec,sector_idx_min:sector_idx_max].std(axis=1))\n",
    "mean = miz_upper_boundary[day_vec,sector_idx_min:sector_idx_max].mean(axis=1)\n",
    "lower = (mean - line_deviation)\n",
    "upper = (mean + line_deviation)\n",
    "\n",
    "plt.plot(x_dates, miz_upper_boundary[day_vec,sector_idx_min:sector_idx_max].mean(axis=1), label = \"Upper boundary\")\n",
    "plt.fill_between(x_dates, lower, upper, color='b', alpha=.1)\n",
    "\n",
    "line_deviation = 1 * (miz_lower_boundary[day_vec,sector_idx_min:sector_idx_max].std(axis=1))\n",
    "mean = miz_lower_boundary[day_vec,sector_idx_min:sector_idx_max].mean(axis=1)\n",
    "lower = (mean - line_deviation)\n",
    "upper = (mean + line_deviation)\n",
    "plt.plot(x_dates, miz_lower_boundary[day_vec,sector_idx_min:sector_idx_max].mean(axis=1), label = \"Lower boundary\")\n",
    "plt.fill_between(x_dates, lower, upper, color='r', alpha=.1)\n",
    "\n",
    "plt.xlabel(\"Days\")\n",
    "plt.ylabel(\"MIZ location [latitude]\")\n",
    "plt.legend()\n",
    "ax.set_ylim([-80, -55])\n",
    "plt.show()\n",
    "\n",
    "fig.autofmt_xdate()\n",
    "fig.savefig(savepath+'miz_location_Amun-Bellin.png', dpi = 300) \n",
    "\n",
    "\n",
    "## Weddell\n",
    "print(\"Weddell\")\n",
    "sector_min = 300\n",
    "sector_max = 345\n",
    "a = abs(LN[1,:]-sector_min)\n",
    "sector_idx_min, = np.unravel_index(a.argmin(),a.shape)\n",
    "a = abs(LN[1,:]-sector_max)\n",
    "sector_idx_max, = np.unravel_index(a.argmin(),a.shape)\n",
    "print(sector_idx_min)\n",
    "print(sector_idx_max)\n",
    "#sector_idx = ((LN[1,:] > sector_min) & (LN[1,:] < sector_max))\n",
    "#sector_idx = sector_idx\n",
    "line_deviation = 1 * (miz_upper_boundary[day_vec,sector_idx_min:sector_idx_max].std(axis=1))\n",
    "mean = miz_upper_boundary[day_vec,sector_idx_min:sector_idx_max].mean(axis=1)\n",
    "lower = (mean - line_deviation)\n",
    "upper = (mean + line_deviation)\n",
    "\n",
    "plt.plot(x_dates, miz_upper_boundary[day_vec,sector_idx_min:sector_idx_max].mean(axis=1), label = \"Upper boundary\")\n",
    "plt.fill_between(x_dates, lower, upper, color='b', alpha=.1)\n",
    "\n",
    "line_deviation = 1 * (miz_lower_boundary[day_vec,sector_idx_min:sector_idx_max].std(axis=1))\n",
    "mean = miz_lower_boundary[day_vec,sector_idx_min:sector_idx_max].mean(axis=1)\n",
    "lower = (mean - line_deviation)\n",
    "upper = (mean + line_deviation)\n",
    "plt.plot(x_dates, miz_lower_boundary[day_vec,sector_idx_min:sector_idx_max].mean(axis=1), label = \"Lower boundary\")\n",
    "plt.fill_between(x_dates, lower, upper, color='r', alpha=.1)\n",
    "\n",
    "plt.xlabel(\"Days\")\n",
    "plt.ylabel(\"MIZ location [latitude]\")\n",
    "plt.legend()\n",
    "ax.set_ylim([-80, -55])\n",
    "plt.show()\n",
    "\n",
    "fig.autofmt_xdate()\n",
    "fig.savefig(savepath+'miz_location_Weddell.png', dpi = 300) \n"
   ]
  },
  {
   "cell_type": "code",
   "execution_count": 169,
   "id": "e87eaae9-ed05-4123-92f4-92498a9bc74d",
   "metadata": {},
   "outputs": [
    {
     "name": "stdout",
     "output_type": "stream",
     "text": [
      "[False False False False False False False False False False False False\n",
      " False False False False False False False False False False False False\n",
      " False False False False False False False False False False False False\n",
      " False False False False False False False False False False False False\n",
      " False False False False False False False False False False False False\n",
      " False False False False False False False False False False False False\n",
      " False False False False False False False False False False False False\n",
      " False False False False False False False False False False False False\n",
      " False False False False False False False False False False False False\n",
      " False False False False False False False False False False False False\n",
      " False False False False False False False False False False False False\n",
      " False False False False False False False False False False False False\n",
      " False False False False False False False False False False False  True\n",
      "  True  True  True  True  True  True  True  True  True  True  True  True\n",
      "  True  True  True  True  True  True  True  True  True  True  True  True\n",
      "  True  True  True  True  True  True  True  True  True  True  True  True\n",
      "  True  True  True  True  True  True  True  True  True  True  True  True\n",
      "  True  True  True  True  True  True  True  True  True  True  True  True\n",
      "  True  True  True  True False False False False False False False False\n",
      " False False False False False False False False False False False False\n",
      " False False False False False False False False False False False False\n",
      " False False False False False False False False False False False False\n",
      " False False False False False False False False False False False False\n",
      " False False False False False False False False False False False False\n",
      " False False False False False False False False False False False False\n",
      " False False False False False False False False False False False False\n",
      " False False False False False False False False False False False False\n",
      " False False False False False False False False False False False False\n",
      " False False False False False False False False False False False False\n",
      " False False False False False False False False False False False False]\n"
     ]
    },
    {
     "ename": "IndexError",
     "evalue": "shape mismatch: indexing arrays could not be broadcast together with shapes (25,) (65,) ",
     "output_type": "error",
     "traceback": [
      "\u001b[0;31m---------------------------------------------------------------------------\u001b[0m",
      "\u001b[0;31mIndexError\u001b[0m                                Traceback (most recent call last)",
      "Cell \u001b[0;32mIn[169], line 20\u001b[0m\n\u001b[1;32m     16\u001b[0m \u001b[38;5;28mprint\u001b[39m(sector_idx)\n\u001b[1;32m     17\u001b[0m \u001b[38;5;66;03m#sector_idx = sector_idx[0]\u001b[39;00m\n\u001b[1;32m     18\u001b[0m \u001b[38;5;66;03m#print(sector_idx)\u001b[39;00m\n\u001b[1;32m     19\u001b[0m \u001b[38;5;66;03m#print(sector_idx)\u001b[39;00m\n\u001b[0;32m---> 20\u001b[0m \u001b[43mmiz_upper_boundary\u001b[49m\u001b[43m[\u001b[49m\u001b[43mday_vec\u001b[49m\u001b[43m,\u001b[49m\u001b[43msector_idx\u001b[49m\u001b[43m]\u001b[49m\n",
      "\u001b[0;31mIndexError\u001b[0m: shape mismatch: indexing arrays could not be broadcast together with shapes (25,) (65,) "
     ]
    }
   ],
   "source": [
    "#print(sector_idx_min)\n",
    "#print(sector_idx_max)\n",
    "\n",
    "\n",
    "#print(sector_idx)\n",
    "#np.asarray(range(sector_idx_min,360), range(1,sector_idx_max))\n",
    "#print(LN[1,sector_idx_max:-1])\n",
    "#print(LN[1,0:sector_idx_max])\n",
    "#np.concatenate(range(sector_idx_max,360), range(1,sector_idx_min))\n",
    "\n",
    "#print(miz_upper_boundary[day_vec,sector_idx[0]])\n",
    "#miz_upper_boundary.shape\n",
    "#sector_idx.shape\n",
    "\n",
    "sector_idx = np.asarray((LN[1,:] > sector_min) & (LN[1,:] < sector_max))\n",
    "print(sector_idx)\n",
    "#sector_idx = sector_idx[0]\n",
    "#print(sector_idx)\n",
    "#print(sector_idx)\n",
    "miz_upper_boundary[day_vec,sector_idx]"
   ]
  },
  {
   "cell_type": "code",
   "execution_count": 103,
   "id": "295c6c9e-c7e3-47b5-a8be-7f8cb7fbe32c",
   "metadata": {},
   "outputs": [
    {
     "data": {
      "text/plain": [
       "array([59.5], dtype=float32)"
      ]
     },
     "execution_count": 103,
     "metadata": {},
     "output_type": "execute_result"
    }
   ],
   "source": [
    "miz_upper_boundary[day_vec,:].mean(axis=1)\n",
    "x_dates\n",
    "LN[1,:]\n",
    "\n",
    "a = abs(LN[1,:]-60)\n",
    "i = np.unravel_index(a.argmin(),a.shape)\n",
    "i\n",
    "LN[1,i]"
   ]
  },
  {
   "cell_type": "code",
   "execution_count": null,
   "id": "2320587f-5f85-4af9-82ed-647789a5a94c",
   "metadata": {},
   "outputs": [],
   "source": [
    "rc('font',**{'family':'serif','serif':['Times']})\n",
    "rc('text', usetex=True)\n",
    "x_dates = range(0,365) #np.array(unique_dates[day_vec], dtype=np.datetime64)\n",
    "month_year_formatter = mdates.DateFormatter('%b') # The \",\" is intentional.\n",
    "diff = effective_miz_width_array[1:-1,:]/1000 - effective_miz_width_array[0:-2,:]/1000\n",
    "\n",
    "\n",
    "# Plot the MIZ widths\n",
    "fig, ax = plt.subplots(figsize=(8, 4))\n",
    "\n",
    "#monthly_locator = mdates.MonthLocator()\n",
    "#ax.xaxis.set_major_locator(mdates.MonthLocator())\n",
    "#ax.xaxis.set_minor_locator(mdates.MonthLocator(bymonthday=15))\n",
    "#ax.xaxis.set_major_formatter(NullFormatter())\n",
    "#ax.xaxis.set_minor_formatter(mdates.DateFormatter('%b'))\n",
    "#plt.style.use(\"fivethirtyeight\")\n",
    "plt.plot(x_dates[0:-2], diff.mean(axis=1))\n",
    "\n",
    "print( diff[:,1].shape)\n",
    "#plt.plot(x_dates[0:-2], diff[:,range(0,360,200)], alpha=.1)\n",
    "\n",
    "line_deviation = 1 * (diff.std(axis=1))\n",
    "mean = diff.mean(axis=1)\n",
    "lower = (mean - line_deviation)\n",
    "upper = (mean + line_deviation)\n",
    "plt.fill_between(x_dates[0:-2], lower, upper, color='r', alpha=.1)\n",
    "#plt.xlabel(\"Days\")\n",
    "#plt.ylabel(\"Change in MIZ width [km]\")\n",
    "#plt.legend()\n",
    "#ax.set_ylim([0, 550])\n",
    "plt.show()\n",
    "\n",
    "fig.autofmt_xdate()\n",
    "fig.savefig(savepath+'delta_miz_width.png', dpi = 300) \n",
    "print(upper)"
   ]
  },
  {
   "cell_type": "code",
   "execution_count": 39,
   "id": "a5c90cc1-c187-4ffb-bf63-5a2b8dd2f478",
   "metadata": {},
   "outputs": [
    {
     "data": {
      "text/plain": [
       "(300, 360)"
      ]
     },
     "execution_count": 39,
     "metadata": {},
     "output_type": "execute_result"
    }
   ],
   "source": []
  },
  {
   "cell_type": "code",
   "execution_count": 112,
   "id": "2a0a892e-3af1-4e3f-8a10-421aedb77419",
   "metadata": {},
   "outputs": [],
   "source": [
    "#upper = (mean + line_deviation)\n",
    "#print(upper)\n",
    "#lower\n",
    "\n",
    "#df_kmeans['k'] = predicted # kmeans.labels_\n",
    "effective_miz_width_array.shape\n",
    "#print(kmeans.cluster_centers_)\n",
    "#df_kmeans.to_csv('kmeans.csv', index=False)\n",
    "\n",
    "#ds = xr.open_dataset(onlyfiles[0])\n",
    "#HTE = ds.HTE.values\n",
    "#HTN = ds.HTN.values\n",
    "#tarea = ds.tarea.values\n",
    "#tmask = ds.tmask.values\n",
    "\n",
    "filename=f\"/scratch/ia40/nd0349/mizWidth_2011.nc\"\n",
    "d_vars = {\"effective\" : (['time','nj'],effective_miz_width_array,\n",
    "                              {'long_name' :\"Effective width\",\n",
    "                               'units'     :\"m\",\n",
    "                               '_FillValue':-2e8}),\n",
    "          \"sic\" : (['time','nj'],sic_width_array,\n",
    "                              {'long_name' :\"Sea ice concentration width [0.15, 0.8]\",\n",
    "                               'units'     :\"m\",\n",
    "                               '_FillValue':-2e8}),\n",
    "          \"absolute\" : (['time','nj'],miz_width_array,\n",
    "                          {'long_name':\"Absolute width\",\n",
    "                           'units'    :\"m\",\n",
    "                           '_FillValue':-2e8})}\n",
    "          \n",
    "coords = {\"LON\"  : ([\"nj\"],LN[1,:],{'units':'degrees_east'}),\n",
    "          \"time\" : ([\"time\"],range(1,366))}\n",
    "attrs = {'creation_date': \"2023-04-04\",#datetime.now().strftime('%Y-%m-%d %H'),\n",
    "         'conventions'  : \"\",\n",
    "         'title'        : \"MIZ width for CICE-WIM standalone 1-degree data\",\n",
    "         'source'       : \", \",\n",
    "         'comment'      : \"\",\n",
    "         'author'       : 'Noah Day',\n",
    "         'email'        : 'noah.day@adelaide.edu.au'}\n",
    "enc_dict  = {'shuffle':True,'zlib':True,'complevel':5} \n",
    "nc_out = xr.Dataset(data_vars=d_vars,coords=coords,attrs=attrs)\n",
    "write_job = nc_out.to_netcdf(filename,unlimited_dims=['time'],compute=False)#,encoding={'glbrad':enc_dict})\n"
   ]
  },
  {
   "cell_type": "code",
   "execution_count": 110,
   "id": "0fef8c0a-6a5d-4b82-87cc-8f334e783289",
   "metadata": {},
   "outputs": [
    {
     "data": {
      "text/plain": [
       "array([ 80.5,  81.5,  82.5,  83.5,  84.5,  85.5,  86.5,  87.5,  88.5,\n",
       "        89.5,  90.5,  91.5,  92.5,  93.5,  94.5,  95.5,  96.5,  97.5,\n",
       "        98.5,  99.5, 100.5, 101.5, 102.5, 103.5, 104.5, 105.5, 106.5,\n",
       "       107.5, 108.5, 109.5, 110.5, 111.5, 112.5, 113.5, 114.5, 115.5,\n",
       "       116.5, 117.5, 118.5, 119.5, 120.5, 121.5, 122.5, 123.5, 124.5,\n",
       "       125.5, 126.5, 127.5, 128.5, 129.5, 130.5, 131.5, 132.5, 133.5,\n",
       "       134.5, 135.5, 136.5, 137.5, 138.5, 139.5, 140.5, 141.5, 142.5,\n",
       "       143.5, 144.5, 145.5, 146.5, 147.5, 148.5, 149.5, 150.5, 151.5,\n",
       "       152.5, 153.5, 154.5, 155.5, 156.5, 157.5, 158.5, 159.5, 160.5,\n",
       "       161.5, 162.5, 163.5, 164.5, 165.5, 166.5, 167.5, 168.5, 169.5,\n",
       "       170.5, 171.5, 172.5, 173.5, 174.5, 175.5, 176.5, 177.5, 178.5,\n",
       "       179.5, 180.5, 181.5, 182.5, 183.5, 184.5, 185.5, 186.5, 187.5,\n",
       "       188.5, 189.5, 190.5, 191.5, 192.5, 193.5, 194.5, 195.5, 196.5,\n",
       "       197.5, 198.5, 199.5, 200.5, 201.5, 202.5, 203.5, 204.5, 205.5,\n",
       "       206.5, 207.5, 208.5, 209.5, 210.5, 211.5, 212.5, 213.5, 214.5,\n",
       "       215.5, 216.5, 217.5, 218.5, 219.5, 220.5, 221.5, 222.5, 223.5,\n",
       "       224.5, 225.5, 226.5, 227.5, 228.5, 229.5, 230.5, 231.5, 232.5,\n",
       "       233.5, 234.5, 235.5, 236.5, 237.5, 238.5, 239.5, 240.5, 241.5,\n",
       "       242.5, 243.5, 244.5, 245.5, 246.5, 247.5, 248.5, 249.5, 250.5,\n",
       "       251.5, 252.5, 253.5, 254.5, 255.5, 256.5, 257.5, 258.5, 259.5,\n",
       "       260.5, 261.5, 262.5, 263.5, 264.5, 265.5, 266.5, 267.5, 268.5,\n",
       "       269.5, 270.5, 271.5, 272.5, 273.5, 274.5, 275.5, 276.5, 277.5,\n",
       "       278.5, 279.5, 280.5, 281.5, 282.5, 283.5, 284.5, 285.5, 286.5,\n",
       "       287.5, 288.5, 289.5, 290.5, 291.5, 292.5, 293.5, 294.5, 295.5,\n",
       "       296.5, 297.5, 298.5, 299.5, 300.5, 301.5, 302.5, 303.5, 304.5,\n",
       "       305.5, 306.5, 307.5, 308.5, 309.5, 310.5, 311.5, 312.5, 313.5,\n",
       "       314.5, 315.5, 316.5, 317.5, 318.5, 319.5, 320.5, 321.5, 322.5,\n",
       "       323.5, 324.5, 325.5, 326.5, 327.5, 328.5, 329.5, 330.5, 331.5,\n",
       "       332.5, 333.5, 334.5, 335.5, 336.5, 337.5, 338.5, 339.5, 340.5,\n",
       "       341.5, 342.5, 343.5, 344.5, 345.5, 346.5, 347.5, 348.5, 349.5,\n",
       "       350.5, 351.5, 352.5, 353.5, 354.5, 355.5, 356.5, 357.5, 358.5,\n",
       "       359.5,   0.5,   1.5,   2.5,   3.5,   4.5,   5.5,   6.5,   7.5,\n",
       "         8.5,   9.5,  10.5,  11.5,  12.5,  13.5,  14.5,  15.5,  16.5,\n",
       "        17.5,  18.5,  19.5,  20.5,  21.5,  22.5,  23.5,  24.5,  25.5,\n",
       "        26.5,  27.5,  28.5,  29.5,  30.5,  31.5,  32.5,  33.5,  34.5,\n",
       "        35.5,  36.5,  37.5,  38.5,  39.5,  40.5,  41.5,  42.5,  43.5,\n",
       "        44.5,  45.5,  46.5,  47.5,  48.5,  49.5,  50.5,  51.5,  52.5,\n",
       "        53.5,  54.5,  55.5,  56.5,  57.5,  58.5,  59.5,  60.5,  61.5,\n",
       "        62.5,  63.5,  64.5,  65.5,  66.5,  67.5,  68.5,  69.5,  70.5,\n",
       "        71.5,  72.5,  73.5,  74.5,  75.5,  76.5,  77.5,  78.5,  79.5],\n",
       "      dtype=float32)"
      ]
     },
     "execution_count": 110,
     "metadata": {},
     "output_type": "execute_result"
    }
   ],
   "source": [
    "LN[1,:]"
   ]
  },
  {
   "cell_type": "code",
   "execution_count": 305,
   "id": "7e9ac145-9a18-4515-8095-e0f36c55c98e",
   "metadata": {},
   "outputs": [
    {
     "data": {
      "application/vnd.plotly.v1+json": {
       "config": {
        "plotlyServerURL": "https://plot.ly"
       },
       "data": [
        {
         "hovertemplate": "date=%{x|%B %d, %Y}<br>absolute=%{y}<extra></extra>",
         "legendgroup": "",
         "line": {
          "color": "#636efa",
          "dash": "solid"
         },
         "marker": {
          "symbol": "circle"
         },
         "mode": "lines",
         "name": "",
         "orientation": "v",
         "showlegend": false,
         "type": "scatter",
         "x": [
          "2009-01-01T00:00:00",
          "2009-01-02T00:00:00",
          "2009-01-03T00:00:00",
          "2009-01-04T00:00:00",
          "2009-01-05T00:00:00",
          "2009-01-06T00:00:00",
          "2009-01-07T00:00:00",
          "2009-01-08T00:00:00",
          "2009-01-09T00:00:00",
          "2009-01-10T00:00:00",
          "2009-01-11T00:00:00",
          "2009-01-12T00:00:00",
          "2009-01-13T00:00:00",
          "2009-01-14T00:00:00",
          "2009-01-15T00:00:00",
          "2009-01-16T00:00:00",
          "2009-01-17T00:00:00",
          "2009-01-18T00:00:00",
          "2009-01-19T00:00:00",
          "2009-01-20T00:00:00",
          "2009-01-21T00:00:00",
          "2009-01-22T00:00:00",
          "2009-01-23T00:00:00",
          "2009-01-24T00:00:00",
          "2009-01-25T00:00:00",
          "2009-01-26T00:00:00",
          "2009-01-27T00:00:00",
          "2009-01-28T00:00:00",
          "2009-01-29T00:00:00",
          "2009-01-30T00:00:00",
          "2009-01-31T00:00:00",
          "2009-02-01T00:00:00",
          "2009-02-02T00:00:00",
          "2009-02-03T00:00:00",
          "2009-02-04T00:00:00",
          "2009-02-05T00:00:00",
          "2009-02-06T00:00:00",
          "2009-02-07T00:00:00",
          "2009-02-08T00:00:00",
          "2009-02-09T00:00:00",
          "2009-02-10T00:00:00",
          "2009-02-11T00:00:00",
          "2009-02-12T00:00:00",
          "2009-02-13T00:00:00",
          "2009-02-14T00:00:00",
          "2009-02-15T00:00:00",
          "2009-02-16T00:00:00",
          "2009-02-17T00:00:00",
          "2009-02-18T00:00:00",
          "2009-02-19T00:00:00",
          "2009-02-20T00:00:00",
          "2009-02-21T00:00:00",
          "2009-02-22T00:00:00",
          "2009-02-23T00:00:00",
          "2009-02-24T00:00:00",
          "2009-02-25T00:00:00",
          "2009-02-26T00:00:00",
          "2009-02-27T00:00:00",
          "2009-02-28T00:00:00",
          "2009-03-01T00:00:00",
          "2009-03-02T00:00:00",
          "2009-03-03T00:00:00",
          "2009-03-04T00:00:00",
          "2009-03-05T00:00:00",
          "2009-03-06T00:00:00",
          "2009-03-07T00:00:00",
          "2009-03-08T00:00:00",
          "2009-03-09T00:00:00",
          "2009-03-10T00:00:00",
          "2009-03-11T00:00:00",
          "2009-03-12T00:00:00",
          "2009-03-13T00:00:00",
          "2009-03-14T00:00:00",
          "2009-03-15T00:00:00",
          "2009-03-16T00:00:00",
          "2009-03-17T00:00:00",
          "2009-03-18T00:00:00",
          "2009-03-19T00:00:00",
          "2009-03-20T00:00:00",
          "2009-03-21T00:00:00",
          "2009-03-22T00:00:00",
          "2009-03-23T00:00:00",
          "2009-03-24T00:00:00",
          "2009-03-25T00:00:00",
          "2009-03-26T00:00:00",
          "2009-03-27T00:00:00",
          "2009-03-28T00:00:00",
          "2009-03-29T00:00:00",
          "2009-03-30T00:00:00",
          "2009-03-31T00:00:00",
          "2009-04-01T00:00:00",
          "2009-04-02T00:00:00",
          "2009-04-03T00:00:00",
          "2009-04-04T00:00:00",
          "2009-04-05T00:00:00",
          "2009-04-06T00:00:00",
          "2009-04-07T00:00:00",
          "2009-04-08T00:00:00",
          "2009-04-09T00:00:00",
          "2009-04-10T00:00:00",
          "2009-04-11T00:00:00",
          "2009-04-12T00:00:00",
          "2009-04-13T00:00:00",
          "2009-04-14T00:00:00",
          "2009-04-15T00:00:00",
          "2009-04-16T00:00:00",
          "2009-04-17T00:00:00",
          "2009-04-18T00:00:00",
          "2009-04-19T00:00:00",
          "2009-04-20T00:00:00",
          "2009-04-21T00:00:00",
          "2009-04-22T00:00:00",
          "2009-04-23T00:00:00",
          "2009-04-24T00:00:00",
          "2009-04-25T00:00:00",
          "2009-04-26T00:00:00",
          "2009-04-27T00:00:00",
          "2009-04-28T00:00:00",
          "2009-04-29T00:00:00",
          "2009-04-30T00:00:00",
          "2009-05-01T00:00:00",
          "2009-05-02T00:00:00",
          "2009-05-03T00:00:00",
          "2009-05-04T00:00:00",
          "2009-05-05T00:00:00",
          "2009-05-06T00:00:00",
          "2009-05-07T00:00:00",
          "2009-05-08T00:00:00",
          "2009-05-09T00:00:00",
          "2009-05-10T00:00:00",
          "2009-05-11T00:00:00",
          "2009-05-12T00:00:00",
          "2009-05-13T00:00:00",
          "2009-05-14T00:00:00",
          "2009-05-15T00:00:00",
          "2009-05-16T00:00:00",
          "2009-05-17T00:00:00",
          "2009-05-18T00:00:00",
          "2009-05-19T00:00:00",
          "2009-05-20T00:00:00",
          "2009-05-21T00:00:00",
          "2009-05-22T00:00:00",
          "2009-05-23T00:00:00",
          "2009-05-24T00:00:00",
          "2009-05-25T00:00:00",
          "2009-05-26T00:00:00",
          "2009-05-27T00:00:00",
          "2009-05-28T00:00:00",
          "2009-05-29T00:00:00",
          "2009-05-30T00:00:00",
          "2009-05-31T00:00:00",
          "2009-06-01T00:00:00",
          "2009-06-02T00:00:00",
          "2009-06-03T00:00:00",
          "2009-06-04T00:00:00",
          "2009-06-05T00:00:00",
          "2009-06-06T00:00:00",
          "2009-06-07T00:00:00",
          "2009-06-08T00:00:00",
          "2009-06-09T00:00:00",
          "2009-06-10T00:00:00",
          "2009-06-11T00:00:00",
          "2009-06-12T00:00:00",
          "2009-06-13T00:00:00",
          "2009-06-14T00:00:00",
          "2009-06-15T00:00:00",
          "2009-06-16T00:00:00",
          "2009-06-17T00:00:00",
          "2009-06-18T00:00:00",
          "2009-06-19T00:00:00",
          "2009-06-20T00:00:00",
          "2009-06-21T00:00:00",
          "2009-06-22T00:00:00",
          "2009-06-23T00:00:00",
          "2009-06-24T00:00:00",
          "2009-06-25T00:00:00",
          "2009-06-26T00:00:00",
          "2009-06-27T00:00:00",
          "2009-06-28T00:00:00",
          "2009-06-29T00:00:00",
          "2009-06-30T00:00:00",
          "2009-07-01T00:00:00",
          "2009-07-02T00:00:00",
          "2009-07-03T00:00:00",
          "2009-07-04T00:00:00",
          "2009-07-05T00:00:00",
          "2009-07-06T00:00:00",
          "2009-07-07T00:00:00",
          "2009-07-08T00:00:00",
          "2009-07-09T00:00:00",
          "2009-07-10T00:00:00",
          "2009-07-11T00:00:00",
          "2009-07-12T00:00:00",
          "2009-07-13T00:00:00",
          "2009-07-14T00:00:00",
          "2009-07-15T00:00:00",
          "2009-07-16T00:00:00",
          "2009-07-17T00:00:00",
          "2009-07-18T00:00:00",
          "2009-07-19T00:00:00",
          "2009-07-20T00:00:00",
          "2009-07-21T00:00:00",
          "2009-07-22T00:00:00",
          "2009-07-23T00:00:00",
          "2009-07-24T00:00:00",
          "2009-07-25T00:00:00",
          "2009-07-26T00:00:00",
          "2009-07-27T00:00:00",
          "2009-07-28T00:00:00",
          "2009-07-29T00:00:00",
          "2009-07-30T00:00:00",
          "2009-07-31T00:00:00",
          "2009-08-01T00:00:00",
          "2009-08-02T00:00:00",
          "2009-08-03T00:00:00",
          "2009-08-04T00:00:00",
          "2009-08-05T00:00:00",
          "2009-08-06T00:00:00",
          "2009-08-07T00:00:00",
          "2009-08-08T00:00:00",
          "2009-08-09T00:00:00",
          "2009-08-10T00:00:00",
          "2009-08-11T00:00:00",
          "2009-08-12T00:00:00",
          "2009-08-13T00:00:00",
          "2009-08-14T00:00:00",
          "2009-08-15T00:00:00",
          "2009-08-16T00:00:00",
          "2009-08-17T00:00:00",
          "2009-08-18T00:00:00",
          "2009-08-19T00:00:00",
          "2009-08-20T00:00:00",
          "2009-08-21T00:00:00",
          "2009-08-22T00:00:00",
          "2009-08-23T00:00:00",
          "2009-08-24T00:00:00",
          "2009-08-25T00:00:00",
          "2009-08-26T00:00:00",
          "2009-08-27T00:00:00",
          "2009-08-28T00:00:00",
          "2009-08-29T00:00:00",
          "2009-08-30T00:00:00",
          "2009-08-31T00:00:00",
          "2009-09-01T00:00:00",
          "2009-09-02T00:00:00",
          "2009-09-03T00:00:00",
          "2009-09-04T00:00:00",
          "2009-09-05T00:00:00",
          "2009-09-06T00:00:00",
          "2009-09-07T00:00:00",
          "2009-09-08T00:00:00",
          "2009-09-09T00:00:00",
          "2009-09-10T00:00:00",
          "2009-09-11T00:00:00",
          "2009-09-12T00:00:00",
          "2009-09-13T00:00:00",
          "2009-09-14T00:00:00",
          "2009-09-15T00:00:00",
          "2009-09-16T00:00:00",
          "2009-09-17T00:00:00",
          "2009-09-18T00:00:00",
          "2009-09-19T00:00:00",
          "2009-09-20T00:00:00",
          "2009-09-21T00:00:00",
          "2009-09-22T00:00:00",
          "2009-09-23T00:00:00",
          "2009-09-24T00:00:00",
          "2009-09-25T00:00:00",
          "2009-09-26T00:00:00",
          "2009-09-27T00:00:00",
          "2009-09-28T00:00:00",
          "2009-09-29T00:00:00",
          "2009-09-30T00:00:00",
          "2009-10-01T00:00:00",
          "2009-10-02T00:00:00",
          "2009-10-03T00:00:00",
          "2009-10-04T00:00:00",
          "2009-10-05T00:00:00",
          "2009-10-06T00:00:00",
          "2009-10-07T00:00:00",
          "2009-10-08T00:00:00",
          "2009-10-09T00:00:00",
          "2009-10-10T00:00:00",
          "2009-10-11T00:00:00",
          "2009-10-12T00:00:00",
          "2009-10-13T00:00:00",
          "2009-10-14T00:00:00",
          "2009-10-15T00:00:00",
          "2009-10-16T00:00:00",
          "2009-10-17T00:00:00",
          "2009-10-18T00:00:00",
          "2009-10-19T00:00:00",
          "2009-10-20T00:00:00",
          "2009-10-21T00:00:00",
          "2009-10-22T00:00:00",
          "2009-10-23T00:00:00",
          "2009-10-24T00:00:00",
          "2009-10-25T00:00:00",
          "2009-10-26T00:00:00",
          "2009-10-27T00:00:00",
          "2009-10-28T00:00:00",
          "2009-10-29T00:00:00",
          "2009-10-30T00:00:00",
          "2009-10-31T00:00:00",
          "2009-11-01T00:00:00",
          "2009-11-02T00:00:00",
          "2009-11-03T00:00:00",
          "2009-11-04T00:00:00",
          "2009-11-05T00:00:00",
          "2009-11-06T00:00:00",
          "2009-11-07T00:00:00",
          "2009-11-08T00:00:00",
          "2009-11-09T00:00:00",
          "2009-11-10T00:00:00",
          "2009-11-11T00:00:00",
          "2009-11-12T00:00:00",
          "2009-11-13T00:00:00",
          "2009-11-14T00:00:00",
          "2009-11-15T00:00:00",
          "2009-11-16T00:00:00",
          "2009-11-17T00:00:00",
          "2009-11-18T00:00:00",
          "2009-11-19T00:00:00",
          "2009-11-20T00:00:00",
          "2009-11-21T00:00:00",
          "2009-11-22T00:00:00",
          "2009-11-23T00:00:00",
          "2009-11-24T00:00:00",
          "2009-11-25T00:00:00",
          "2009-11-26T00:00:00",
          "2009-11-27T00:00:00",
          "2009-11-28T00:00:00",
          "2009-11-29T00:00:00",
          "2009-11-30T00:00:00",
          "2009-12-01T00:00:00",
          "2009-12-02T00:00:00",
          "2009-12-03T00:00:00",
          "2009-12-04T00:00:00",
          "2009-12-05T00:00:00",
          "2009-12-06T00:00:00",
          "2009-12-07T00:00:00",
          "2009-12-08T00:00:00",
          "2009-12-09T00:00:00",
          "2009-12-10T00:00:00",
          "2009-12-11T00:00:00",
          "2009-12-12T00:00:00",
          "2009-12-13T00:00:00",
          "2009-12-14T00:00:00",
          "2009-12-15T00:00:00",
          "2009-12-16T00:00:00",
          "2009-12-17T00:00:00",
          "2009-12-18T00:00:00",
          "2009-12-19T00:00:00",
          "2009-12-20T00:00:00",
          "2009-12-21T00:00:00",
          "2009-12-22T00:00:00",
          "2009-12-23T00:00:00",
          "2009-12-24T00:00:00",
          "2009-12-25T00:00:00",
          "2009-12-26T00:00:00",
          "2009-12-27T00:00:00",
          "2009-12-28T00:00:00",
          "2009-12-29T00:00:00",
          "2009-12-30T00:00:00",
          "2009-12-31T00:00:00"
         ],
         "xaxis": "x",
         "y": [
          69.70294712191843,
          54.51115245081899,
          42.230536919309955,
          44.00038562193155,
          44.842381064452034,
          42.29511646590765,
          40.40120230412364,
          42.64820531783933,
          49.0811480008634,
          49.203380284468935,
          45.472253848883284,
          47.99491723382794,
          42.397408188036145,
          39.017204751506846,
          35.570198937942344,
          35.932859812316934,
          33.98321745484805,
          35.122867157877494,
          35.20929115488327,
          34.42428831132994,
          32.442853066267126,
          30.290750342303372,
          30.831073344557115,
          29.274636193460218,
          32.187541783125035,
          30.940273511793933,
          29.52270319772136,
          28.719756081856968,
          25.95723498185907,
          23.35596459272054,
          22.0270408890298,
          20.01901124827996,
          18.386489258858457,
          16.817071294117326,
          15.444238194282805,
          13.33168640997912,
          11.997010022477449,
          11.155490455214037,
          10.562706849308181,
          10.381017275187732,
          10.631052873923792,
          10.800239121737103,
          10.628026725688166,
          9.584966338325312,
          9.743788372103937,
          9.562075081398051,
          10.40921581879153,
          11.459997252381331,
          12.231010339027993,
          13.15053749878099,
          17.004305221901046,
          19.370755525390535,
          18.5841440143117,
          18.38518316028548,
          19.312842353012474,
          22.121575438054318,
          24.67538084537033,
          25.810873294116913,
          25.78798773105273,
          25.446070610086135,
          24.414045301147457,
          21.277188977594697,
          19.452960752425557,
          18.65860865462975,
          17.446842048484804,
          16.16803611514174,
          16.204897646898683,
          16.48752927948813,
          17.92041149634373,
          19.829186654011536,
          22.839435325177003,
          25.43968253644139,
          28.71712056388342,
          32.45784518933127,
          38.39973560282852,
          45.552004461424474,
          54.38587860802066,
          62.60746651737585,
          70.33614975250698,
          76.20292865242847,
          79.92327171606003,
          88.06217184393373,
          99.4571133024422,
          105.88550643855329,
          112.77744860787769,
          121.29569212070773,
          133.05710482830335,
          146.57044223972505,
          158.30996586784337,
          166.14476514801,
          171.76493633991078,
          177.32766668190152,
          184.0323122483084,
          189.2900460704276,
          197.0898877246957,
          197.93486333538277,
          200.99429416423283,
          209.00881832286734,
          214.78807762254203,
          219.7183511112608,
          229.11203153274877,
          242.40279673774077,
          249.39303325749893,
          255.4012682404592,
          265.2542548620887,
          269.28826767686166,
          266.9593642524706,
          267.8182450458713,
          267.54056273787245,
          273.5724624198755,
          278.19855017264564,
          278.228010611614,
          278.1780281057438,
          275.8058039152404,
          277.54255484368684,
          271.09797662042075,
          272.53177943123404,
          274.76101518884866,
          269.34622418737615,
          275.74869231436185,
          279.90624786185316,
          278.5227273658403,
          273.33228334319057,
          271.6782535495217,
          268.4994929762231,
          264.769872103097,
          266.4043100887391,
          264.49390920863647,
          263.54954452072394,
          266.7160750985692,
          274.7478910180184,
          280.90567518053444,
          283.038803391133,
          283.13388646171535,
          289.32064813754494,
          287.4605856271683,
          288.7530796481518,
          285.77304032455885,
          286.7449499278278,
          283.02026420804054,
          282.04987101375735,
          284.56396748760505,
          291.3065890546941,
          297.6716693011801,
          302.2575756386072,
          307.4511461058145,
          314.19562517321475,
          308.6492762887493,
          305.99903737039136,
          306.2668640468167,
          306.904731559402,
          304.7325180417668,
          303.12306008273356,
          298.77794278438387,
          293.4209341465203,
          292.2529911665454,
          291.83238612603606,
          287.13876591496063,
          289.68644826383326,
          292.96764781103167,
          300.55225995122726,
          300.14306351117943,
          302.27539293340817,
          302.77002811100556,
          301.398886242361,
          296.43389799447624,
          301.5898575089918,
          308.854472749327,
          317.3325552413368,
          328.02874743512314,
          329.586219046749,
          326.6586386851249,
          329.77324735375,
          327.7728570340334,
          328.09621304492737,
          333.221396411393,
          330.5068368704005,
          326.65406253202616,
          321.08132194719343,
          317.2887929166443,
          318.3513926696804,
          315.5949456841632,
          312.79891633018127,
          312.2610617862613,
          306.3172021087935,
          298.93153960956187,
          302.68863753446834,
          304.51334933820397,
          307.46582172785185,
          304.19158654539575,
          303.3450392070245,
          305.52406701255484,
          306.169717160878,
          308.2291767483226,
          301.5408141343961,
          298.188398674935,
          297.7450289151757,
          295.1634743798571,
          300.92731932298045,
          295.4927514912398,
          291.6842738197416,
          289.9195939184852,
          287.97530562509985,
          284.3326556570544,
          279.85465967346846,
          278.12416653422076,
          278.6723082605784,
          275.7076830498502,
          278.8090917197057,
          279.1227610870562,
          278.961385158477,
          271.7031009026577,
          268.18041973851246,
          263.6817750961763,
          260.0867112149929,
          257.2787585951597,
          256.5117911049083,
          257.5968699246508,
          260.64111004697367,
          261.4791662618164,
          262.8488645996441,
          262.224319711025,
          261.4020412490078,
          260.8807643172821,
          265.00717701641634,
          265.1622878560599,
          263.5689965547925,
          263.93492719163663,
          261.4940503782869,
          258.4896657956235,
          250.02881480414644,
          244.13107570656135,
          240.75935312568492,
          240.54658867277237,
          238.4906144659747,
          238.91801832170776,
          234.5207810333929,
          227.91098135610682,
          232.67132861718375,
          232.76317325242798,
          233.54774024826213,
          233.2415989355978,
          229.46179039937746,
          225.842318581636,
          226.46632402054445,
          228.86403585711082,
          228.58707166825806,
          226.6547179111204,
          225.4953975156887,
          216.87688423241923,
          212.2814715511315,
          209.38118429219122,
          207.40157970113046,
          203.1803508220098,
          201.40606615292398,
          204.64982581376847,
          201.35377560557458,
          200.050890884599,
          200.8657684438854,
          201.85982115162204,
          207.87591324691286,
          204.59519582023725,
          205.30220612630995,
          197.56978461464263,
          193.01818568409402,
          191.84786337527103,
          186.3696424607646,
          179.39348605114714,
          177.20372209301152,
          179.8034969318575,
          175.3484418930935,
          170.6633223004394,
          165.51359001575378,
          162.08429181957055,
          159.37098926835824,
          155.79068413148445,
          149.11890677131845,
          146.15667121840198,
          141.22601979033652,
          137.58561617768655,
          131.58468466350777,
          127.36953982616974,
          127.67620102703022,
          128.2772432752168,
          129.19787110469696,
          129.58749168389548,
          122.9464000000864,
          120.20868985027062,
          118.7144491723097,
          116.0992912167026,
          119.27724217408417,
          116.49785049961106,
          117.05935065712987,
          114.8285705968729,
          114.46727534795454,
          120.01939112929324,
          119.14194733329019,
          113.7886462543497,
          107.71122562327488,
          103.95588877076875,
          103.96280499561688,
          102.66936858417094,
          102.73536085242827,
          99.72810407255112,
          99.3497015987041,
          92.85975624168663,
          83.34038206480338,
          82.43703693824912,
          85.75851729590386,
          88.26014922147007,
          85.30723396408906,
          91.34805915328919,
          93.89635804565583,
          91.67270255594028,
          90.03852533179125,
          91.85034228892623,
          92.83518652033571,
          91.5105294801441,
          89.22608286416084,
          83.19830324535259,
          83.86936366308532,
          87.63513989817014,
          87.65034294882587,
          83.66432518963686,
          82.96770373947254,
          88.04933093750572,
          94.28943033253213,
          95.73113534616704,
          101.85495954415761,
          97.12881989770521,
          92.68023126407331,
          91.90555019275223,
          93.09397909369963,
          91.55629244954383,
          91.76785861348552,
          83.39414648428075,
          77.18136541704438,
          74.44938145156021,
          71.92185970883884,
          70.01987115852991,
          70.166777070727,
          70.09158363210354,
          75.08911064047538,
          76.42710954164606,
          78.29386632518383,
          80.64094522760162,
          79.32584480078394,
          77.35305517511947,
          71.61067057964982,
          76.58904191677601,
          85.31706298852573,
          92.24788145193567,
          89.97238317506006,
          87.14503954499456,
          84.8041578025169,
          86.17155053644737,
          86.41675837212892,
          90.91554585202566,
          91.77082024742558,
          86.58544905971746,
          82.82934918069007,
          82.09805953292482,
          81.02570783318087,
          81.76052278137112,
          77.6532187752536
         ],
         "yaxis": "y"
        }
       ],
       "layout": {
        "autosize": true,
        "legend": {
         "tracegroupgap": 0
        },
        "template": {
         "data": {
          "bar": [
           {
            "error_x": {
             "color": "#2a3f5f"
            },
            "error_y": {
             "color": "#2a3f5f"
            },
            "marker": {
             "line": {
              "color": "#E5ECF6",
              "width": 0.5
             },
             "pattern": {
              "fillmode": "overlay",
              "size": 10,
              "solidity": 0.2
             }
            },
            "type": "bar"
           }
          ],
          "barpolar": [
           {
            "marker": {
             "line": {
              "color": "#E5ECF6",
              "width": 0.5
             },
             "pattern": {
              "fillmode": "overlay",
              "size": 10,
              "solidity": 0.2
             }
            },
            "type": "barpolar"
           }
          ],
          "carpet": [
           {
            "aaxis": {
             "endlinecolor": "#2a3f5f",
             "gridcolor": "white",
             "linecolor": "white",
             "minorgridcolor": "white",
             "startlinecolor": "#2a3f5f"
            },
            "baxis": {
             "endlinecolor": "#2a3f5f",
             "gridcolor": "white",
             "linecolor": "white",
             "minorgridcolor": "white",
             "startlinecolor": "#2a3f5f"
            },
            "type": "carpet"
           }
          ],
          "choropleth": [
           {
            "colorbar": {
             "outlinewidth": 0,
             "ticks": ""
            },
            "type": "choropleth"
           }
          ],
          "contour": [
           {
            "colorbar": {
             "outlinewidth": 0,
             "ticks": ""
            },
            "colorscale": [
             [
              0,
              "#0d0887"
             ],
             [
              0.1111111111111111,
              "#46039f"
             ],
             [
              0.2222222222222222,
              "#7201a8"
             ],
             [
              0.3333333333333333,
              "#9c179e"
             ],
             [
              0.4444444444444444,
              "#bd3786"
             ],
             [
              0.5555555555555556,
              "#d8576b"
             ],
             [
              0.6666666666666666,
              "#ed7953"
             ],
             [
              0.7777777777777778,
              "#fb9f3a"
             ],
             [
              0.8888888888888888,
              "#fdca26"
             ],
             [
              1,
              "#f0f921"
             ]
            ],
            "type": "contour"
           }
          ],
          "contourcarpet": [
           {
            "colorbar": {
             "outlinewidth": 0,
             "ticks": ""
            },
            "type": "contourcarpet"
           }
          ],
          "heatmap": [
           {
            "colorbar": {
             "outlinewidth": 0,
             "ticks": ""
            },
            "colorscale": [
             [
              0,
              "#0d0887"
             ],
             [
              0.1111111111111111,
              "#46039f"
             ],
             [
              0.2222222222222222,
              "#7201a8"
             ],
             [
              0.3333333333333333,
              "#9c179e"
             ],
             [
              0.4444444444444444,
              "#bd3786"
             ],
             [
              0.5555555555555556,
              "#d8576b"
             ],
             [
              0.6666666666666666,
              "#ed7953"
             ],
             [
              0.7777777777777778,
              "#fb9f3a"
             ],
             [
              0.8888888888888888,
              "#fdca26"
             ],
             [
              1,
              "#f0f921"
             ]
            ],
            "type": "heatmap"
           }
          ],
          "heatmapgl": [
           {
            "colorbar": {
             "outlinewidth": 0,
             "ticks": ""
            },
            "colorscale": [
             [
              0,
              "#0d0887"
             ],
             [
              0.1111111111111111,
              "#46039f"
             ],
             [
              0.2222222222222222,
              "#7201a8"
             ],
             [
              0.3333333333333333,
              "#9c179e"
             ],
             [
              0.4444444444444444,
              "#bd3786"
             ],
             [
              0.5555555555555556,
              "#d8576b"
             ],
             [
              0.6666666666666666,
              "#ed7953"
             ],
             [
              0.7777777777777778,
              "#fb9f3a"
             ],
             [
              0.8888888888888888,
              "#fdca26"
             ],
             [
              1,
              "#f0f921"
             ]
            ],
            "type": "heatmapgl"
           }
          ],
          "histogram": [
           {
            "marker": {
             "pattern": {
              "fillmode": "overlay",
              "size": 10,
              "solidity": 0.2
             }
            },
            "type": "histogram"
           }
          ],
          "histogram2d": [
           {
            "colorbar": {
             "outlinewidth": 0,
             "ticks": ""
            },
            "colorscale": [
             [
              0,
              "#0d0887"
             ],
             [
              0.1111111111111111,
              "#46039f"
             ],
             [
              0.2222222222222222,
              "#7201a8"
             ],
             [
              0.3333333333333333,
              "#9c179e"
             ],
             [
              0.4444444444444444,
              "#bd3786"
             ],
             [
              0.5555555555555556,
              "#d8576b"
             ],
             [
              0.6666666666666666,
              "#ed7953"
             ],
             [
              0.7777777777777778,
              "#fb9f3a"
             ],
             [
              0.8888888888888888,
              "#fdca26"
             ],
             [
              1,
              "#f0f921"
             ]
            ],
            "type": "histogram2d"
           }
          ],
          "histogram2dcontour": [
           {
            "colorbar": {
             "outlinewidth": 0,
             "ticks": ""
            },
            "colorscale": [
             [
              0,
              "#0d0887"
             ],
             [
              0.1111111111111111,
              "#46039f"
             ],
             [
              0.2222222222222222,
              "#7201a8"
             ],
             [
              0.3333333333333333,
              "#9c179e"
             ],
             [
              0.4444444444444444,
              "#bd3786"
             ],
             [
              0.5555555555555556,
              "#d8576b"
             ],
             [
              0.6666666666666666,
              "#ed7953"
             ],
             [
              0.7777777777777778,
              "#fb9f3a"
             ],
             [
              0.8888888888888888,
              "#fdca26"
             ],
             [
              1,
              "#f0f921"
             ]
            ],
            "type": "histogram2dcontour"
           }
          ],
          "mesh3d": [
           {
            "colorbar": {
             "outlinewidth": 0,
             "ticks": ""
            },
            "type": "mesh3d"
           }
          ],
          "parcoords": [
           {
            "line": {
             "colorbar": {
              "outlinewidth": 0,
              "ticks": ""
             }
            },
            "type": "parcoords"
           }
          ],
          "pie": [
           {
            "automargin": true,
            "type": "pie"
           }
          ],
          "scatter": [
           {
            "fillpattern": {
             "fillmode": "overlay",
             "size": 10,
             "solidity": 0.2
            },
            "type": "scatter"
           }
          ],
          "scatter3d": [
           {
            "line": {
             "colorbar": {
              "outlinewidth": 0,
              "ticks": ""
             }
            },
            "marker": {
             "colorbar": {
              "outlinewidth": 0,
              "ticks": ""
             }
            },
            "type": "scatter3d"
           }
          ],
          "scattercarpet": [
           {
            "marker": {
             "colorbar": {
              "outlinewidth": 0,
              "ticks": ""
             }
            },
            "type": "scattercarpet"
           }
          ],
          "scattergeo": [
           {
            "marker": {
             "colorbar": {
              "outlinewidth": 0,
              "ticks": ""
             }
            },
            "type": "scattergeo"
           }
          ],
          "scattergl": [
           {
            "marker": {
             "colorbar": {
              "outlinewidth": 0,
              "ticks": ""
             }
            },
            "type": "scattergl"
           }
          ],
          "scattermapbox": [
           {
            "marker": {
             "colorbar": {
              "outlinewidth": 0,
              "ticks": ""
             }
            },
            "type": "scattermapbox"
           }
          ],
          "scatterpolar": [
           {
            "marker": {
             "colorbar": {
              "outlinewidth": 0,
              "ticks": ""
             }
            },
            "type": "scatterpolar"
           }
          ],
          "scatterpolargl": [
           {
            "marker": {
             "colorbar": {
              "outlinewidth": 0,
              "ticks": ""
             }
            },
            "type": "scatterpolargl"
           }
          ],
          "scatterternary": [
           {
            "marker": {
             "colorbar": {
              "outlinewidth": 0,
              "ticks": ""
             }
            },
            "type": "scatterternary"
           }
          ],
          "surface": [
           {
            "colorbar": {
             "outlinewidth": 0,
             "ticks": ""
            },
            "colorscale": [
             [
              0,
              "#0d0887"
             ],
             [
              0.1111111111111111,
              "#46039f"
             ],
             [
              0.2222222222222222,
              "#7201a8"
             ],
             [
              0.3333333333333333,
              "#9c179e"
             ],
             [
              0.4444444444444444,
              "#bd3786"
             ],
             [
              0.5555555555555556,
              "#d8576b"
             ],
             [
              0.6666666666666666,
              "#ed7953"
             ],
             [
              0.7777777777777778,
              "#fb9f3a"
             ],
             [
              0.8888888888888888,
              "#fdca26"
             ],
             [
              1,
              "#f0f921"
             ]
            ],
            "type": "surface"
           }
          ],
          "table": [
           {
            "cells": {
             "fill": {
              "color": "#EBF0F8"
             },
             "line": {
              "color": "white"
             }
            },
            "header": {
             "fill": {
              "color": "#C8D4E3"
             },
             "line": {
              "color": "white"
             }
            },
            "type": "table"
           }
          ]
         },
         "layout": {
          "annotationdefaults": {
           "arrowcolor": "#2a3f5f",
           "arrowhead": 0,
           "arrowwidth": 1
          },
          "autotypenumbers": "strict",
          "coloraxis": {
           "colorbar": {
            "outlinewidth": 0,
            "ticks": ""
           }
          },
          "colorscale": {
           "diverging": [
            [
             0,
             "#8e0152"
            ],
            [
             0.1,
             "#c51b7d"
            ],
            [
             0.2,
             "#de77ae"
            ],
            [
             0.3,
             "#f1b6da"
            ],
            [
             0.4,
             "#fde0ef"
            ],
            [
             0.5,
             "#f7f7f7"
            ],
            [
             0.6,
             "#e6f5d0"
            ],
            [
             0.7,
             "#b8e186"
            ],
            [
             0.8,
             "#7fbc41"
            ],
            [
             0.9,
             "#4d9221"
            ],
            [
             1,
             "#276419"
            ]
           ],
           "sequential": [
            [
             0,
             "#0d0887"
            ],
            [
             0.1111111111111111,
             "#46039f"
            ],
            [
             0.2222222222222222,
             "#7201a8"
            ],
            [
             0.3333333333333333,
             "#9c179e"
            ],
            [
             0.4444444444444444,
             "#bd3786"
            ],
            [
             0.5555555555555556,
             "#d8576b"
            ],
            [
             0.6666666666666666,
             "#ed7953"
            ],
            [
             0.7777777777777778,
             "#fb9f3a"
            ],
            [
             0.8888888888888888,
             "#fdca26"
            ],
            [
             1,
             "#f0f921"
            ]
           ],
           "sequentialminus": [
            [
             0,
             "#0d0887"
            ],
            [
             0.1111111111111111,
             "#46039f"
            ],
            [
             0.2222222222222222,
             "#7201a8"
            ],
            [
             0.3333333333333333,
             "#9c179e"
            ],
            [
             0.4444444444444444,
             "#bd3786"
            ],
            [
             0.5555555555555556,
             "#d8576b"
            ],
            [
             0.6666666666666666,
             "#ed7953"
            ],
            [
             0.7777777777777778,
             "#fb9f3a"
            ],
            [
             0.8888888888888888,
             "#fdca26"
            ],
            [
             1,
             "#f0f921"
            ]
           ]
          },
          "colorway": [
           "#636efa",
           "#EF553B",
           "#00cc96",
           "#ab63fa",
           "#FFA15A",
           "#19d3f3",
           "#FF6692",
           "#B6E880",
           "#FF97FF",
           "#FECB52"
          ],
          "font": {
           "color": "#2a3f5f"
          },
          "geo": {
           "bgcolor": "white",
           "lakecolor": "white",
           "landcolor": "#E5ECF6",
           "showlakes": true,
           "showland": true,
           "subunitcolor": "white"
          },
          "hoverlabel": {
           "align": "left"
          },
          "hovermode": "closest",
          "mapbox": {
           "style": "light"
          },
          "paper_bgcolor": "white",
          "plot_bgcolor": "#E5ECF6",
          "polar": {
           "angularaxis": {
            "gridcolor": "white",
            "linecolor": "white",
            "ticks": ""
           },
           "bgcolor": "#E5ECF6",
           "radialaxis": {
            "gridcolor": "white",
            "linecolor": "white",
            "ticks": ""
           }
          },
          "scene": {
           "xaxis": {
            "backgroundcolor": "#E5ECF6",
            "gridcolor": "white",
            "gridwidth": 2,
            "linecolor": "white",
            "showbackground": true,
            "ticks": "",
            "zerolinecolor": "white"
           },
           "yaxis": {
            "backgroundcolor": "#E5ECF6",
            "gridcolor": "white",
            "gridwidth": 2,
            "linecolor": "white",
            "showbackground": true,
            "ticks": "",
            "zerolinecolor": "white"
           },
           "zaxis": {
            "backgroundcolor": "#E5ECF6",
            "gridcolor": "white",
            "gridwidth": 2,
            "linecolor": "white",
            "showbackground": true,
            "ticks": "",
            "zerolinecolor": "white"
           }
          },
          "shapedefaults": {
           "line": {
            "color": "#2a3f5f"
           }
          },
          "ternary": {
           "aaxis": {
            "gridcolor": "white",
            "linecolor": "white",
            "ticks": ""
           },
           "baxis": {
            "gridcolor": "white",
            "linecolor": "white",
            "ticks": ""
           },
           "bgcolor": "#E5ECF6",
           "caxis": {
            "gridcolor": "white",
            "linecolor": "white",
            "ticks": ""
           }
          },
          "title": {
           "x": 0.05
          },
          "xaxis": {
           "automargin": true,
           "gridcolor": "white",
           "linecolor": "white",
           "ticks": "",
           "title": {
            "standoff": 15
           },
           "zerolinecolor": "white",
           "zerolinewidth": 2
          },
          "yaxis": {
           "automargin": true,
           "gridcolor": "white",
           "linecolor": "white",
           "ticks": "",
           "title": {
            "standoff": 15
           },
           "zerolinecolor": "white",
           "zerolinewidth": 2
          }
         }
        },
        "title": {
         "text": "custom tick labels"
        },
        "xaxis": {
         "anchor": "y",
         "autorange": true,
         "domain": [
          0,
          1
         ],
         "range": [
          "2009-01-01",
          "2009-12-31"
         ],
         "title": {
          "text": "date"
         },
         "type": "date"
        },
        "yaxis": {
         "anchor": "x",
         "autorange": true,
         "domain": [
          0,
          1
         ],
         "range": [
          -8.41899832582389,
          351.202469818615
         ],
         "title": {
          "text": "absolute"
         },
         "type": "linear"
        }
       }
      },
      "image/png": "[encoded data removed]",
      "text/html": [
       "<div>                            <div id=\"01bdd180-229d-4509-a28c-cd1a4d98f413\" class=\"plotly-graph-div\" style=\"height:525px; width:100%;\"></div>            <script type=\"text/javascript\">                require([\"plotly\"], function(Plotly) {                    window.PLOTLYENV=window.PLOTLYENV || {};                                    if (document.getElementById(\"01bdd180-229d-4509-a28c-cd1a4d98f413\")) {                    Plotly.newPlot(                        \"01bdd180-229d-4509-a28c-cd1a4d98f413\",                        [{\"hovertemplate\":\"date=%{x|%B %d, %Y}<br>absolute=%{y}<extra></extra>\",\"legendgroup\":\"\",\"line\":{\"color\":\"#636efa\",\"dash\":\"solid\"},\"marker\":{\"symbol\":\"circle\"},\"mode\":\"lines\",\"name\":\"\",\"orientation\":\"v\",\"showlegend\":false,\"x\":[\"2009-01-01T00:00:00\",\"2009-01-02T00:00:00\",\"2009-01-03T00:00:00\",\"2009-01-04T00:00:00\",\"2009-01-05T00:00:00\",\"2009-01-06T00:00:00\",\"2009-01-07T00:00:00\",\"2009-01-08T00:00:00\",\"2009-01-09T00:00:00\",\"2009-01-10T00:00:00\",\"2009-01-11T00:00:00\",\"2009-01-12T00:00:00\",\"2009-01-13T00:00:00\",\"2009-01-14T00:00:00\",\"2009-01-15T00:00:00\",\"2009-01-16T00:00:00\",\"2009-01-17T00:00:00\",\"2009-01-18T00:00:00\",\"2009-01-19T00:00:00\",\"2009-01-20T00:00:00\",\"2009-01-21T00:00:00\",\"2009-01-22T00:00:00\",\"2009-01-23T00:00:00\",\"2009-01-24T00:00:00\",\"2009-01-25T00:00:00\",\"2009-01-26T00:00:00\",\"2009-01-27T00:00:00\",\"2009-01-28T00:00:00\",\"2009-01-29T00:00:00\",\"2009-01-30T00:00:00\",\"2009-01-31T00:00:00\",\"2009-02-01T00:00:00\",\"2009-02-02T00:00:00\",\"2009-02-03T00:00:00\",\"2009-02-04T00:00:00\",\"2009-02-05T00:00:00\",\"2009-02-06T00:00:00\",\"2009-02-07T00:00:00\",\"2009-02-08T00:00:00\",\"2009-02-09T00:00:00\",\"2009-02-10T00:00:00\",\"2009-02-11T00:00:00\",\"2009-02-12T00:00:00\",\"2009-02-13T00:00:00\",\"2009-02-14T00:00:00\",\"2009-02-15T00:00:00\",\"2009-02-16T00:00:00\",\"2009-02-17T00:00:00\",\"2009-02-18T00:00:00\",\"2009-02-19T00:00:00\",\"2009-02-20T00:00:00\",\"2009-02-21T00:00:00\",\"2009-02-22T00:00:00\",\"2009-02-23T00:00:00\",\"2009-02-24T00:00:00\",\"2009-02-25T00:00:00\",\"2009-02-26T00:00:00\",\"2009-02-27T00:00:00\",\"2009-02-28T00:00:00\",\"2009-03-01T00:00:00\",\"2009-03-02T00:00:00\",\"2009-03-03T00:00:00\",\"2009-03-04T00:00:00\",\"2009-03-05T00:00:00\",\"2009-03-06T00:00:00\",\"2009-03-07T00:00:00\",\"2009-03-08T00:00:00\",\"2009-03-09T00:00:00\",\"2009-03-10T00:00:00\",\"2009-03-11T00:00:00\",\"2009-03-12T00:00:00\",\"2009-03-13T00:00:00\",\"2009-03-14T00:00:00\",\"2009-03-15T00:00:00\",\"2009-03-16T00:00:00\",\"2009-03-17T00:00:00\",\"2009-03-18T00:00:00\",\"2009-03-19T00:00:00\",\"2009-03-20T00:00:00\",\"2009-03-21T00:00:00\",\"2009-03-22T00:00:00\",\"2009-03-23T00:00:00\",\"2009-03-24T00:00:00\",\"2009-03-25T00:00:00\",\"2009-03-26T00:00:00\",\"2009-03-27T00:00:00\",\"2009-03-28T00:00:00\",\"2009-03-29T00:00:00\",\"2009-03-30T00:00:00\",\"2009-03-31T00:00:00\",\"2009-04-01T00:00:00\",\"2009-04-02T00:00:00\",\"2009-04-03T00:00:00\",\"2009-04-04T00:00:00\",\"2009-04-05T00:00:00\",\"2009-04-06T00:00:00\",\"2009-04-07T00:00:00\",\"2009-04-08T00:00:00\",\"2009-04-09T00:00:00\",\"2009-04-10T00:00:00\",\"2009-04-11T00:00:00\",\"2009-04-12T00:00:00\",\"2009-04-13T00:00:00\",\"2009-04-14T00:00:00\",\"2009-04-15T00:00:00\",\"2009-04-16T00:00:00\",\"2009-04-17T00:00:00\",\"2009-04-18T00:00:00\",\"2009-04-19T00:00:00\",\"2009-04-20T00:00:00\",\"2009-04-21T00:00:00\",\"2009-04-22T00:00:00\",\"2009-04-23T00:00:00\",\"2009-04-24T00:00:00\",\"2009-04-25T00:00:00\",\"2009-04-26T00:00:00\",\"2009-04-27T00:00:00\",\"2009-04-28T00:00:00\",\"2009-04-29T00:00:00\",\"2009-04-30T00:00:00\",\"2009-05-01T00:00:00\",\"2009-05-02T00:00:00\",\"2009-05-03T00:00:00\",\"2009-05-04T00:00:00\",\"2009-05-05T00:00:00\",\"2009-05-06T00:00:00\",\"2009-05-07T00:00:00\",\"2009-05-08T00:00:00\",\"2009-05-09T00:00:00\",\"2009-05-10T00:00:00\",\"2009-05-11T00:00:00\",\"2009-05-12T00:00:00\",\"2009-05-13T00:00:00\",\"2009-05-14T00:00:00\",\"2009-05-15T00:00:00\",\"2009-05-16T00:00:00\",\"2009-05-17T00:00:00\",\"2009-05-18T00:00:00\",\"2009-05-19T00:00:00\",\"2009-05-20T00:00:00\",\"2009-05-21T00:00:00\",\"2009-05-22T00:00:00\",\"2009-05-23T00:00:00\",\"2009-05-24T00:00:00\",\"2009-05-25T00:00:00\",\"2009-05-26T00:00:00\",\"2009-05-27T00:00:00\",\"2009-05-28T00:00:00\",\"2009-05-29T00:00:00\",\"2009-05-30T00:00:00\",\"2009-05-31T00:00:00\",\"2009-06-01T00:00:00\",\"2009-06-02T00:00:00\",\"2009-06-03T00:00:00\",\"2009-06-04T00:00:00\",\"2009-06-05T00:00:00\",\"2009-06-06T00:00:00\",\"2009-06-07T00:00:00\",\"2009-06-08T00:00:00\",\"2009-06-09T00:00:00\",\"2009-06-10T00:00:00\",\"2009-06-11T00:00:00\",\"2009-06-12T00:00:00\",\"2009-06-13T00:00:00\",\"2009-06-14T00:00:00\",\"2009-06-15T00:00:00\",\"2009-06-16T00:00:00\",\"2009-06-17T00:00:00\",\"2009-06-18T00:00:00\",\"2009-06-19T00:00:00\",\"2009-06-20T00:00:00\",\"2009-06-21T00:00:00\",\"2009-06-22T00:00:00\",\"2009-06-23T00:00:00\",\"2009-06-24T00:00:00\",\"2009-06-25T00:00:00\",\"2009-06-26T00:00:00\",\"2009-06-27T00:00:00\",\"2009-06-28T00:00:00\",\"2009-06-29T00:00:00\",\"2009-06-30T00:00:00\",\"2009-07-01T00:00:00\",\"2009-07-02T00:00:00\",\"2009-07-03T00:00:00\",\"2009-07-04T00:00:00\",\"2009-07-05T00:00:00\",\"2009-07-06T00:00:00\",\"2009-07-07T00:00:00\",\"2009-07-08T00:00:00\",\"2009-07-09T00:00:00\",\"2009-07-10T00:00:00\",\"2009-07-11T00:00:00\",\"2009-07-12T00:00:00\",\"2009-07-13T00:00:00\",\"2009-07-14T00:00:00\",\"2009-07-15T00:00:00\",\"2009-07-16T00:00:00\",\"2009-07-17T00:00:00\",\"2009-07-18T00:00:00\",\"2009-07-19T00:00:00\",\"2009-07-20T00:00:00\",\"2009-07-21T00:00:00\",\"2009-07-22T00:00:00\",\"2009-07-23T00:00:00\",\"2009-07-24T00:00:00\",\"2009-07-25T00:00:00\",\"2009-07-26T00:00:00\",\"2009-07-27T00:00:00\",\"2009-07-28T00:00:00\",\"2009-07-29T00:00:00\",\"2009-07-30T00:00:00\",\"2009-07-31T00:00:00\",\"2009-08-01T00:00:00\",\"2009-08-02T00:00:00\",\"2009-08-03T00:00:00\",\"2009-08-04T00:00:00\",\"2009-08-05T00:00:00\",\"2009-08-06T00:00:00\",\"2009-08-07T00:00:00\",\"2009-08-08T00:00:00\",\"2009-08-09T00:00:00\",\"2009-08-10T00:00:00\",\"2009-08-11T00:00:00\",\"2009-08-12T00:00:00\",\"2009-08-13T00:00:00\",\"2009-08-14T00:00:00\",\"2009-08-15T00:00:00\",\"2009-08-16T00:00:00\",\"2009-08-17T00:00:00\",\"2009-08-18T00:00:00\",\"2009-08-19T00:00:00\",\"2009-08-20T00:00:00\",\"2009-08-21T00:00:00\",\"2009-08-22T00:00:00\",\"2009-08-23T00:00:00\",\"2009-08-24T00:00:00\",\"2009-08-25T00:00:00\",\"2009-08-26T00:00:00\",\"2009-08-27T00:00:00\",\"2009-08-28T00:00:00\",\"2009-08-29T00:00:00\",\"2009-08-30T00:00:00\",\"2009-08-31T00:00:00\",\"2009-09-01T00:00:00\",\"2009-09-02T00:00:00\",\"2009-09-03T00:00:00\",\"2009-09-04T00:00:00\",\"2009-09-05T00:00:00\",\"2009-09-06T00:00:00\",\"2009-09-07T00:00:00\",\"2009-09-08T00:00:00\",\"2009-09-09T00:00:00\",\"2009-09-10T00:00:00\",\"2009-09-11T00:00:00\",\"2009-09-12T00:00:00\",\"2009-09-13T00:00:00\",\"2009-09-14T00:00:00\",\"2009-09-15T00:00:00\",\"2009-09-16T00:00:00\",\"2009-09-17T00:00:00\",\"2009-09-18T00:00:00\",\"2009-09-19T00:00:00\",\"2009-09-20T00:00:00\",\"2009-09-21T00:00:00\",\"2009-09-22T00:00:00\",\"2009-09-23T00:00:00\",\"2009-09-24T00:00:00\",\"2009-09-25T00:00:00\",\"2009-09-26T00:00:00\",\"2009-09-27T00:00:00\",\"2009-09-28T00:00:00\",\"2009-09-29T00:00:00\",\"2009-09-30T00:00:00\",\"2009-10-01T00:00:00\",\"2009-10-02T00:00:00\",\"2009-10-03T00:00:00\",\"2009-10-04T00:00:00\",\"2009-10-05T00:00:00\",\"2009-10-06T00:00:00\",\"2009-10-07T00:00:00\",\"2009-10-08T00:00:00\",\"2009-10-09T00:00:00\",\"2009-10-10T00:00:00\",\"2009-10-11T00:00:00\",\"2009-10-12T00:00:00\",\"2009-10-13T00:00:00\",\"2009-10-14T00:00:00\",\"2009-10-15T00:00:00\",\"2009-10-16T00:00:00\",\"2009-10-17T00:00:00\",\"2009-10-18T00:00:00\",\"2009-10-19T00:00:00\",\"2009-10-20T00:00:00\",\"2009-10-21T00:00:00\",\"2009-10-22T00:00:00\",\"2009-10-23T00:00:00\",\"2009-10-24T00:00:00\",\"2009-10-25T00:00:00\",\"2009-10-26T00:00:00\",\"2009-10-27T00:00:00\",\"2009-10-28T00:00:00\",\"2009-10-29T00:00:00\",\"2009-10-30T00:00:00\",\"2009-10-31T00:00:00\",\"2009-11-01T00:00:00\",\"2009-11-02T00:00:00\",\"2009-11-03T00:00:00\",\"2009-11-04T00:00:00\",\"2009-11-05T00:00:00\",\"2009-11-06T00:00:00\",\"2009-11-07T00:00:00\",\"2009-11-08T00:00:00\",\"2009-11-09T00:00:00\",\"2009-11-10T00:00:00\",\"2009-11-11T00:00:00\",\"2009-11-12T00:00:00\",\"2009-11-13T00:00:00\",\"2009-11-14T00:00:00\",\"2009-11-15T00:00:00\",\"2009-11-16T00:00:00\",\"2009-11-17T00:00:00\",\"2009-11-18T00:00:00\",\"2009-11-19T00:00:00\",\"2009-11-20T00:00:00\",\"2009-11-21T00:00:00\",\"2009-11-22T00:00:00\",\"2009-11-23T00:00:00\",\"2009-11-24T00:00:00\",\"2009-11-25T00:00:00\",\"2009-11-26T00:00:00\",\"2009-11-27T00:00:00\",\"2009-11-28T00:00:00\",\"2009-11-29T00:00:00\",\"2009-11-30T00:00:00\",\"2009-12-01T00:00:00\",\"2009-12-02T00:00:00\",\"2009-12-03T00:00:00\",\"2009-12-04T00:00:00\",\"2009-12-05T00:00:00\",\"2009-12-06T00:00:00\",\"2009-12-07T00:00:00\",\"2009-12-08T00:00:00\",\"2009-12-09T00:00:00\",\"2009-12-10T00:00:00\",\"2009-12-11T00:00:00\",\"2009-12-12T00:00:00\",\"2009-12-13T00:00:00\",\"2009-12-14T00:00:00\",\"2009-12-15T00:00:00\",\"2009-12-16T00:00:00\",\"2009-12-17T00:00:00\",\"2009-12-18T00:00:00\",\"2009-12-19T00:00:00\",\"2009-12-20T00:00:00\",\"2009-12-21T00:00:00\",\"2009-12-22T00:00:00\",\"2009-12-23T00:00:00\",\"2009-12-24T00:00:00\",\"2009-12-25T00:00:00\",\"2009-12-26T00:00:00\",\"2009-12-27T00:00:00\",\"2009-12-28T00:00:00\",\"2009-12-29T00:00:00\",\"2009-12-30T00:00:00\",\"2009-12-31T00:00:00\"],\"xaxis\":\"x\",\"y\":[69.70294712191843,54.51115245081899,42.230536919309955,44.00038562193155,44.842381064452034,42.29511646590765,40.40120230412364,42.64820531783933,49.0811480008634,49.203380284468935,45.472253848883284,47.99491723382794,42.397408188036145,39.017204751506846,35.570198937942344,35.932859812316934,33.98321745484805,35.122867157877494,35.20929115488327,34.42428831132994,32.442853066267126,30.290750342303372,30.831073344557115,29.274636193460218,32.187541783125035,30.940273511793933,29.52270319772136,28.719756081856968,25.95723498185907,23.35596459272054,22.0270408890298,20.01901124827996,18.386489258858457,16.817071294117326,15.444238194282805,13.33168640997912,11.997010022477449,11.155490455214037,10.562706849308181,10.381017275187732,10.631052873923792,10.800239121737103,10.628026725688166,9.584966338325312,9.743788372103937,9.562075081398051,10.40921581879153,11.459997252381331,12.231010339027993,13.15053749878099,17.004305221901046,19.370755525390535,18.5841440143117,18.38518316028548,19.312842353012474,22.121575438054318,24.67538084537033,25.810873294116913,25.78798773105273,25.446070610086135,24.414045301147457,21.277188977594697,19.452960752425557,18.65860865462975,17.446842048484804,16.16803611514174,16.204897646898683,16.48752927948813,17.92041149634373,19.829186654011536,22.839435325177003,25.43968253644139,28.71712056388342,32.45784518933127,38.39973560282852,45.552004461424474,54.38587860802066,62.60746651737585,70.33614975250698,76.20292865242847,79.92327171606003,88.06217184393373,99.4571133024422,105.88550643855329,112.77744860787769,121.29569212070773,133.05710482830335,146.57044223972505,158.30996586784337,166.14476514801,171.76493633991078,177.32766668190152,184.0323122483084,189.2900460704276,197.0898877246957,197.93486333538277,200.99429416423283,209.00881832286734,214.78807762254203,219.7183511112608,229.11203153274877,242.40279673774077,249.39303325749893,255.4012682404592,265.2542548620887,269.28826767686166,266.9593642524706,267.8182450458713,267.54056273787245,273.5724624198755,278.19855017264564,278.228010611614,278.1780281057438,275.8058039152404,277.54255484368684,271.09797662042075,272.53177943123404,274.76101518884866,269.34622418737615,275.74869231436185,279.90624786185316,278.5227273658403,273.33228334319057,271.6782535495217,268.4994929762231,264.769872103097,266.4043100887391,264.49390920863647,263.54954452072394,266.7160750985692,274.7478910180184,280.90567518053444,283.038803391133,283.13388646171535,289.32064813754494,287.4605856271683,288.7530796481518,285.77304032455885,286.7449499278278,283.02026420804054,282.04987101375735,284.56396748760505,291.3065890546941,297.6716693011801,302.2575756386072,307.4511461058145,314.19562517321475,308.6492762887493,305.99903737039136,306.2668640468167,306.904731559402,304.7325180417668,303.12306008273356,298.77794278438387,293.4209341465203,292.2529911665454,291.83238612603606,287.13876591496063,289.68644826383326,292.96764781103167,300.55225995122726,300.14306351117943,302.27539293340817,302.77002811100556,301.398886242361,296.43389799447624,301.5898575089918,308.854472749327,317.3325552413368,328.02874743512314,329.586219046749,326.6586386851249,329.77324735375,327.7728570340334,328.09621304492737,333.221396411393,330.5068368704005,326.65406253202616,321.08132194719343,317.2887929166443,318.3513926696804,315.5949456841632,312.79891633018127,312.2610617862613,306.3172021087935,298.93153960956187,302.68863753446834,304.51334933820397,307.46582172785185,304.19158654539575,303.3450392070245,305.52406701255484,306.169717160878,308.2291767483226,301.5408141343961,298.188398674935,297.7450289151757,295.1634743798571,300.92731932298045,295.4927514912398,291.6842738197416,289.9195939184852,287.97530562509985,284.3326556570544,279.85465967346846,278.12416653422076,278.6723082605784,275.7076830498502,278.8090917197057,279.1227610870562,278.961385158477,271.7031009026577,268.18041973851246,263.6817750961763,260.0867112149929,257.2787585951597,256.5117911049083,257.5968699246508,260.64111004697367,261.4791662618164,262.8488645996441,262.224319711025,261.4020412490078,260.8807643172821,265.00717701641634,265.1622878560599,263.5689965547925,263.93492719163663,261.4940503782869,258.4896657956235,250.02881480414644,244.13107570656135,240.75935312568492,240.54658867277237,238.4906144659747,238.91801832170776,234.5207810333929,227.91098135610682,232.67132861718375,232.76317325242798,233.54774024826213,233.2415989355978,229.46179039937746,225.842318581636,226.46632402054445,228.86403585711082,228.58707166825806,226.6547179111204,225.4953975156887,216.87688423241923,212.2814715511315,209.38118429219122,207.40157970113046,203.1803508220098,201.40606615292398,204.64982581376847,201.35377560557458,200.050890884599,200.8657684438854,201.85982115162204,207.87591324691286,204.59519582023725,205.30220612630995,197.56978461464263,193.01818568409402,191.84786337527103,186.3696424607646,179.39348605114714,177.20372209301152,179.8034969318575,175.3484418930935,170.6633223004394,165.51359001575378,162.08429181957055,159.37098926835824,155.79068413148445,149.11890677131845,146.15667121840198,141.22601979033652,137.58561617768655,131.58468466350777,127.36953982616974,127.67620102703022,128.2772432752168,129.19787110469696,129.58749168389548,122.9464000000864,120.20868985027062,118.7144491723097,116.0992912167026,119.27724217408417,116.49785049961106,117.05935065712987,114.8285705968729,114.46727534795454,120.01939112929324,119.14194733329019,113.7886462543497,107.71122562327488,103.95588877076875,103.96280499561688,102.66936858417094,102.73536085242827,99.72810407255112,99.3497015987041,92.85975624168663,83.34038206480338,82.43703693824912,85.75851729590386,88.26014922147007,85.30723396408906,91.34805915328919,93.89635804565583,91.67270255594028,90.03852533179125,91.85034228892623,92.83518652033571,91.5105294801441,89.22608286416084,83.19830324535259,83.86936366308532,87.63513989817014,87.65034294882587,83.66432518963686,82.96770373947254,88.04933093750572,94.28943033253213,95.73113534616704,101.85495954415761,97.12881989770521,92.68023126407331,91.90555019275223,93.09397909369963,91.55629244954383,91.76785861348552,83.39414648428075,77.18136541704438,74.44938145156021,71.92185970883884,70.01987115852991,70.166777070727,70.09158363210354,75.08911064047538,76.42710954164606,78.29386632518383,80.64094522760162,79.32584480078394,77.35305517511947,71.61067057964982,76.58904191677601,85.31706298852573,92.24788145193567,89.97238317506006,87.14503954499456,84.8041578025169,86.17155053644737,86.41675837212892,90.91554585202566,91.77082024742558,86.58544905971746,82.82934918069007,82.09805953292482,81.02570783318087,81.76052278137112,77.6532187752536],\"yaxis\":\"y\",\"type\":\"scatter\"}],                        {\"template\":{\"data\":{\"histogram2dcontour\":[{\"type\":\"histogram2dcontour\",\"colorbar\":{\"outlinewidth\":0,\"ticks\":\"\"},\"colorscale\":[[0.0,\"#0d0887\"],[0.1111111111111111,\"#46039f\"],[0.2222222222222222,\"#7201a8\"],[0.3333333333333333,\"#9c179e\"],[0.4444444444444444,\"#bd3786\"],[0.5555555555555556,\"#d8576b\"],[0.6666666666666666,\"#ed7953\"],[0.7777777777777778,\"#fb9f3a\"],[0.8888888888888888,\"#fdca26\"],[1.0,\"#f0f921\"]]}],\"choropleth\":[{\"type\":\"choropleth\",\"colorbar\":{\"outlinewidth\":0,\"ticks\":\"\"}}],\"histogram2d\":[{\"type\":\"histogram2d\",\"colorbar\":{\"outlinewidth\":0,\"ticks\":\"\"},\"colorscale\":[[0.0,\"#0d0887\"],[0.1111111111111111,\"#46039f\"],[0.2222222222222222,\"#7201a8\"],[0.3333333333333333,\"#9c179e\"],[0.4444444444444444,\"#bd3786\"],[0.5555555555555556,\"#d8576b\"],[0.6666666666666666,\"#ed7953\"],[0.7777777777777778,\"#fb9f3a\"],[0.8888888888888888,\"#fdca26\"],[1.0,\"#f0f921\"]]}],\"heatmap\":[{\"type\":\"heatmap\",\"colorbar\":{\"outlinewidth\":0,\"ticks\":\"\"},\"colorscale\":[[0.0,\"#0d0887\"],[0.1111111111111111,\"#46039f\"],[0.2222222222222222,\"#7201a8\"],[0.3333333333333333,\"#9c179e\"],[0.4444444444444444,\"#bd3786\"],[0.5555555555555556,\"#d8576b\"],[0.6666666666666666,\"#ed7953\"],[0.7777777777777778,\"#fb9f3a\"],[0.8888888888888888,\"#fdca26\"],[1.0,\"#f0f921\"]]}],\"heatmapgl\":[{\"type\":\"heatmapgl\",\"colorbar\":{\"outlinewidth\":0,\"ticks\":\"\"},\"colorscale\":[[0.0,\"#0d0887\"],[0.1111111111111111,\"#46039f\"],[0.2222222222222222,\"#7201a8\"],[0.3333333333333333,\"#9c179e\"],[0.4444444444444444,\"#bd3786\"],[0.5555555555555556,\"#d8576b\"],[0.6666666666666666,\"#ed7953\"],[0.7777777777777778,\"#fb9f3a\"],[0.8888888888888888,\"#fdca26\"],[1.0,\"#f0f921\"]]}],\"contourcarpet\":[{\"type\":\"contourcarpet\",\"colorbar\":{\"outlinewidth\":0,\"ticks\":\"\"}}],\"contour\":[{\"type\":\"contour\",\"colorbar\":{\"outlinewidth\":0,\"ticks\":\"\"},\"colorscale\":[[0.0,\"#0d0887\"],[0.1111111111111111,\"#46039f\"],[0.2222222222222222,\"#7201a8\"],[0.3333333333333333,\"#9c179e\"],[0.4444444444444444,\"#bd3786\"],[0.5555555555555556,\"#d8576b\"],[0.6666666666666666,\"#ed7953\"],[0.7777777777777778,\"#fb9f3a\"],[0.8888888888888888,\"#fdca26\"],[1.0,\"#f0f921\"]]}],\"surface\":[{\"type\":\"surface\",\"colorbar\":{\"outlinewidth\":0,\"ticks\":\"\"},\"colorscale\":[[0.0,\"#0d0887\"],[0.1111111111111111,\"#46039f\"],[0.2222222222222222,\"#7201a8\"],[0.3333333333333333,\"#9c179e\"],[0.4444444444444444,\"#bd3786\"],[0.5555555555555556,\"#d8576b\"],[0.6666666666666666,\"#ed7953\"],[0.7777777777777778,\"#fb9f3a\"],[0.8888888888888888,\"#fdca26\"],[1.0,\"#f0f921\"]]}],\"mesh3d\":[{\"type\":\"mesh3d\",\"colorbar\":{\"outlinewidth\":0,\"ticks\":\"\"}}],\"scatter\":[{\"fillpattern\":{\"fillmode\":\"overlay\",\"size\":10,\"solidity\":0.2},\"type\":\"scatter\"}],\"parcoords\":[{\"type\":\"parcoords\",\"line\":{\"colorbar\":{\"outlinewidth\":0,\"ticks\":\"\"}}}],\"scatterpolargl\":[{\"type\":\"scatterpolargl\",\"marker\":{\"colorbar\":{\"outlinewidth\":0,\"ticks\":\"\"}}}],\"bar\":[{\"error_x\":{\"color\":\"#2a3f5f\"},\"error_y\":{\"color\":\"#2a3f5f\"},\"marker\":{\"line\":{\"color\":\"#E5ECF6\",\"width\":0.5},\"pattern\":{\"fillmode\":\"overlay\",\"size\":10,\"solidity\":0.2}},\"type\":\"bar\"}],\"scattergeo\":[{\"type\":\"scattergeo\",\"marker\":{\"colorbar\":{\"outlinewidth\":0,\"ticks\":\"\"}}}],\"scatterpolar\":[{\"type\":\"scatterpolar\",\"marker\":{\"colorbar\":{\"outlinewidth\":0,\"ticks\":\"\"}}}],\"histogram\":[{\"marker\":{\"pattern\":{\"fillmode\":\"overlay\",\"size\":10,\"solidity\":0.2}},\"type\":\"histogram\"}],\"scattergl\":[{\"type\":\"scattergl\",\"marker\":{\"colorbar\":{\"outlinewidth\":0,\"ticks\":\"\"}}}],\"scatter3d\":[{\"type\":\"scatter3d\",\"line\":{\"colorbar\":{\"outlinewidth\":0,\"ticks\":\"\"}},\"marker\":{\"colorbar\":{\"outlinewidth\":0,\"ticks\":\"\"}}}],\"scattermapbox\":[{\"type\":\"scattermapbox\",\"marker\":{\"colorbar\":{\"outlinewidth\":0,\"ticks\":\"\"}}}],\"scatterternary\":[{\"type\":\"scatterternary\",\"marker\":{\"colorbar\":{\"outlinewidth\":0,\"ticks\":\"\"}}}],\"scattercarpet\":[{\"type\":\"scattercarpet\",\"marker\":{\"colorbar\":{\"outlinewidth\":0,\"ticks\":\"\"}}}],\"carpet\":[{\"aaxis\":{\"endlinecolor\":\"#2a3f5f\",\"gridcolor\":\"white\",\"linecolor\":\"white\",\"minorgridcolor\":\"white\",\"startlinecolor\":\"#2a3f5f\"},\"baxis\":{\"endlinecolor\":\"#2a3f5f\",\"gridcolor\":\"white\",\"linecolor\":\"white\",\"minorgridcolor\":\"white\",\"startlinecolor\":\"#2a3f5f\"},\"type\":\"carpet\"}],\"table\":[{\"cells\":{\"fill\":{\"color\":\"#EBF0F8\"},\"line\":{\"color\":\"white\"}},\"header\":{\"fill\":{\"color\":\"#C8D4E3\"},\"line\":{\"color\":\"white\"}},\"type\":\"table\"}],\"barpolar\":[{\"marker\":{\"line\":{\"color\":\"#E5ECF6\",\"width\":0.5},\"pattern\":{\"fillmode\":\"overlay\",\"size\":10,\"solidity\":0.2}},\"type\":\"barpolar\"}],\"pie\":[{\"automargin\":true,\"type\":\"pie\"}]},\"layout\":{\"autotypenumbers\":\"strict\",\"colorway\":[\"#636efa\",\"#EF553B\",\"#00cc96\",\"#ab63fa\",\"#FFA15A\",\"#19d3f3\",\"#FF6692\",\"#B6E880\",\"#FF97FF\",\"#FECB52\"],\"font\":{\"color\":\"#2a3f5f\"},\"hovermode\":\"closest\",\"hoverlabel\":{\"align\":\"left\"},\"paper_bgcolor\":\"white\",\"plot_bgcolor\":\"#E5ECF6\",\"polar\":{\"bgcolor\":\"#E5ECF6\",\"angularaxis\":{\"gridcolor\":\"white\",\"linecolor\":\"white\",\"ticks\":\"\"},\"radialaxis\":{\"gridcolor\":\"white\",\"linecolor\":\"white\",\"ticks\":\"\"}},\"ternary\":{\"bgcolor\":\"#E5ECF6\",\"aaxis\":{\"gridcolor\":\"white\",\"linecolor\":\"white\",\"ticks\":\"\"},\"baxis\":{\"gridcolor\":\"white\",\"linecolor\":\"white\",\"ticks\":\"\"},\"caxis\":{\"gridcolor\":\"white\",\"linecolor\":\"white\",\"ticks\":\"\"}},\"coloraxis\":{\"colorbar\":{\"outlinewidth\":0,\"ticks\":\"\"}},\"colorscale\":{\"sequential\":[[0.0,\"#0d0887\"],[0.1111111111111111,\"#46039f\"],[0.2222222222222222,\"#7201a8\"],[0.3333333333333333,\"#9c179e\"],[0.4444444444444444,\"#bd3786\"],[0.5555555555555556,\"#d8576b\"],[0.6666666666666666,\"#ed7953\"],[0.7777777777777778,\"#fb9f3a\"],[0.8888888888888888,\"#fdca26\"],[1.0,\"#f0f921\"]],\"sequentialminus\":[[0.0,\"#0d0887\"],[0.1111111111111111,\"#46039f\"],[0.2222222222222222,\"#7201a8\"],[0.3333333333333333,\"#9c179e\"],[0.4444444444444444,\"#bd3786\"],[0.5555555555555556,\"#d8576b\"],[0.6666666666666666,\"#ed7953\"],[0.7777777777777778,\"#fb9f3a\"],[0.8888888888888888,\"#fdca26\"],[1.0,\"#f0f921\"]],\"diverging\":[[0,\"#8e0152\"],[0.1,\"#c51b7d\"],[0.2,\"#de77ae\"],[0.3,\"#f1b6da\"],[0.4,\"#fde0ef\"],[0.5,\"#f7f7f7\"],[0.6,\"#e6f5d0\"],[0.7,\"#b8e186\"],[0.8,\"#7fbc41\"],[0.9,\"#4d9221\"],[1,\"#276419\"]]},\"xaxis\":{\"gridcolor\":\"white\",\"linecolor\":\"white\",\"ticks\":\"\",\"title\":{\"standoff\":15},\"zerolinecolor\":\"white\",\"automargin\":true,\"zerolinewidth\":2},\"yaxis\":{\"gridcolor\":\"white\",\"linecolor\":\"white\",\"ticks\":\"\",\"title\":{\"standoff\":15},\"zerolinecolor\":\"white\",\"automargin\":true,\"zerolinewidth\":2},\"scene\":{\"xaxis\":{\"backgroundcolor\":\"#E5ECF6\",\"gridcolor\":\"white\",\"linecolor\":\"white\",\"showbackground\":true,\"ticks\":\"\",\"zerolinecolor\":\"white\",\"gridwidth\":2},\"yaxis\":{\"backgroundcolor\":\"#E5ECF6\",\"gridcolor\":\"white\",\"linecolor\":\"white\",\"showbackground\":true,\"ticks\":\"\",\"zerolinecolor\":\"white\",\"gridwidth\":2},\"zaxis\":{\"backgroundcolor\":\"#E5ECF6\",\"gridcolor\":\"white\",\"linecolor\":\"white\",\"showbackground\":true,\"ticks\":\"\",\"zerolinecolor\":\"white\",\"gridwidth\":2}},\"shapedefaults\":{\"line\":{\"color\":\"#2a3f5f\"}},\"annotationdefaults\":{\"arrowcolor\":\"#2a3f5f\",\"arrowhead\":0,\"arrowwidth\":1},\"geo\":{\"bgcolor\":\"white\",\"landcolor\":\"#E5ECF6\",\"subunitcolor\":\"white\",\"showland\":true,\"showlakes\":true,\"lakecolor\":\"white\"},\"title\":{\"x\":0.05},\"mapbox\":{\"style\":\"light\"}}},\"xaxis\":{\"anchor\":\"y\",\"domain\":[0.0,1.0],\"title\":{\"text\":\"date\"}},\"yaxis\":{\"anchor\":\"x\",\"domain\":[0.0,1.0],\"title\":{\"text\":\"absolute\"}},\"legend\":{\"tracegroupgap\":0},\"title\":{\"text\":\"custom tick labels\"}},                        {\"responsive\": true}                    ).then(function(){\n",
       "                            \n",
       "var gd = document.getElementById('01bdd180-229d-4509-a28c-cd1a4d98f413');\n",
       "var x = new MutationObserver(function (mutations, observer) {{\n",
       "        var display = window.getComputedStyle(gd).display;\n",
       "        if (!display || display === 'none') {{\n",
       "            console.log([gd, 'removed!']);\n",
       "            Plotly.purge(gd);\n",
       "            observer.disconnect();\n",
       "        }}\n",
       "}});\n",
       "\n",
       "// Listen for the removal of the full notebook cells\n",
       "var notebookContainer = gd.closest('#notebook-container');\n",
       "if (notebookContainer) {{\n",
       "    x.observe(notebookContainer, {childList: true});\n",
       "}}\n",
       "\n",
       "// Listen for the clearing of the current output cell\n",
       "var outputEl = gd.closest('.output');\n",
       "if (outputEl) {{\n",
       "    x.observe(outputEl, {childList: true});\n",
       "}}\n",
       "\n",
       "                        })                };                });            </script>        </div>"
      ]
     },
     "metadata": {},
     "output_type": "display_data"
    },
    {
     "name": "stdout",
     "output_type": "stream",
     "text": [
      "RangeIndex(start=0, stop=365, step=1)\n"
     ]
    }
   ],
   "source": [
    "df = px.data.stocks()\n",
    "fig = px.line(df_mizWidthsMean, x=\"date\", y=df_mizWidthsMean.absolute,\n",
    "              hover_data={\"date\": \"|%B %d, %Y\"},\n",
    "              title='custom tick labels')\n",
    "#fig.update_xaxes(\n",
    "#    dtick=\"M1\",\n",
    "#    tickformat=\"%b\\n%Y\")\n",
    "fig.show()\n",
    "#df_mizWidthsMean.columns\n",
    "print(line_deviation.index)\n"
   ]
  },
  {
   "cell_type": "code",
   "execution_count": 53,
   "id": "cc6b7018",
   "metadata": {},
   "outputs": [
    {
     "ename": "TypeError",
     "evalue": "Dimensions of C (8770, 1) are incompatible with X (8770) and/or Y (8771); see help(pcolormesh)",
     "output_type": "error",
     "traceback": [
      "\u001b[0;31m---------------------------------------------------------------------------\u001b[0m",
      "\u001b[0;31mTypeError\u001b[0m                                 Traceback (most recent call last)",
      "Cell \u001b[0;32mIn[53], line 25\u001b[0m\n\u001b[1;32m     21\u001b[0m cmap \u001b[39m=\u001b[39m cmo\u001b[39m.\u001b[39mdeep\n\u001b[1;32m     22\u001b[0m \u001b[39m#cmap = cmap.reversed()\u001b[39;00m\n\u001b[1;32m     23\u001b[0m \n\u001b[1;32m     24\u001b[0m \u001b[39m#p1 = ax.pcolormesh(LN,LT,plot_data, \u001b[39;00m\n\u001b[0;32m---> 25\u001b[0m p1 \u001b[39m=\u001b[39m ax\u001b[39m.\u001b[39;49mpcolormesh(df_standard[\u001b[39m'\u001b[39;49m\u001b[39mlongitude\u001b[39;49m\u001b[39m'\u001b[39;49m],df_standard[\u001b[39m'\u001b[39;49m\u001b[39mlatitude\u001b[39;49m\u001b[39m'\u001b[39;49m], kmean_datavec,\n\u001b[1;32m     26\u001b[0m                 transform\u001b[39m=\u001b[39;49mccrs\u001b[39m.\u001b[39;49mPlateCarree(),\n\u001b[1;32m     27\u001b[0m                 cmap\u001b[39m=\u001b[39;49mcmap,\n\u001b[1;32m     28\u001b[0m                \u001b[39m# norm=colors.LogNorm(vmin=1, vmax=1000),\u001b[39;49;00m\n\u001b[1;32m     29\u001b[0m                 shading\u001b[39m=\u001b[39;49m\u001b[39m'\u001b[39;49m\u001b[39mauto\u001b[39;49m\u001b[39m'\u001b[39;49m)\n\u001b[1;32m     30\u001b[0m cb \u001b[39m=\u001b[39m plt\u001b[39m.\u001b[39mcolorbar(p1, orientation\u001b[39m=\u001b[39m\u001b[39m'\u001b[39m\u001b[39mvertical\u001b[39m\u001b[39m'\u001b[39m, fraction\u001b[39m=\u001b[39m\u001b[39m0.046\u001b[39m, pad\u001b[39m=\u001b[39m\u001b[39m0.04\u001b[39m)\n\u001b[1;32m     31\u001b[0m \u001b[39m#fontsize = 6\u001b[39;00m\n\u001b[1;32m     32\u001b[0m \u001b[39m#cb.ax.set_ylabel( ds[exp].attrs[\"long_name\"].partition(' of ')[0] + ' [' +  ds[exp].attrs[\"units\"] + ']' , size=fontsize);\u001b[39;00m\n\u001b[1;32m     33\u001b[0m \u001b[39m#cb.ax.tick_params(labelsize=fontsize) \u001b[39;00m\n",
      "File \u001b[0;32m~/opt/anaconda3/envs/notebook/lib/python3.10/site-packages/cartopy/mpl/geoaxes.py:318\u001b[0m, in \u001b[0;36m_add_transform.<locals>.wrapper\u001b[0;34m(self, *args, **kwargs)\u001b[0m\n\u001b[1;32m    313\u001b[0m     \u001b[39mraise\u001b[39;00m \u001b[39mValueError\u001b[39;00m(\u001b[39mf\u001b[39m\u001b[39m'\u001b[39m\u001b[39mInvalid transform: Spherical \u001b[39m\u001b[39m{\u001b[39;00mfunc\u001b[39m.\u001b[39m\u001b[39m__name__\u001b[39m\u001b[39m}\u001b[39;00m\u001b[39m \u001b[39m\u001b[39m'\u001b[39m\n\u001b[1;32m    314\u001b[0m                      \u001b[39m'\u001b[39m\u001b[39mis not supported - consider using \u001b[39m\u001b[39m'\u001b[39m\n\u001b[1;32m    315\u001b[0m                      \u001b[39m'\u001b[39m\u001b[39mPlateCarree/RotatedPole.\u001b[39m\u001b[39m'\u001b[39m)\n\u001b[1;32m    317\u001b[0m kwargs[\u001b[39m'\u001b[39m\u001b[39mtransform\u001b[39m\u001b[39m'\u001b[39m] \u001b[39m=\u001b[39m transform\n\u001b[0;32m--> 318\u001b[0m \u001b[39mreturn\u001b[39;00m func(\u001b[39mself\u001b[39;49m, \u001b[39m*\u001b[39;49margs, \u001b[39m*\u001b[39;49m\u001b[39m*\u001b[39;49mkwargs)\n",
      "File \u001b[0;32m~/opt/anaconda3/envs/notebook/lib/python3.10/site-packages/cartopy/mpl/geoaxes.py:1785\u001b[0m, in \u001b[0;36mGeoAxes.pcolormesh\u001b[0;34m(self, *args, **kwargs)\u001b[0m\n\u001b[1;32m   1782\u001b[0m \u001b[39m# Add in an argument checker to handle Matplotlib's potential\u001b[39;00m\n\u001b[1;32m   1783\u001b[0m \u001b[39m# interpolation when coordinate wraps are involved\u001b[39;00m\n\u001b[1;32m   1784\u001b[0m args, kwargs \u001b[39m=\u001b[39m \u001b[39mself\u001b[39m\u001b[39m.\u001b[39m_wrap_args(\u001b[39m*\u001b[39margs, \u001b[39m*\u001b[39m\u001b[39m*\u001b[39mkwargs)\n\u001b[0;32m-> 1785\u001b[0m result \u001b[39m=\u001b[39m \u001b[39msuper\u001b[39;49m()\u001b[39m.\u001b[39;49mpcolormesh(\u001b[39m*\u001b[39;49margs, \u001b[39m*\u001b[39;49m\u001b[39m*\u001b[39;49mkwargs)\n\u001b[1;32m   1786\u001b[0m \u001b[39m# Wrap the quadrilaterals if necessary\u001b[39;00m\n\u001b[1;32m   1787\u001b[0m result \u001b[39m=\u001b[39m \u001b[39mself\u001b[39m\u001b[39m.\u001b[39m_wrap_quadmesh(result, \u001b[39m*\u001b[39m\u001b[39m*\u001b[39mkwargs)\n",
      "File \u001b[0;32m~/opt/anaconda3/envs/notebook/lib/python3.10/site-packages/matplotlib/__init__.py:1423\u001b[0m, in \u001b[0;36m_preprocess_data.<locals>.inner\u001b[0;34m(ax, data, *args, **kwargs)\u001b[0m\n\u001b[1;32m   1420\u001b[0m \u001b[39m@functools\u001b[39m\u001b[39m.\u001b[39mwraps(func)\n\u001b[1;32m   1421\u001b[0m \u001b[39mdef\u001b[39;00m \u001b[39minner\u001b[39m(ax, \u001b[39m*\u001b[39margs, data\u001b[39m=\u001b[39m\u001b[39mNone\u001b[39;00m, \u001b[39m*\u001b[39m\u001b[39m*\u001b[39mkwargs):\n\u001b[1;32m   1422\u001b[0m     \u001b[39mif\u001b[39;00m data \u001b[39mis\u001b[39;00m \u001b[39mNone\u001b[39;00m:\n\u001b[0;32m-> 1423\u001b[0m         \u001b[39mreturn\u001b[39;00m func(ax, \u001b[39m*\u001b[39;49m\u001b[39mmap\u001b[39;49m(sanitize_sequence, args), \u001b[39m*\u001b[39;49m\u001b[39m*\u001b[39;49mkwargs)\n\u001b[1;32m   1425\u001b[0m     bound \u001b[39m=\u001b[39m new_sig\u001b[39m.\u001b[39mbind(ax, \u001b[39m*\u001b[39margs, \u001b[39m*\u001b[39m\u001b[39m*\u001b[39mkwargs)\n\u001b[1;32m   1426\u001b[0m     auto_label \u001b[39m=\u001b[39m (bound\u001b[39m.\u001b[39marguments\u001b[39m.\u001b[39mget(label_namer)\n\u001b[1;32m   1427\u001b[0m                   \u001b[39mor\u001b[39;00m bound\u001b[39m.\u001b[39mkwargs\u001b[39m.\u001b[39mget(label_namer))\n",
      "File \u001b[0;32m~/opt/anaconda3/envs/notebook/lib/python3.10/site-packages/matplotlib/axes/_axes.py:6163\u001b[0m, in \u001b[0;36mAxes.pcolormesh\u001b[0;34m(self, alpha, norm, cmap, vmin, vmax, shading, antialiased, *args, **kwargs)\u001b[0m\n\u001b[1;32m   6160\u001b[0m shading \u001b[39m=\u001b[39m shading\u001b[39m.\u001b[39mlower()\n\u001b[1;32m   6161\u001b[0m kwargs\u001b[39m.\u001b[39msetdefault(\u001b[39m'\u001b[39m\u001b[39medgecolors\u001b[39m\u001b[39m'\u001b[39m, \u001b[39m'\u001b[39m\u001b[39mnone\u001b[39m\u001b[39m'\u001b[39m)\n\u001b[0;32m-> 6163\u001b[0m X, Y, C, shading \u001b[39m=\u001b[39m \u001b[39mself\u001b[39;49m\u001b[39m.\u001b[39;49m_pcolorargs(\u001b[39m'\u001b[39;49m\u001b[39mpcolormesh\u001b[39;49m\u001b[39m'\u001b[39;49m, \u001b[39m*\u001b[39;49margs,\n\u001b[1;32m   6164\u001b[0m                                     shading\u001b[39m=\u001b[39;49mshading, kwargs\u001b[39m=\u001b[39;49mkwargs)\n\u001b[1;32m   6165\u001b[0m coords \u001b[39m=\u001b[39m np\u001b[39m.\u001b[39mstack([X, Y], axis\u001b[39m=\u001b[39m\u001b[39m-\u001b[39m\u001b[39m1\u001b[39m)\n\u001b[1;32m   6166\u001b[0m \u001b[39m# convert to one dimensional array\u001b[39;00m\n",
      "File \u001b[0;32m~/opt/anaconda3/envs/notebook/lib/python3.10/site-packages/matplotlib/axes/_axes.py:5691\u001b[0m, in \u001b[0;36mAxes._pcolorargs\u001b[0;34m(self, funcname, shading, *args, **kwargs)\u001b[0m\n\u001b[1;32m   5689\u001b[0m \u001b[39mif\u001b[39;00m shading \u001b[39m==\u001b[39m \u001b[39m'\u001b[39m\u001b[39mflat\u001b[39m\u001b[39m'\u001b[39m:\n\u001b[1;32m   5690\u001b[0m     \u001b[39mif\u001b[39;00m (Nx, Ny) \u001b[39m!=\u001b[39m (ncols \u001b[39m+\u001b[39m \u001b[39m1\u001b[39m, nrows \u001b[39m+\u001b[39m \u001b[39m1\u001b[39m):\n\u001b[0;32m-> 5691\u001b[0m         \u001b[39mraise\u001b[39;00m \u001b[39mTypeError\u001b[39;00m(\u001b[39m'\u001b[39m\u001b[39mDimensions of C \u001b[39m\u001b[39m%s\u001b[39;00m\u001b[39m are incompatible with\u001b[39m\u001b[39m'\u001b[39m\n\u001b[1;32m   5692\u001b[0m                         \u001b[39m'\u001b[39m\u001b[39m X (\u001b[39m\u001b[39m%d\u001b[39;00m\u001b[39m) and/or Y (\u001b[39m\u001b[39m%d\u001b[39;00m\u001b[39m); see help(\u001b[39m\u001b[39m%s\u001b[39;00m\u001b[39m)\u001b[39m\u001b[39m'\u001b[39m \u001b[39m%\u001b[39m (\n\u001b[1;32m   5693\u001b[0m                             C\u001b[39m.\u001b[39mshape, Nx, Ny, funcname))\n\u001b[1;32m   5694\u001b[0m \u001b[39melse\u001b[39;00m:    \u001b[39m# ['nearest', 'gouraud']:\u001b[39;00m\n\u001b[1;32m   5695\u001b[0m     \u001b[39mif\u001b[39;00m (Nx, Ny) \u001b[39m!=\u001b[39m (ncols, nrows):\n",
      "\u001b[0;31mTypeError\u001b[0m: Dimensions of C (8770, 1) are incompatible with X (8770) and/or Y (8771); see help(pcolormesh)"
     ]
    },
    {
     "name": "stderr",
     "output_type": "stream",
     "text": [
      "/Users/noahday/opt/anaconda3/envs/notebook/lib/python3.10/site-packages/shapely/constructive.py:181: RuntimeWarning: invalid value encountered in buffer\n",
      "  return lib.buffer(\n",
      "/Users/noahday/opt/anaconda3/envs/notebook/lib/python3.10/site-packages/shapely/constructive.py:181: RuntimeWarning: invalid value encountered in buffer\n",
      "  return lib.buffer(\n",
      "/Users/noahday/opt/anaconda3/envs/notebook/lib/python3.10/site-packages/shapely/constructive.py:181: RuntimeWarning: invalid value encountered in buffer\n",
      "  return lib.buffer(\n",
      "/Users/noahday/opt/anaconda3/envs/notebook/lib/python3.10/site-packages/shapely/constructive.py:181: RuntimeWarning: invalid value encountered in buffer\n",
      "  return lib.buffer(\n",
      "/Users/noahday/opt/anaconda3/envs/notebook/lib/python3.10/site-packages/shapely/constructive.py:181: RuntimeWarning: invalid value encountered in buffer\n",
      "  return lib.buffer(\n",
      "/Users/noahday/opt/anaconda3/envs/notebook/lib/python3.10/site-packages/shapely/constructive.py:181: RuntimeWarning: invalid value encountered in buffer\n",
      "  return lib.buffer(\n"
     ]
    },
    {
     "data": {
      "image/png": "[encoded data removed]",
      "text/plain": [
       "<Figure size 640x480 with 1 Axes>"
      ]
     },
     "metadata": {},
     "output_type": "display_data"
    }
   ],
   "source": [
    "#print(k.shape)\n",
    "\n",
    "plt.figure()\n",
    "cmap = cmo.deep\n",
    "coord_lims = [-180, 180, 90, -90]\n",
    "ax.set_extent(coord_lims, ccrs.PlateCarree())\n",
    "ax = plt.subplot(1, 1, 0+1, projection=ccrs.SouthPolarStereo(), label='{0}'.format(counter))\n",
    "land_50m = cft.NaturalEarthFeature('physical', 'land', '50m',\n",
    "                            edgecolor='black', facecolor='gray', linewidth=0.5)\n",
    "ax.coastlines(resolution='50m')\n",
    "ax.add_feature(land_50m)\n",
    "p = ax.pcolormesh(lon, lat, k,\n",
    "                transform=ccrs.PlateCarree(),\n",
    "                cmap=cmap,\n",
    "#                norm=colors.LogNorm(vmin=1, vmax=1000),\n",
    "                shading='auto')\n",
    "cb = plt.colorbar(p, orientation='vertical', fraction=0.046, pad=0.04)\n",
    "plt.savefig(savepath+'kmean.png', dpi = 300)  \n",
    "\n",
    "#k\n",
    "#filename\n",
    "\n",
    "\n",
    "\n",
    "\n",
    "\n",
    "\n",
    "\n",
    "\n",
    "\n",
    "\n",
    "len_tmp, = kmeans.labels_.shape\n",
    "kmean_datavec = kmeans.labels_.reshape((len_tmp,1))\n",
    "\n",
    "coord_lims = [-180, 180, -40, -90]\n",
    "ax = plt.subplot(1, 1, 0+1, projection=ccrs.SouthPolarStereo(), label='{0}'.format(counter))\n",
    "#print('     ' + exp)\n",
    "#ax= plot_map(ax,exp,ds,LN,LT)\n",
    "#ax = plt(projection=ccrs.SouthPolarStereo())\n",
    "land_50m = cft.NaturalEarthFeature('physical', 'land', '50m',\n",
    "                            edgecolor='black', facecolor='gray', linewidth=0.5)\n",
    "ax.coastlines(resolution='50m')\n",
    "ax.add_feature(land_50m)\n",
    "ax.set_extent(coord_lims, ccrs.PlateCarree())\n",
    "#gl = ax.gridlines(draw_labels=False)\n",
    "sic_threshold = 0.05 \n",
    "aice_data = ds['aice'][0,:,:]\n",
    "\n",
    "plot_data = aice_data #ds[exp][0,:,:]\n",
    "plot_data = np.ma.masked_where(aice_data < sic_threshold, plot_data)\n",
    "\n",
    "cmap = cmo.deep\n",
    "#cmap = cmap.reversed()\n",
    "\n",
    "#p1 = ax.pcolormesh(LN,LT,plot_data, \n",
    "p1 = ax.pcolormesh(df_standard['longitude'],df_standard['latitude'], kmean_datavec,\n",
    "                transform=ccrs.PlateCarree(),\n",
    "                cmap=cmap,\n",
    "               # norm=colors.LogNorm(vmin=1, vmax=1000),\n",
    "                shading='auto')\n",
    "cb = plt.colorbar(p1, orientation='vertical', fraction=0.046, pad=0.04)\n",
    "#fontsize = 6\n",
    "#cb.ax.set_ylabel( ds[exp].attrs[\"long_name\"].partition(' of ')[0] + ' [' +  ds[exp].attrs[\"units\"] + ']' , size=fontsize);\n",
    "#cb.ax.tick_params(labelsize=fontsize) \n"
   ]
  },
  {
   "cell_type": "code",
   "execution_count": null,
   "id": "ab8732fe",
   "metadata": {},
   "outputs": [],
   "source": [
    "kmeans.labels_.shape\n",
    "\n",
    "kmean_datavec.shape"
   ]
  }
 ],
 "metadata": {
  "kernelspec": {
   "display_name": "Python 3 (ipykernel)",
   "language": "python",
   "name": "python3"
  },
  "language_info": {
   "codemirror_mode": {
    "name": "ipython",
    "version": 3
   },
   "file_extension": ".py",
   "mimetype": "text/x-python",
   "name": "python",
   "nbconvert_exporter": "python",
   "pygments_lexer": "ipython3",
   "version": "3.9.15"
  },
  "vscode": {
   "interpreter": {
    "hash": "3079b1c4f6d31a32bb704c5290cd41a641bfca80c89d0f36bf28aa9592cfe0ad"
   }
  }
 },
 "nbformat": 4,
 "nbformat_minor": 5
}
