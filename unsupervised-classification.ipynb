{
 "cells": [
  {
   "cell_type": "code",
   "execution_count": 2,
   "id": "c5903aa8-bcf4-4af0-b65e-b6b282b6093a",
   "metadata": {},
   "outputs": [],
   "source": [
    "import matplotlib.pyplot as plt\n",
    "import numpy as np\n",
    "import xarray as xr\n",
    "import pandas as pd\n",
    "#from kneed import KneeLocator\n",
    "from sklearn.datasets import make_classification\n",
    "from sklearn.linear_model import LogisticRegression\n",
    "from sklearn.model_selection import train_test_split\n",
    "from sklearn.pipeline import make_pipeline\n",
    "from sklearn.preprocessing import StandardScaler\n",
    "from sklearn import preprocessing\n",
    "from sklearn.cluster import KMeans\n",
    "from sklearn.metrics import silhouette_score\n",
    "from sklearn.datasets import make_blobs\n",
    "from os import listdir\n",
    "from os.path import isfile, join\n",
    "import os\n",
    "import datetime as dt\n",
    "import scipy.io\n",
    "import glob\n",
    "import pyresample\n",
    "from mpl_toolkits.axes_grid1.anchored_artists import AnchoredSizeBar\n",
    "import matplotlib.font_manager as fm\n",
    "import netCDF4\n",
    "import datetime as dt\n",
    "from netCDF4 import date2num,num2date\n",
    "\n",
    "import matplotlib.colors as colors\n",
    "import matplotlib as mpl\n",
    "from netCDF4 import Dataset\n",
    "import IPython.display\n",
    "import cmocean\n",
    "import cmocean.cm as cmo\n",
    "import cartopy.crs as ccrs\n",
    "import cartopy.feature as cft\n",
    "import matplotlib.dates as mdates\n",
    "import plotly.express as px\n",
    "from matplotlib.ticker import NullFormatter\n",
    "from matplotlib import rc\n",
    "#import cosima_cookbook as cc\n",
    "#from mpl_toolkits.basemap import Basemap\n",
    "import math\n",
    "import time\n",
    "import sys\n",
    "\n",
    "\n",
    "def get_var_list(list_name):\n",
    "    '''\n",
    "    Get a list of variables associated with a pre-defined name.\n",
    "    '''\n",
    "    if list_name == 'ocn':\n",
    "        var_list = ['sst','sss','uocn','vocn','frzmlt']\n",
    "    elif list_name == 'atmo':\n",
    "        var_list = ['Tair','uatm','vatm','fswdn','flwdn','snow']\n",
    "    elif list_name == 'wave':\n",
    "        var_list = ['aice','wave_sig_ht','peak_period','mean_wave_dir']\n",
    "    elif list_name == 'ice':\n",
    "        var_list = ['aice','hi','fsdrad','iage','uvel','vvel','frazil','congel']\n",
    "    elif list_name == 'JRA55':\n",
    "            var_list = ['airtmp']\n",
    "    elif list_name == 'static':\n",
    "        var_list = ['aice','hi','hs','fsdrad','sice','iage','vlvl','vrdg']\n",
    "    else:\n",
    "        var_list = [list_name]\n",
    "\n",
    "    return var_list\n",
    "\n",
    "def ProgressBar(Total, Progress, BarLength=20, ProgressIcon=\"#\", BarIcon=\"-\"):\n",
    "    try:\n",
    "        # You can't have a progress bar with zero or negative length.\n",
    "        if BarLength <1:\n",
    "            BarLength = 20\n",
    "        # Use status variable for going to the next line after progress completion.\n",
    "        Status = \"\"\n",
    "        # Calcuting progress between 0 and 1 for percentage.\n",
    "        Progress = float(Progress) / float(Total)\n",
    "        # Doing this conditions at final progressing.\n",
    "        if Progress >= 1.:\n",
    "            Progress = 1\n",
    "            Status = \"\\r\\n\"    # Going to the next line\n",
    "        # Calculating how many places should be filled\n",
    "        Block = int(round(BarLength * Progress))\n",
    "        # Show this\n",
    "        Bar = \"[{}] {:.0f}% {}\".format(ProgressIcon * Block + BarIcon * (BarLength - Block), round(Progress * 100, 0), Status)\n",
    "        return Bar\n",
    "    except:\n",
    "        return \"ERROR\"\n",
    "\n",
    "\n",
    "def ShowBar(Bar):\n",
    "    sys.stdout.write(Bar)\n",
    "    sys.stdout.flush()"
   ]
  },
  {
   "cell_type": "code",
   "execution_count": 5,
   "id": "72252e95",
   "metadata": {},
   "outputs": [
    {
     "name": "stdout",
     "output_type": "stream",
     "text": [
      "2005\n",
      "Progress: [####################] 100% \n",
      "2006\n",
      "Progress: [####################] 100% \n",
      "2007\n",
      "Progress: [####################] 100% \n",
      "2008\n",
      "Progress: [####################] 100% \n",
      "2009\n",
      "Progress: [####################] 100% \n",
      "2010\n",
      "Progress: [####################] 100% \n",
      "2011\n",
      "Progress: [####################] 100% \n"
     ]
    },
    {
     "data": {
      "text/html": [
       "<div>\n",
       "<style scoped>\n",
       "    .dataframe tbody tr th:only-of-type {\n",
       "        vertical-align: middle;\n",
       "    }\n",
       "\n",
       "    .dataframe tbody tr th {\n",
       "        vertical-align: top;\n",
       "    }\n",
       "\n",
       "    .dataframe thead th {\n",
       "        text-align: right;\n",
       "    }\n",
       "</style>\n",
       "<table border=\"1\" class=\"dataframe\">\n",
       "  <thead>\n",
       "    <tr style=\"text-align: right;\">\n",
       "      <th></th>\n",
       "      <th>aice</th>\n",
       "      <th>hi</th>\n",
       "      <th>hs</th>\n",
       "      <th>fsdrad</th>\n",
       "      <th>sice</th>\n",
       "      <th>iage</th>\n",
       "      <th>vlvl</th>\n",
       "      <th>vrdg</th>\n",
       "      <th>longitude</th>\n",
       "      <th>latitude</th>\n",
       "    </tr>\n",
       "  </thead>\n",
       "  <tbody>\n",
       "    <tr>\n",
       "      <th>count</th>\n",
       "      <td>2.137572e+06</td>\n",
       "      <td>2.137572e+06</td>\n",
       "      <td>2.137572e+06</td>\n",
       "      <td>2.137572e+06</td>\n",
       "      <td>2.137572e+06</td>\n",
       "      <td>2.137572e+06</td>\n",
       "      <td>2.137572e+06</td>\n",
       "      <td>2.137572e+06</td>\n",
       "      <td>2.137572e+06</td>\n",
       "      <td>2.137572e+06</td>\n",
       "    </tr>\n",
       "    <tr>\n",
       "      <th>mean</th>\n",
       "      <td>9.411013e-01</td>\n",
       "      <td>1.008585e+00</td>\n",
       "      <td>1.601075e-01</td>\n",
       "      <td>5.386036e+02</td>\n",
       "      <td>7.661561e+00</td>\n",
       "      <td>3.386641e-01</td>\n",
       "      <td>4.527885e-01</td>\n",
       "      <td>5.557960e-01</td>\n",
       "      <td>2.064478e+02</td>\n",
       "      <td>-6.846028e+01</td>\n",
       "    </tr>\n",
       "    <tr>\n",
       "      <th>std</th>\n",
       "      <td>1.453306e-01</td>\n",
       "      <td>6.194355e-01</td>\n",
       "      <td>1.351834e-01</td>\n",
       "      <td>2.892766e+02</td>\n",
       "      <td>3.769410e+00</td>\n",
       "      <td>2.439060e-01</td>\n",
       "      <td>2.731567e-01</td>\n",
       "      <td>5.720723e-01</td>\n",
       "      <td>9.994997e+01</td>\n",
       "      <td>4.995913e+00</td>\n",
       "    </tr>\n",
       "    <tr>\n",
       "      <th>min</th>\n",
       "      <td>1.500038e-01</td>\n",
       "      <td>6.299284e-03</td>\n",
       "      <td>0.000000e+00</td>\n",
       "      <td>6.721011e-01</td>\n",
       "      <td>1.400167e+00</td>\n",
       "      <td>4.847232e-04</td>\n",
       "      <td>3.681078e-04</td>\n",
       "      <td>2.316206e-10</td>\n",
       "      <td>5.000000e-01</td>\n",
       "      <td>-7.762990e+01</td>\n",
       "    </tr>\n",
       "    <tr>\n",
       "      <th>25%</th>\n",
       "      <td>9.681888e-01</td>\n",
       "      <td>5.226042e-01</td>\n",
       "      <td>5.495668e-02</td>\n",
       "      <td>3.120586e+02</td>\n",
       "      <td>5.148242e+00</td>\n",
       "      <td>1.493649e-01</td>\n",
       "      <td>2.506872e-01</td>\n",
       "      <td>1.525359e-01</td>\n",
       "      <td>1.525000e+02</td>\n",
       "      <td>-7.243740e+01</td>\n",
       "    </tr>\n",
       "    <tr>\n",
       "      <th>50%</th>\n",
       "      <td>9.974067e-01</td>\n",
       "      <td>9.365391e-01</td>\n",
       "      <td>1.261536e-01</td>\n",
       "      <td>6.291552e+02</td>\n",
       "      <td>6.566562e+00</td>\n",
       "      <td>2.897410e-01</td>\n",
       "      <td>4.137628e-01</td>\n",
       "      <td>3.804721e-01</td>\n",
       "      <td>2.095000e+02</td>\n",
       "      <td>-6.870660e+01</td>\n",
       "    </tr>\n",
       "    <tr>\n",
       "      <th>75%</th>\n",
       "      <td>9.995730e-01</td>\n",
       "      <td>1.418221e+00</td>\n",
       "      <td>2.323095e-01</td>\n",
       "      <td>8.024564e+02</td>\n",
       "      <td>8.889220e+00</td>\n",
       "      <td>4.803001e-01</td>\n",
       "      <td>5.992418e-01</td>\n",
       "      <td>7.841916e-01</td>\n",
       "      <td>3.045000e+02</td>\n",
       "      <td>-6.503162e+01</td>\n",
       "    </tr>\n",
       "    <tr>\n",
       "      <th>max</th>\n",
       "      <td>1.000000e+00</td>\n",
       "      <td>5.994642e+00</td>\n",
       "      <td>1.148573e+00</td>\n",
       "      <td>8.504770e+02</td>\n",
       "      <td>3.068215e+01</td>\n",
       "      <td>4.051266e+00</td>\n",
       "      <td>1.615885e+00</td>\n",
       "      <td>5.981805e+00</td>\n",
       "      <td>3.595000e+02</td>\n",
       "      <td>-5.303830e+01</td>\n",
       "    </tr>\n",
       "  </tbody>\n",
       "</table>\n",
       "</div>"
      ],
      "text/plain": [
       "               aice            hi            hs        fsdrad          sice  \\\n",
       "count  2.137572e+06  2.137572e+06  2.137572e+06  2.137572e+06  2.137572e+06   \n",
       "mean   9.411013e-01  1.008585e+00  1.601075e-01  5.386036e+02  7.661561e+00   \n",
       "std    1.453306e-01  6.194355e-01  1.351834e-01  2.892766e+02  3.769410e+00   \n",
       "min    1.500038e-01  6.299284e-03  0.000000e+00  6.721011e-01  1.400167e+00   \n",
       "25%    9.681888e-01  5.226042e-01  5.495668e-02  3.120586e+02  5.148242e+00   \n",
       "50%    9.974067e-01  9.365391e-01  1.261536e-01  6.291552e+02  6.566562e+00   \n",
       "75%    9.995730e-01  1.418221e+00  2.323095e-01  8.024564e+02  8.889220e+00   \n",
       "max    1.000000e+00  5.994642e+00  1.148573e+00  8.504770e+02  3.068215e+01   \n",
       "\n",
       "               iage          vlvl          vrdg     longitude      latitude  \n",
       "count  2.137572e+06  2.137572e+06  2.137572e+06  2.137572e+06  2.137572e+06  \n",
       "mean   3.386641e-01  4.527885e-01  5.557960e-01  2.064478e+02 -6.846028e+01  \n",
       "std    2.439060e-01  2.731567e-01  5.720723e-01  9.994997e+01  4.995913e+00  \n",
       "min    4.847232e-04  3.681078e-04  2.316206e-10  5.000000e-01 -7.762990e+01  \n",
       "25%    1.493649e-01  2.506872e-01  1.525359e-01  1.525000e+02 -7.243740e+01  \n",
       "50%    2.897410e-01  4.137628e-01  3.804721e-01  2.095000e+02 -6.870660e+01  \n",
       "75%    4.803001e-01  5.992418e-01  7.841916e-01  3.045000e+02 -6.503162e+01  \n",
       "max    4.051266e+00  1.615885e+00  5.981805e+00  3.595000e+02 -5.303830e+01  "
      ]
     },
     "execution_count": 5,
     "metadata": {},
     "output_type": "execute_result"
    }
   ],
   "source": [
    "# Read in the CICE data\n",
    "var_name = 'static'\n",
    "variable_list = get_var_list(var_name)\n",
    "num_variables = np.size(variable_list)\n",
    "\n",
    "\n",
    "\n",
    "# '/Users/noahday/Gadi/ia40/waves-10/history/iceh.2002-08-26.nc' \n",
    "mypath = '/g/data/ia40/cice-dirs/runs/waves-10/history/'\n",
    "savepath = '/scratch/ia40/nd0349/'\n",
    "\n",
    "os.chdir(mypath)\n",
    "for year in range(2005,2012):\n",
    "#    year = '2005'\n",
    "    print(year)\n",
    "    filename =  mypath + 'iceh.' + str(year) + '-01-01.nc'\n",
    "\n",
    "    onlyfiles = glob.glob(\"{path}/iceh.*{year}*\".format(path=mypath, year=year))\n",
    "    onlyfiles.sort()\n",
    "\n",
    "    ds = xr.open_dataset(filename)\n",
    "    LN = ds.TLON.values\n",
    "    LT = ds.TLAT.values\n",
    "    # Get the total number of grid points\n",
    "    size = 1\n",
    "    for dim in np.shape(LN): size *= dim\n",
    "    aice_data = ds['aice'][0,:,:]\n",
    "    mask1 = np.ma.masked_where(LT > 0.0, aice_data)\n",
    "    mask2 = np.ma.masked_where(aice_data < 0.15, aice_data)\n",
    "    master_mask = mask1.mask | mask2.mask\n",
    "    mask = master_mask\n",
    "\n",
    "    X_out =  np.ma.masked_array(np.empty((size,1)), mask=mask)\n",
    "\n",
    "    file_dates = []\n",
    "    for filecount, file in enumerate(onlyfiles):\n",
    "        progressBar = \"\\rProgress: \" + ProgressBar(len(onlyfiles), filecount+1, 20, '#', '.')\n",
    "        ShowBar(progressBar)\n",
    "        \n",
    "        filename = file\n",
    "        file_dates.append(np.datetime64(file[-13:-3]))\n",
    "\n",
    "        ds = xr.open_dataset(filename)\n",
    "        LN = ds.TLON.values\n",
    "        LT = ds.TLAT.values\n",
    "\n",
    "        aice_data = ds['aice'][0,:,:]\n",
    "\n",
    "        mask1 = np.ma.masked_where(LT > 0.0, aice_data)\n",
    "        mask2 = np.ma.masked_where(aice_data < 0.15, aice_data)\n",
    "        master_mask = mask1.mask | mask2.mask\n",
    "        mask = master_mask\n",
    "\n",
    "        for counter, exp in enumerate(variable_list):\n",
    "            data = ds[exp][0,:,:]\n",
    "            data_masked = np.ma.masked_where(mask, data.values)\n",
    "            data_masked_vec = data_masked.compressed()\n",
    "            size, = data_masked_vec.shape\n",
    "\n",
    "            if counter == 0: \n",
    "                X_temp = data_masked_vec.reshape(size,1)\n",
    "            else:\n",
    "                X_temp = np.concatenate([X_temp, data_masked_vec.reshape(size,1)],axis=1)\n",
    "\n",
    "        LN_masked = np.ma.masked_where(mask, LN)\n",
    "        LN_vec = LN_masked.compressed()\n",
    "        LT_masked = np.ma.masked_where(mask, LT)\n",
    "        LT_vec = LT_masked.compressed()\n",
    "        X_temp = np.concatenate([X_temp, LN_vec.reshape(size,1), LT_vec.reshape(size,1)],axis=1)\n",
    "        if filecount == 0: \n",
    "            X_out = X_temp\n",
    "            datetime_vec =  np.tile(np.datetime64(file[-13:-3]),(size,1))\n",
    "        else:\n",
    "            X_out = np.concatenate([X_out, X_temp],axis=0)\n",
    "            datetime_vec = np.concatenate([datetime_vec, np.tile(np.datetime64(file[-13:-3]),(size,1))],axis=0)\n",
    "\n",
    "\n",
    "df_raw = pd.DataFrame(X_out, columns = variable_list+['longitude','latitude'])#,'date'])\n",
    "df_raw['date'] = datetime_vec\n",
    "df_raw = df_raw.dropna()\n",
    "\n",
    "\n",
    "# Print the dataset\n",
    "\n",
    "df_raw.describe()\n"
   ]
  },
  {
   "cell_type": "code",
   "execution_count": 16,
   "id": "bcdbe062",
   "metadata": {},
   "outputs": [
    {
     "data": {
      "text/html": [
       "<div>\n",
       "<style scoped>\n",
       "    .dataframe tbody tr th:only-of-type {\n",
       "        vertical-align: middle;\n",
       "    }\n",
       "\n",
       "    .dataframe tbody tr th {\n",
       "        vertical-align: top;\n",
       "    }\n",
       "\n",
       "    .dataframe thead th {\n",
       "        text-align: right;\n",
       "    }\n",
       "</style>\n",
       "<table border=\"1\" class=\"dataframe\">\n",
       "  <thead>\n",
       "    <tr style=\"text-align: right;\">\n",
       "      <th></th>\n",
       "      <th>aice</th>\n",
       "      <th>hi</th>\n",
       "      <th>hs</th>\n",
       "      <th>fsdrad</th>\n",
       "      <th>sice</th>\n",
       "      <th>iage</th>\n",
       "      <th>vlvl</th>\n",
       "      <th>vrdg</th>\n",
       "      <th>longitude</th>\n",
       "      <th>latitude</th>\n",
       "      <th>date</th>\n",
       "    </tr>\n",
       "  </thead>\n",
       "  <tbody>\n",
       "    <tr>\n",
       "      <th>8922</th>\n",
       "      <td>0.177647</td>\n",
       "      <td>0.242394</td>\n",
       "      <td>0.008259</td>\n",
       "      <td>2.688405</td>\n",
       "      <td>4.266751</td>\n",
       "      <td>0.689887</td>\n",
       "      <td>0.035948</td>\n",
       "      <td>0.206447</td>\n",
       "      <td>271.5</td>\n",
       "      <td>-69.173546</td>\n",
       "      <td>2005-01-01</td>\n",
       "    </tr>\n",
       "    <tr>\n",
       "      <th>7900</th>\n",
       "      <td>0.700098</td>\n",
       "      <td>0.908975</td>\n",
       "      <td>0.062650</td>\n",
       "      <td>711.411560</td>\n",
       "      <td>4.241323</td>\n",
       "      <td>0.678125</td>\n",
       "      <td>0.430945</td>\n",
       "      <td>0.478030</td>\n",
       "      <td>215.5</td>\n",
       "      <td>-70.492485</td>\n",
       "      <td>2005-01-01</td>\n",
       "    </tr>\n",
       "    <tr>\n",
       "      <th>23012</th>\n",
       "      <td>0.396644</td>\n",
       "      <td>1.190470</td>\n",
       "      <td>0.011292</td>\n",
       "      <td>3.677801</td>\n",
       "      <td>4.600779</td>\n",
       "      <td>0.562872</td>\n",
       "      <td>0.027813</td>\n",
       "      <td>1.162657</td>\n",
       "      <td>279.5</td>\n",
       "      <td>-72.437401</td>\n",
       "      <td>2005-01-02</td>\n",
       "    </tr>\n",
       "    <tr>\n",
       "      <th>25047</th>\n",
       "      <td>0.876580</td>\n",
       "      <td>1.625636</td>\n",
       "      <td>0.050064</td>\n",
       "      <td>820.899231</td>\n",
       "      <td>3.740461</td>\n",
       "      <td>0.972277</td>\n",
       "      <td>0.667681</td>\n",
       "      <td>0.957955</td>\n",
       "      <td>317.5</td>\n",
       "      <td>-70.066193</td>\n",
       "      <td>2005-01-02</td>\n",
       "    </tr>\n",
       "    <tr>\n",
       "      <th>37414</th>\n",
       "      <td>0.386072</td>\n",
       "      <td>0.605769</td>\n",
       "      <td>0.026715</td>\n",
       "      <td>519.601074</td>\n",
       "      <td>3.472609</td>\n",
       "      <td>0.701576</td>\n",
       "      <td>0.271523</td>\n",
       "      <td>0.334246</td>\n",
       "      <td>319.5</td>\n",
       "      <td>-74.415512</td>\n",
       "      <td>2005-01-03</td>\n",
       "    </tr>\n",
       "    <tr>\n",
       "      <th>...</th>\n",
       "      <td>...</td>\n",
       "      <td>...</td>\n",
       "      <td>...</td>\n",
       "      <td>...</td>\n",
       "      <td>...</td>\n",
       "      <td>...</td>\n",
       "      <td>...</td>\n",
       "      <td>...</td>\n",
       "      <td>...</td>\n",
       "      <td>...</td>\n",
       "      <td>...</td>\n",
       "    </tr>\n",
       "    <tr>\n",
       "      <th>6748003</th>\n",
       "      <td>0.857102</td>\n",
       "      <td>1.521788</td>\n",
       "      <td>0.035702</td>\n",
       "      <td>440.809662</td>\n",
       "      <td>4.177728</td>\n",
       "      <td>0.685526</td>\n",
       "      <td>0.417619</td>\n",
       "      <td>1.104169</td>\n",
       "      <td>219.5</td>\n",
       "      <td>-68.706604</td>\n",
       "      <td>2005-12-29</td>\n",
       "    </tr>\n",
       "    <tr>\n",
       "      <th>6762858</th>\n",
       "      <td>0.228372</td>\n",
       "      <td>0.455763</td>\n",
       "      <td>0.020392</td>\n",
       "      <td>2.710336</td>\n",
       "      <td>5.800342</td>\n",
       "      <td>0.527810</td>\n",
       "      <td>0.021826</td>\n",
       "      <td>0.433937</td>\n",
       "      <td>246.5</td>\n",
       "      <td>-71.306648</td>\n",
       "      <td>2005-12-30</td>\n",
       "    </tr>\n",
       "    <tr>\n",
       "      <th>6761633</th>\n",
       "      <td>0.910495</td>\n",
       "      <td>1.149991</td>\n",
       "      <td>0.029360</td>\n",
       "      <td>718.138550</td>\n",
       "      <td>4.785906</td>\n",
       "      <td>0.607243</td>\n",
       "      <td>0.730302</td>\n",
       "      <td>0.419689</td>\n",
       "      <td>327.5</td>\n",
       "      <td>-72.791801</td>\n",
       "      <td>2005-12-30</td>\n",
       "    </tr>\n",
       "    <tr>\n",
       "      <th>6781798</th>\n",
       "      <td>0.865883</td>\n",
       "      <td>1.000313</td>\n",
       "      <td>0.011307</td>\n",
       "      <td>653.534241</td>\n",
       "      <td>4.554741</td>\n",
       "      <td>0.617444</td>\n",
       "      <td>0.639946</td>\n",
       "      <td>0.360367</td>\n",
       "      <td>330.5</td>\n",
       "      <td>-67.730186</td>\n",
       "      <td>2005-12-31</td>\n",
       "    </tr>\n",
       "    <tr>\n",
       "      <th>6778504</th>\n",
       "      <td>0.914407</td>\n",
       "      <td>1.445174</td>\n",
       "      <td>0.035897</td>\n",
       "      <td>719.691956</td>\n",
       "      <td>3.827337</td>\n",
       "      <td>0.701786</td>\n",
       "      <td>0.918369</td>\n",
       "      <td>0.526805</td>\n",
       "      <td>316.5</td>\n",
       "      <td>-72.437401</td>\n",
       "      <td>2005-12-31</td>\n",
       "    </tr>\n",
       "  </tbody>\n",
       "</table>\n",
       "<p>730 rows × 11 columns</p>\n",
       "</div>"
      ],
      "text/plain": [
       "             aice        hi        hs      fsdrad      sice      iage  \\\n",
       "8922     0.177647  0.242394  0.008259    2.688405  4.266751  0.689887   \n",
       "7900     0.700098  0.908975  0.062650  711.411560  4.241323  0.678125   \n",
       "23012    0.396644  1.190470  0.011292    3.677801  4.600779  0.562872   \n",
       "25047    0.876580  1.625636  0.050064  820.899231  3.740461  0.972277   \n",
       "37414    0.386072  0.605769  0.026715  519.601074  3.472609  0.701576   \n",
       "...           ...       ...       ...         ...       ...       ...   \n",
       "6748003  0.857102  1.521788  0.035702  440.809662  4.177728  0.685526   \n",
       "6762858  0.228372  0.455763  0.020392    2.710336  5.800342  0.527810   \n",
       "6761633  0.910495  1.149991  0.029360  718.138550  4.785906  0.607243   \n",
       "6781798  0.865883  1.000313  0.011307  653.534241  4.554741  0.617444   \n",
       "6778504  0.914407  1.445174  0.035897  719.691956  3.827337  0.701786   \n",
       "\n",
       "             vlvl      vrdg  longitude   latitude       date  \n",
       "8922     0.035948  0.206447      271.5 -69.173546 2005-01-01  \n",
       "7900     0.430945  0.478030      215.5 -70.492485 2005-01-01  \n",
       "23012    0.027813  1.162657      279.5 -72.437401 2005-01-02  \n",
       "25047    0.667681  0.957955      317.5 -70.066193 2005-01-02  \n",
       "37414    0.271523  0.334246      319.5 -74.415512 2005-01-03  \n",
       "...           ...       ...        ...        ...        ...  \n",
       "6748003  0.417619  1.104169      219.5 -68.706604 2005-12-29  \n",
       "6762858  0.021826  0.433937      246.5 -71.306648 2005-12-30  \n",
       "6761633  0.730302  0.419689      327.5 -72.791801 2005-12-30  \n",
       "6781798  0.639946  0.360367      330.5 -67.730186 2005-12-31  \n",
       "6778504  0.918369  0.526805      316.5 -72.437401 2005-12-31  \n",
       "\n",
       "[730 rows x 11 columns]"
      ]
     },
     "execution_count": 16,
     "metadata": {},
     "output_type": "execute_result"
    }
   ],
   "source": [
    "\n",
    "\n",
    "\n"
   ]
  },
  {
   "cell_type": "code",
   "execution_count": null,
   "id": "e16af123",
   "metadata": {},
   "outputs": [],
   "source": [
    "# Get row index and dates\n",
    "\n",
    "#mask1= (df_raw['date'] == file_dates[0])\n",
    "#mask2 = (df_raw['date'] == file_dates[2])\n",
    "\n",
    "#print(mask1[1:100])\n",
    "#print(mask2[-100:-1])\n",
    "#\n",
    "\n",
    "#X_train = df_raw['aice'].values\n",
    "#len = X_train.shape\n",
    "#len"
   ]
  },
  {
   "cell_type": "code",
   "execution_count": 5,
   "id": "99edcf2b-7b1b-49e8-b535-474874e3223c",
   "metadata": {},
   "outputs": [
    {
     "data": {
      "text/plain": [
       "Text(0.5, 1.0, 'Log-Min/Max')"
      ]
     },
     "execution_count": 5,
     "metadata": {},
     "output_type": "execute_result"
    },
    {
     "data": {
      "image/png": "[encoded data removed]",
      "text/plain": [
       "<Figure size 432x288 with 3 Axes>"
      ]
     },
     "metadata": {
      "needs_background": "light"
     },
     "output_type": "display_data"
    }
   ],
   "source": [
    "# Standardisation\n",
    "X_train = df_raw['fsdrad'].values\n",
    "len, = X_train.shape\n",
    "\n",
    "\n",
    "min_max_scaler = preprocessing.MinMaxScaler()\n",
    "X_train_minmax = min_max_scaler.fit_transform(X_train.reshape(len,1))\n",
    "\n",
    "\n",
    "#create log-transformed data\n",
    "X_log = np.log(X_train_minmax+1)\n",
    "scaler = StandardScaler()\n",
    "#scaled_features = scaler.fit_transform(X_standardized)\n",
    "\n",
    "X_log_minmax = min_max_scaler.fit_transform(X_log.reshape(len,1))\n",
    "\n",
    "\n",
    "#define grid of plots\n",
    "\n",
    "fig, axs = plt.subplots(nrows=1, ncols=3)\n",
    "\n",
    "#create histograms\n",
    "\n",
    "axs[0].hist(X_train_minmax, edgecolor='black',bins=31,log=True,range=[0, 1])\n",
    "axs[1].hist(X_log, edgecolor='black',bins=31,log=True,range=[0, 1])\n",
    "axs[2].hist(X_log_minmax, edgecolor='black',bins=31,log=True,range=[0, 1])\n",
    "\n",
    "\n",
    "#add title to each histogram\n",
    "axs[0].set_title('Min/Max')\n",
    "axs[1].set_title('Log-Transformed')\n",
    "axs[2].set_title('Log-Min/Max')\n",
    "    \n"
   ]
  },
  {
   "cell_type": "code",
   "execution_count": 6,
   "id": "e0c5637c",
   "metadata": {},
   "outputs": [
    {
     "name": "stdout",
     "output_type": "stream",
     "text": [
      "               aice            hi            hs        fsdrad          sice  \\\n",
      "count  2.137572e+06  2.137572e+06  2.137572e+06  2.137572e+06  2.137572e+06   \n",
      "mean   9.419177e-01  2.178137e-01  1.810499e-01  6.716433e-01  2.722957e-01   \n",
      "std    1.540635e-01  1.243309e-01  1.421530e-01  3.330535e-01  1.411025e-01   \n",
      "min    0.000000e+00  0.000000e+00  0.000000e+00  0.000000e+00  0.000000e+00   \n",
      "25%    9.727477e-01  1.193141e-01  6.742911e-02  4.504022e-01  1.737662e-01   \n",
      "50%    9.977975e-01  2.083197e-01  1.503453e-01  7.987238e-01  2.344228e-01   \n",
      "75%    9.996375e-01  3.054201e-01  2.657480e-01  9.586513e-01  3.285566e-01   \n",
      "max    1.000000e+00  1.000000e+00  1.000000e+00  1.000000e+00  1.000000e+00   \n",
      "\n",
      "               iage          vlvl          vrdg     longitude      latitude  \n",
      "count  2.137572e+06  2.137572e+06  2.137572e+06  2.137572e+06  2.137572e+06  \n",
      "mean   1.135375e-01  3.441704e-01  1.231696e-01  2.064478e+02 -6.846028e+01  \n",
      "std    7.786782e-02  1.843968e-01  1.174761e-01  1.000018e+02  4.996740e+00  \n",
      "min    0.000000e+00  0.000000e+00  0.000000e+00  5.000000e-01 -7.762990e+01  \n",
      "25%    5.207280e-02  2.078263e-01  3.632741e-02  1.525000e+02 -7.243740e+01  \n",
      "50%    9.950738e-02  3.287101e-01  8.896231e-02  2.095000e+02 -6.870660e+01  \n",
      "75%    1.615009e-01  4.549138e-01  1.777216e-01  3.045000e+02 -6.503162e+01  \n",
      "max    1.000000e+00  1.000000e+00  1.000000e+00  3.595000e+02 -5.303830e+01  \n",
      "0         2011-01-01\n",
      "1         2011-01-01\n",
      "2         2011-01-01\n",
      "3         2011-01-01\n",
      "4         2011-01-01\n",
      "             ...    \n",
      "2137567   2011-12-31\n",
      "2137568   2011-12-31\n",
      "2137569   2011-12-31\n",
      "2137570   2011-12-31\n",
      "2137571   2011-12-31\n",
      "Name: date, Length: 2137572, dtype: datetime64[ns]\n"
     ]
    }
   ],
   "source": [
    "# Standardise all the variables\n",
    "\n",
    "X_temp = df_raw['aice'].values\n",
    "len, = X_temp.shape\n",
    "row_index = len\n",
    "X_train = np.zeros((row_index,1))\n",
    "for counter, exp in enumerate(variable_list):\n",
    "    X_temp_vec = df_raw[exp].values\n",
    "\n",
    "    min_max_scaler = preprocessing.MinMaxScaler()\n",
    "    X_temp_vec = min_max_scaler.fit_transform(X_temp_vec.reshape(row_index,1))\n",
    "\n",
    "    # Log transformation\n",
    "    X_temp_vec = np.log(X_temp_vec+1)\n",
    "   # scaler = StandardScaler()\n",
    "    X_temp_vec = min_max_scaler.fit_transform(X_temp_vec.reshape(row_index,1))\n",
    "    X_train = np.concatenate([X_train, X_temp_vec],axis=1)\n",
    "\n",
    "temp_lon = df_raw['longitude'].to_numpy()\n",
    "temp_lat = df_raw['latitude'].to_numpy()\n",
    "X_train = np.concatenate([X_train, temp_lon.reshape(row_index,1), temp_lat.reshape(row_index,1)],axis=1)\n",
    "X_train=np.delete(X_train,0,1)\n",
    "\n",
    "df_standard = pd.DataFrame(X_train, columns = variable_list+['longitude','latitude'])\n",
    "#df_standard['date'] = df_raw['date']#np.datetime64(file_date)\n",
    "df_standard['date'] = df_raw['date'].values\n",
    "\n",
    "\n",
    "print(df_standard.describe())\n",
    "df_standard\n",
    "\n",
    "print(df_standard['date'])\n",
    "\n"
   ]
  },
  {
   "cell_type": "code",
   "execution_count": 7,
   "id": "fd87ee4f-0145-452f-a574-d8ec1b064aee",
   "metadata": {},
   "outputs": [
    {
     "data": {
      "image/png": "[encoded data removed]",
      "text/plain": [
       "<Figure size 432x288 with 1 Axes>"
      ]
     },
     "metadata": {},
     "output_type": "display_data"
    },
    {
     "data": {
      "text/plain": [
       "<Figure size 432x288 with 0 Axes>"
      ]
     },
     "metadata": {},
     "output_type": "display_data"
    }
   ],
   "source": [
    "kmeans = KMeans(\n",
    "    init=\"random\",\n",
    "    n_clusters=3,\n",
    "    n_init=10,\n",
    "    max_iter=300,\n",
    "    random_state=42\n",
    ")\n",
    "#print(df_standard.iloc[:, 3] )\n",
    "del X_train\n",
    "X_train = df_standard.iloc[:, 0:-3] \n",
    "X_train\n",
    "kmeans.fit(X_train)\n",
    "\n",
    "# The lowest SSE value\n",
    "kmeans.inertia_\n",
    "\n",
    "# Final locations of the centroid\n",
    "kmeans.cluster_centers_\n",
    "\n",
    "# The number of iterations required to converge\n",
    "kmeans.n_iter_\n",
    "kmeans.labels_[:5]\n",
    "\n",
    "\n",
    "kmeans_kwargs = {\n",
    "    \"init\": \"random\",\n",
    "    \"n_init\": 10,\n",
    "    \"max_iter\": 300,\n",
    "    \"random_state\": 42,\n",
    "}\n",
    "\n",
    "# A list holds the SSE values for each k\n",
    "sse = []\n",
    "for k in range(1, 5):\n",
    "    kmeans = KMeans(n_clusters=k, **kmeans_kwargs)\n",
    "    kmeans.fit(X_train)\n",
    "    sse.append(kmeans.inertia_)\n",
    "    \n",
    "plt.style.use(\"fivethirtyeight\")\n",
    "plt.plot(range(1, 5), sse)\n",
    "plt.xticks(range(1, 5))\n",
    "plt.xlabel(\"Number of Clusters\")\n",
    "plt.ylabel(\"SSE\")\n",
    "plt.show()\n",
    "plt.savefig(savepath+'SSE.png', dpi = 300)  \n",
    "\n"
   ]
  },
  {
   "cell_type": "code",
   "execution_count": null,
   "id": "18245f26",
   "metadata": {},
   "outputs": [],
   "source": [
    "# A list holds the silhouette coefficients for each k\n",
    "silhouette_coefficients = []\n",
    "\n",
    "# Notice you start at 2 clusters for silhouette coefficient\n",
    "for k in range(2, 5):\n",
    "    kmeans = KMeans(n_clusters=k, **kmeans_kwargs)\n",
    "    kmeans.fit(X_train)\n",
    "    score = silhouette_score(X_train, kmeans.labels_)\n",
    "    silhouette_coefficients.append(score)\n",
    "\n",
    "plt.style.use(\"fivethirtyeight\")\n",
    "plt.plot(range(2, 5), silhouette_coefficients)\n",
    "plt.xticks(range(2, 5))\n",
    "plt.xlabel(\"Number of Clusters\")\n",
    "plt.ylabel(\"Silhouette Coefficient\")\n",
    "plt.show()\n",
    "plt.savefig(savepath+'silhouette.png', dpi = 300)  "
   ]
  },
  {
   "cell_type": "code",
   "execution_count": 7,
   "id": "35e5c6bf",
   "metadata": {},
   "outputs": [
    {
     "name": "stderr",
     "output_type": "stream",
     "text": [
      "/g/data/hh5/public/apps/miniconda3/envs/analysis3-22.07/lib/python3.9/site-packages/sklearn/cluster/_kmeans.py:1307: RuntimeWarning: Explicit initial center position passed: performing only one init in KMeans instead of n_init=10.\n",
      "  super()._check_params(X)\n"
     ]
    },
    {
     "name": "stdout",
     "output_type": "stream",
     "text": [
      "[[0.82629608 0.10703622 0.07130611 0.14262955 0.36449386 0.09977006\n",
      "  0.16141819]\n",
      " [0.88334335 0.17047452 0.1086489  0.77965871 0.28394277 0.12504169\n",
      "  0.23440782]\n",
      " [0.98298609 0.32017082 0.26565711 0.90151733 0.19911299 0.15130146\n",
      "  0.45922479]]\n"
     ]
    }
   ],
   "source": [
    "# Initial centroid\n",
    "#0.0123    0.0054    0.0009    0.0077    0.0139    0.0075    0.0013    0.0048\n",
    "#0.9825    0.4804    0.2950    0.9470    0.5100    0.2033    0.3641    0.3532\n",
    "#0.9432    0.1913    0.0802    0.7402    0.6518    0.0914    0.2116    0.0867\n",
    "\n",
    "init_centroids = np.array([[0.223, 0.0054, 0.0009, 0.0007, 0.0139, 0.0075, 0.0013, 0.0048], [0.9825, 0.4804, 0.2950, 0.9470, 0.5100, 0.2033, 0.3641, 0.3532], [0.9432, 0.1913, 0.0802, 0.7402, 0.6518, 0.0914, 0.2116, 0.0867]])\n",
    "\n",
    "init_centroids2 = np.array([[0.96221878, 0.08398237, 0.06508808, 0.04646253, 0.3788989,  0.05517018, 0.21942225], [0.95768088, 0.29923383, 0.24225471, 0.21369082, 0.13641108, 0.1632028,  0.31585801], [0.95627117, 0.2773644,  0.18689209, 0.84940695, 0.17923583, 0.17167591, 0.46987752]])\n",
    "# [0.33422491, 0.11073472, 0.04112143, 0.17990378, 0.19245547, 0.22089278,  0.06789923]\n",
    "kmeans = KMeans(\n",
    "#    init=\"random\",\n",
    "    init=init_centroids2,\n",
    "    n_clusters=3,\n",
    "#    n_init=10, #10,\n",
    "    max_iter=300,\n",
    "    random_state=2020\n",
    ")\n",
    "\n",
    "# Take a sub-sample (same number of points for each date)\n",
    "#df_temp = df_standard\n",
    "df_temp = df_standard.drop(df_raw[df_raw.aice < 0.15].index)\n",
    "df_subsample = df_temp.groupby('date', group_keys=False).apply(lambda x: x.sample(500))\n",
    "#df_subsample = df_temp\n",
    "X_train = df_subsample.iloc[:, 0:7] \n",
    "#X_train = df_standard.iloc[:, 0:4] \n",
    "\n",
    "kmeans.fit(X_train)\n",
    "#kmeans.cluster_centers_ = init_centroids\n",
    "\n",
    "X_all = df_standard.iloc[:, 0:7] \n",
    "predicted = kmeans.predict(X_all) \n",
    "\n",
    "df_kmeans = df_standard\n",
    "df_kmeans['k'] = predicted # kmeans.labels_\n",
    "\n",
    "print(kmeans.cluster_centers_)\n",
    "#df_kmeans.to_csv('kmeans.csv', index=False)"
   ]
  },
  {
   "cell_type": "code",
   "execution_count": null,
   "id": "7ad3955f-2d12-435e-9178-83966fcdc6c0",
   "metadata": {},
   "outputs": [
    {
     "name": "stdout",
     "output_type": "stream",
     "text": [
      "Progress: [########............] 41% "
     ]
    }
   ],
   "source": [
    "unique_dates = df_kmeans['date'].unique()\n",
    "tmp1, = unique_dates.shape\n",
    "tmp2, tmp3 = LN.shape\n",
    "k_means_array = np.empty((tmp1,tmp2,tmp3))\n",
    "k_means_array[:] = np.nan\n",
    "\n",
    "length, = unique_dates.shape\n",
    "\n",
    "for time_lp, date_tmp in enumerate(unique_dates):\n",
    "    progressBar = \"\\rProgress: \" + ProgressBar(length, time_lp+1, 20, '#', '.')\n",
    "    ShowBar(progressBar)\n",
    "    date_idx = df_kmeans['date'] == date_tmp\n",
    "\n",
    "    lon = df_kmeans['longitude'][date_idx];\n",
    "    lat = df_kmeans['latitude'][date_idx];\n",
    "    k = df_kmeans['k'][date_idx];\n",
    "\n",
    "    row_length = date_idx.sum()\n",
    "    lon = lon.values.reshape(row_length,1)\n",
    "    lat = lat.values.reshape(row_length,1)\n",
    "    k = k.values.reshape(row_length,1)\n",
    "    for row_lp in range(0, row_length):\n",
    "        a = abs(LT-lat[row_lp])+abs(LN-lon[row_lp])\n",
    "        i,j = np.unravel_index(a.argmin(),a.shape)\n",
    "        k_means_array[time_lp,i,j] = k[row_lp]"
   ]
  },
  {
   "cell_type": "code",
   "execution_count": null,
   "id": "6bf5b079-8458-41af-aa32-a8cd3c284c4b",
   "metadata": {},
   "outputs": [],
   "source": [
    "#k_means_array[1,:,:].namean()\n",
    "#np.nanmean(k_means_array[8,:,:])\n",
    "#var_list_save = ['aice','fsdrad','wave_sig_ht','\n",
    "unique_dates = df_kmeans['date'].unique()\n",
    "tmp1, = unique_dates.shape\n",
    "tmp2, tmp3 = LN.shape\n",
    "aice_array = np.empty((tmp1,tmp2,tmp3))\n",
    "fsdrad_array = np.empty((tmp1,tmp2,tmp3))\n",
    "swh_array = np.empty((tmp1,tmp2,tmp3))\n",
    "#aice_array[:] = np.nan\n",
    "\n",
    "for filecount, file in enumerate(onlyfiles):\n",
    "    filename = file\n",
    "#    print(file)\n",
    "    progressBar = \"\\rProgress: \" + ProgressBar(len(onlyfiles), filecount+1, 20, '#', '.')\n",
    "    ShowBar(progressBar)\n",
    "\n",
    "    ds = xr.open_dataset(filename)\n",
    "    LN = ds.TLON.values\n",
    "    LT = ds.TLAT.values\n",
    "\n",
    "    aice_data = ds['aice'][0,:,:]\n",
    "\n",
    "    mask1 = np.ma.masked_where(LT > 0.0, aice_data)\n",
    "    mask2 = np.ma.masked_where(aice_data < 0.15, aice_data)\n",
    "    master_mask = mask1.mask | mask2.mask\n",
    "    mask = master_mask\n",
    "#    for counter, exp in enumerate(variable_list):\n",
    "\n",
    "    data = ds['aice'][0,:,:]\n",
    "    aice_array[filecount,:,:] = data\n",
    "    aice_array[filecount,mask] = np.nan\n",
    "    \n",
    "    data = ds['fsdrad'][0,:,:]\n",
    "    fsdrad_array[filecount,:,:] = data\n",
    "    fsdrad_array[filecount,mask] = np.nan\n",
    "    \n",
    "    data = ds['wave_sig_ht'][0,:,:]\n",
    "    swh_array[filecount,:,:] = data\n",
    "    swh_array[filecount,mask] = np.nan\n",
    "    \n",
    "aice_array"
   ]
  },
  {
   "cell_type": "code",
   "execution_count": null,
   "id": "357dde5c-3d88-4601-bf17-9e06c90d3609",
   "metadata": {},
   "outputs": [],
   "source": [
    "onlyfiles[0]\n",
    "unique_dates = df_kmeans['date'].unique()\n",
    "tmp1, = unique_dates.shape\n",
    "tmp2, tmp3 = LN.shape\n",
    "aice_array = np.empty((tmp1,tmp2,tmp3))\n",
    "#aice_array[:] = np.nan\n",
    "\n",
    "#aice_array.shape()\n",
    "#aice_array.shape\n",
    "aice_array[filecount,:,:] = aice_data\n",
    "aice_array[filecount,mask] = np.nan\n",
    "aice_array[filecount,:,:]"
   ]
  },
  {
   "cell_type": "code",
   "execution_count": 47,
   "id": "ee105681-65e1-49ce-b284-e12d4529a3c4",
   "metadata": {},
   "outputs": [],
   "source": [
    "#filename=f\"/home/566/nd0349/kmeans_{year:s}.nc\"\n",
    "# HTE, HTN, tarea, tmask\n",
    "ds = xr.open_dataset(onlyfiles[0])\n",
    "HTE = ds.HTE.values\n",
    "HTN = ds.HTN.values\n",
    "tarea = ds.tarea.values\n",
    "tmask = ds.tmask.values\n",
    "\n",
    "filename=f\"/home/566/nd0349/kmean_2009.nc\"\n",
    "d_vars = {\"k\" : (['time','nj','ni'],k_means_array,\n",
    "                              {'long_name' :\"k-means_clusters\",\n",
    "                               'units'     :\"cluster number\",\n",
    "                               '_FillValue':-2e8}),\n",
    "          \"aice\" : (['time','nj','ni'],aice_array,\n",
    "                              {'long_name' :\"sea ice area\",\n",
    "                               'units'     :\"-\",\n",
    "                               '_FillValue':-2e8}),\n",
    "          \"fsdrad\" : (['time','nj','ni'],fsdrad_array,\n",
    "                              {'long_name' :\"Representative floe radius\",\n",
    "                               'units'     :\"m\",\n",
    "                               '_FillValue':-2e8}),\n",
    "          \"wave_sig_ht\" : (['time','nj','ni'],swh_array,\n",
    "                              {'long_name' :\"Signficant wave height\",\n",
    "                               'units'     :\"m\",\n",
    "                               '_FillValue':-2e8}),\n",
    "          \"HTE\" : (['nj','ni'],HTE,\n",
    "                          {'long_name':\"T cell width on East side\",\n",
    "                           'units'    :\"m\",\n",
    "                           '_FillValue':-2e8}),\n",
    "          \"HTN\" : (['nj','ni'],HTN,\n",
    "                          {'long_name':\"T cell width on North side\",\n",
    "                           'units'    :\"m\",\n",
    "                           '_FillValue':-2e8}),\n",
    "          \"tarea\" : (['nj','ni'],tarea,\n",
    "                          {'long_name':\"area of T grid cells\",\n",
    "                           'units'    :\"m^2\",\n",
    "                           '_FillValue':-2e8}),\n",
    "          \"tmask\" : (['nj','ni'],tmask,\n",
    "                          {'long_name':\"ocean grid mask\",\n",
    "                           'units'    :\"Boolean\",\n",
    "                           '_FillValue':-2e8})}\n",
    "          \n",
    "coords = {\"LON\"  : ([\"nj\",\"ni\"],LN,{'units':'degrees_east'}),\n",
    "          \"LAT\"  : ([\"nj\",\"ni\"],LT,{'units':'degrees_north'}),\n",
    "          \"time\" : ([\"time\"],unique_dates)}\n",
    "attrs = {'creation_date': \"2023-04-03\",#datetime.now().strftime('%Y-%m-%d %H'),\n",
    "         'conventions'  : \"\",\n",
    "         'title'        : \"k-means clusters for CICE-WIM standalone 1-degree data\",\n",
    "         'source'       : \", \",\n",
    "         'comment'      : \"\",\n",
    "         'author'       : 'Noah Day',\n",
    "         'email'        : 'noah.day@adelaide.edu.au'}\n",
    "enc_dict  = {'shuffle':True,'zlib':True,'complevel':5} \n",
    "nc_out = xr.Dataset(data_vars=d_vars,coords=coords,attrs=attrs)\n",
    "write_job = nc_out.to_netcdf(filename,unlimited_dims=['time'],compute=False)#,encoding={'glbrad':enc_dict})"
   ]
  },
  {
   "cell_type": "code",
   "execution_count": null,
   "id": "73e9cfad-8d2d-4aa8-a463-5013377c6b92",
   "metadata": {},
   "outputs": [],
   "source": [
    "# Create a netcdf data cube of just k-means\n",
    "try: ncfile.close()  # just to be safe, make sure dataset is not already open.\n",
    "except: pass\n",
    "ncfile = netCDF4.Dataset('/g/data/ia40/kmeans_2023-03-30.nc',mode='w',format='NETCDF4_CLASSIC') \n",
    "print(ncfile)\n",
    "\n",
    "length,width = LN.shape\n",
    "nx = ncfile.createDimension('nx',width)\n",
    "ny = ncfile.createDimension('ny',length)\n",
    "time_dim = ncfile.createDimension('time', None) # unlimited axis (can be appended to).\n",
    "for dim in ncfile.dimensions.items():\n",
    "    print(dim)\n",
    "\n",
    "# Define two variables with the same names as dimensions,\n",
    "# a conventional way to define \"coordinate variables\".\n",
    "lats = ncfile.createVariable('TLAT','f4',('ny','nx'),fill_value=0)\n",
    "lons = ncfile.createVariable('TLON','f4',('ny','nx'),fill_value=0)\n",
    "lats.long_name = 'latitude'\n",
    "lats.units = 'degrees_north'\n",
    "lons.long_name = 'longitude'\n",
    "lons.units = 'degrees_east'\n",
    "\n",
    "time = ncfile.createVariable('time', 'f4', ('time',))\n",
    "time.units = 'days starting from 2005-01-01'\n",
    "time.long_name = 'time'\n",
    "\n",
    "kmeans_netcdf = ncfile.createVariable('k', 'f4',('time','ny','nx')) # note: unlimited dimension is leftmost\n",
    "kmeans_netcdf.units = 'Cluster number'\n",
    "kmeans_netcdf.standard_name = 'k-means_clusters'\n",
    "\n",
    "# Write the data in\n",
    "lats[:,:] = LT\n",
    "lons[:,:] = LN\n",
    "kmeans_netcdf[:,:,:] = k_means_array\n",
    "print(\"-- Wrote data, temp.shape is now \", kmeans_netcdf.shape)\n",
    "# read data back from variable (by slicing it), print min and max\n",
    "print(\"-- Min/Max values:\", kmeans_netcdf[:,:,:].min(), kmeans_netcdf[:,:,:].max())\n",
    "\n",
    "\n",
    "time[:] = range(1,tmp1) #unique_dates\n",
    "\n",
    "\n",
    "# first print the Dataset object to see what we've got\n",
    "print(ncfile)\n",
    "# close the Dataset.\n",
    "ncfile.close(); print('Dataset is closed!')\n",
    "\n"
   ]
  },
  {
   "cell_type": "code",
   "execution_count": null,
   "id": "6765b0a2-8446-4ab8-9960-a4a46bd74c1f",
   "metadata": {},
   "outputs": [],
   "source": []
  },
  {
   "cell_type": "code",
   "execution_count": null,
   "id": "2c8953e5-eb38-41f8-9d54-a00006173572",
   "metadata": {},
   "outputs": [],
   "source": []
  },
  {
   "cell_type": "code",
   "execution_count": 10,
   "id": "348369a6-e602-498a-81ee-740552d27b7f",
   "metadata": {},
   "outputs": [
    {
     "data": {
      "image/png": "[encoded data removed]",
      "text/plain": [
       "<Figure size 432x288 with 4 Axes>"
      ]
     },
     "metadata": {
      "needs_background": "light"
     },
     "output_type": "display_data"
    }
   ],
   "source": [
    "filename\n",
    "ds = xr.open_dataset(filename)\n",
    "LN = ds.TLON.values\n",
    "LT = ds.TLAT.values\n",
    "\n",
    "selected_date = '2005-05-01'\n",
    "date_idx = df_kmeans['date'] == selected_date\n",
    "\n",
    "lon = df_kmeans['longitude'][date_idx];\n",
    "lat = df_kmeans['latitude'][date_idx];\n",
    "k = df_kmeans['k'][date_idx];\n",
    "ra = df_kmeans['fsdrad'][date_idx];\n",
    "\n",
    "row_length = date_idx.sum()\n",
    "lon = lon.values.reshape(row_length,1)\n",
    "lat = lat.values.reshape(row_length,1)\n",
    "k = k.values.reshape(row_length,1)\n",
    "ra = ra.values.reshape(row_length,1)\n",
    "\n",
    "k_means_array = np.empty(LN.shape)\n",
    "k_means_array[:] = np.nan\n",
    "\n",
    "fsdrad_array = np.empty(LN.shape)\n",
    "fsdrad_array[:] = np.nan\n",
    "\n",
    "lats = LT\n",
    "lons = LN\n",
    "\n",
    "for row_lp in range(0, row_length):\n",
    "    a = abs(lats-lat[row_lp])+abs(lons-lon[row_lp])\n",
    "    i,j = np.unravel_index(a.argmin(),a.shape)\n",
    "    k_means_array[i,j] = k[row_lp]\n",
    "    fsdrad_array[i,j] = ra[row_lp]\n",
    "\n",
    "fontprops = fm.FontProperties(size=18)\n",
    "plt.figure()\n",
    "cmap = cmo.deep\n",
    "coord_lims = [-180, 180, -50, -90]\n",
    "\n",
    "ax = plt.subplot(1, 2, 0+1, projection=ccrs.SouthPolarStereo(), label='{0}'.format(counter))\n",
    "ax.set_extent(coord_lims, ccrs.PlateCarree())\n",
    "land_50m = cft.NaturalEarthFeature('physical', 'land', '50m',\n",
    "                            edgecolor='black', facecolor='gray', linewidth=0.5)\n",
    "ax.coastlines(resolution='50m')\n",
    "ax.add_feature(land_50m)\n",
    "p = ax.pcolormesh(LN, LT, k_means_array,\n",
    "                transform=ccrs.PlateCarree(),\n",
    "                cmap=cmap,\n",
    "#                norm=colors.LogNorm(vmin=1, vmax=1000),\n",
    "                shading='auto')\n",
    "cb = plt.colorbar(p, orientation='vertical', fraction=0.046, pad=0.04)\n",
    "#gl = ax.gridlines(draw_labels=False)\n",
    "#scalebar = AnchoredSizeBar(ax.transData,\n",
    "#                           100000, '100 km', 'lower center', \n",
    "#                           pad=0.1,\n",
    "#                           color='black',\n",
    "#                           frameon=False,\n",
    "#                           size_vertical=1,\n",
    "#                           fontproperties=fontprops)\n",
    "#\n",
    "#ax.add_artist(scalebar)\n",
    "#plt.savefig('kmean.png', dpi = 300)  \n",
    "\n",
    "ax = plt.subplot(1, 2, 0+2, projection=ccrs.SouthPolarStereo(), label='{0}'.format(counter))\n",
    "ax.set_extent(coord_lims, ccrs.PlateCarree())\n",
    "land_50m = cft.NaturalEarthFeature('physical', 'land', '50m',\n",
    "                            edgecolor='black', facecolor='gray', linewidth=0.5)\n",
    "ax.coastlines(resolution='50m')\n",
    "ax.add_feature(land_50m)\n",
    "p = ax.pcolormesh(LN, LT, fsdrad_array,\n",
    "                transform=ccrs.PlateCarree(),\n",
    "                cmap=cmap,\n",
    "#                norm=colors.LogNorm(vmin=1, vmax=1000),\n",
    "                shading='auto')\n",
    "cb = plt.colorbar(p, orientation='vertical', fraction=0.046, pad=0.04)\n",
    "#scalebar = AnchoredSizeBar(ax.transData,\n",
    "#                           100000, '100 km', 'lower center', \n",
    "#                           pad=0.1,\n",
    "#                           color='black',\n",
    "#                           frameon=False,\n",
    "#                           size_vertical=1,\n",
    "#                           fontproperties=fontprops)\n",
    "#ax.add_artist(scalebar)\n",
    "plt.savefig(savepath+'kmean_and_fsdrad_'+selected_date+'.png', dpi = 300)  \n",
    "\n"
   ]
  },
  {
   "cell_type": "code",
   "execution_count": 200,
   "id": "c005794f-1098-4f3d-975a-56d81b5b0aa2",
   "metadata": {},
   "outputs": [
    {
     "name": "stdout",
     "output_type": "stream",
     "text": [
      "[[nan nan nan ... nan nan nan]\n",
      " [nan nan nan ... nan nan nan]\n",
      " [nan nan nan ... nan nan nan]\n",
      " ...\n",
      " [nan nan nan ... nan nan nan]\n",
      " [nan nan nan ... nan nan nan]\n",
      " [nan nan nan ... nan nan nan]]\n"
     ]
    }
   ],
   "source": []
  },
  {
   "cell_type": "code",
   "execution_count": 322,
   "id": "a2faeec0-0b79-4791-b128-fbddcdac287c",
   "metadata": {},
   "outputs": [
    {
     "name": "stdout",
     "output_type": "stream",
     "text": [
      "Progress: [####################] 100% \n",
      "[164275.84322917 149196.8132053  122953.26815321 125602.15492622\n",
      " 118179.79733073 107697.87355686 101097.2914605  104819.32657335\n",
      " 115572.2999349  114682.20035807 106363.58732639 112061.71647135\n",
      " 100966.8578125   92536.62419705  86031.59516059  84364.50250651\n",
      "  78189.90595703  78597.13578559  77644.01124132  75281.58667535\n",
      "  70731.18530816  65694.35338542  66232.93166233  62863.2421875\n",
      "  67276.60827908  64259.74366319  61134.98634983  58940.05936415\n",
      "  54447.55354818  49925.04345703  47452.30133464  42991.24658203\n",
      "  40278.2797309   37696.47372504  35053.46265191  30663.79827474\n",
      "  28122.90436198  26570.15542535  25174.37249349  24657.3125217\n",
      "  23683.58994141  22793.88552517  22316.52218424  20720.33325738\n",
      "  21309.33226997  20352.5597602   21572.1902181   22334.08361545\n",
      "  23970.98032769  24016.65080838  29624.95831163  29917.31870117\n",
      "  28216.88442925  27699.08933919  28148.3640408   30792.15348307\n",
      "  32566.94227973  34730.42237956  33395.1617947   32804.85328776\n",
      "  31275.8069987   29459.17329102  27215.67424588  26717.29626736\n",
      "  25323.67507595  23018.23670247  24106.56168077  23638.16017795\n",
      "  26741.94315321  29793.39784614  32879.10449761  33804.34709201\n",
      "  36125.17571072  42932.24226345  47513.82645942  56556.91970486\n",
      "  66808.22507595  75588.03517253  83241.94594727  88543.47615017\n",
      "  91693.34086372 101462.42826606 110888.82553168 118330.73156467\n",
      " 125978.58931207 137738.47282986 149899.53860677 160336.44645182\n",
      " 169574.01860894 179006.38800998 184536.83738064 190241.17977431\n",
      " 197682.08095703 204468.75033637 211036.12195095 209744.76654731\n",
      " 213770.05047743 220182.32518446 226095.73652344 232900.85822483\n",
      " 242327.42740885 254926.95716146 259805.70753038 268988.94582248\n",
      " 277971.17695312 283175.23557943 282646.55400391 280991.54720052\n",
      " 280328.39815538 289795.70521918 293479.21432292 292528.91612413\n",
      " 296024.66205512 293529.81843533 292036.16507161 289375.20619575\n",
      " 291892.51034071 292191.56384549 289068.66024306 297340.85299479\n",
      " 299407.00735677 299509.8202691  296460.19904514 292601.77999132\n",
      " 289153.22048611 285523.23292101 289492.59246962 285543.80948351\n",
      " 282267.30238715 287552.50384115 293167.54800347 300261.9687066\n",
      " 303299.43261719 304568.04051649 312045.90605469 310288.31499566\n",
      " 312311.47845052 311967.04217665 313096.64369575 310294.85428602\n",
      " 305789.92894965 308788.80687934 317378.82855903 321724.41547309\n",
      " 328467.91770833 336593.38528646 342889.07289497 336580.96343316\n",
      " 333333.68187934 332323.88938802 334930.87855903 334571.32391493\n",
      " 330645.42042101 326837.19793837 321222.31885851 320114.8656684\n",
      " 319778.46501736 313321.02549913 318610.32760417 321865.87539062\n",
      " 329283.90789931 326105.20700955 328582.00722656 329283.06490885\n",
      " 333652.47894965 325455.3312066  331196.40086806 335656.27469618\n",
      " 344270.47623698 354848.34730903 359419.97211372 355399.72443576\n",
      " 358891.29351128 357710.62246094 356704.72402344 365153.37222222\n",
      " 360363.30538194 357634.30230035 351619.7937934  347584.04900174\n",
      " 348905.25164931 344954.77562934 342430.83259549 343600.18873698\n",
      " 341579.98261719 334205.22044271 337349.58255208 336508.61573351\n",
      " 338026.83172743 333093.26890191 331621.61931424 336094.95394965\n",
      " 338602.92738715 335548.19149306 332631.80256076 326474.77769097\n",
      " 327701.34383681 325410.4202908  331886.96976997 328310.9609375\n",
      " 323023.64086372 319822.73665365 321865.42426215 317730.71115451\n",
      " 312426.33967014 308507.54476997 310149.03695747 307410.55887587\n",
      " 308232.10987413 311448.15878906 313010.54950087 305971.85540365\n",
      " 300461.52280816 297248.92890625 293863.22269965 290642.92782118\n",
      " 290377.86521267 292322.03817274 293751.20373264 291763.40201823\n",
      " 294108.2031684  294918.60993924 293824.02777778 290088.3156033\n",
      " 293930.19546441 292106.5452474  292151.28550347 297782.96236979\n",
      " 294360.01176215 292061.65295139 282627.36634115 280249.51180556\n",
      " 280344.43496094 280283.77601997 279185.70490451 278419.40232205\n",
      " 274836.55403646 268027.22792969 272353.52706163 271483.62159288\n",
      " 274066.14325087 269850.84305556 265635.04448785 264714.5327474\n",
      " 264635.44179687 266317.76597222 265676.8016059  259944.25486111\n",
      " 258021.79913194 252093.24802517 246077.68292101 242140.28780382\n",
      " 244578.79824219 239489.6171875  231316.56699219 233707.73413628\n",
      " 231494.49555122 231891.15674913 232098.45733507 236222.40651042\n",
      " 245332.35540365 238649.37979601 239005.41608073 229704.12300347\n",
      " 223298.55972222 224046.85039063 224289.61421441 219639.65017361\n",
      " 210887.39420573 215464.47243924 210801.51477865 206517.96757813\n",
      " 201052.2640408  200170.72788628 195915.5077908  193377.23374566\n",
      " 185939.56781684 185050.80863715 178134.34759115 174324.28196615\n",
      " 168746.1686849  162014.42578125 161836.05049913 162783.16145833\n",
      " 162863.42734375 168275.93645833 162347.18125    156250.40588108\n",
      " 156089.42230903 153299.82278646 157765.45295139 153934.55531684\n",
      " 155368.31636285 151668.95581597 150813.06629774 154167.94450955\n",
      " 154469.36506076 155060.4125     145968.58309462 141342.94965278\n",
      " 143934.04898003 143526.03415799 141889.10457899 140100.93960503\n",
      " 140179.81948785 137236.14042969 127156.53200955 129750.8875434\n",
      " 132028.57415365 133137.00023872 130604.64728733 142466.62102865\n",
      " 144940.65759549 142530.31158854 140627.74329427 143042.43645833\n",
      " 145858.30182292 145436.00748698 144015.78717448 134718.73806424\n",
      " 137108.43194444 144948.96115451 145997.05292969 140385.79303385\n",
      " 137007.37246094 144170.22657335 153192.67287326 156261.5344184\n",
      " 167133.14279514 161479.24789497 156375.85755208 156859.13626302\n",
      " 155756.80376519 155522.88421224 154178.95461155 143544.45826823\n",
      " 137026.36987847 132605.6319553  130933.10507812 127899.68817274\n",
      " 129210.67376302 131039.70329861 137578.50698785 139049.48241102\n",
      " 141942.7992947  143297.72319878 140893.64900174 139605.62163628\n",
      " 131915.91248915 142619.19041884 152038.65824653 161340.24278429\n",
      " 155346.58008898 151430.11176215 148359.32075738 150922.56766493\n",
      " 152698.19235026 160589.57874349 162782.96693793 156183.77411024\n",
      " 152465.37044271 153753.23853082 154264.21081814 157388.13871528\n",
      " 153404.38409288]\n",
      "[ 69702.94712192  54511.15245082  42230.53691931  44000.38562193\n",
      "  44842.38106445  42295.11646591  40401.20230412  42648.20531784\n",
      "  49081.14800086  49203.38028447  45472.25384888  47994.91723383\n",
      "  42397.40818804  39017.20475151  35570.19893794  35932.85981232\n",
      "  33983.21745485  35122.86715788  35209.29115488  34424.28831133\n",
      "  32442.85306627  30290.7503423   30831.07334456  29274.63619346\n",
      "  32187.54178313  30940.27351179  29522.70319772  28719.75608186\n",
      "  25957.23498186  23355.96459272  22027.04088903  20019.01124828\n",
      "  18386.48925886  16817.07129412  15444.23819428  13331.68640998\n",
      "  11997.01002248  11155.49045521  10562.70684931  10381.01727519\n",
      "  10631.05287392  10800.23912174  10628.02672569   9584.96633833\n",
      "   9743.7883721    9562.0750814   10409.21581879  11459.99725238\n",
      "  12231.01033903  13150.53749878  17004.3052219   19370.75552539\n",
      "  18584.14401431  18385.18316029  19312.84235301  22121.57543805\n",
      "  24675.38084537  25810.87329412  25787.98773105  25446.07061009\n",
      "  24414.04530115  21277.18897759  19452.96075243  18658.60865463\n",
      "  17446.84204848  16168.03611514  16204.8976469   16487.52927949\n",
      "  17920.41149634  19829.18665401  22839.43532518  25439.68253644\n",
      "  28717.12056388  32457.84518933  38399.73560283  45552.00446142\n",
      "  54385.87860802  62607.46651738  70336.14975251  76202.92865243\n",
      "  79923.27171606  88062.17184393  99457.11330244 105885.50643855\n",
      " 112777.44860788 121295.69212071 133057.1048283  146570.44223973\n",
      " 158309.96586784 166144.76514801 171764.93633991 177327.6666819\n",
      " 184032.31224831 189290.04607043 197089.8877247  197934.86333538\n",
      " 200994.29416423 209008.81832287 214788.07762254 219718.35111126\n",
      " 229112.03153275 242402.79673774 249393.0332575  255401.26824046\n",
      " 265254.25486209 269288.26767686 266959.36425247 267818.24504587\n",
      " 267540.56273787 273572.46241988 278198.55017265 278228.01061161\n",
      " 278178.02810574 275805.80391524 277542.55484369 271097.97662042\n",
      " 272531.77943123 274761.01518885 269346.22418738 275748.69231436\n",
      " 279906.24786185 278522.72736584 273332.28334319 271678.25354952\n",
      " 268499.49297622 264769.8721031  266404.31008874 264493.90920864\n",
      " 263549.54452072 266716.07509857 274747.89101802 280905.67518053\n",
      " 283038.80339113 283133.88646172 289320.64813754 287460.58562717\n",
      " 288753.07964815 285773.04032456 286744.94992783 283020.26420804\n",
      " 282049.87101376 284563.96748761 291306.58905469 297671.66930118\n",
      " 302257.57563861 307451.14610581 314195.62517321 308649.27628875\n",
      " 305999.03737039 306266.86404682 306904.7315594  304732.51804177\n",
      " 303123.06008273 298777.94278438 293420.93414652 292252.99116655\n",
      " 291832.38612604 287138.76591496 289686.44826383 292967.64781103\n",
      " 300552.25995123 300143.06351118 302275.39293341 302770.02811101\n",
      " 301398.88624236 296433.89799448 301589.85750899 308854.47274933\n",
      " 317332.55524134 328028.74743512 329586.21904675 326658.63868512\n",
      " 329773.24735375 327772.85703403 328096.21304493 333221.39641139\n",
      " 330506.8368704  326654.06253203 321081.32194719 317288.79291664\n",
      " 318351.39266968 315594.94568416 312798.91633018 312261.06178626\n",
      " 306317.20210879 298931.53960956 302688.63753447 304513.3493382\n",
      " 307465.82172785 304191.5865454  303345.03920702 305524.06701255\n",
      " 306169.71716088 308229.17674832 301540.8141344  298188.39867493\n",
      " 297745.02891518 295163.47437986 300927.31932298 295492.75149124\n",
      " 291684.27381974 289919.59391849 287975.3056251  284332.65565705\n",
      " 279854.65967347 278124.16653422 278672.30826058 275707.68304985\n",
      " 278809.09171971 279122.76108706 278961.38515848 271703.10090266\n",
      " 268180.41973851 263681.77509618 260086.71121499 257278.75859516\n",
      " 256511.79110491 257596.86992465 260641.11004697 261479.16626182\n",
      " 262848.86459964 262224.31971102 261402.04124901 260880.76431728\n",
      " 265007.17701642 265162.28785606 263568.99655479 263934.92719164\n",
      " 261494.05037829 258489.66579562 250028.81480415 244131.07570656\n",
      " 240759.35312568 240546.58867277 238490.61446597 238918.01832171\n",
      " 234520.78103339 227910.98135611 232671.32861718 232763.17325243\n",
      " 233547.74024826 233241.5989356  229461.79039938 225842.31858164\n",
      " 226466.32402054 228864.03585711 228587.07166826 226654.71791112\n",
      " 225495.39751569 216876.88423242 212281.47155113 209381.18429219\n",
      " 207401.57970113 203180.35082201 201406.06615292 204649.82581377\n",
      " 201353.77560557 200050.8908846  200865.76844389 201859.82115162\n",
      " 207875.91324691 204595.19582024 205302.20612631 197569.78461464\n",
      " 193018.18568409 191847.86337527 186369.64246076 179393.48605115\n",
      " 177203.72209301 179803.49693186 175348.44189309 170663.32230044\n",
      " 165513.59001575 162084.29181957 159370.98926836 155790.68413148\n",
      " 149118.90677132 146156.6712184  141226.01979034 137585.61617769\n",
      " 131584.68466351 127369.53982617 127676.20102703 128277.24327522\n",
      " 129197.8711047  129587.4916839  122946.40000009 120208.68985027\n",
      " 118714.44917231 116099.2912167  119277.24217408 116497.85049961\n",
      " 117059.35065713 114828.57059687 114467.27534795 120019.39112929\n",
      " 119141.94733329 113788.64625435 107711.22562327 103955.88877077\n",
      " 103962.80499562 102669.36858417 102735.36085243  99728.10407255\n",
      "  99349.7015987   92859.75624169  83340.3820648   82437.03693825\n",
      "  85758.5172959   88260.14922147  85307.23396409  91348.05915329\n",
      "  93896.35804566  91672.70255594  90038.52533179  91850.34228893\n",
      "  92835.18652034  91510.52948014  89226.08286416  83198.30324535\n",
      "  83869.36366309  87635.13989817  87650.34294883  83664.32518964\n",
      "  82967.70373947  88049.33093751  94289.43033253  95731.13534617\n",
      " 101854.95954416  97128.81989771  92680.23126407  91905.55019275\n",
      "  93093.9790937   91556.29244954  91767.85861349  83394.14648428\n",
      "  77181.36541704  74449.38145156  71921.85970884  70019.87115853\n",
      "  70166.77707073  70091.5836321   75089.11064048  76427.10954165\n",
      "  78293.86632518  80640.9452276   79325.84480078  77353.05517512\n",
      "  71610.67057965  76589.04191678  85317.06298853  92247.88145194\n",
      "  89972.38317506  87145.03954499  84804.15780252  86171.55053645\n",
      "  86416.75837213  90915.54585203  91770.82024743  86585.44905972\n",
      "  82829.34918069  82098.05953292  81025.70783318  81760.52278137\n",
      "  77653.21877525]\n"
     ]
    }
   ],
   "source": [
    "# Calculate MIZ width\n",
    "ds = xr.open_dataset(\"/home/566/nd0349/kmean_2009.nc\")\n",
    "n_days, n_lat, n_lon = ds['k'].shape\n",
    "miz_cluster = 0 # What cluster does the MIZ correspond with?\n",
    "\n",
    "# Initialise arrays\n",
    "miz_width_array = np.empty((n_days,n_lon))\n",
    "effective_miz_width_array = np.empty((n_days,n_lon))\n",
    "sic_width_array = np.empty((n_days,n_lon))\n",
    "\n",
    "day_vec = range(0,n_days,1)\n",
    "\n",
    "# Circumpolar for each day\n",
    "for day_idx in day_vec:\n",
    "    progressBar = \"\\rProgress: \" + ProgressBar(n_days, day_idx+1, 20, '#', '.')\n",
    "    ShowBar(progressBar)\n",
    "    for lon_idx in range(0,n_lon):\n",
    "        # MIZ width\n",
    "        miz_idx = ds['k'][day_idx,:,lon_idx].data == miz_cluster\n",
    "        sic_idx = ds['aice'][day_idx,:,lon_idx].data > 0.15\n",
    "        miz_idx = miz_idx*sic_idx\n",
    "        sic_1580_idx = np.logical_and(sic_idx,ds['aice'][day_idx,:,lon_idx].data < 0.8)\n",
    "        if not any(miz_idx):\n",
    "            # If there are no MIZ cells then set distance to 0\n",
    "            miz_width_array[day_idx,lon_idx] = 0\n",
    "            effective_miz_width_array[day_idx,lon_idx] = 0\n",
    "        else:\n",
    "            miz_width_array[day_idx,lon_idx] = ds['HTE'][miz_idx,lon_idx].data.sum()\n",
    "            effective_miz_width_array[day_idx,lon_idx] = np.multiply(ds['HTE'][miz_idx,lon_idx].data, ds['aice'][day_idx,miz_idx,lon_idx].data).sum()\n",
    "        if not any(sic_1580_idx):\n",
    "            sic_width_array[day_idx,lon_idx] = 0\n",
    "        else:\n",
    "            sic_width_array[day_idx,lon_idx] = ds['HTE'][sic_1580_idx,lon_idx].data.sum()\n",
    "\n",
    "print(miz_width_array.mean(axis=1))\n",
    "print(effective_miz_width_array.mean(axis=1))\n",
    "\n"
   ]
  },
  {
   "cell_type": "code",
   "execution_count": 230,
   "id": "9ec06b30-13e0-483b-9439-0ba8013095f0",
   "metadata": {},
   "outputs": [
    {
     "data": {
      "text/html": [
       "<div>\n",
       "<style scoped>\n",
       "    .dataframe tbody tr th:only-of-type {\n",
       "        vertical-align: middle;\n",
       "    }\n",
       "\n",
       "    .dataframe tbody tr th {\n",
       "        vertical-align: top;\n",
       "    }\n",
       "\n",
       "    .dataframe thead th {\n",
       "        text-align: right;\n",
       "    }\n",
       "</style>\n",
       "<table border=\"1\" class=\"dataframe\">\n",
       "  <thead>\n",
       "    <tr style=\"text-align: right;\">\n",
       "      <th></th>\n",
       "      <th>date</th>\n",
       "      <th>absolute</th>\n",
       "      <th>effective</th>\n",
       "      <th>sic</th>\n",
       "    </tr>\n",
       "  </thead>\n",
       "  <tbody>\n",
       "    <tr>\n",
       "      <th>0</th>\n",
       "      <td>2009-01-01</td>\n",
       "      <td>69.702947</td>\n",
       "      <td>433.369701</td>\n",
       "      <td>4.642413e-310</td>\n",
       "    </tr>\n",
       "    <tr>\n",
       "      <th>1</th>\n",
       "      <td>2009-01-02</td>\n",
       "      <td>54.511152</td>\n",
       "      <td>414.518644</td>\n",
       "      <td>4.642421e-310</td>\n",
       "    </tr>\n",
       "    <tr>\n",
       "      <th>2</th>\n",
       "      <td>2009-01-03</td>\n",
       "      <td>42.230537</td>\n",
       "      <td>381.106672</td>\n",
       "      <td>4.642425e-310</td>\n",
       "    </tr>\n",
       "    <tr>\n",
       "      <th>3</th>\n",
       "      <td>2009-01-04</td>\n",
       "      <td>44.000386</td>\n",
       "      <td>348.174315</td>\n",
       "      <td>4.642425e-310</td>\n",
       "    </tr>\n",
       "    <tr>\n",
       "      <th>4</th>\n",
       "      <td>2009-01-05</td>\n",
       "      <td>44.842381</td>\n",
       "      <td>313.015554</td>\n",
       "      <td>4.642425e-310</td>\n",
       "    </tr>\n",
       "    <tr>\n",
       "      <th>...</th>\n",
       "      <td>...</td>\n",
       "      <td>...</td>\n",
       "      <td>...</td>\n",
       "      <td>...</td>\n",
       "    </tr>\n",
       "    <tr>\n",
       "      <th>360</th>\n",
       "      <td>2009-12-27</td>\n",
       "      <td>82.829349</td>\n",
       "      <td>276.887056</td>\n",
       "      <td>5.899148e-312</td>\n",
       "    </tr>\n",
       "    <tr>\n",
       "      <th>361</th>\n",
       "      <td>2009-12-28</td>\n",
       "      <td>82.098060</td>\n",
       "      <td>286.493014</td>\n",
       "      <td>6.047688e-312</td>\n",
       "    </tr>\n",
       "    <tr>\n",
       "      <th>362</th>\n",
       "      <td>2009-12-29</td>\n",
       "      <td>81.025708</td>\n",
       "      <td>297.217647</td>\n",
       "      <td>1.665001e-321</td>\n",
       "    </tr>\n",
       "    <tr>\n",
       "      <th>363</th>\n",
       "      <td>2009-12-30</td>\n",
       "      <td>81.760523</td>\n",
       "      <td>298.673433</td>\n",
       "      <td>0.000000e+00</td>\n",
       "    </tr>\n",
       "    <tr>\n",
       "      <th>364</th>\n",
       "      <td>2009-12-31</td>\n",
       "      <td>77.653219</td>\n",
       "      <td>300.667577</td>\n",
       "      <td>4.614573e-321</td>\n",
       "    </tr>\n",
       "  </tbody>\n",
       "</table>\n",
       "<p>365 rows × 4 columns</p>\n",
       "</div>"
      ],
      "text/plain": [
       "          date   absolute   effective            sic\n",
       "0   2009-01-01  69.702947  433.369701  4.642413e-310\n",
       "1   2009-01-02  54.511152  414.518644  4.642421e-310\n",
       "2   2009-01-03  42.230537  381.106672  4.642425e-310\n",
       "3   2009-01-04  44.000386  348.174315  4.642425e-310\n",
       "4   2009-01-05  44.842381  313.015554  4.642425e-310\n",
       "..         ...        ...         ...            ...\n",
       "360 2009-12-27  82.829349  276.887056  5.899148e-312\n",
       "361 2009-12-28  82.098060  286.493014  6.047688e-312\n",
       "362 2009-12-29  81.025708  297.217647  1.665001e-321\n",
       "363 2009-12-30  81.760523  298.673433   0.000000e+00\n",
       "364 2009-12-31  77.653219  300.667577  4.614573e-321\n",
       "\n",
       "[365 rows x 4 columns]"
      ]
     },
     "execution_count": 230,
     "metadata": {},
     "output_type": "execute_result"
    }
   ],
   "source": [
    "#not any(sic_1580_idx)\n",
    "#savepath\n",
    "X_temp = np.empty((n_days,4))\n",
    "X_temp[:,0] = miz_width_array[day_vec,:].mean(axis=1)/1000\n",
    "X_temp[:,1] = effective_miz_width_array[day_vec,:].mean(axis=1)/1000\n",
    "X_temp[:,2] = sic_width_array[day_vec,:].mean(axis=1)/1000\n",
    "df_mizWidthsMean = pd.DataFrame(X_temp, columns = ['date', 'absolute', 'effective', 'sic'])#,'date'])\n",
    "df_mizWidthsMean['date'] = unique_dates[day_vec]\n",
    "df_mizWidthsMean"
   ]
  },
  {
   "cell_type": "code",
   "execution_count": 323,
   "id": "af532e28-4c23-4129-846b-36cc7ea782ea",
   "metadata": {},
   "outputs": [
    {
     "name": "stdout",
     "output_type": "stream",
     "text": [
      "[31, 120, 243, 334]\n",
      "<matplotlib.dates.MonthLocator object at 0x14b4b2aac3d0>\n"
     ]
    },
    {
     "data": {
      "image/png": "[encoded data removed]",
      "text/plain": [
       "<Figure size 576x288 with 1 Axes>"
      ]
     },
     "metadata": {},
     "output_type": "display_data"
    }
   ],
   "source": [
    "#not any(miz_idx)\n",
    "rc('font',**{'family':'serif','serif':['Times']})\n",
    "rc('text', usetex=True)\n",
    "x_dates = np.array(unique_dates[day_vec], dtype=np.datetime64)\n",
    "month_year_formatter = mdates.DateFormatter('%b') # The \",\" is intentional.\n",
    "\n",
    "# Plot the MIZ widths\n",
    "fig, ax = plt.subplots(figsize=(8, 4))\n",
    "\n",
    "monthly_locator = mdates.MonthLocator()\n",
    "#ax.xaxis.set_major_locator(half_year_locator)\n",
    "#ax.xaxis.set_minor_locator(monthly_locator)\n",
    "#ax.xaxis.set_major_formatter(month_year_formatter)\n",
    "#ax.xaxis.set_major_locator(mdates.MonthLocator(bymonth=1))#(1,2,3,4,5,6,7,8,9,10,11,12)))\n",
    "#ax.xaxis.set_minor_locator(mdates.MonthLocator())\n",
    "ax.xaxis.set_major_locator(mdates.MonthLocator())\n",
    "ax.xaxis.set_minor_locator(mdates.MonthLocator(bymonthday=15))\n",
    "ax.xaxis.set_major_formatter(NullFormatter())\n",
    "ax.xaxis.set_minor_formatter(mdates.DateFormatter('%b'))\n",
    "\n",
    "brouwer_dates = [31,31+28+31+30,31+28+31+30+31+30+31+31,31+28+31+30+31+30+31+31+30+31+30]\n",
    "print(brouwer_dates)\n",
    "\n",
    "print(mdates.MonthLocator(bymonthday=15))\n",
    "\n",
    "plt.style.use(\"fivethirtyeight\")\n",
    "\n",
    "plt.plot(x_dates, miz_width_array[day_vec,:].mean(axis=1)/1000, label = \"Absolute\")\n",
    "plt.plot(x_dates, effective_miz_width_array[day_vec,:].mean(axis=1)/1000, label = \"Effective\")\n",
    "plt.plot(x_dates[brouwer_dates],[40,150,200,60], '^', markersize=12, label = \"Brouwer et al. (2022)\")\n",
    "plt.plot(x_dates, sic_width_array[day_vec,:].mean(axis=1)/1000, label = \"0.15-0.80\")\n",
    "\n",
    "line_deviation = 1 * (effective_miz_width_array[day_vec,:]/1000).std(axis=1)\n",
    "mean = effective_miz_width_array[day_vec,:].mean(axis=1)/1000\n",
    "lower = (line - line_deviation)[0]\n",
    "upper = (line + line_deviation)[0]\n",
    "plt.fill_between(x_dates, (mean-lower), (mean+upper), color='r', alpha=.1)\n",
    "\n",
    "\n",
    "#plt.xticks(range(0, n_days))\n",
    "\n",
    "plt.xlabel(\"Days of 2009\")\n",
    "plt.ylabel(\"MIZ width [km]\")\n",
    "plt.legend()\n",
    "ax.set_ylim([0, 550])\n",
    "plt.show()\n",
    "\n",
    "fig.autofmt_xdate()\n",
    "fig.savefig(savepath+'miz_width.png', dpi = 300) \n",
    "#fig.savefig('temp.png', dpi=fig.dpi)\n",
    "\n"
   ]
  },
  {
   "cell_type": "code",
   "execution_count": 305,
   "id": "7e9ac145-9a18-4515-8095-e0f36c55c98e",
   "metadata": {},
   "outputs": [
    {
     "data": {
      "application/vnd.plotly.v1+json": {
       "config": {
        "plotlyServerURL": "https://plot.ly"
       },
       "data": [
        {
         "hovertemplate": "date=%{x|%B %d, %Y}<br>absolute=%{y}<extra></extra>",
         "legendgroup": "",
         "line": {
          "color": "#636efa",
          "dash": "solid"
         },
         "marker": {
          "symbol": "circle"
         },
         "mode": "lines",
         "name": "",
         "orientation": "v",
         "showlegend": false,
         "type": "scatter",
         "x": [
          "2009-01-01T00:00:00",
          "2009-01-02T00:00:00",
          "2009-01-03T00:00:00",
          "2009-01-04T00:00:00",
          "2009-01-05T00:00:00",
          "2009-01-06T00:00:00",
          "2009-01-07T00:00:00",
          "2009-01-08T00:00:00",
          "2009-01-09T00:00:00",
          "2009-01-10T00:00:00",
          "2009-01-11T00:00:00",
          "2009-01-12T00:00:00",
          "2009-01-13T00:00:00",
          "2009-01-14T00:00:00",
          "2009-01-15T00:00:00",
          "2009-01-16T00:00:00",
          "2009-01-17T00:00:00",
          "2009-01-18T00:00:00",
          "2009-01-19T00:00:00",
          "2009-01-20T00:00:00",
          "2009-01-21T00:00:00",
          "2009-01-22T00:00:00",
          "2009-01-23T00:00:00",
          "2009-01-24T00:00:00",
          "2009-01-25T00:00:00",
          "2009-01-26T00:00:00",
          "2009-01-27T00:00:00",
          "2009-01-28T00:00:00",
          "2009-01-29T00:00:00",
          "2009-01-30T00:00:00",
          "2009-01-31T00:00:00",
          "2009-02-01T00:00:00",
          "2009-02-02T00:00:00",
          "2009-02-03T00:00:00",
          "2009-02-04T00:00:00",
          "2009-02-05T00:00:00",
          "2009-02-06T00:00:00",
          "2009-02-07T00:00:00",
          "2009-02-08T00:00:00",
          "2009-02-09T00:00:00",
          "2009-02-10T00:00:00",
          "2009-02-11T00:00:00",
          "2009-02-12T00:00:00",
          "2009-02-13T00:00:00",
          "2009-02-14T00:00:00",
          "2009-02-15T00:00:00",
          "2009-02-16T00:00:00",
          "2009-02-17T00:00:00",
          "2009-02-18T00:00:00",
          "2009-02-19T00:00:00",
          "2009-02-20T00:00:00",
          "2009-02-21T00:00:00",
          "2009-02-22T00:00:00",
          "2009-02-23T00:00:00",
          "2009-02-24T00:00:00",
          "2009-02-25T00:00:00",
          "2009-02-26T00:00:00",
          "2009-02-27T00:00:00",
          "2009-02-28T00:00:00",
          "2009-03-01T00:00:00",
          "2009-03-02T00:00:00",
          "2009-03-03T00:00:00",
          "2009-03-04T00:00:00",
          "2009-03-05T00:00:00",
          "2009-03-06T00:00:00",
          "2009-03-07T00:00:00",
          "2009-03-08T00:00:00",
          "2009-03-09T00:00:00",
          "2009-03-10T00:00:00",
          "2009-03-11T00:00:00",
          "2009-03-12T00:00:00",
          "2009-03-13T00:00:00",
          "2009-03-14T00:00:00",
          "2009-03-15T00:00:00",
          "2009-03-16T00:00:00",
          "2009-03-17T00:00:00",
          "2009-03-18T00:00:00",
          "2009-03-19T00:00:00",
          "2009-03-20T00:00:00",
          "2009-03-21T00:00:00",
          "2009-03-22T00:00:00",
          "2009-03-23T00:00:00",
          "2009-03-24T00:00:00",
          "2009-03-25T00:00:00",
          "2009-03-26T00:00:00",
          "2009-03-27T00:00:00",
          "2009-03-28T00:00:00",
          "2009-03-29T00:00:00",
          "2009-03-30T00:00:00",
          "2009-03-31T00:00:00",
          "2009-04-01T00:00:00",
          "2009-04-02T00:00:00",
          "2009-04-03T00:00:00",
          "2009-04-04T00:00:00",
          "2009-04-05T00:00:00",
          "2009-04-06T00:00:00",
          "2009-04-07T00:00:00",
          "2009-04-08T00:00:00",
          "2009-04-09T00:00:00",
          "2009-04-10T00:00:00",
          "2009-04-11T00:00:00",
          "2009-04-12T00:00:00",
          "2009-04-13T00:00:00",
          "2009-04-14T00:00:00",
          "2009-04-15T00:00:00",
          "2009-04-16T00:00:00",
          "2009-04-17T00:00:00",
          "2009-04-18T00:00:00",
          "2009-04-19T00:00:00",
          "2009-04-20T00:00:00",
          "2009-04-21T00:00:00",
          "2009-04-22T00:00:00",
          "2009-04-23T00:00:00",
          "2009-04-24T00:00:00",
          "2009-04-25T00:00:00",
          "2009-04-26T00:00:00",
          "2009-04-27T00:00:00",
          "2009-04-28T00:00:00",
          "2009-04-29T00:00:00",
          "2009-04-30T00:00:00",
          "2009-05-01T00:00:00",
          "2009-05-02T00:00:00",
          "2009-05-03T00:00:00",
          "2009-05-04T00:00:00",
          "2009-05-05T00:00:00",
          "2009-05-06T00:00:00",
          "2009-05-07T00:00:00",
          "2009-05-08T00:00:00",
          "2009-05-09T00:00:00",
          "2009-05-10T00:00:00",
          "2009-05-11T00:00:00",
          "2009-05-12T00:00:00",
          "2009-05-13T00:00:00",
          "2009-05-14T00:00:00",
          "2009-05-15T00:00:00",
          "2009-05-16T00:00:00",
          "2009-05-17T00:00:00",
          "2009-05-18T00:00:00",
          "2009-05-19T00:00:00",
          "2009-05-20T00:00:00",
          "2009-05-21T00:00:00",
          "2009-05-22T00:00:00",
          "2009-05-23T00:00:00",
          "2009-05-24T00:00:00",
          "2009-05-25T00:00:00",
          "2009-05-26T00:00:00",
          "2009-05-27T00:00:00",
          "2009-05-28T00:00:00",
          "2009-05-29T00:00:00",
          "2009-05-30T00:00:00",
          "2009-05-31T00:00:00",
          "2009-06-01T00:00:00",
          "2009-06-02T00:00:00",
          "2009-06-03T00:00:00",
          "2009-06-04T00:00:00",
          "2009-06-05T00:00:00",
          "2009-06-06T00:00:00",
          "2009-06-07T00:00:00",
          "2009-06-08T00:00:00",
          "2009-06-09T00:00:00",
          "2009-06-10T00:00:00",
          "2009-06-11T00:00:00",
          "2009-06-12T00:00:00",
          "2009-06-13T00:00:00",
          "2009-06-14T00:00:00",
          "2009-06-15T00:00:00",
          "2009-06-16T00:00:00",
          "2009-06-17T00:00:00",
          "2009-06-18T00:00:00",
          "2009-06-19T00:00:00",
          "2009-06-20T00:00:00",
          "2009-06-21T00:00:00",
          "2009-06-22T00:00:00",
          "2009-06-23T00:00:00",
          "2009-06-24T00:00:00",
          "2009-06-25T00:00:00",
          "2009-06-26T00:00:00",
          "2009-06-27T00:00:00",
          "2009-06-28T00:00:00",
          "2009-06-29T00:00:00",
          "2009-06-30T00:00:00",
          "2009-07-01T00:00:00",
          "2009-07-02T00:00:00",
          "2009-07-03T00:00:00",
          "2009-07-04T00:00:00",
          "2009-07-05T00:00:00",
          "2009-07-06T00:00:00",
          "2009-07-07T00:00:00",
          "2009-07-08T00:00:00",
          "2009-07-09T00:00:00",
          "2009-07-10T00:00:00",
          "2009-07-11T00:00:00",
          "2009-07-12T00:00:00",
          "2009-07-13T00:00:00",
          "2009-07-14T00:00:00",
          "2009-07-15T00:00:00",
          "2009-07-16T00:00:00",
          "2009-07-17T00:00:00",
          "2009-07-18T00:00:00",
          "2009-07-19T00:00:00",
          "2009-07-20T00:00:00",
          "2009-07-21T00:00:00",
          "2009-07-22T00:00:00",
          "2009-07-23T00:00:00",
          "2009-07-24T00:00:00",
          "2009-07-25T00:00:00",
          "2009-07-26T00:00:00",
          "2009-07-27T00:00:00",
          "2009-07-28T00:00:00",
          "2009-07-29T00:00:00",
          "2009-07-30T00:00:00",
          "2009-07-31T00:00:00",
          "2009-08-01T00:00:00",
          "2009-08-02T00:00:00",
          "2009-08-03T00:00:00",
          "2009-08-04T00:00:00",
          "2009-08-05T00:00:00",
          "2009-08-06T00:00:00",
          "2009-08-07T00:00:00",
          "2009-08-08T00:00:00",
          "2009-08-09T00:00:00",
          "2009-08-10T00:00:00",
          "2009-08-11T00:00:00",
          "2009-08-12T00:00:00",
          "2009-08-13T00:00:00",
          "2009-08-14T00:00:00",
          "2009-08-15T00:00:00",
          "2009-08-16T00:00:00",
          "2009-08-17T00:00:00",
          "2009-08-18T00:00:00",
          "2009-08-19T00:00:00",
          "2009-08-20T00:00:00",
          "2009-08-21T00:00:00",
          "2009-08-22T00:00:00",
          "2009-08-23T00:00:00",
          "2009-08-24T00:00:00",
          "2009-08-25T00:00:00",
          "2009-08-26T00:00:00",
          "2009-08-27T00:00:00",
          "2009-08-28T00:00:00",
          "2009-08-29T00:00:00",
          "2009-08-30T00:00:00",
          "2009-08-31T00:00:00",
          "2009-09-01T00:00:00",
          "2009-09-02T00:00:00",
          "2009-09-03T00:00:00",
          "2009-09-04T00:00:00",
          "2009-09-05T00:00:00",
          "2009-09-06T00:00:00",
          "2009-09-07T00:00:00",
          "2009-09-08T00:00:00",
          "2009-09-09T00:00:00",
          "2009-09-10T00:00:00",
          "2009-09-11T00:00:00",
          "2009-09-12T00:00:00",
          "2009-09-13T00:00:00",
          "2009-09-14T00:00:00",
          "2009-09-15T00:00:00",
          "2009-09-16T00:00:00",
          "2009-09-17T00:00:00",
          "2009-09-18T00:00:00",
          "2009-09-19T00:00:00",
          "2009-09-20T00:00:00",
          "2009-09-21T00:00:00",
          "2009-09-22T00:00:00",
          "2009-09-23T00:00:00",
          "2009-09-24T00:00:00",
          "2009-09-25T00:00:00",
          "2009-09-26T00:00:00",
          "2009-09-27T00:00:00",
          "2009-09-28T00:00:00",
          "2009-09-29T00:00:00",
          "2009-09-30T00:00:00",
          "2009-10-01T00:00:00",
          "2009-10-02T00:00:00",
          "2009-10-03T00:00:00",
          "2009-10-04T00:00:00",
          "2009-10-05T00:00:00",
          "2009-10-06T00:00:00",
          "2009-10-07T00:00:00",
          "2009-10-08T00:00:00",
          "2009-10-09T00:00:00",
          "2009-10-10T00:00:00",
          "2009-10-11T00:00:00",
          "2009-10-12T00:00:00",
          "2009-10-13T00:00:00",
          "2009-10-14T00:00:00",
          "2009-10-15T00:00:00",
          "2009-10-16T00:00:00",
          "2009-10-17T00:00:00",
          "2009-10-18T00:00:00",
          "2009-10-19T00:00:00",
          "2009-10-20T00:00:00",
          "2009-10-21T00:00:00",
          "2009-10-22T00:00:00",
          "2009-10-23T00:00:00",
          "2009-10-24T00:00:00",
          "2009-10-25T00:00:00",
          "2009-10-26T00:00:00",
          "2009-10-27T00:00:00",
          "2009-10-28T00:00:00",
          "2009-10-29T00:00:00",
          "2009-10-30T00:00:00",
          "2009-10-31T00:00:00",
          "2009-11-01T00:00:00",
          "2009-11-02T00:00:00",
          "2009-11-03T00:00:00",
          "2009-11-04T00:00:00",
          "2009-11-05T00:00:00",
          "2009-11-06T00:00:00",
          "2009-11-07T00:00:00",
          "2009-11-08T00:00:00",
          "2009-11-09T00:00:00",
          "2009-11-10T00:00:00",
          "2009-11-11T00:00:00",
          "2009-11-12T00:00:00",
          "2009-11-13T00:00:00",
          "2009-11-14T00:00:00",
          "2009-11-15T00:00:00",
          "2009-11-16T00:00:00",
          "2009-11-17T00:00:00",
          "2009-11-18T00:00:00",
          "2009-11-19T00:00:00",
          "2009-11-20T00:00:00",
          "2009-11-21T00:00:00",
          "2009-11-22T00:00:00",
          "2009-11-23T00:00:00",
          "2009-11-24T00:00:00",
          "2009-11-25T00:00:00",
          "2009-11-26T00:00:00",
          "2009-11-27T00:00:00",
          "2009-11-28T00:00:00",
          "2009-11-29T00:00:00",
          "2009-11-30T00:00:00",
          "2009-12-01T00:00:00",
          "2009-12-02T00:00:00",
          "2009-12-03T00:00:00",
          "2009-12-04T00:00:00",
          "2009-12-05T00:00:00",
          "2009-12-06T00:00:00",
          "2009-12-07T00:00:00",
          "2009-12-08T00:00:00",
          "2009-12-09T00:00:00",
          "2009-12-10T00:00:00",
          "2009-12-11T00:00:00",
          "2009-12-12T00:00:00",
          "2009-12-13T00:00:00",
          "2009-12-14T00:00:00",
          "2009-12-15T00:00:00",
          "2009-12-16T00:00:00",
          "2009-12-17T00:00:00",
          "2009-12-18T00:00:00",
          "2009-12-19T00:00:00",
          "2009-12-20T00:00:00",
          "2009-12-21T00:00:00",
          "2009-12-22T00:00:00",
          "2009-12-23T00:00:00",
          "2009-12-24T00:00:00",
          "2009-12-25T00:00:00",
          "2009-12-26T00:00:00",
          "2009-12-27T00:00:00",
          "2009-12-28T00:00:00",
          "2009-12-29T00:00:00",
          "2009-12-30T00:00:00",
          "2009-12-31T00:00:00"
         ],
         "xaxis": "x",
         "y": [
          69.70294712191843,
          54.51115245081899,
          42.230536919309955,
          44.00038562193155,
          44.842381064452034,
          42.29511646590765,
          40.40120230412364,
          42.64820531783933,
          49.0811480008634,
          49.203380284468935,
          45.472253848883284,
          47.99491723382794,
          42.397408188036145,
          39.017204751506846,
          35.570198937942344,
          35.932859812316934,
          33.98321745484805,
          35.122867157877494,
          35.20929115488327,
          34.42428831132994,
          32.442853066267126,
          30.290750342303372,
          30.831073344557115,
          29.274636193460218,
          32.187541783125035,
          30.940273511793933,
          29.52270319772136,
          28.719756081856968,
          25.95723498185907,
          23.35596459272054,
          22.0270408890298,
          20.01901124827996,
          18.386489258858457,
          16.817071294117326,
          15.444238194282805,
          13.33168640997912,
          11.997010022477449,
          11.155490455214037,
          10.562706849308181,
          10.381017275187732,
          10.631052873923792,
          10.800239121737103,
          10.628026725688166,
          9.584966338325312,
          9.743788372103937,
          9.562075081398051,
          10.40921581879153,
          11.459997252381331,
          12.231010339027993,
          13.15053749878099,
          17.004305221901046,
          19.370755525390535,
          18.5841440143117,
          18.38518316028548,
          19.312842353012474,
          22.121575438054318,
          24.67538084537033,
          25.810873294116913,
          25.78798773105273,
          25.446070610086135,
          24.414045301147457,
          21.277188977594697,
          19.452960752425557,
          18.65860865462975,
          17.446842048484804,
          16.16803611514174,
          16.204897646898683,
          16.48752927948813,
          17.92041149634373,
          19.829186654011536,
          22.839435325177003,
          25.43968253644139,
          28.71712056388342,
          32.45784518933127,
          38.39973560282852,
          45.552004461424474,
          54.38587860802066,
          62.60746651737585,
          70.33614975250698,
          76.20292865242847,
          79.92327171606003,
          88.06217184393373,
          99.4571133024422,
          105.88550643855329,
          112.77744860787769,
          121.29569212070773,
          133.05710482830335,
          146.57044223972505,
          158.30996586784337,
          166.14476514801,
          171.76493633991078,
          177.32766668190152,
          184.0323122483084,
          189.2900460704276,
          197.0898877246957,
          197.93486333538277,
          200.99429416423283,
          209.00881832286734,
          214.78807762254203,
          219.7183511112608,
          229.11203153274877,
          242.40279673774077,
          249.39303325749893,
          255.4012682404592,
          265.2542548620887,
          269.28826767686166,
          266.9593642524706,
          267.8182450458713,
          267.54056273787245,
          273.5724624198755,
          278.19855017264564,
          278.228010611614,
          278.1780281057438,
          275.8058039152404,
          277.54255484368684,
          271.09797662042075,
          272.53177943123404,
          274.76101518884866,
          269.34622418737615,
          275.74869231436185,
          279.90624786185316,
          278.5227273658403,
          273.33228334319057,
          271.6782535495217,
          268.4994929762231,
          264.769872103097,
          266.4043100887391,
          264.49390920863647,
          263.54954452072394,
          266.7160750985692,
          274.7478910180184,
          280.90567518053444,
          283.038803391133,
          283.13388646171535,
          289.32064813754494,
          287.4605856271683,
          288.7530796481518,
          285.77304032455885,
          286.7449499278278,
          283.02026420804054,
          282.04987101375735,
          284.56396748760505,
          291.3065890546941,
          297.6716693011801,
          302.2575756386072,
          307.4511461058145,
          314.19562517321475,
          308.6492762887493,
          305.99903737039136,
          306.2668640468167,
          306.904731559402,
          304.7325180417668,
          303.12306008273356,
          298.77794278438387,
          293.4209341465203,
          292.2529911665454,
          291.83238612603606,
          287.13876591496063,
          289.68644826383326,
          292.96764781103167,
          300.55225995122726,
          300.14306351117943,
          302.27539293340817,
          302.77002811100556,
          301.398886242361,
          296.43389799447624,
          301.5898575089918,
          308.854472749327,
          317.3325552413368,
          328.02874743512314,
          329.586219046749,
          326.6586386851249,
          329.77324735375,
          327.7728570340334,
          328.09621304492737,
          333.221396411393,
          330.5068368704005,
          326.65406253202616,
          321.08132194719343,
          317.2887929166443,
          318.3513926696804,
          315.5949456841632,
          312.79891633018127,
          312.2610617862613,
          306.3172021087935,
          298.93153960956187,
          302.68863753446834,
          304.51334933820397,
          307.46582172785185,
          304.19158654539575,
          303.3450392070245,
          305.52406701255484,
          306.169717160878,
          308.2291767483226,
          301.5408141343961,
          298.188398674935,
          297.7450289151757,
          295.1634743798571,
          300.92731932298045,
          295.4927514912398,
          291.6842738197416,
          289.9195939184852,
          287.97530562509985,
          284.3326556570544,
          279.85465967346846,
          278.12416653422076,
          278.6723082605784,
          275.7076830498502,
          278.8090917197057,
          279.1227610870562,
          278.961385158477,
          271.7031009026577,
          268.18041973851246,
          263.6817750961763,
          260.0867112149929,
          257.2787585951597,
          256.5117911049083,
          257.5968699246508,
          260.64111004697367,
          261.4791662618164,
          262.8488645996441,
          262.224319711025,
          261.4020412490078,
          260.8807643172821,
          265.00717701641634,
          265.1622878560599,
          263.5689965547925,
          263.93492719163663,
          261.4940503782869,
          258.4896657956235,
          250.02881480414644,
          244.13107570656135,
          240.75935312568492,
          240.54658867277237,
          238.4906144659747,
          238.91801832170776,
          234.5207810333929,
          227.91098135610682,
          232.67132861718375,
          232.76317325242798,
          233.54774024826213,
          233.2415989355978,
          229.46179039937746,
          225.842318581636,
          226.46632402054445,
          228.86403585711082,
          228.58707166825806,
          226.6547179111204,
          225.4953975156887,
          216.87688423241923,
          212.2814715511315,
          209.38118429219122,
          207.40157970113046,
          203.1803508220098,
          201.40606615292398,
          204.64982581376847,
          201.35377560557458,
          200.050890884599,
          200.8657684438854,
          201.85982115162204,
          207.87591324691286,
          204.59519582023725,
          205.30220612630995,
          197.56978461464263,
          193.01818568409402,
          191.84786337527103,
          186.3696424607646,
          179.39348605114714,
          177.20372209301152,
          179.8034969318575,
          175.3484418930935,
          170.6633223004394,
          165.51359001575378,
          162.08429181957055,
          159.37098926835824,
          155.79068413148445,
          149.11890677131845,
          146.15667121840198,
          141.22601979033652,
          137.58561617768655,
          131.58468466350777,
          127.36953982616974,
          127.67620102703022,
          128.2772432752168,
          129.19787110469696,
          129.58749168389548,
          122.9464000000864,
          120.20868985027062,
          118.7144491723097,
          116.0992912167026,
          119.27724217408417,
          116.49785049961106,
          117.05935065712987,
          114.8285705968729,
          114.46727534795454,
          120.01939112929324,
          119.14194733329019,
          113.7886462543497,
          107.71122562327488,
          103.95588877076875,
          103.96280499561688,
          102.66936858417094,
          102.73536085242827,
          99.72810407255112,
          99.3497015987041,
          92.85975624168663,
          83.34038206480338,
          82.43703693824912,
          85.75851729590386,
          88.26014922147007,
          85.30723396408906,
          91.34805915328919,
          93.89635804565583,
          91.67270255594028,
          90.03852533179125,
          91.85034228892623,
          92.83518652033571,
          91.5105294801441,
          89.22608286416084,
          83.19830324535259,
          83.86936366308532,
          87.63513989817014,
          87.65034294882587,
          83.66432518963686,
          82.96770373947254,
          88.04933093750572,
          94.28943033253213,
          95.73113534616704,
          101.85495954415761,
          97.12881989770521,
          92.68023126407331,
          91.90555019275223,
          93.09397909369963,
          91.55629244954383,
          91.76785861348552,
          83.39414648428075,
          77.18136541704438,
          74.44938145156021,
          71.92185970883884,
          70.01987115852991,
          70.166777070727,
          70.09158363210354,
          75.08911064047538,
          76.42710954164606,
          78.29386632518383,
          80.64094522760162,
          79.32584480078394,
          77.35305517511947,
          71.61067057964982,
          76.58904191677601,
          85.31706298852573,
          92.24788145193567,
          89.97238317506006,
          87.14503954499456,
          84.8041578025169,
          86.17155053644737,
          86.41675837212892,
          90.91554585202566,
          91.77082024742558,
          86.58544905971746,
          82.82934918069007,
          82.09805953292482,
          81.02570783318087,
          81.76052278137112,
          77.6532187752536
         ],
         "yaxis": "y"
        }
       ],
       "layout": {
        "autosize": true,
        "legend": {
         "tracegroupgap": 0
        },
        "template": {
         "data": {
          "bar": [
           {
            "error_x": {
             "color": "#2a3f5f"
            },
            "error_y": {
             "color": "#2a3f5f"
            },
            "marker": {
             "line": {
              "color": "#E5ECF6",
              "width": 0.5
             },
             "pattern": {
              "fillmode": "overlay",
              "size": 10,
              "solidity": 0.2
             }
            },
            "type": "bar"
           }
          ],
          "barpolar": [
           {
            "marker": {
             "line": {
              "color": "#E5ECF6",
              "width": 0.5
             },
             "pattern": {
              "fillmode": "overlay",
              "size": 10,
              "solidity": 0.2
             }
            },
            "type": "barpolar"
           }
          ],
          "carpet": [
           {
            "aaxis": {
             "endlinecolor": "#2a3f5f",
             "gridcolor": "white",
             "linecolor": "white",
             "minorgridcolor": "white",
             "startlinecolor": "#2a3f5f"
            },
            "baxis": {
             "endlinecolor": "#2a3f5f",
             "gridcolor": "white",
             "linecolor": "white",
             "minorgridcolor": "white",
             "startlinecolor": "#2a3f5f"
            },
            "type": "carpet"
           }
          ],
          "choropleth": [
           {
            "colorbar": {
             "outlinewidth": 0,
             "ticks": ""
            },
            "type": "choropleth"
           }
          ],
          "contour": [
           {
            "colorbar": {
             "outlinewidth": 0,
             "ticks": ""
            },
            "colorscale": [
             [
              0,
              "#0d0887"
             ],
             [
              0.1111111111111111,
              "#46039f"
             ],
             [
              0.2222222222222222,
              "#7201a8"
             ],
             [
              0.3333333333333333,
              "#9c179e"
             ],
             [
              0.4444444444444444,
              "#bd3786"
             ],
             [
              0.5555555555555556,
              "#d8576b"
             ],
             [
              0.6666666666666666,
              "#ed7953"
             ],
             [
              0.7777777777777778,
              "#fb9f3a"
             ],
             [
              0.8888888888888888,
              "#fdca26"
             ],
             [
              1,
              "#f0f921"
             ]
            ],
            "type": "contour"
           }
          ],
          "contourcarpet": [
           {
            "colorbar": {
             "outlinewidth": 0,
             "ticks": ""
            },
            "type": "contourcarpet"
           }
          ],
          "heatmap": [
           {
            "colorbar": {
             "outlinewidth": 0,
             "ticks": ""
            },
            "colorscale": [
             [
              0,
              "#0d0887"
             ],
             [
              0.1111111111111111,
              "#46039f"
             ],
             [
              0.2222222222222222,
              "#7201a8"
             ],
             [
              0.3333333333333333,
              "#9c179e"
             ],
             [
              0.4444444444444444,
              "#bd3786"
             ],
             [
              0.5555555555555556,
              "#d8576b"
             ],
             [
              0.6666666666666666,
              "#ed7953"
             ],
             [
              0.7777777777777778,
              "#fb9f3a"
             ],
             [
              0.8888888888888888,
              "#fdca26"
             ],
             [
              1,
              "#f0f921"
             ]
            ],
            "type": "heatmap"
           }
          ],
          "heatmapgl": [
           {
            "colorbar": {
             "outlinewidth": 0,
             "ticks": ""
            },
            "colorscale": [
             [
              0,
              "#0d0887"
             ],
             [
              0.1111111111111111,
              "#46039f"
             ],
             [
              0.2222222222222222,
              "#7201a8"
             ],
             [
              0.3333333333333333,
              "#9c179e"
             ],
             [
              0.4444444444444444,
              "#bd3786"
             ],
             [
              0.5555555555555556,
              "#d8576b"
             ],
             [
              0.6666666666666666,
              "#ed7953"
             ],
             [
              0.7777777777777778,
              "#fb9f3a"
             ],
             [
              0.8888888888888888,
              "#fdca26"
             ],
             [
              1,
              "#f0f921"
             ]
            ],
            "type": "heatmapgl"
           }
          ],
          "histogram": [
           {
            "marker": {
             "pattern": {
              "fillmode": "overlay",
              "size": 10,
              "solidity": 0.2
             }
            },
            "type": "histogram"
           }
          ],
          "histogram2d": [
           {
            "colorbar": {
             "outlinewidth": 0,
             "ticks": ""
            },
            "colorscale": [
             [
              0,
              "#0d0887"
             ],
             [
              0.1111111111111111,
              "#46039f"
             ],
             [
              0.2222222222222222,
              "#7201a8"
             ],
             [
              0.3333333333333333,
              "#9c179e"
             ],
             [
              0.4444444444444444,
              "#bd3786"
             ],
             [
              0.5555555555555556,
              "#d8576b"
             ],
             [
              0.6666666666666666,
              "#ed7953"
             ],
             [
              0.7777777777777778,
              "#fb9f3a"
             ],
             [
              0.8888888888888888,
              "#fdca26"
             ],
             [
              1,
              "#f0f921"
             ]
            ],
            "type": "histogram2d"
           }
          ],
          "histogram2dcontour": [
           {
            "colorbar": {
             "outlinewidth": 0,
             "ticks": ""
            },
            "colorscale": [
             [
              0,
              "#0d0887"
             ],
             [
              0.1111111111111111,
              "#46039f"
             ],
             [
              0.2222222222222222,
              "#7201a8"
             ],
             [
              0.3333333333333333,
              "#9c179e"
             ],
             [
              0.4444444444444444,
              "#bd3786"
             ],
             [
              0.5555555555555556,
              "#d8576b"
             ],
             [
              0.6666666666666666,
              "#ed7953"
             ],
             [
              0.7777777777777778,
              "#fb9f3a"
             ],
             [
              0.8888888888888888,
              "#fdca26"
             ],
             [
              1,
              "#f0f921"
             ]
            ],
            "type": "histogram2dcontour"
           }
          ],
          "mesh3d": [
           {
            "colorbar": {
             "outlinewidth": 0,
             "ticks": ""
            },
            "type": "mesh3d"
           }
          ],
          "parcoords": [
           {
            "line": {
             "colorbar": {
              "outlinewidth": 0,
              "ticks": ""
             }
            },
            "type": "parcoords"
           }
          ],
          "pie": [
           {
            "automargin": true,
            "type": "pie"
           }
          ],
          "scatter": [
           {
            "fillpattern": {
             "fillmode": "overlay",
             "size": 10,
             "solidity": 0.2
            },
            "type": "scatter"
           }
          ],
          "scatter3d": [
           {
            "line": {
             "colorbar": {
              "outlinewidth": 0,
              "ticks": ""
             }
            },
            "marker": {
             "colorbar": {
              "outlinewidth": 0,
              "ticks": ""
             }
            },
            "type": "scatter3d"
           }
          ],
          "scattercarpet": [
           {
            "marker": {
             "colorbar": {
              "outlinewidth": 0,
              "ticks": ""
             }
            },
            "type": "scattercarpet"
           }
          ],
          "scattergeo": [
           {
            "marker": {
             "colorbar": {
              "outlinewidth": 0,
              "ticks": ""
             }
            },
            "type": "scattergeo"
           }
          ],
          "scattergl": [
           {
            "marker": {
             "colorbar": {
              "outlinewidth": 0,
              "ticks": ""
             }
            },
            "type": "scattergl"
           }
          ],
          "scattermapbox": [
           {
            "marker": {
             "colorbar": {
              "outlinewidth": 0,
              "ticks": ""
             }
            },
            "type": "scattermapbox"
           }
          ],
          "scatterpolar": [
           {
            "marker": {
             "colorbar": {
              "outlinewidth": 0,
              "ticks": ""
             }
            },
            "type": "scatterpolar"
           }
          ],
          "scatterpolargl": [
           {
            "marker": {
             "colorbar": {
              "outlinewidth": 0,
              "ticks": ""
             }
            },
            "type": "scatterpolargl"
           }
          ],
          "scatterternary": [
           {
            "marker": {
             "colorbar": {
              "outlinewidth": 0,
              "ticks": ""
             }
            },
            "type": "scatterternary"
           }
          ],
          "surface": [
           {
            "colorbar": {
             "outlinewidth": 0,
             "ticks": ""
            },
            "colorscale": [
             [
              0,
              "#0d0887"
             ],
             [
              0.1111111111111111,
              "#46039f"
             ],
             [
              0.2222222222222222,
              "#7201a8"
             ],
             [
              0.3333333333333333,
              "#9c179e"
             ],
             [
              0.4444444444444444,
              "#bd3786"
             ],
             [
              0.5555555555555556,
              "#d8576b"
             ],
             [
              0.6666666666666666,
              "#ed7953"
             ],
             [
              0.7777777777777778,
              "#fb9f3a"
             ],
             [
              0.8888888888888888,
              "#fdca26"
             ],
             [
              1,
              "#f0f921"
             ]
            ],
            "type": "surface"
           }
          ],
          "table": [
           {
            "cells": {
             "fill": {
              "color": "#EBF0F8"
             },
             "line": {
              "color": "white"
             }
            },
            "header": {
             "fill": {
              "color": "#C8D4E3"
             },
             "line": {
              "color": "white"
             }
            },
            "type": "table"
           }
          ]
         },
         "layout": {
          "annotationdefaults": {
           "arrowcolor": "#2a3f5f",
           "arrowhead": 0,
           "arrowwidth": 1
          },
          "autotypenumbers": "strict",
          "coloraxis": {
           "colorbar": {
            "outlinewidth": 0,
            "ticks": ""
           }
          },
          "colorscale": {
           "diverging": [
            [
             0,
             "#8e0152"
            ],
            [
             0.1,
             "#c51b7d"
            ],
            [
             0.2,
             "#de77ae"
            ],
            [
             0.3,
             "#f1b6da"
            ],
            [
             0.4,
             "#fde0ef"
            ],
            [
             0.5,
             "#f7f7f7"
            ],
            [
             0.6,
             "#e6f5d0"
            ],
            [
             0.7,
             "#b8e186"
            ],
            [
             0.8,
             "#7fbc41"
            ],
            [
             0.9,
             "#4d9221"
            ],
            [
             1,
             "#276419"
            ]
           ],
           "sequential": [
            [
             0,
             "#0d0887"
            ],
            [
             0.1111111111111111,
             "#46039f"
            ],
            [
             0.2222222222222222,
             "#7201a8"
            ],
            [
             0.3333333333333333,
             "#9c179e"
            ],
            [
             0.4444444444444444,
             "#bd3786"
            ],
            [
             0.5555555555555556,
             "#d8576b"
            ],
            [
             0.6666666666666666,
             "#ed7953"
            ],
            [
             0.7777777777777778,
             "#fb9f3a"
            ],
            [
             0.8888888888888888,
             "#fdca26"
            ],
            [
             1,
             "#f0f921"
            ]
           ],
           "sequentialminus": [
            [
             0,
             "#0d0887"
            ],
            [
             0.1111111111111111,
             "#46039f"
            ],
            [
             0.2222222222222222,
             "#7201a8"
            ],
            [
             0.3333333333333333,
             "#9c179e"
            ],
            [
             0.4444444444444444,
             "#bd3786"
            ],
            [
             0.5555555555555556,
             "#d8576b"
            ],
            [
             0.6666666666666666,
             "#ed7953"
            ],
            [
             0.7777777777777778,
             "#fb9f3a"
            ],
            [
             0.8888888888888888,
             "#fdca26"
            ],
            [
             1,
             "#f0f921"
            ]
           ]
          },
          "colorway": [
           "#636efa",
           "#EF553B",
           "#00cc96",
           "#ab63fa",
           "#FFA15A",
           "#19d3f3",
           "#FF6692",
           "#B6E880",
           "#FF97FF",
           "#FECB52"
          ],
          "font": {
           "color": "#2a3f5f"
          },
          "geo": {
           "bgcolor": "white",
           "lakecolor": "white",
           "landcolor": "#E5ECF6",
           "showlakes": true,
           "showland": true,
           "subunitcolor": "white"
          },
          "hoverlabel": {
           "align": "left"
          },
          "hovermode": "closest",
          "mapbox": {
           "style": "light"
          },
          "paper_bgcolor": "white",
          "plot_bgcolor": "#E5ECF6",
          "polar": {
           "angularaxis": {
            "gridcolor": "white",
            "linecolor": "white",
            "ticks": ""
           },
           "bgcolor": "#E5ECF6",
           "radialaxis": {
            "gridcolor": "white",
            "linecolor": "white",
            "ticks": ""
           }
          },
          "scene": {
           "xaxis": {
            "backgroundcolor": "#E5ECF6",
            "gridcolor": "white",
            "gridwidth": 2,
            "linecolor": "white",
            "showbackground": true,
            "ticks": "",
            "zerolinecolor": "white"
           },
           "yaxis": {
            "backgroundcolor": "#E5ECF6",
            "gridcolor": "white",
            "gridwidth": 2,
            "linecolor": "white",
            "showbackground": true,
            "ticks": "",
            "zerolinecolor": "white"
           },
           "zaxis": {
            "backgroundcolor": "#E5ECF6",
            "gridcolor": "white",
            "gridwidth": 2,
            "linecolor": "white",
            "showbackground": true,
            "ticks": "",
            "zerolinecolor": "white"
           }
          },
          "shapedefaults": {
           "line": {
            "color": "#2a3f5f"
           }
          },
          "ternary": {
           "aaxis": {
            "gridcolor": "white",
            "linecolor": "white",
            "ticks": ""
           },
           "baxis": {
            "gridcolor": "white",
            "linecolor": "white",
            "ticks": ""
           },
           "bgcolor": "#E5ECF6",
           "caxis": {
            "gridcolor": "white",
            "linecolor": "white",
            "ticks": ""
           }
          },
          "title": {
           "x": 0.05
          },
          "xaxis": {
           "automargin": true,
           "gridcolor": "white",
           "linecolor": "white",
           "ticks": "",
           "title": {
            "standoff": 15
           },
           "zerolinecolor": "white",
           "zerolinewidth": 2
          },
          "yaxis": {
           "automargin": true,
           "gridcolor": "white",
           "linecolor": "white",
           "ticks": "",
           "title": {
            "standoff": 15
           },
           "zerolinecolor": "white",
           "zerolinewidth": 2
          }
         }
        },
        "title": {
         "text": "custom tick labels"
        },
        "xaxis": {
         "anchor": "y",
         "autorange": true,
         "domain": [
          0,
          1
         ],
         "range": [
          "2009-01-01",
          "2009-12-31"
         ],
         "title": {
          "text": "date"
         },
         "type": "date"
        },
        "yaxis": {
         "anchor": "x",
         "autorange": true,
         "domain": [
          0,
          1
         ],
         "range": [
          -8.41899832582389,
          351.202469818615
         ],
         "title": {
          "text": "absolute"
         },
         "type": "linear"
        }
       }
      },
      "image/png": "[encoded data removed]",
      "text/html": [
       "<div>                            <div id=\"01bdd180-229d-4509-a28c-cd1a4d98f413\" class=\"plotly-graph-div\" style=\"height:525px; width:100%;\"></div>            <script type=\"text/javascript\">                require([\"plotly\"], function(Plotly) {                    window.PLOTLYENV=window.PLOTLYENV || {};                                    if (document.getElementById(\"01bdd180-229d-4509-a28c-cd1a4d98f413\")) {                    Plotly.newPlot(                        \"01bdd180-229d-4509-a28c-cd1a4d98f413\",                        [{\"hovertemplate\":\"date=%{x|%B %d, %Y}<br>absolute=%{y}<extra></extra>\",\"legendgroup\":\"\",\"line\":{\"color\":\"#636efa\",\"dash\":\"solid\"},\"marker\":{\"symbol\":\"circle\"},\"mode\":\"lines\",\"name\":\"\",\"orientation\":\"v\",\"showlegend\":false,\"x\":[\"2009-01-01T00:00:00\",\"2009-01-02T00:00:00\",\"2009-01-03T00:00:00\",\"2009-01-04T00:00:00\",\"2009-01-05T00:00:00\",\"2009-01-06T00:00:00\",\"2009-01-07T00:00:00\",\"2009-01-08T00:00:00\",\"2009-01-09T00:00:00\",\"2009-01-10T00:00:00\",\"2009-01-11T00:00:00\",\"2009-01-12T00:00:00\",\"2009-01-13T00:00:00\",\"2009-01-14T00:00:00\",\"2009-01-15T00:00:00\",\"2009-01-16T00:00:00\",\"2009-01-17T00:00:00\",\"2009-01-18T00:00:00\",\"2009-01-19T00:00:00\",\"2009-01-20T00:00:00\",\"2009-01-21T00:00:00\",\"2009-01-22T00:00:00\",\"2009-01-23T00:00:00\",\"2009-01-24T00:00:00\",\"2009-01-25T00:00:00\",\"2009-01-26T00:00:00\",\"2009-01-27T00:00:00\",\"2009-01-28T00:00:00\",\"2009-01-29T00:00:00\",\"2009-01-30T00:00:00\",\"2009-01-31T00:00:00\",\"2009-02-01T00:00:00\",\"2009-02-02T00:00:00\",\"2009-02-03T00:00:00\",\"2009-02-04T00:00:00\",\"2009-02-05T00:00:00\",\"2009-02-06T00:00:00\",\"2009-02-07T00:00:00\",\"2009-02-08T00:00:00\",\"2009-02-09T00:00:00\",\"2009-02-10T00:00:00\",\"2009-02-11T00:00:00\",\"2009-02-12T00:00:00\",\"2009-02-13T00:00:00\",\"2009-02-14T00:00:00\",\"2009-02-15T00:00:00\",\"2009-02-16T00:00:00\",\"2009-02-17T00:00:00\",\"2009-02-18T00:00:00\",\"2009-02-19T00:00:00\",\"2009-02-20T00:00:00\",\"2009-02-21T00:00:00\",\"2009-02-22T00:00:00\",\"2009-02-23T00:00:00\",\"2009-02-24T00:00:00\",\"2009-02-25T00:00:00\",\"2009-02-26T00:00:00\",\"2009-02-27T00:00:00\",\"2009-02-28T00:00:00\",\"2009-03-01T00:00:00\",\"2009-03-02T00:00:00\",\"2009-03-03T00:00:00\",\"2009-03-04T00:00:00\",\"2009-03-05T00:00:00\",\"2009-03-06T00:00:00\",\"2009-03-07T00:00:00\",\"2009-03-08T00:00:00\",\"2009-03-09T00:00:00\",\"2009-03-10T00:00:00\",\"2009-03-11T00:00:00\",\"2009-03-12T00:00:00\",\"2009-03-13T00:00:00\",\"2009-03-14T00:00:00\",\"2009-03-15T00:00:00\",\"2009-03-16T00:00:00\",\"2009-03-17T00:00:00\",\"2009-03-18T00:00:00\",\"2009-03-19T00:00:00\",\"2009-03-20T00:00:00\",\"2009-03-21T00:00:00\",\"2009-03-22T00:00:00\",\"2009-03-23T00:00:00\",\"2009-03-24T00:00:00\",\"2009-03-25T00:00:00\",\"2009-03-26T00:00:00\",\"2009-03-27T00:00:00\",\"2009-03-28T00:00:00\",\"2009-03-29T00:00:00\",\"2009-03-30T00:00:00\",\"2009-03-31T00:00:00\",\"2009-04-01T00:00:00\",\"2009-04-02T00:00:00\",\"2009-04-03T00:00:00\",\"2009-04-04T00:00:00\",\"2009-04-05T00:00:00\",\"2009-04-06T00:00:00\",\"2009-04-07T00:00:00\",\"2009-04-08T00:00:00\",\"2009-04-09T00:00:00\",\"2009-04-10T00:00:00\",\"2009-04-11T00:00:00\",\"2009-04-12T00:00:00\",\"2009-04-13T00:00:00\",\"2009-04-14T00:00:00\",\"2009-04-15T00:00:00\",\"2009-04-16T00:00:00\",\"2009-04-17T00:00:00\",\"2009-04-18T00:00:00\",\"2009-04-19T00:00:00\",\"2009-04-20T00:00:00\",\"2009-04-21T00:00:00\",\"2009-04-22T00:00:00\",\"2009-04-23T00:00:00\",\"2009-04-24T00:00:00\",\"2009-04-25T00:00:00\",\"2009-04-26T00:00:00\",\"2009-04-27T00:00:00\",\"2009-04-28T00:00:00\",\"2009-04-29T00:00:00\",\"2009-04-30T00:00:00\",\"2009-05-01T00:00:00\",\"2009-05-02T00:00:00\",\"2009-05-03T00:00:00\",\"2009-05-04T00:00:00\",\"2009-05-05T00:00:00\",\"2009-05-06T00:00:00\",\"2009-05-07T00:00:00\",\"2009-05-08T00:00:00\",\"2009-05-09T00:00:00\",\"2009-05-10T00:00:00\",\"2009-05-11T00:00:00\",\"2009-05-12T00:00:00\",\"2009-05-13T00:00:00\",\"2009-05-14T00:00:00\",\"2009-05-15T00:00:00\",\"2009-05-16T00:00:00\",\"2009-05-17T00:00:00\",\"2009-05-18T00:00:00\",\"2009-05-19T00:00:00\",\"2009-05-20T00:00:00\",\"2009-05-21T00:00:00\",\"2009-05-22T00:00:00\",\"2009-05-23T00:00:00\",\"2009-05-24T00:00:00\",\"2009-05-25T00:00:00\",\"2009-05-26T00:00:00\",\"2009-05-27T00:00:00\",\"2009-05-28T00:00:00\",\"2009-05-29T00:00:00\",\"2009-05-30T00:00:00\",\"2009-05-31T00:00:00\",\"2009-06-01T00:00:00\",\"2009-06-02T00:00:00\",\"2009-06-03T00:00:00\",\"2009-06-04T00:00:00\",\"2009-06-05T00:00:00\",\"2009-06-06T00:00:00\",\"2009-06-07T00:00:00\",\"2009-06-08T00:00:00\",\"2009-06-09T00:00:00\",\"2009-06-10T00:00:00\",\"2009-06-11T00:00:00\",\"2009-06-12T00:00:00\",\"2009-06-13T00:00:00\",\"2009-06-14T00:00:00\",\"2009-06-15T00:00:00\",\"2009-06-16T00:00:00\",\"2009-06-17T00:00:00\",\"2009-06-18T00:00:00\",\"2009-06-19T00:00:00\",\"2009-06-20T00:00:00\",\"2009-06-21T00:00:00\",\"2009-06-22T00:00:00\",\"2009-06-23T00:00:00\",\"2009-06-24T00:00:00\",\"2009-06-25T00:00:00\",\"2009-06-26T00:00:00\",\"2009-06-27T00:00:00\",\"2009-06-28T00:00:00\",\"2009-06-29T00:00:00\",\"2009-06-30T00:00:00\",\"2009-07-01T00:00:00\",\"2009-07-02T00:00:00\",\"2009-07-03T00:00:00\",\"2009-07-04T00:00:00\",\"2009-07-05T00:00:00\",\"2009-07-06T00:00:00\",\"2009-07-07T00:00:00\",\"2009-07-08T00:00:00\",\"2009-07-09T00:00:00\",\"2009-07-10T00:00:00\",\"2009-07-11T00:00:00\",\"2009-07-12T00:00:00\",\"2009-07-13T00:00:00\",\"2009-07-14T00:00:00\",\"2009-07-15T00:00:00\",\"2009-07-16T00:00:00\",\"2009-07-17T00:00:00\",\"2009-07-18T00:00:00\",\"2009-07-19T00:00:00\",\"2009-07-20T00:00:00\",\"2009-07-21T00:00:00\",\"2009-07-22T00:00:00\",\"2009-07-23T00:00:00\",\"2009-07-24T00:00:00\",\"2009-07-25T00:00:00\",\"2009-07-26T00:00:00\",\"2009-07-27T00:00:00\",\"2009-07-28T00:00:00\",\"2009-07-29T00:00:00\",\"2009-07-30T00:00:00\",\"2009-07-31T00:00:00\",\"2009-08-01T00:00:00\",\"2009-08-02T00:00:00\",\"2009-08-03T00:00:00\",\"2009-08-04T00:00:00\",\"2009-08-05T00:00:00\",\"2009-08-06T00:00:00\",\"2009-08-07T00:00:00\",\"2009-08-08T00:00:00\",\"2009-08-09T00:00:00\",\"2009-08-10T00:00:00\",\"2009-08-11T00:00:00\",\"2009-08-12T00:00:00\",\"2009-08-13T00:00:00\",\"2009-08-14T00:00:00\",\"2009-08-15T00:00:00\",\"2009-08-16T00:00:00\",\"2009-08-17T00:00:00\",\"2009-08-18T00:00:00\",\"2009-08-19T00:00:00\",\"2009-08-20T00:00:00\",\"2009-08-21T00:00:00\",\"2009-08-22T00:00:00\",\"2009-08-23T00:00:00\",\"2009-08-24T00:00:00\",\"2009-08-25T00:00:00\",\"2009-08-26T00:00:00\",\"2009-08-27T00:00:00\",\"2009-08-28T00:00:00\",\"2009-08-29T00:00:00\",\"2009-08-30T00:00:00\",\"2009-08-31T00:00:00\",\"2009-09-01T00:00:00\",\"2009-09-02T00:00:00\",\"2009-09-03T00:00:00\",\"2009-09-04T00:00:00\",\"2009-09-05T00:00:00\",\"2009-09-06T00:00:00\",\"2009-09-07T00:00:00\",\"2009-09-08T00:00:00\",\"2009-09-09T00:00:00\",\"2009-09-10T00:00:00\",\"2009-09-11T00:00:00\",\"2009-09-12T00:00:00\",\"2009-09-13T00:00:00\",\"2009-09-14T00:00:00\",\"2009-09-15T00:00:00\",\"2009-09-16T00:00:00\",\"2009-09-17T00:00:00\",\"2009-09-18T00:00:00\",\"2009-09-19T00:00:00\",\"2009-09-20T00:00:00\",\"2009-09-21T00:00:00\",\"2009-09-22T00:00:00\",\"2009-09-23T00:00:00\",\"2009-09-24T00:00:00\",\"2009-09-25T00:00:00\",\"2009-09-26T00:00:00\",\"2009-09-27T00:00:00\",\"2009-09-28T00:00:00\",\"2009-09-29T00:00:00\",\"2009-09-30T00:00:00\",\"2009-10-01T00:00:00\",\"2009-10-02T00:00:00\",\"2009-10-03T00:00:00\",\"2009-10-04T00:00:00\",\"2009-10-05T00:00:00\",\"2009-10-06T00:00:00\",\"2009-10-07T00:00:00\",\"2009-10-08T00:00:00\",\"2009-10-09T00:00:00\",\"2009-10-10T00:00:00\",\"2009-10-11T00:00:00\",\"2009-10-12T00:00:00\",\"2009-10-13T00:00:00\",\"2009-10-14T00:00:00\",\"2009-10-15T00:00:00\",\"2009-10-16T00:00:00\",\"2009-10-17T00:00:00\",\"2009-10-18T00:00:00\",\"2009-10-19T00:00:00\",\"2009-10-20T00:00:00\",\"2009-10-21T00:00:00\",\"2009-10-22T00:00:00\",\"2009-10-23T00:00:00\",\"2009-10-24T00:00:00\",\"2009-10-25T00:00:00\",\"2009-10-26T00:00:00\",\"2009-10-27T00:00:00\",\"2009-10-28T00:00:00\",\"2009-10-29T00:00:00\",\"2009-10-30T00:00:00\",\"2009-10-31T00:00:00\",\"2009-11-01T00:00:00\",\"2009-11-02T00:00:00\",\"2009-11-03T00:00:00\",\"2009-11-04T00:00:00\",\"2009-11-05T00:00:00\",\"2009-11-06T00:00:00\",\"2009-11-07T00:00:00\",\"2009-11-08T00:00:00\",\"2009-11-09T00:00:00\",\"2009-11-10T00:00:00\",\"2009-11-11T00:00:00\",\"2009-11-12T00:00:00\",\"2009-11-13T00:00:00\",\"2009-11-14T00:00:00\",\"2009-11-15T00:00:00\",\"2009-11-16T00:00:00\",\"2009-11-17T00:00:00\",\"2009-11-18T00:00:00\",\"2009-11-19T00:00:00\",\"2009-11-20T00:00:00\",\"2009-11-21T00:00:00\",\"2009-11-22T00:00:00\",\"2009-11-23T00:00:00\",\"2009-11-24T00:00:00\",\"2009-11-25T00:00:00\",\"2009-11-26T00:00:00\",\"2009-11-27T00:00:00\",\"2009-11-28T00:00:00\",\"2009-11-29T00:00:00\",\"2009-11-30T00:00:00\",\"2009-12-01T00:00:00\",\"2009-12-02T00:00:00\",\"2009-12-03T00:00:00\",\"2009-12-04T00:00:00\",\"2009-12-05T00:00:00\",\"2009-12-06T00:00:00\",\"2009-12-07T00:00:00\",\"2009-12-08T00:00:00\",\"2009-12-09T00:00:00\",\"2009-12-10T00:00:00\",\"2009-12-11T00:00:00\",\"2009-12-12T00:00:00\",\"2009-12-13T00:00:00\",\"2009-12-14T00:00:00\",\"2009-12-15T00:00:00\",\"2009-12-16T00:00:00\",\"2009-12-17T00:00:00\",\"2009-12-18T00:00:00\",\"2009-12-19T00:00:00\",\"2009-12-20T00:00:00\",\"2009-12-21T00:00:00\",\"2009-12-22T00:00:00\",\"2009-12-23T00:00:00\",\"2009-12-24T00:00:00\",\"2009-12-25T00:00:00\",\"2009-12-26T00:00:00\",\"2009-12-27T00:00:00\",\"2009-12-28T00:00:00\",\"2009-12-29T00:00:00\",\"2009-12-30T00:00:00\",\"2009-12-31T00:00:00\"],\"xaxis\":\"x\",\"y\":[69.70294712191843,54.51115245081899,42.230536919309955,44.00038562193155,44.842381064452034,42.29511646590765,40.40120230412364,42.64820531783933,49.0811480008634,49.203380284468935,45.472253848883284,47.99491723382794,42.397408188036145,39.017204751506846,35.570198937942344,35.932859812316934,33.98321745484805,35.122867157877494,35.20929115488327,34.42428831132994,32.442853066267126,30.290750342303372,30.831073344557115,29.274636193460218,32.187541783125035,30.940273511793933,29.52270319772136,28.719756081856968,25.95723498185907,23.35596459272054,22.0270408890298,20.01901124827996,18.386489258858457,16.817071294117326,15.444238194282805,13.33168640997912,11.997010022477449,11.155490455214037,10.562706849308181,10.381017275187732,10.631052873923792,10.800239121737103,10.628026725688166,9.584966338325312,9.743788372103937,9.562075081398051,10.40921581879153,11.459997252381331,12.231010339027993,13.15053749878099,17.004305221901046,19.370755525390535,18.5841440143117,18.38518316028548,19.312842353012474,22.121575438054318,24.67538084537033,25.810873294116913,25.78798773105273,25.446070610086135,24.414045301147457,21.277188977594697,19.452960752425557,18.65860865462975,17.446842048484804,16.16803611514174,16.204897646898683,16.48752927948813,17.92041149634373,19.829186654011536,22.839435325177003,25.43968253644139,28.71712056388342,32.45784518933127,38.39973560282852,45.552004461424474,54.38587860802066,62.60746651737585,70.33614975250698,76.20292865242847,79.92327171606003,88.06217184393373,99.4571133024422,105.88550643855329,112.77744860787769,121.29569212070773,133.05710482830335,146.57044223972505,158.30996586784337,166.14476514801,171.76493633991078,177.32766668190152,184.0323122483084,189.2900460704276,197.0898877246957,197.93486333538277,200.99429416423283,209.00881832286734,214.78807762254203,219.7183511112608,229.11203153274877,242.40279673774077,249.39303325749893,255.4012682404592,265.2542548620887,269.28826767686166,266.9593642524706,267.8182450458713,267.54056273787245,273.5724624198755,278.19855017264564,278.228010611614,278.1780281057438,275.8058039152404,277.54255484368684,271.09797662042075,272.53177943123404,274.76101518884866,269.34622418737615,275.74869231436185,279.90624786185316,278.5227273658403,273.33228334319057,271.6782535495217,268.4994929762231,264.769872103097,266.4043100887391,264.49390920863647,263.54954452072394,266.7160750985692,274.7478910180184,280.90567518053444,283.038803391133,283.13388646171535,289.32064813754494,287.4605856271683,288.7530796481518,285.77304032455885,286.7449499278278,283.02026420804054,282.04987101375735,284.56396748760505,291.3065890546941,297.6716693011801,302.2575756386072,307.4511461058145,314.19562517321475,308.6492762887493,305.99903737039136,306.2668640468167,306.904731559402,304.7325180417668,303.12306008273356,298.77794278438387,293.4209341465203,292.2529911665454,291.83238612603606,287.13876591496063,289.68644826383326,292.96764781103167,300.55225995122726,300.14306351117943,302.27539293340817,302.77002811100556,301.398886242361,296.43389799447624,301.5898575089918,308.854472749327,317.3325552413368,328.02874743512314,329.586219046749,326.6586386851249,329.77324735375,327.7728570340334,328.09621304492737,333.221396411393,330.5068368704005,326.65406253202616,321.08132194719343,317.2887929166443,318.3513926696804,315.5949456841632,312.79891633018127,312.2610617862613,306.3172021087935,298.93153960956187,302.68863753446834,304.51334933820397,307.46582172785185,304.19158654539575,303.3450392070245,305.52406701255484,306.169717160878,308.2291767483226,301.5408141343961,298.188398674935,297.7450289151757,295.1634743798571,300.92731932298045,295.4927514912398,291.6842738197416,289.9195939184852,287.97530562509985,284.3326556570544,279.85465967346846,278.12416653422076,278.6723082605784,275.7076830498502,278.8090917197057,279.1227610870562,278.961385158477,271.7031009026577,268.18041973851246,263.6817750961763,260.0867112149929,257.2787585951597,256.5117911049083,257.5968699246508,260.64111004697367,261.4791662618164,262.8488645996441,262.224319711025,261.4020412490078,260.8807643172821,265.00717701641634,265.1622878560599,263.5689965547925,263.93492719163663,261.4940503782869,258.4896657956235,250.02881480414644,244.13107570656135,240.75935312568492,240.54658867277237,238.4906144659747,238.91801832170776,234.5207810333929,227.91098135610682,232.67132861718375,232.76317325242798,233.54774024826213,233.2415989355978,229.46179039937746,225.842318581636,226.46632402054445,228.86403585711082,228.58707166825806,226.6547179111204,225.4953975156887,216.87688423241923,212.2814715511315,209.38118429219122,207.40157970113046,203.1803508220098,201.40606615292398,204.64982581376847,201.35377560557458,200.050890884599,200.8657684438854,201.85982115162204,207.87591324691286,204.59519582023725,205.30220612630995,197.56978461464263,193.01818568409402,191.84786337527103,186.3696424607646,179.39348605114714,177.20372209301152,179.8034969318575,175.3484418930935,170.6633223004394,165.51359001575378,162.08429181957055,159.37098926835824,155.79068413148445,149.11890677131845,146.15667121840198,141.22601979033652,137.58561617768655,131.58468466350777,127.36953982616974,127.67620102703022,128.2772432752168,129.19787110469696,129.58749168389548,122.9464000000864,120.20868985027062,118.7144491723097,116.0992912167026,119.27724217408417,116.49785049961106,117.05935065712987,114.8285705968729,114.46727534795454,120.01939112929324,119.14194733329019,113.7886462543497,107.71122562327488,103.95588877076875,103.96280499561688,102.66936858417094,102.73536085242827,99.72810407255112,99.3497015987041,92.85975624168663,83.34038206480338,82.43703693824912,85.75851729590386,88.26014922147007,85.30723396408906,91.34805915328919,93.89635804565583,91.67270255594028,90.03852533179125,91.85034228892623,92.83518652033571,91.5105294801441,89.22608286416084,83.19830324535259,83.86936366308532,87.63513989817014,87.65034294882587,83.66432518963686,82.96770373947254,88.04933093750572,94.28943033253213,95.73113534616704,101.85495954415761,97.12881989770521,92.68023126407331,91.90555019275223,93.09397909369963,91.55629244954383,91.76785861348552,83.39414648428075,77.18136541704438,74.44938145156021,71.92185970883884,70.01987115852991,70.166777070727,70.09158363210354,75.08911064047538,76.42710954164606,78.29386632518383,80.64094522760162,79.32584480078394,77.35305517511947,71.61067057964982,76.58904191677601,85.31706298852573,92.24788145193567,89.97238317506006,87.14503954499456,84.8041578025169,86.17155053644737,86.41675837212892,90.91554585202566,91.77082024742558,86.58544905971746,82.82934918069007,82.09805953292482,81.02570783318087,81.76052278137112,77.6532187752536],\"yaxis\":\"y\",\"type\":\"scatter\"}],                        {\"template\":{\"data\":{\"histogram2dcontour\":[{\"type\":\"histogram2dcontour\",\"colorbar\":{\"outlinewidth\":0,\"ticks\":\"\"},\"colorscale\":[[0.0,\"#0d0887\"],[0.1111111111111111,\"#46039f\"],[0.2222222222222222,\"#7201a8\"],[0.3333333333333333,\"#9c179e\"],[0.4444444444444444,\"#bd3786\"],[0.5555555555555556,\"#d8576b\"],[0.6666666666666666,\"#ed7953\"],[0.7777777777777778,\"#fb9f3a\"],[0.8888888888888888,\"#fdca26\"],[1.0,\"#f0f921\"]]}],\"choropleth\":[{\"type\":\"choropleth\",\"colorbar\":{\"outlinewidth\":0,\"ticks\":\"\"}}],\"histogram2d\":[{\"type\":\"histogram2d\",\"colorbar\":{\"outlinewidth\":0,\"ticks\":\"\"},\"colorscale\":[[0.0,\"#0d0887\"],[0.1111111111111111,\"#46039f\"],[0.2222222222222222,\"#7201a8\"],[0.3333333333333333,\"#9c179e\"],[0.4444444444444444,\"#bd3786\"],[0.5555555555555556,\"#d8576b\"],[0.6666666666666666,\"#ed7953\"],[0.7777777777777778,\"#fb9f3a\"],[0.8888888888888888,\"#fdca26\"],[1.0,\"#f0f921\"]]}],\"heatmap\":[{\"type\":\"heatmap\",\"colorbar\":{\"outlinewidth\":0,\"ticks\":\"\"},\"colorscale\":[[0.0,\"#0d0887\"],[0.1111111111111111,\"#46039f\"],[0.2222222222222222,\"#7201a8\"],[0.3333333333333333,\"#9c179e\"],[0.4444444444444444,\"#bd3786\"],[0.5555555555555556,\"#d8576b\"],[0.6666666666666666,\"#ed7953\"],[0.7777777777777778,\"#fb9f3a\"],[0.8888888888888888,\"#fdca26\"],[1.0,\"#f0f921\"]]}],\"heatmapgl\":[{\"type\":\"heatmapgl\",\"colorbar\":{\"outlinewidth\":0,\"ticks\":\"\"},\"colorscale\":[[0.0,\"#0d0887\"],[0.1111111111111111,\"#46039f\"],[0.2222222222222222,\"#7201a8\"],[0.3333333333333333,\"#9c179e\"],[0.4444444444444444,\"#bd3786\"],[0.5555555555555556,\"#d8576b\"],[0.6666666666666666,\"#ed7953\"],[0.7777777777777778,\"#fb9f3a\"],[0.8888888888888888,\"#fdca26\"],[1.0,\"#f0f921\"]]}],\"contourcarpet\":[{\"type\":\"contourcarpet\",\"colorbar\":{\"outlinewidth\":0,\"ticks\":\"\"}}],\"contour\":[{\"type\":\"contour\",\"colorbar\":{\"outlinewidth\":0,\"ticks\":\"\"},\"colorscale\":[[0.0,\"#0d0887\"],[0.1111111111111111,\"#46039f\"],[0.2222222222222222,\"#7201a8\"],[0.3333333333333333,\"#9c179e\"],[0.4444444444444444,\"#bd3786\"],[0.5555555555555556,\"#d8576b\"],[0.6666666666666666,\"#ed7953\"],[0.7777777777777778,\"#fb9f3a\"],[0.8888888888888888,\"#fdca26\"],[1.0,\"#f0f921\"]]}],\"surface\":[{\"type\":\"surface\",\"colorbar\":{\"outlinewidth\":0,\"ticks\":\"\"},\"colorscale\":[[0.0,\"#0d0887\"],[0.1111111111111111,\"#46039f\"],[0.2222222222222222,\"#7201a8\"],[0.3333333333333333,\"#9c179e\"],[0.4444444444444444,\"#bd3786\"],[0.5555555555555556,\"#d8576b\"],[0.6666666666666666,\"#ed7953\"],[0.7777777777777778,\"#fb9f3a\"],[0.8888888888888888,\"#fdca26\"],[1.0,\"#f0f921\"]]}],\"mesh3d\":[{\"type\":\"mesh3d\",\"colorbar\":{\"outlinewidth\":0,\"ticks\":\"\"}}],\"scatter\":[{\"fillpattern\":{\"fillmode\":\"overlay\",\"size\":10,\"solidity\":0.2},\"type\":\"scatter\"}],\"parcoords\":[{\"type\":\"parcoords\",\"line\":{\"colorbar\":{\"outlinewidth\":0,\"ticks\":\"\"}}}],\"scatterpolargl\":[{\"type\":\"scatterpolargl\",\"marker\":{\"colorbar\":{\"outlinewidth\":0,\"ticks\":\"\"}}}],\"bar\":[{\"error_x\":{\"color\":\"#2a3f5f\"},\"error_y\":{\"color\":\"#2a3f5f\"},\"marker\":{\"line\":{\"color\":\"#E5ECF6\",\"width\":0.5},\"pattern\":{\"fillmode\":\"overlay\",\"size\":10,\"solidity\":0.2}},\"type\":\"bar\"}],\"scattergeo\":[{\"type\":\"scattergeo\",\"marker\":{\"colorbar\":{\"outlinewidth\":0,\"ticks\":\"\"}}}],\"scatterpolar\":[{\"type\":\"scatterpolar\",\"marker\":{\"colorbar\":{\"outlinewidth\":0,\"ticks\":\"\"}}}],\"histogram\":[{\"marker\":{\"pattern\":{\"fillmode\":\"overlay\",\"size\":10,\"solidity\":0.2}},\"type\":\"histogram\"}],\"scattergl\":[{\"type\":\"scattergl\",\"marker\":{\"colorbar\":{\"outlinewidth\":0,\"ticks\":\"\"}}}],\"scatter3d\":[{\"type\":\"scatter3d\",\"line\":{\"colorbar\":{\"outlinewidth\":0,\"ticks\":\"\"}},\"marker\":{\"colorbar\":{\"outlinewidth\":0,\"ticks\":\"\"}}}],\"scattermapbox\":[{\"type\":\"scattermapbox\",\"marker\":{\"colorbar\":{\"outlinewidth\":0,\"ticks\":\"\"}}}],\"scatterternary\":[{\"type\":\"scatterternary\",\"marker\":{\"colorbar\":{\"outlinewidth\":0,\"ticks\":\"\"}}}],\"scattercarpet\":[{\"type\":\"scattercarpet\",\"marker\":{\"colorbar\":{\"outlinewidth\":0,\"ticks\":\"\"}}}],\"carpet\":[{\"aaxis\":{\"endlinecolor\":\"#2a3f5f\",\"gridcolor\":\"white\",\"linecolor\":\"white\",\"minorgridcolor\":\"white\",\"startlinecolor\":\"#2a3f5f\"},\"baxis\":{\"endlinecolor\":\"#2a3f5f\",\"gridcolor\":\"white\",\"linecolor\":\"white\",\"minorgridcolor\":\"white\",\"startlinecolor\":\"#2a3f5f\"},\"type\":\"carpet\"}],\"table\":[{\"cells\":{\"fill\":{\"color\":\"#EBF0F8\"},\"line\":{\"color\":\"white\"}},\"header\":{\"fill\":{\"color\":\"#C8D4E3\"},\"line\":{\"color\":\"white\"}},\"type\":\"table\"}],\"barpolar\":[{\"marker\":{\"line\":{\"color\":\"#E5ECF6\",\"width\":0.5},\"pattern\":{\"fillmode\":\"overlay\",\"size\":10,\"solidity\":0.2}},\"type\":\"barpolar\"}],\"pie\":[{\"automargin\":true,\"type\":\"pie\"}]},\"layout\":{\"autotypenumbers\":\"strict\",\"colorway\":[\"#636efa\",\"#EF553B\",\"#00cc96\",\"#ab63fa\",\"#FFA15A\",\"#19d3f3\",\"#FF6692\",\"#B6E880\",\"#FF97FF\",\"#FECB52\"],\"font\":{\"color\":\"#2a3f5f\"},\"hovermode\":\"closest\",\"hoverlabel\":{\"align\":\"left\"},\"paper_bgcolor\":\"white\",\"plot_bgcolor\":\"#E5ECF6\",\"polar\":{\"bgcolor\":\"#E5ECF6\",\"angularaxis\":{\"gridcolor\":\"white\",\"linecolor\":\"white\",\"ticks\":\"\"},\"radialaxis\":{\"gridcolor\":\"white\",\"linecolor\":\"white\",\"ticks\":\"\"}},\"ternary\":{\"bgcolor\":\"#E5ECF6\",\"aaxis\":{\"gridcolor\":\"white\",\"linecolor\":\"white\",\"ticks\":\"\"},\"baxis\":{\"gridcolor\":\"white\",\"linecolor\":\"white\",\"ticks\":\"\"},\"caxis\":{\"gridcolor\":\"white\",\"linecolor\":\"white\",\"ticks\":\"\"}},\"coloraxis\":{\"colorbar\":{\"outlinewidth\":0,\"ticks\":\"\"}},\"colorscale\":{\"sequential\":[[0.0,\"#0d0887\"],[0.1111111111111111,\"#46039f\"],[0.2222222222222222,\"#7201a8\"],[0.3333333333333333,\"#9c179e\"],[0.4444444444444444,\"#bd3786\"],[0.5555555555555556,\"#d8576b\"],[0.6666666666666666,\"#ed7953\"],[0.7777777777777778,\"#fb9f3a\"],[0.8888888888888888,\"#fdca26\"],[1.0,\"#f0f921\"]],\"sequentialminus\":[[0.0,\"#0d0887\"],[0.1111111111111111,\"#46039f\"],[0.2222222222222222,\"#7201a8\"],[0.3333333333333333,\"#9c179e\"],[0.4444444444444444,\"#bd3786\"],[0.5555555555555556,\"#d8576b\"],[0.6666666666666666,\"#ed7953\"],[0.7777777777777778,\"#fb9f3a\"],[0.8888888888888888,\"#fdca26\"],[1.0,\"#f0f921\"]],\"diverging\":[[0,\"#8e0152\"],[0.1,\"#c51b7d\"],[0.2,\"#de77ae\"],[0.3,\"#f1b6da\"],[0.4,\"#fde0ef\"],[0.5,\"#f7f7f7\"],[0.6,\"#e6f5d0\"],[0.7,\"#b8e186\"],[0.8,\"#7fbc41\"],[0.9,\"#4d9221\"],[1,\"#276419\"]]},\"xaxis\":{\"gridcolor\":\"white\",\"linecolor\":\"white\",\"ticks\":\"\",\"title\":{\"standoff\":15},\"zerolinecolor\":\"white\",\"automargin\":true,\"zerolinewidth\":2},\"yaxis\":{\"gridcolor\":\"white\",\"linecolor\":\"white\",\"ticks\":\"\",\"title\":{\"standoff\":15},\"zerolinecolor\":\"white\",\"automargin\":true,\"zerolinewidth\":2},\"scene\":{\"xaxis\":{\"backgroundcolor\":\"#E5ECF6\",\"gridcolor\":\"white\",\"linecolor\":\"white\",\"showbackground\":true,\"ticks\":\"\",\"zerolinecolor\":\"white\",\"gridwidth\":2},\"yaxis\":{\"backgroundcolor\":\"#E5ECF6\",\"gridcolor\":\"white\",\"linecolor\":\"white\",\"showbackground\":true,\"ticks\":\"\",\"zerolinecolor\":\"white\",\"gridwidth\":2},\"zaxis\":{\"backgroundcolor\":\"#E5ECF6\",\"gridcolor\":\"white\",\"linecolor\":\"white\",\"showbackground\":true,\"ticks\":\"\",\"zerolinecolor\":\"white\",\"gridwidth\":2}},\"shapedefaults\":{\"line\":{\"color\":\"#2a3f5f\"}},\"annotationdefaults\":{\"arrowcolor\":\"#2a3f5f\",\"arrowhead\":0,\"arrowwidth\":1},\"geo\":{\"bgcolor\":\"white\",\"landcolor\":\"#E5ECF6\",\"subunitcolor\":\"white\",\"showland\":true,\"showlakes\":true,\"lakecolor\":\"white\"},\"title\":{\"x\":0.05},\"mapbox\":{\"style\":\"light\"}}},\"xaxis\":{\"anchor\":\"y\",\"domain\":[0.0,1.0],\"title\":{\"text\":\"date\"}},\"yaxis\":{\"anchor\":\"x\",\"domain\":[0.0,1.0],\"title\":{\"text\":\"absolute\"}},\"legend\":{\"tracegroupgap\":0},\"title\":{\"text\":\"custom tick labels\"}},                        {\"responsive\": true}                    ).then(function(){\n",
       "                            \n",
       "var gd = document.getElementById('01bdd180-229d-4509-a28c-cd1a4d98f413');\n",
       "var x = new MutationObserver(function (mutations, observer) {{\n",
       "        var display = window.getComputedStyle(gd).display;\n",
       "        if (!display || display === 'none') {{\n",
       "            console.log([gd, 'removed!']);\n",
       "            Plotly.purge(gd);\n",
       "            observer.disconnect();\n",
       "        }}\n",
       "}});\n",
       "\n",
       "// Listen for the removal of the full notebook cells\n",
       "var notebookContainer = gd.closest('#notebook-container');\n",
       "if (notebookContainer) {{\n",
       "    x.observe(notebookContainer, {childList: true});\n",
       "}}\n",
       "\n",
       "// Listen for the clearing of the current output cell\n",
       "var outputEl = gd.closest('.output');\n",
       "if (outputEl) {{\n",
       "    x.observe(outputEl, {childList: true});\n",
       "}}\n",
       "\n",
       "                        })                };                });            </script>        </div>"
      ]
     },
     "metadata": {},
     "output_type": "display_data"
    },
    {
     "name": "stdout",
     "output_type": "stream",
     "text": [
      "RangeIndex(start=0, stop=365, step=1)\n"
     ]
    }
   ],
   "source": [
    "df = px.data.stocks()\n",
    "fig = px.line(df_mizWidthsMean, x=\"date\", y=df_mizWidthsMean.absolute,\n",
    "              hover_data={\"date\": \"|%B %d, %Y\"},\n",
    "              title='custom tick labels')\n",
    "#fig.update_xaxes(\n",
    "#    dtick=\"M1\",\n",
    "#    tickformat=\"%b\\n%Y\")\n",
    "fig.show()\n",
    "#df_mizWidthsMean.columns\n",
    "print(line_deviation.index)\n"
   ]
  },
  {
   "cell_type": "code",
   "execution_count": 53,
   "id": "cc6b7018",
   "metadata": {},
   "outputs": [
    {
     "ename": "TypeError",
     "evalue": "Dimensions of C (8770, 1) are incompatible with X (8770) and/or Y (8771); see help(pcolormesh)",
     "output_type": "error",
     "traceback": [
      "\u001b[0;31m---------------------------------------------------------------------------\u001b[0m",
      "\u001b[0;31mTypeError\u001b[0m                                 Traceback (most recent call last)",
      "Cell \u001b[0;32mIn[53], line 25\u001b[0m\n\u001b[1;32m     21\u001b[0m cmap \u001b[39m=\u001b[39m cmo\u001b[39m.\u001b[39mdeep\n\u001b[1;32m     22\u001b[0m \u001b[39m#cmap = cmap.reversed()\u001b[39;00m\n\u001b[1;32m     23\u001b[0m \n\u001b[1;32m     24\u001b[0m \u001b[39m#p1 = ax.pcolormesh(LN,LT,plot_data, \u001b[39;00m\n\u001b[0;32m---> 25\u001b[0m p1 \u001b[39m=\u001b[39m ax\u001b[39m.\u001b[39;49mpcolormesh(df_standard[\u001b[39m'\u001b[39;49m\u001b[39mlongitude\u001b[39;49m\u001b[39m'\u001b[39;49m],df_standard[\u001b[39m'\u001b[39;49m\u001b[39mlatitude\u001b[39;49m\u001b[39m'\u001b[39;49m], kmean_datavec,\n\u001b[1;32m     26\u001b[0m                 transform\u001b[39m=\u001b[39;49mccrs\u001b[39m.\u001b[39;49mPlateCarree(),\n\u001b[1;32m     27\u001b[0m                 cmap\u001b[39m=\u001b[39;49mcmap,\n\u001b[1;32m     28\u001b[0m                \u001b[39m# norm=colors.LogNorm(vmin=1, vmax=1000),\u001b[39;49;00m\n\u001b[1;32m     29\u001b[0m                 shading\u001b[39m=\u001b[39;49m\u001b[39m'\u001b[39;49m\u001b[39mauto\u001b[39;49m\u001b[39m'\u001b[39;49m)\n\u001b[1;32m     30\u001b[0m cb \u001b[39m=\u001b[39m plt\u001b[39m.\u001b[39mcolorbar(p1, orientation\u001b[39m=\u001b[39m\u001b[39m'\u001b[39m\u001b[39mvertical\u001b[39m\u001b[39m'\u001b[39m, fraction\u001b[39m=\u001b[39m\u001b[39m0.046\u001b[39m, pad\u001b[39m=\u001b[39m\u001b[39m0.04\u001b[39m)\n\u001b[1;32m     31\u001b[0m \u001b[39m#fontsize = 6\u001b[39;00m\n\u001b[1;32m     32\u001b[0m \u001b[39m#cb.ax.set_ylabel( ds[exp].attrs[\"long_name\"].partition(' of ')[0] + ' [' +  ds[exp].attrs[\"units\"] + ']' , size=fontsize);\u001b[39;00m\n\u001b[1;32m     33\u001b[0m \u001b[39m#cb.ax.tick_params(labelsize=fontsize) \u001b[39;00m\n",
      "File \u001b[0;32m~/opt/anaconda3/envs/notebook/lib/python3.10/site-packages/cartopy/mpl/geoaxes.py:318\u001b[0m, in \u001b[0;36m_add_transform.<locals>.wrapper\u001b[0;34m(self, *args, **kwargs)\u001b[0m\n\u001b[1;32m    313\u001b[0m     \u001b[39mraise\u001b[39;00m \u001b[39mValueError\u001b[39;00m(\u001b[39mf\u001b[39m\u001b[39m'\u001b[39m\u001b[39mInvalid transform: Spherical \u001b[39m\u001b[39m{\u001b[39;00mfunc\u001b[39m.\u001b[39m\u001b[39m__name__\u001b[39m\u001b[39m}\u001b[39;00m\u001b[39m \u001b[39m\u001b[39m'\u001b[39m\n\u001b[1;32m    314\u001b[0m                      \u001b[39m'\u001b[39m\u001b[39mis not supported - consider using \u001b[39m\u001b[39m'\u001b[39m\n\u001b[1;32m    315\u001b[0m                      \u001b[39m'\u001b[39m\u001b[39mPlateCarree/RotatedPole.\u001b[39m\u001b[39m'\u001b[39m)\n\u001b[1;32m    317\u001b[0m kwargs[\u001b[39m'\u001b[39m\u001b[39mtransform\u001b[39m\u001b[39m'\u001b[39m] \u001b[39m=\u001b[39m transform\n\u001b[0;32m--> 318\u001b[0m \u001b[39mreturn\u001b[39;00m func(\u001b[39mself\u001b[39;49m, \u001b[39m*\u001b[39;49margs, \u001b[39m*\u001b[39;49m\u001b[39m*\u001b[39;49mkwargs)\n",
      "File \u001b[0;32m~/opt/anaconda3/envs/notebook/lib/python3.10/site-packages/cartopy/mpl/geoaxes.py:1785\u001b[0m, in \u001b[0;36mGeoAxes.pcolormesh\u001b[0;34m(self, *args, **kwargs)\u001b[0m\n\u001b[1;32m   1782\u001b[0m \u001b[39m# Add in an argument checker to handle Matplotlib's potential\u001b[39;00m\n\u001b[1;32m   1783\u001b[0m \u001b[39m# interpolation when coordinate wraps are involved\u001b[39;00m\n\u001b[1;32m   1784\u001b[0m args, kwargs \u001b[39m=\u001b[39m \u001b[39mself\u001b[39m\u001b[39m.\u001b[39m_wrap_args(\u001b[39m*\u001b[39margs, \u001b[39m*\u001b[39m\u001b[39m*\u001b[39mkwargs)\n\u001b[0;32m-> 1785\u001b[0m result \u001b[39m=\u001b[39m \u001b[39msuper\u001b[39;49m()\u001b[39m.\u001b[39;49mpcolormesh(\u001b[39m*\u001b[39;49margs, \u001b[39m*\u001b[39;49m\u001b[39m*\u001b[39;49mkwargs)\n\u001b[1;32m   1786\u001b[0m \u001b[39m# Wrap the quadrilaterals if necessary\u001b[39;00m\n\u001b[1;32m   1787\u001b[0m result \u001b[39m=\u001b[39m \u001b[39mself\u001b[39m\u001b[39m.\u001b[39m_wrap_quadmesh(result, \u001b[39m*\u001b[39m\u001b[39m*\u001b[39mkwargs)\n",
      "File \u001b[0;32m~/opt/anaconda3/envs/notebook/lib/python3.10/site-packages/matplotlib/__init__.py:1423\u001b[0m, in \u001b[0;36m_preprocess_data.<locals>.inner\u001b[0;34m(ax, data, *args, **kwargs)\u001b[0m\n\u001b[1;32m   1420\u001b[0m \u001b[39m@functools\u001b[39m\u001b[39m.\u001b[39mwraps(func)\n\u001b[1;32m   1421\u001b[0m \u001b[39mdef\u001b[39;00m \u001b[39minner\u001b[39m(ax, \u001b[39m*\u001b[39margs, data\u001b[39m=\u001b[39m\u001b[39mNone\u001b[39;00m, \u001b[39m*\u001b[39m\u001b[39m*\u001b[39mkwargs):\n\u001b[1;32m   1422\u001b[0m     \u001b[39mif\u001b[39;00m data \u001b[39mis\u001b[39;00m \u001b[39mNone\u001b[39;00m:\n\u001b[0;32m-> 1423\u001b[0m         \u001b[39mreturn\u001b[39;00m func(ax, \u001b[39m*\u001b[39;49m\u001b[39mmap\u001b[39;49m(sanitize_sequence, args), \u001b[39m*\u001b[39;49m\u001b[39m*\u001b[39;49mkwargs)\n\u001b[1;32m   1425\u001b[0m     bound \u001b[39m=\u001b[39m new_sig\u001b[39m.\u001b[39mbind(ax, \u001b[39m*\u001b[39margs, \u001b[39m*\u001b[39m\u001b[39m*\u001b[39mkwargs)\n\u001b[1;32m   1426\u001b[0m     auto_label \u001b[39m=\u001b[39m (bound\u001b[39m.\u001b[39marguments\u001b[39m.\u001b[39mget(label_namer)\n\u001b[1;32m   1427\u001b[0m                   \u001b[39mor\u001b[39;00m bound\u001b[39m.\u001b[39mkwargs\u001b[39m.\u001b[39mget(label_namer))\n",
      "File \u001b[0;32m~/opt/anaconda3/envs/notebook/lib/python3.10/site-packages/matplotlib/axes/_axes.py:6163\u001b[0m, in \u001b[0;36mAxes.pcolormesh\u001b[0;34m(self, alpha, norm, cmap, vmin, vmax, shading, antialiased, *args, **kwargs)\u001b[0m\n\u001b[1;32m   6160\u001b[0m shading \u001b[39m=\u001b[39m shading\u001b[39m.\u001b[39mlower()\n\u001b[1;32m   6161\u001b[0m kwargs\u001b[39m.\u001b[39msetdefault(\u001b[39m'\u001b[39m\u001b[39medgecolors\u001b[39m\u001b[39m'\u001b[39m, \u001b[39m'\u001b[39m\u001b[39mnone\u001b[39m\u001b[39m'\u001b[39m)\n\u001b[0;32m-> 6163\u001b[0m X, Y, C, shading \u001b[39m=\u001b[39m \u001b[39mself\u001b[39;49m\u001b[39m.\u001b[39;49m_pcolorargs(\u001b[39m'\u001b[39;49m\u001b[39mpcolormesh\u001b[39;49m\u001b[39m'\u001b[39;49m, \u001b[39m*\u001b[39;49margs,\n\u001b[1;32m   6164\u001b[0m                                     shading\u001b[39m=\u001b[39;49mshading, kwargs\u001b[39m=\u001b[39;49mkwargs)\n\u001b[1;32m   6165\u001b[0m coords \u001b[39m=\u001b[39m np\u001b[39m.\u001b[39mstack([X, Y], axis\u001b[39m=\u001b[39m\u001b[39m-\u001b[39m\u001b[39m1\u001b[39m)\n\u001b[1;32m   6166\u001b[0m \u001b[39m# convert to one dimensional array\u001b[39;00m\n",
      "File \u001b[0;32m~/opt/anaconda3/envs/notebook/lib/python3.10/site-packages/matplotlib/axes/_axes.py:5691\u001b[0m, in \u001b[0;36mAxes._pcolorargs\u001b[0;34m(self, funcname, shading, *args, **kwargs)\u001b[0m\n\u001b[1;32m   5689\u001b[0m \u001b[39mif\u001b[39;00m shading \u001b[39m==\u001b[39m \u001b[39m'\u001b[39m\u001b[39mflat\u001b[39m\u001b[39m'\u001b[39m:\n\u001b[1;32m   5690\u001b[0m     \u001b[39mif\u001b[39;00m (Nx, Ny) \u001b[39m!=\u001b[39m (ncols \u001b[39m+\u001b[39m \u001b[39m1\u001b[39m, nrows \u001b[39m+\u001b[39m \u001b[39m1\u001b[39m):\n\u001b[0;32m-> 5691\u001b[0m         \u001b[39mraise\u001b[39;00m \u001b[39mTypeError\u001b[39;00m(\u001b[39m'\u001b[39m\u001b[39mDimensions of C \u001b[39m\u001b[39m%s\u001b[39;00m\u001b[39m are incompatible with\u001b[39m\u001b[39m'\u001b[39m\n\u001b[1;32m   5692\u001b[0m                         \u001b[39m'\u001b[39m\u001b[39m X (\u001b[39m\u001b[39m%d\u001b[39;00m\u001b[39m) and/or Y (\u001b[39m\u001b[39m%d\u001b[39;00m\u001b[39m); see help(\u001b[39m\u001b[39m%s\u001b[39;00m\u001b[39m)\u001b[39m\u001b[39m'\u001b[39m \u001b[39m%\u001b[39m (\n\u001b[1;32m   5693\u001b[0m                             C\u001b[39m.\u001b[39mshape, Nx, Ny, funcname))\n\u001b[1;32m   5694\u001b[0m \u001b[39melse\u001b[39;00m:    \u001b[39m# ['nearest', 'gouraud']:\u001b[39;00m\n\u001b[1;32m   5695\u001b[0m     \u001b[39mif\u001b[39;00m (Nx, Ny) \u001b[39m!=\u001b[39m (ncols, nrows):\n",
      "\u001b[0;31mTypeError\u001b[0m: Dimensions of C (8770, 1) are incompatible with X (8770) and/or Y (8771); see help(pcolormesh)"
     ]
    },
    {
     "name": "stderr",
     "output_type": "stream",
     "text": [
      "/Users/noahday/opt/anaconda3/envs/notebook/lib/python3.10/site-packages/shapely/constructive.py:181: RuntimeWarning: invalid value encountered in buffer\n",
      "  return lib.buffer(\n",
      "/Users/noahday/opt/anaconda3/envs/notebook/lib/python3.10/site-packages/shapely/constructive.py:181: RuntimeWarning: invalid value encountered in buffer\n",
      "  return lib.buffer(\n",
      "/Users/noahday/opt/anaconda3/envs/notebook/lib/python3.10/site-packages/shapely/constructive.py:181: RuntimeWarning: invalid value encountered in buffer\n",
      "  return lib.buffer(\n",
      "/Users/noahday/opt/anaconda3/envs/notebook/lib/python3.10/site-packages/shapely/constructive.py:181: RuntimeWarning: invalid value encountered in buffer\n",
      "  return lib.buffer(\n",
      "/Users/noahday/opt/anaconda3/envs/notebook/lib/python3.10/site-packages/shapely/constructive.py:181: RuntimeWarning: invalid value encountered in buffer\n",
      "  return lib.buffer(\n",
      "/Users/noahday/opt/anaconda3/envs/notebook/lib/python3.10/site-packages/shapely/constructive.py:181: RuntimeWarning: invalid value encountered in buffer\n",
      "  return lib.buffer(\n"
     ]
    },
    {
     "data": {
      "image/png": "[encoded data removed]",
      "text/plain": [
       "<Figure size 640x480 with 1 Axes>"
      ]
     },
     "metadata": {},
     "output_type": "display_data"
    }
   ],
   "source": [
    "#print(k.shape)\n",
    "\n",
    "plt.figure()\n",
    "cmap = cmo.deep\n",
    "coord_lims = [-180, 180, 90, -90]\n",
    "ax.set_extent(coord_lims, ccrs.PlateCarree())\n",
    "ax = plt.subplot(1, 1, 0+1, projection=ccrs.SouthPolarStereo(), label='{0}'.format(counter))\n",
    "land_50m = cft.NaturalEarthFeature('physical', 'land', '50m',\n",
    "                            edgecolor='black', facecolor='gray', linewidth=0.5)\n",
    "ax.coastlines(resolution='50m')\n",
    "ax.add_feature(land_50m)\n",
    "p = ax.pcolormesh(lon, lat, k,\n",
    "                transform=ccrs.PlateCarree(),\n",
    "                cmap=cmap,\n",
    "#                norm=colors.LogNorm(vmin=1, vmax=1000),\n",
    "                shading='auto')\n",
    "cb = plt.colorbar(p, orientation='vertical', fraction=0.046, pad=0.04)\n",
    "plt.savefig(savepath+'kmean.png', dpi = 300)  \n",
    "\n",
    "#k\n",
    "#filename\n",
    "\n",
    "\n",
    "\n",
    "\n",
    "\n",
    "\n",
    "\n",
    "\n",
    "\n",
    "\n",
    "len_tmp, = kmeans.labels_.shape\n",
    "kmean_datavec = kmeans.labels_.reshape((len_tmp,1))\n",
    "\n",
    "coord_lims = [-180, 180, -40, -90]\n",
    "ax = plt.subplot(1, 1, 0+1, projection=ccrs.SouthPolarStereo(), label='{0}'.format(counter))\n",
    "#print('     ' + exp)\n",
    "#ax= plot_map(ax,exp,ds,LN,LT)\n",
    "#ax = plt(projection=ccrs.SouthPolarStereo())\n",
    "land_50m = cft.NaturalEarthFeature('physical', 'land', '50m',\n",
    "                            edgecolor='black', facecolor='gray', linewidth=0.5)\n",
    "ax.coastlines(resolution='50m')\n",
    "ax.add_feature(land_50m)\n",
    "ax.set_extent(coord_lims, ccrs.PlateCarree())\n",
    "#gl = ax.gridlines(draw_labels=False)\n",
    "sic_threshold = 0.05 \n",
    "aice_data = ds['aice'][0,:,:]\n",
    "\n",
    "plot_data = aice_data #ds[exp][0,:,:]\n",
    "plot_data = np.ma.masked_where(aice_data < sic_threshold, plot_data)\n",
    "\n",
    "cmap = cmo.deep\n",
    "#cmap = cmap.reversed()\n",
    "\n",
    "#p1 = ax.pcolormesh(LN,LT,plot_data, \n",
    "p1 = ax.pcolormesh(df_standard['longitude'],df_standard['latitude'], kmean_datavec,\n",
    "                transform=ccrs.PlateCarree(),\n",
    "                cmap=cmap,\n",
    "               # norm=colors.LogNorm(vmin=1, vmax=1000),\n",
    "                shading='auto')\n",
    "cb = plt.colorbar(p1, orientation='vertical', fraction=0.046, pad=0.04)\n",
    "#fontsize = 6\n",
    "#cb.ax.set_ylabel( ds[exp].attrs[\"long_name\"].partition(' of ')[0] + ' [' +  ds[exp].attrs[\"units\"] + ']' , size=fontsize);\n",
    "#cb.ax.tick_params(labelsize=fontsize) \n"
   ]
  },
  {
   "cell_type": "code",
   "execution_count": null,
   "id": "ab8732fe",
   "metadata": {},
   "outputs": [],
   "source": [
    "kmeans.labels_.shape\n",
    "\n",
    "kmean_datavec.shape"
   ]
  }
 ],
 "metadata": {
  "kernelspec": {
   "display_name": "Python 3 (ipykernel)",
   "language": "python",
   "name": "python3"
  },
  "language_info": {
   "codemirror_mode": {
    "name": "ipython",
    "version": 3
   },
   "file_extension": ".py",
   "mimetype": "text/x-python",
   "name": "python",
   "nbconvert_exporter": "python",
   "pygments_lexer": "ipython3",
   "version": "3.9.15"
  },
  "vscode": {
   "interpreter": {
    "hash": "3079b1c4f6d31a32bb704c5290cd41a641bfca80c89d0f36bf28aa9592cfe0ad"
   }
  }
 },
 "nbformat": 4,
 "nbformat_minor": 5
}
