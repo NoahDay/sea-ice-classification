{
 "cells": [
  {
   "cell_type": "code",
   "execution_count": 11,
   "id": "ea530bc0-c10a-44b4-8f5c-ed9f06c1f00b",
   "metadata": {
    "tags": []
   },
   "outputs": [],
   "source": [
    "sys.path.insert(0, '/home/566/nd0349/notebooks/functions')\n",
    "from plotting import create_map_axis, plot_style, add_subplot_label, set_ax_date\n",
    "from functions import cyclic_moving_av\n",
    "\n",
    "# Plot settings\n",
    "rc('font',**{'family':'serif','serif':['Computer Modern Roman']})\n",
    "rc('text', usetex=False)\n",
    "textwidth = 3.31314*2\n",
    "aspect_ratio = 6/8\n",
    "scale = 1.0\n",
    "width = textwidth * scale\n",
    "height = width * aspect_ratio\n",
    "\n",
    "mpl.rcParams.update({\"axes.grid\" : True, \"grid.color\": [0.6, 0.6, 0.6]})\n",
    "sns.color_palette(\"colorblind\",15)\n",
    "\n",
    "COLOR = 'white'\n",
    "mpl.rcParams['text.color'] = COLOR\n",
    "mpl.rcParams['axes.labelcolor'] = COLOR\n",
    "mpl.rcParams['xtick.color'] = COLOR\n",
    "mpl.rcParams['ytick.color'] = COLOR"
   ]
  },
  {
   "cell_type": "code",
   "execution_count": 2,
   "id": "0942adab-4ae2-4914-94e0-6cb21031ee95",
   "metadata": {
    "tags": []
   },
   "outputs": [
    {
     "data": {
      "text/html": [
       "<div>\n",
       "<style scoped>\n",
       "    .dataframe tbody tr th:only-of-type {\n",
       "        vertical-align: middle;\n",
       "    }\n",
       "\n",
       "    .dataframe tbody tr th {\n",
       "        vertical-align: top;\n",
       "    }\n",
       "\n",
       "    .dataframe thead th {\n",
       "        text-align: right;\n",
       "    }\n",
       "</style>\n",
       "<table border=\"1\" class=\"dataframe\">\n",
       "  <thead>\n",
       "    <tr style=\"text-align: right;\">\n",
       "      <th></th>\n",
       "      <th>Unnamed: 0</th>\n",
       "      <th>1</th>\n",
       "      <th>1.1</th>\n",
       "      <th>1.2</th>\n",
       "      <th>1.3</th>\n",
       "      <th>1.4</th>\n",
       "      <th>1.5</th>\n",
       "    </tr>\n",
       "  </thead>\n",
       "  <tbody>\n",
       "    <tr>\n",
       "      <th>0</th>\n",
       "      <td>Wavelength (nm)</td>\n",
       "      <td>-0.500000</td>\n",
       "      <td>0.000000</td>\n",
       "      <td>0.250000</td>\n",
       "      <td>0.500000</td>\n",
       "      <td>1.000000</td>\n",
       "      <td>2.000000</td>\n",
       "    </tr>\n",
       "    <tr>\n",
       "      <th>1</th>\n",
       "      <td>200.2560542</td>\n",
       "      <td>0.397173</td>\n",
       "      <td>0.395838</td>\n",
       "      <td>0.410843</td>\n",
       "      <td>0.426195</td>\n",
       "      <td>0.419764</td>\n",
       "      <td>0.398110</td>\n",
       "    </tr>\n",
       "    <tr>\n",
       "      <th>2</th>\n",
       "      <td>200.6382822</td>\n",
       "      <td>0.414550</td>\n",
       "      <td>0.419116</td>\n",
       "      <td>0.421463</td>\n",
       "      <td>0.411518</td>\n",
       "      <td>0.437300</td>\n",
       "      <td>0.404316</td>\n",
       "    </tr>\n",
       "    <tr>\n",
       "      <th>3</th>\n",
       "      <td>201.0204725</td>\n",
       "      <td>0.420993</td>\n",
       "      <td>0.412339</td>\n",
       "      <td>0.408577</td>\n",
       "      <td>0.412735</td>\n",
       "      <td>0.412207</td>\n",
       "      <td>0.401148</td>\n",
       "    </tr>\n",
       "    <tr>\n",
       "      <th>4</th>\n",
       "      <td>201.402625</td>\n",
       "      <td>0.387745</td>\n",
       "      <td>0.405757</td>\n",
       "      <td>0.395077</td>\n",
       "      <td>0.429810</td>\n",
       "      <td>0.414984</td>\n",
       "      <td>0.386981</td>\n",
       "    </tr>\n",
       "  </tbody>\n",
       "</table>\n",
       "</div>"
      ],
      "text/plain": [
       "        Unnamed: 0         1       1.1       1.2       1.3       1.4       1.5\n",
       "0  Wavelength (nm) -0.500000  0.000000  0.250000  0.500000  1.000000  2.000000\n",
       "1      200.2560542  0.397173  0.395838  0.410843  0.426195  0.419764  0.398110\n",
       "2      200.6382822  0.414550  0.419116  0.421463  0.411518  0.437300  0.404316\n",
       "3      201.0204725  0.420993  0.412339  0.408577  0.412735  0.412207  0.401148\n",
       "4       201.402625  0.387745  0.405757  0.395077  0.429810  0.414984  0.386981"
      ]
     },
     "execution_count": 2,
     "metadata": {},
     "output_type": "execute_result"
    }
   ],
   "source": [
    "from matplotlib.animation import FuncAnimation\n",
    "from IPython import display\n",
    "import matplotlib.animation as animation\n",
    "import math\n",
    "import cmocean.cm as cmo\n",
    "\n",
    "\n",
    "df = pd.read_csv('/home/566/nd0349/notebooks/mabel-data.csv')\n",
    "df.head(5)"
   ]
  },
  {
   "cell_type": "code",
   "execution_count": 3,
   "id": "d8bf0007-d589-47b1-86f4-e0ff5d9ea6eb",
   "metadata": {
    "tags": []
   },
   "outputs": [
    {
     "name": "stdout",
     "output_type": "stream",
     "text": [
      "(6, 1746)\n"
     ]
    },
    {
     "name": "stderr",
     "output_type": "stream",
     "text": [
      "/jobfs/94997779.gadi-pbs/ipykernel_3691915/2843030827.py:2: DeprecationWarning: `np.float` is a deprecated alias for the builtin `float`. To silence this warning, use `float` by itself. Doing this will not modify any behavior and is safe. If you specifically wanted the numpy scalar type, use `np.float64` here.\n",
      "Deprecated in NumPy 1.20; for more details and guidance: https://numpy.org/devdocs/release/1.20.0-notes.html#deprecations\n",
      "  x_init = np.transpose(df.iloc[1:,0].values).astype(np.float)\n"
     ]
    },
    {
     "data": {
      "text/plain": [
       "-0.5"
      ]
     },
     "execution_count": 3,
     "metadata": {},
     "output_type": "execute_result"
    }
   ],
   "source": [
    "# Wrangle the data\n",
    "x_init = np.transpose(df.iloc[1:,0].values).astype(np.float)\n",
    "t_init = np.array(df.iloc[0,1:].values,dtype='float64')\n",
    "\n",
    "z_init = np.zeros((len(t_init), len(x_init)))\n",
    "z_init[0,:] = df.iloc[1:,1].values\n",
    "z_init[1,:] = df.iloc[1:,2].values\n",
    "z_init[2,:] = df.iloc[1:,3].values\n",
    "z_init[3,:] = df.iloc[1:,4].values\n",
    "z_init[4,:] = df.iloc[1:,5].values\n",
    "z_init[5,:] = df.iloc[1:,6].values\n",
    "print(z_init.shape)\n",
    "t_init.min()"
   ]
  },
  {
   "cell_type": "code",
   "execution_count": 14,
   "id": "f0f261d7-8c2b-43bf-bd69-b471b4af589e",
   "metadata": {
    "tags": []
   },
   "outputs": [
    {
     "name": "stdout",
     "output_type": "stream",
     "text": [
      "[[0.87829296 0.31990773 0.024406   1.        ]\n",
      " [0.96484429 0.47100346 0.14197616 1.        ]\n",
      " [0.99215686 0.62805075 0.34226836 1.        ]\n",
      " [0.99215686 0.77699346 0.57270281 1.        ]\n",
      " [0.99557093 0.89079585 0.78551326 1.        ]\n",
      " [1.         0.96078431 0.92156863 1.        ]]\n",
      "[[0.49803922 0.15294118 0.01568627 1.        ]\n",
      " [0.77098039 0.25411765 0.00705882 1.        ]\n",
      " [0.9545098  0.44       0.10666667 1.        ]\n",
      " [0.99215686 0.65647059 0.3827451  1.        ]\n",
      " [0.99372549 0.85019608 0.70431373 1.        ]\n",
      " [1.         0.96078431 0.92156863 1.        ]]\n"
     ]
    },
    {
     "data": {
      "text/plain": [
       "array([[0.87829296, 0.31990773, 0.024406  , 1.        ],\n",
       "       [0.96484429, 0.47100346, 0.14197616, 1.        ],\n",
       "       [0.99215686, 0.62805075, 0.34226836, 1.        ],\n",
       "       [0.99215686, 0.77699346, 0.57270281, 1.        ],\n",
       "       [0.99557093, 0.89079585, 0.78551326, 1.        ],\n",
       "       [1.        , 0.96078431, 0.92156863, 1.        ]])"
      ]
     },
     "execution_count": 14,
     "metadata": {},
     "output_type": "execute_result"
    }
   ],
   "source": [
    "from matplotlib import cm\n",
    "#cmap = cmo.thermal(range(256))\n",
    "cmap = cm.Oranges_r(plt.Normalize(min(range(6)),max(range(8)))(range(2,8)))\n",
    "#cm.cool_r(plt.Normalize(min(range(6)),max(range(6)))(range(6)))\n",
    "print(cmap)\n",
    "\n",
    "print(cm.Oranges_r(plt.Normalize(min(range(6)),max(range(6)))(range(6))))\n",
    "#cmap = cmap[0::42,:]\n",
    "#cmap = cmap[-1:0:-1,:]\n",
    "cmap"
   ]
  },
  {
   "cell_type": "code",
   "execution_count": 19,
   "id": "b176c7b6-e84c-4ce6-9e78-e777ce20be60",
   "metadata": {
    "tags": []
   },
   "outputs": [
    {
     "name": "stderr",
     "output_type": "stream",
     "text": [
      "Plotting frames: 100%|██████████| 151/151 [05:43<00:00,  2.27s/it]\n"
     ]
    },
    {
     "data": {
      "image/png": "[encoded data removed]",
      "text/plain": [
       "<Figure size 662.628x496.971 with 1 Axes>"
      ]
     },
     "metadata": {},
     "output_type": "display_data"
    }
   ],
   "source": [
    "from matplotlib.animation import FuncAnimation\n",
    "from IPython import display\n",
    "import matplotlib.animation as animation\n",
    "\n",
    "#fig, ax = plt.subplots()\n",
    "fig = plt.figure(figsize=[width, height])\n",
    "\n",
    "ax = fig.add_subplot(1, 1, 1)\n",
    "\n",
    "\n",
    "ax.spines['bottom'].set_color(COLOR)\n",
    "ax.spines['top'].set_color(COLOR)\n",
    "ax.spines['right'].set_color(COLOR)\n",
    "ax.spines['left'].set_color(COLOR)\n",
    "\n",
    "# z_init = np.asarray([[0, 1, 1, 2, 2.5, 3, 4, 8, 10, 8, 3, 2], [0, 1, 1, 2, 10.5, 8, 4, 5, 2, 2, 3, 2]])\n",
    "# length_mat,width_mat = z_init.shape\n",
    "# x_init = np.linspace(0,100,width_mat)\n",
    "# t_init = 0\n",
    "# t_end = 50\n",
    "\n",
    "\n",
    "timesteps = 151 # 101\n",
    "x_resolution = 1746\n",
    "x = np.linspace(x_init.min(), x_init.max(), x_resolution)\n",
    "t = np.linspace(t_init.min(), t_init.max(), timesteps)\n",
    "\n",
    "z = np.zeros((timesteps,x_resolution))\n",
    "#z[0,:] = np.interp(x, x_init, z_init[0,:])\n",
    "#z[-1,:] = np.interp(x, x_init, z_init[-1,:])\n",
    "\n",
    "\n",
    "for i in range(x_resolution):\n",
    "    z[:,i] = np.interp(t, t_init, z_init[:,i])\n",
    "    \n",
    "\n",
    "line1 = ax.plot(x, z[0,:], label=f'Cluster 1', color = 'white', linestyle='-', zorder=100)[0]\n",
    "\n",
    "ax.set(xlim=[x[0], x[-1]], ylim=[0, 0.8])\n",
    "ax.set_xlabel('Wavelength/nm', fontsize = 18)\n",
    "ax.set_ylabel('Abs/a.u.', fontsize = 18)\n",
    "ax.set_facecolor(\"black\")\n",
    "#plt.figure(facecolor='black')\n",
    "#time_text = ax.text(.5, .9, '', fontsize=15, transform=ax.transAxes, color = 'white')\n",
    "\n",
    "savepath = '/home/566/nd0349/notebooks/figures/gif/mabel'\n",
    "\n",
    "for frame, z_val in tqdm(enumerate(range(timesteps)), total = timesteps, desc='Plotting frames'):\n",
    "    frame = frame \n",
    "\n",
    "    sys.stdout.flush()\n",
    "\n",
    "    fig.suptitle('$t=%.1f$ hours'%(t[frame]), fontsize=20, x=0.5, y = 0.97)\n",
    "    #    time_text.set_text('$t=%.1f$ hours'%(t[frame]))\n",
    "    \n",
    "    sys.stdout.flush()\n",
    "    y = z[frame,:]\n",
    "\n",
    "    line1.set_xdata(x)#[:frame])\n",
    "    line1.set_ydata(z[frame,:])\n",
    "\n",
    "\n",
    "    for i,time in enumerate(t_init):\n",
    "        if t[frame] == time:\n",
    "            #print(i)\n",
    "            line2 = ax.plot(x, z_init[i,:] , color = cmap[i,:], linestyle='-')#[0]\n",
    "\n",
    "    \n",
    "    s1 = f'{frame:03d}'\n",
    "    plt.savefig(savepath + '/' + 'mabel' +'-' + s1 +'.png', dpi = 1000, transparent=True)\n",
    "    \n",
    "\n",
    "# def update(frame):\n",
    "#     sys.stdout.flush()\n",
    "#     #print(t[frame])\n",
    "#     #x = x#[:frame]\n",
    "#     y = z[frame,:]\n",
    "\n",
    "#     line1.set_xdata(x)#[:frame])\n",
    "#     line1.set_ydata(z[frame,:])\n",
    "\n",
    "#     time_text.set_text('$t=%.1f$ hours'%(t[frame]))\n",
    "#     for i,time in enumerate(t_init):\n",
    "#         if t[frame] == time:\n",
    "#             print(i)\n",
    "#             line2 = ax.plot(x, z_init[i,:] , color = cmap[i,:], linestyle='-')#[0]\n",
    "\n",
    "\n",
    "#     return (line1)\n",
    "\n",
    "# ani = animation.FuncAnimation(fig=fig, func=update, frames=timesteps, interval=((10*1000)/timesteps)) # Should be 1 seconds\n",
    "# ani.save(filename=\"/home/566/nd0349/notebooks/mabel.gif\", writer=\"imagemagick\",dpi=300, savefig_kwargs={\"transparent\": True})\n",
    "# plt.show()\n",
    "\n",
    "\n",
    "\n",
    "\n",
    "# ani = animation.FuncAnimation(fig=fig, func=update, frames=40, interval=30)\n",
    "# video = ani.to_html5_video()\n",
    "# html = display.HTML(video)\n",
    "# display.display(html)\n",
    "\n",
    "# plt.show()"
   ]
  },
  {
   "cell_type": "code",
   "execution_count": 43,
   "id": "50238f99-11f4-4f79-9364-b309e903225c",
   "metadata": {
    "tags": []
   },
   "outputs": [],
   "source": [
    "# from PIL import Image\n",
    "# frame_folder = '/home/566/nd0349/notebooks/figures/gif/'\n",
    "# dframe = 1\n",
    "# gifname = frame_folder + '/' + 'mabel'\n",
    "# sorted_frames = sorted(glob.glob(f\"{frame_folder}/\"+'mabel'+ \"*.png\")[0:-1:1])\n",
    "# frames = [Image.open(image) for image in sorted_frames[0:len(sorted_frames):dframe]]\n",
    "# frame_one = frames[0]\n",
    "# frame_one.save(gifname + \".gif\", format=\"GIF\", append_images=frames,\n",
    "#            save_all=True, duration=120, loop=0, transparency=0, disposal=2)"
   ]
  },
  {
   "cell_type": "code",
   "execution_count": 23,
   "id": "683e3b33-b213-4fac-a7e2-aa600d45bec4",
   "metadata": {
    "tags": []
   },
   "outputs": [],
   "source": [
    "from typing import Tuple, List, Union\n",
    "from collections import defaultdict\n",
    "from random import randrange\n",
    "from itertools import chain\n",
    "\n",
    "from PIL.Image import Image\n",
    "import PIL.Image\n",
    "\n",
    "\n",
    "class TransparentAnimatedGifConverter(object):\n",
    "    _PALETTE_SLOTSET = set(range(256))\n",
    "\n",
    "    def __init__(self, img_rgba: Image, alpha_threshold: int = 0):\n",
    "        self._img_rgba = img_rgba\n",
    "        self._alpha_threshold = alpha_threshold\n",
    "\n",
    "    def _process_pixels(self):\n",
    "        \"\"\"Set the transparent pixels to the color 0.\"\"\"\n",
    "        self._transparent_pixels = set(\n",
    "            idx for idx, alpha in enumerate(\n",
    "                self._img_rgba.getchannel(channel='A').getdata())\n",
    "            if alpha <= self._alpha_threshold)\n",
    "\n",
    "    def _set_parsed_palette(self):\n",
    "        \"\"\"Parse the RGB palette color `tuple`s from the palette.\"\"\"\n",
    "        palette = self._img_p.getpalette()\n",
    "        self._img_p_used_palette_idxs = set(\n",
    "            idx for pal_idx, idx in enumerate(self._img_p_data)\n",
    "            if pal_idx not in self._transparent_pixels)\n",
    "        self._img_p_parsedpalette = dict(\n",
    "            (idx, tuple(palette[idx * 3:idx * 3 + 3]))\n",
    "            for idx in self._img_p_used_palette_idxs)\n",
    "\n",
    "    def _get_similar_color_idx(self):\n",
    "        \"\"\"Return a palette index with the closest similar color.\"\"\"\n",
    "        old_color = self._img_p_parsedpalette[0]\n",
    "        dict_distance = defaultdict(list)\n",
    "        for idx in range(1, 256):\n",
    "            color_item = self._img_p_parsedpalette[idx]\n",
    "            if color_item == old_color:\n",
    "                return idx\n",
    "            distance = sum((\n",
    "                abs(old_color[0] - color_item[0]),  # Red\n",
    "                abs(old_color[1] - color_item[1]),  # Green\n",
    "                abs(old_color[2] - color_item[2])))  # Blue\n",
    "            dict_distance[distance].append(idx)\n",
    "        return dict_distance[sorted(dict_distance)[0]][0]\n",
    "\n",
    "    def _remap_palette_idx_zero(self):\n",
    "        \"\"\"Since the first color is used in the palette, remap it.\"\"\"\n",
    "        free_slots = self._PALETTE_SLOTSET - self._img_p_used_palette_idxs\n",
    "        new_idx = free_slots.pop() if free_slots else \\\n",
    "            self._get_similar_color_idx()\n",
    "        self._img_p_used_palette_idxs.add(new_idx)\n",
    "        self._palette_replaces['idx_from'].append(0)\n",
    "        self._palette_replaces['idx_to'].append(new_idx)\n",
    "        self._img_p_parsedpalette[new_idx] = self._img_p_parsedpalette[0]\n",
    "        del(self._img_p_parsedpalette[0])\n",
    "\n",
    "    def _get_unused_color(self) -> tuple:\n",
    "        \"\"\" Return a color for the palette that does not collide with any other already in the palette.\"\"\"\n",
    "        used_colors = set(self._img_p_parsedpalette.values())\n",
    "        while True:\n",
    "            new_color = (randrange(256), randrange(256), randrange(256))\n",
    "            if new_color not in used_colors:\n",
    "                return new_color\n",
    "\n",
    "    def _process_palette(self):\n",
    "        \"\"\"Adjust palette to have the zeroth color set as transparent. Basically, get another palette\n",
    "        index for the zeroth color.\"\"\"\n",
    "        self._set_parsed_palette()\n",
    "        if 0 in self._img_p_used_palette_idxs:\n",
    "            self._remap_palette_idx_zero()\n",
    "        self._img_p_parsedpalette[0] = self._get_unused_color()\n",
    "\n",
    "    def _adjust_pixels(self):\n",
    "        \"\"\"Convert the pixels into their new values.\"\"\"\n",
    "        if self._palette_replaces['idx_from']:\n",
    "            trans_table = bytearray.maketrans(\n",
    "                bytes(self._palette_replaces['idx_from']),\n",
    "                bytes(self._palette_replaces['idx_to']))\n",
    "            self._img_p_data = self._img_p_data.translate(trans_table)\n",
    "        for idx_pixel in self._transparent_pixels:\n",
    "            self._img_p_data[idx_pixel] = 0\n",
    "        self._img_p.frombytes(data=bytes(self._img_p_data))\n",
    "\n",
    "    def _adjust_palette(self):\n",
    "        \"\"\"Modify the palette in the new `Image`.\"\"\"\n",
    "        unused_color = self._get_unused_color()\n",
    "        final_palette = chain.from_iterable(\n",
    "            self._img_p_parsedpalette.get(x, unused_color) for x in range(256))\n",
    "        self._img_p.putpalette(data=final_palette)\n",
    "\n",
    "    def process(self) -> Image:\n",
    "        \"\"\"Return the processed mode `P` `Image`.\"\"\"\n",
    "        self._img_p = self._img_rgba.convert(mode='P')\n",
    "        self._img_p_data = bytearray(self._img_p.tobytes())\n",
    "        self._palette_replaces = dict(idx_from=list(), idx_to=list())\n",
    "        self._process_pixels()\n",
    "        self._process_palette()\n",
    "        self._adjust_pixels()\n",
    "        self._adjust_palette()\n",
    "        self._img_p.info['transparency'] = 0\n",
    "        self._img_p.info['background'] = 0\n",
    "        return self._img_p\n",
    "\n",
    "\n",
    "def _create_animated_gif(images: List[Image], durations: Union[int, List[int]]) -> Tuple[Image, dict]:\n",
    "    \"\"\"If the image is a GIF, create an its thumbnail here.\"\"\"\n",
    "    save_kwargs = dict()\n",
    "    new_images: List[Image] = []\n",
    "\n",
    "    for frame in images:\n",
    "        thumbnail = frame.copy()  # type: Image\n",
    "        thumbnail_rgba = thumbnail.convert(mode='RGBA')\n",
    "        thumbnail_rgba.thumbnail(size=frame.size, reducing_gap=3.0)\n",
    "        converter = TransparentAnimatedGifConverter(img_rgba=thumbnail_rgba)\n",
    "        thumbnail_p = converter.process()  # type: Image\n",
    "        new_images.append(thumbnail_p)\n",
    "\n",
    "    output_image = new_images[0]\n",
    "    save_kwargs.update(\n",
    "        format='GIF',\n",
    "        save_all=True,\n",
    "        optimize=False,\n",
    "        append_images=new_images[1:],\n",
    "        duration=durations,\n",
    "        disposal=2,  # Other disposals don't work\n",
    "        loop=0)\n",
    "    return output_image, save_kwargs\n",
    "\n",
    "\n",
    "def save_transparent_gif(images: List[Image], durations: Union[int, List[int]], save_file):\n",
    "    \"\"\"Creates a transparent GIF, adjusting to avoid transparency issues that are present in the PIL library\n",
    "\n",
    "    Note that this does NOT work for partial alpha. The partial alpha gets discarded and replaced by solid colors.\n",
    "\n",
    "    Parameters:\n",
    "        images: a list of PIL Image objects that compose the GIF frames\n",
    "        durations: an int or List[int] that describes the animation durations for the frames of this GIF\n",
    "        save_file: A filename (string), pathlib.Path object or file object. (This parameter corresponds\n",
    "                   and is passed to the PIL.Image.save() method.)\n",
    "    Returns:\n",
    "        Image - The PIL Image object (after first saving the image to the specified target)\n",
    "    \"\"\"\n",
    "    root_frame, save_args = _create_animated_gif(images, durations)\n",
    "    root_frame.save(save_file, **save_args)\n",
    "\n",
    "from PIL import Image\n",
    "frame_folder = '/home/566/nd0349/notebooks/figures/gif/mabel'\n",
    "dframe = 1\n",
    "gifname = frame_folder + '/' + 'mabel.gif'\n",
    "sorted_frames = sorted(glob.glob(f\"{frame_folder}/\"+'mabel'+ \"*.png\")[::1])\n",
    "frames = [Image.open(image) for image in sorted_frames[0:len(sorted_frames):dframe]]\n",
    "\n",
    "gif_length = 15*1000\n",
    "save_transparent_gif(images = frames, durations = gif_length/len(frames), save_file = gifname)"
   ]
  },
  {
   "cell_type": "code",
   "execution_count": 66,
   "id": "074da6d6-19d9-451b-a0dc-f07f08f887df",
   "metadata": {
    "tags": []
   },
   "outputs": [
    {
     "data": {
      "text/plain": [
       "['/home/566/nd0349/notebooks/figures/gif/mabel-00.png',\n",
       " '/home/566/nd0349/notebooks/figures/gif/mabel-01.png',\n",
       " '/home/566/nd0349/notebooks/figures/gif/mabel-02.png',\n",
       " '/home/566/nd0349/notebooks/figures/gif/mabel-03.png',\n",
       " '/home/566/nd0349/notebooks/figures/gif/mabel-04.png',\n",
       " '/home/566/nd0349/notebooks/figures/gif/mabel-05.png',\n",
       " '/home/566/nd0349/notebooks/figures/gif/mabel-06.png',\n",
       " '/home/566/nd0349/notebooks/figures/gif/mabel-07.png',\n",
       " '/home/566/nd0349/notebooks/figures/gif/mabel-08.png',\n",
       " '/home/566/nd0349/notebooks/figures/gif/mabel-09.png',\n",
       " '/home/566/nd0349/notebooks/figures/gif/mabel-10.png',\n",
       " '/home/566/nd0349/notebooks/figures/gif/mabel-100.png',\n",
       " '/home/566/nd0349/notebooks/figures/gif/mabel-11.png',\n",
       " '/home/566/nd0349/notebooks/figures/gif/mabel-12.png',\n",
       " '/home/566/nd0349/notebooks/figures/gif/mabel-13.png',\n",
       " '/home/566/nd0349/notebooks/figures/gif/mabel-14.png',\n",
       " '/home/566/nd0349/notebooks/figures/gif/mabel-15.png',\n",
       " '/home/566/nd0349/notebooks/figures/gif/mabel-16.png',\n",
       " '/home/566/nd0349/notebooks/figures/gif/mabel-17.png',\n",
       " '/home/566/nd0349/notebooks/figures/gif/mabel-18.png',\n",
       " '/home/566/nd0349/notebooks/figures/gif/mabel-19.png',\n",
       " '/home/566/nd0349/notebooks/figures/gif/mabel-20.png',\n",
       " '/home/566/nd0349/notebooks/figures/gif/mabel-21.png',\n",
       " '/home/566/nd0349/notebooks/figures/gif/mabel-22.png',\n",
       " '/home/566/nd0349/notebooks/figures/gif/mabel-23.png',\n",
       " '/home/566/nd0349/notebooks/figures/gif/mabel-24.png',\n",
       " '/home/566/nd0349/notebooks/figures/gif/mabel-25.png',\n",
       " '/home/566/nd0349/notebooks/figures/gif/mabel-26.png',\n",
       " '/home/566/nd0349/notebooks/figures/gif/mabel-27.png',\n",
       " '/home/566/nd0349/notebooks/figures/gif/mabel-28.png',\n",
       " '/home/566/nd0349/notebooks/figures/gif/mabel-29.png',\n",
       " '/home/566/nd0349/notebooks/figures/gif/mabel-31.png',\n",
       " '/home/566/nd0349/notebooks/figures/gif/mabel-32.png',\n",
       " '/home/566/nd0349/notebooks/figures/gif/mabel-33.png',\n",
       " '/home/566/nd0349/notebooks/figures/gif/mabel-34.png',\n",
       " '/home/566/nd0349/notebooks/figures/gif/mabel-35.png',\n",
       " '/home/566/nd0349/notebooks/figures/gif/mabel-36.png',\n",
       " '/home/566/nd0349/notebooks/figures/gif/mabel-37.png',\n",
       " '/home/566/nd0349/notebooks/figures/gif/mabel-38.png',\n",
       " '/home/566/nd0349/notebooks/figures/gif/mabel-39.png',\n",
       " '/home/566/nd0349/notebooks/figures/gif/mabel-40.png',\n",
       " '/home/566/nd0349/notebooks/figures/gif/mabel-41.png',\n",
       " '/home/566/nd0349/notebooks/figures/gif/mabel-42.png',\n",
       " '/home/566/nd0349/notebooks/figures/gif/mabel-43.png',\n",
       " '/home/566/nd0349/notebooks/figures/gif/mabel-44.png',\n",
       " '/home/566/nd0349/notebooks/figures/gif/mabel-45.png',\n",
       " '/home/566/nd0349/notebooks/figures/gif/mabel-46.png',\n",
       " '/home/566/nd0349/notebooks/figures/gif/mabel-47.png',\n",
       " '/home/566/nd0349/notebooks/figures/gif/mabel-48.png',\n",
       " '/home/566/nd0349/notebooks/figures/gif/mabel-49.png',\n",
       " '/home/566/nd0349/notebooks/figures/gif/mabel-50.png',\n",
       " '/home/566/nd0349/notebooks/figures/gif/mabel-51.png',\n",
       " '/home/566/nd0349/notebooks/figures/gif/mabel-52.png',\n",
       " '/home/566/nd0349/notebooks/figures/gif/mabel-53.png',\n",
       " '/home/566/nd0349/notebooks/figures/gif/mabel-54.png',\n",
       " '/home/566/nd0349/notebooks/figures/gif/mabel-55.png',\n",
       " '/home/566/nd0349/notebooks/figures/gif/mabel-56.png',\n",
       " '/home/566/nd0349/notebooks/figures/gif/mabel-57.png',\n",
       " '/home/566/nd0349/notebooks/figures/gif/mabel-58.png',\n",
       " '/home/566/nd0349/notebooks/figures/gif/mabel-59.png',\n",
       " '/home/566/nd0349/notebooks/figures/gif/mabel-60.png',\n",
       " '/home/566/nd0349/notebooks/figures/gif/mabel-61.png',\n",
       " '/home/566/nd0349/notebooks/figures/gif/mabel-62.png',\n",
       " '/home/566/nd0349/notebooks/figures/gif/mabel-63.png',\n",
       " '/home/566/nd0349/notebooks/figures/gif/mabel-64.png',\n",
       " '/home/566/nd0349/notebooks/figures/gif/mabel-65.png',\n",
       " '/home/566/nd0349/notebooks/figures/gif/mabel-66.png',\n",
       " '/home/566/nd0349/notebooks/figures/gif/mabel-67.png',\n",
       " '/home/566/nd0349/notebooks/figures/gif/mabel-68.png',\n",
       " '/home/566/nd0349/notebooks/figures/gif/mabel-69.png',\n",
       " '/home/566/nd0349/notebooks/figures/gif/mabel-70.png',\n",
       " '/home/566/nd0349/notebooks/figures/gif/mabel-71.png',\n",
       " '/home/566/nd0349/notebooks/figures/gif/mabel-72.png',\n",
       " '/home/566/nd0349/notebooks/figures/gif/mabel-73.png',\n",
       " '/home/566/nd0349/notebooks/figures/gif/mabel-74.png',\n",
       " '/home/566/nd0349/notebooks/figures/gif/mabel-75.png',\n",
       " '/home/566/nd0349/notebooks/figures/gif/mabel-76.png',\n",
       " '/home/566/nd0349/notebooks/figures/gif/mabel-77.png',\n",
       " '/home/566/nd0349/notebooks/figures/gif/mabel-78.png',\n",
       " '/home/566/nd0349/notebooks/figures/gif/mabel-79.png',\n",
       " '/home/566/nd0349/notebooks/figures/gif/mabel-80.png',\n",
       " '/home/566/nd0349/notebooks/figures/gif/mabel-81.png',\n",
       " '/home/566/nd0349/notebooks/figures/gif/mabel-82.png',\n",
       " '/home/566/nd0349/notebooks/figures/gif/mabel-83.png',\n",
       " '/home/566/nd0349/notebooks/figures/gif/mabel-84.png',\n",
       " '/home/566/nd0349/notebooks/figures/gif/mabel-85.png',\n",
       " '/home/566/nd0349/notebooks/figures/gif/mabel-86.png',\n",
       " '/home/566/nd0349/notebooks/figures/gif/mabel-87.png',\n",
       " '/home/566/nd0349/notebooks/figures/gif/mabel-88.png',\n",
       " '/home/566/nd0349/notebooks/figures/gif/mabel-89.png',\n",
       " '/home/566/nd0349/notebooks/figures/gif/mabel-90.png',\n",
       " '/home/566/nd0349/notebooks/figures/gif/mabel-91.png',\n",
       " '/home/566/nd0349/notebooks/figures/gif/mabel-92.png',\n",
       " '/home/566/nd0349/notebooks/figures/gif/mabel-93.png',\n",
       " '/home/566/nd0349/notebooks/figures/gif/mabel-94.png',\n",
       " '/home/566/nd0349/notebooks/figures/gif/mabel-95.png',\n",
       " '/home/566/nd0349/notebooks/figures/gif/mabel-96.png',\n",
       " '/home/566/nd0349/notebooks/figures/gif/mabel-97.png',\n",
       " '/home/566/nd0349/notebooks/figures/gif/mabel-98.png',\n",
       " '/home/566/nd0349/notebooks/figures/gif/mabel-99.png']"
      ]
     },
     "execution_count": 66,
     "metadata": {},
     "output_type": "execute_result"
    }
   ],
   "source": [
    "sorted_frames"
   ]
  },
  {
   "cell_type": "code",
   "execution_count": null,
   "id": "caf7c8ec-b345-4381-b3ba-6473b1c5ecd6",
   "metadata": {
    "tags": []
   },
   "outputs": [],
   "source": [
    "t = np.linspace(0, 50, timesteps)\n",
    "\n",
    "z = np.zeros((timesteps,len(x)))\n",
    "z[0,:] = np.interp(x, x_init, z_init[0,:])\n",
    "z[-1,:] = np.interp(x, x_init, z_init[-1,:])\n",
    "i = 10\n",
    "z[:,i] = np.interp(t, [t_init, t_end], [z_init[0,i], z_init[-1,i]])\n",
    "\n",
    "#for i in range(length_mat):\n",
    "#    z[:,i] = np.interp(t, [t_init, t_end], [z_init[0,i], z_init[-1,i]])"
   ]
  },
  {
   "cell_type": "code",
   "execution_count": 224,
   "id": "bd59e43c-e80b-4c2a-a51a-13b7a1109029",
   "metadata": {
    "tags": []
   },
   "outputs": [
    {
     "data": {
      "text/plain": [
       "(100, 1746)"
      ]
     },
     "execution_count": 224,
     "metadata": {},
     "output_type": "execute_result"
    }
   ],
   "source": [
    "z.shape"
   ]
  },
  {
   "cell_type": "code",
   "execution_count": 146,
   "id": "08b6002a-f04e-4dfe-a1b7-4f4354959fc6",
   "metadata": {
    "tags": []
   },
   "outputs": [
    {
     "data": {
      "image/png": "[encoded data removed]",
      "text/plain": [
       "<Figure size 640x480 with 1 Axes>"
      ]
     },
     "metadata": {},
     "output_type": "display_data"
    }
   ],
   "source": [
    "import matplotlib.pyplot as plt\n",
    "import numpy as np\n",
    "\n",
    "\n",
    "plt.plot(t, z[:,10])\n",
    "plt.show()"
   ]
  },
  {
   "cell_type": "markdown",
   "id": "b54aceb9-6528-4be9-931b-b856c264574d",
   "metadata": {},
   "source": [
    "# Histogram"
   ]
  },
  {
   "cell_type": "code",
   "execution_count": 65,
   "id": "3cb01f1c-1c9f-457d-bf79-0ea548d8c2dd",
   "metadata": {},
   "outputs": [
    {
     "ename": "ValueError",
     "evalue": "Using a string of single character colors as a color sequence is not supported. The colors can be passed as an explicit list instead.",
     "output_type": "error",
     "traceback": [
      "\u001b[0;31m---------------------------------------------------------------------------\u001b[0m",
      "\u001b[0;31mValueError\u001b[0m                                Traceback (most recent call last)",
      "File \u001b[0;32m/g/data/hh5/public/apps/miniconda3/envs/analysis3-23.04/lib/python3.9/site-packages/IPython/core/formatters.py:344\u001b[0m, in \u001b[0;36mBaseFormatter.__call__\u001b[0;34m(self, obj)\u001b[0m\n\u001b[1;32m    342\u001b[0m     method \u001b[38;5;241m=\u001b[39m get_real_method(obj, \u001b[38;5;28mself\u001b[39m\u001b[38;5;241m.\u001b[39mprint_method)\n\u001b[1;32m    343\u001b[0m     \u001b[38;5;28;01mif\u001b[39;00m method \u001b[38;5;129;01mis\u001b[39;00m \u001b[38;5;129;01mnot\u001b[39;00m \u001b[38;5;28;01mNone\u001b[39;00m:\n\u001b[0;32m--> 344\u001b[0m         \u001b[38;5;28;01mreturn\u001b[39;00m \u001b[43mmethod\u001b[49m\u001b[43m(\u001b[49m\u001b[43m)\u001b[49m\n\u001b[1;32m    345\u001b[0m     \u001b[38;5;28;01mreturn\u001b[39;00m \u001b[38;5;28;01mNone\u001b[39;00m\n\u001b[1;32m    346\u001b[0m \u001b[38;5;28;01melse\u001b[39;00m:\n",
      "File \u001b[0;32m~/.local/lib/python3.9/site-packages/matplotlib/colors.py:799\u001b[0m, in \u001b[0;36mColormap._repr_html_\u001b[0;34m(self)\u001b[0m\n\u001b[1;32m    797\u001b[0m \u001b[38;5;28;01mdef\u001b[39;00m \u001b[38;5;21m_repr_html_\u001b[39m(\u001b[38;5;28mself\u001b[39m):\n\u001b[1;32m    798\u001b[0m \u001b[38;5;250m    \u001b[39m\u001b[38;5;124;03m\"\"\"Generate an HTML representation of the Colormap.\"\"\"\u001b[39;00m\n\u001b[0;32m--> 799\u001b[0m     png_bytes \u001b[38;5;241m=\u001b[39m \u001b[38;5;28;43mself\u001b[39;49m\u001b[38;5;241;43m.\u001b[39;49m\u001b[43m_repr_png_\u001b[49m\u001b[43m(\u001b[49m\u001b[43m)\u001b[49m\n\u001b[1;32m    800\u001b[0m     png_base64 \u001b[38;5;241m=\u001b[39m base64\u001b[38;5;241m.\u001b[39mb64encode(png_bytes)\u001b[38;5;241m.\u001b[39mdecode(\u001b[38;5;124m'\u001b[39m\u001b[38;5;124mascii\u001b[39m\u001b[38;5;124m'\u001b[39m)\n\u001b[1;32m    801\u001b[0m     \u001b[38;5;28;01mdef\u001b[39;00m \u001b[38;5;21mcolor_block\u001b[39m(color):\n",
      "File \u001b[0;32m~/.local/lib/python3.9/site-packages/matplotlib/colors.py:785\u001b[0m, in \u001b[0;36mColormap._repr_png_\u001b[0;34m(self)\u001b[0m\n\u001b[1;32m    782\u001b[0m \u001b[38;5;250m\u001b[39m\u001b[38;5;124;03m\"\"\"Generate a PNG representation of the Colormap.\"\"\"\u001b[39;00m\n\u001b[1;32m    783\u001b[0m X \u001b[38;5;241m=\u001b[39m np\u001b[38;5;241m.\u001b[39mtile(np\u001b[38;5;241m.\u001b[39mlinspace(\u001b[38;5;241m0\u001b[39m, \u001b[38;5;241m1\u001b[39m, _REPR_PNG_SIZE[\u001b[38;5;241m0\u001b[39m]),\n\u001b[1;32m    784\u001b[0m             (_REPR_PNG_SIZE[\u001b[38;5;241m1\u001b[39m], \u001b[38;5;241m1\u001b[39m))\n\u001b[0;32m--> 785\u001b[0m pixels \u001b[38;5;241m=\u001b[39m \u001b[38;5;28;43mself\u001b[39;49m\u001b[43m(\u001b[49m\u001b[43mX\u001b[49m\u001b[43m,\u001b[49m\u001b[43m \u001b[49m\u001b[38;5;28;43mbytes\u001b[39;49m\u001b[38;5;241;43m=\u001b[39;49m\u001b[38;5;28;43;01mTrue\u001b[39;49;00m\u001b[43m)\u001b[49m\n\u001b[1;32m    786\u001b[0m png_bytes \u001b[38;5;241m=\u001b[39m io\u001b[38;5;241m.\u001b[39mBytesIO()\n\u001b[1;32m    787\u001b[0m title \u001b[38;5;241m=\u001b[39m \u001b[38;5;28mself\u001b[39m\u001b[38;5;241m.\u001b[39mname \u001b[38;5;241m+\u001b[39m \u001b[38;5;124m'\u001b[39m\u001b[38;5;124m colormap\u001b[39m\u001b[38;5;124m'\u001b[39m\n",
      "File \u001b[0;32m~/.local/lib/python3.9/site-packages/matplotlib/colors.py:612\u001b[0m, in \u001b[0;36mColormap.__call__\u001b[0;34m(self, X, alpha, bytes)\u001b[0m\n\u001b[1;32m    589\u001b[0m \u001b[38;5;250m\u001b[39m\u001b[38;5;124;03m\"\"\"\u001b[39;00m\n\u001b[1;32m    590\u001b[0m \u001b[38;5;124;03mParameters\u001b[39;00m\n\u001b[1;32m    591\u001b[0m \u001b[38;5;124;03m----------\u001b[39;00m\n\u001b[0;32m   (...)\u001b[0m\n\u001b[1;32m    609\u001b[0m \u001b[38;5;124;03mRGBA values with a shape of ``X.shape + (4, )``.\u001b[39;00m\n\u001b[1;32m    610\u001b[0m \u001b[38;5;124;03m\"\"\"\u001b[39;00m\n\u001b[1;32m    611\u001b[0m \u001b[38;5;28;01mif\u001b[39;00m \u001b[38;5;129;01mnot\u001b[39;00m \u001b[38;5;28mself\u001b[39m\u001b[38;5;241m.\u001b[39m_isinit:\n\u001b[0;32m--> 612\u001b[0m     \u001b[38;5;28;43mself\u001b[39;49m\u001b[38;5;241;43m.\u001b[39;49m\u001b[43m_init\u001b[49m\u001b[43m(\u001b[49m\u001b[43m)\u001b[49m\n\u001b[1;32m    614\u001b[0m mask_bad \u001b[38;5;241m=\u001b[39m X\u001b[38;5;241m.\u001b[39mmask \u001b[38;5;28;01mif\u001b[39;00m np\u001b[38;5;241m.\u001b[39mma\u001b[38;5;241m.\u001b[39mis_masked(X) \u001b[38;5;28;01melse\u001b[39;00m np\u001b[38;5;241m.\u001b[39misnan(X)  \u001b[38;5;66;03m# Mask nan's.\u001b[39;00m\n\u001b[1;32m    615\u001b[0m xa \u001b[38;5;241m=\u001b[39m np\u001b[38;5;241m.\u001b[39marray(X, copy\u001b[38;5;241m=\u001b[39m\u001b[38;5;28;01mTrue\u001b[39;00m)\n",
      "File \u001b[0;32m~/.local/lib/python3.9/site-packages/matplotlib/colors.py:1054\u001b[0m, in \u001b[0;36mListedColormap._init\u001b[0;34m(self)\u001b[0m\n\u001b[1;32m   1052\u001b[0m \u001b[38;5;28;01mdef\u001b[39;00m \u001b[38;5;21m_init\u001b[39m(\u001b[38;5;28mself\u001b[39m):\n\u001b[1;32m   1053\u001b[0m     \u001b[38;5;28mself\u001b[39m\u001b[38;5;241m.\u001b[39m_lut \u001b[38;5;241m=\u001b[39m np\u001b[38;5;241m.\u001b[39mzeros((\u001b[38;5;28mself\u001b[39m\u001b[38;5;241m.\u001b[39mN \u001b[38;5;241m+\u001b[39m \u001b[38;5;241m3\u001b[39m, \u001b[38;5;241m4\u001b[39m), \u001b[38;5;28mfloat\u001b[39m)\n\u001b[0;32m-> 1054\u001b[0m     \u001b[38;5;28mself\u001b[39m\u001b[38;5;241m.\u001b[39m_lut[:\u001b[38;5;241m-\u001b[39m\u001b[38;5;241m3\u001b[39m] \u001b[38;5;241m=\u001b[39m \u001b[43mto_rgba_array\u001b[49m\u001b[43m(\u001b[49m\u001b[38;5;28;43mself\u001b[39;49m\u001b[38;5;241;43m.\u001b[39;49m\u001b[43mcolors\u001b[49m\u001b[43m)\u001b[49m\n\u001b[1;32m   1055\u001b[0m     \u001b[38;5;28mself\u001b[39m\u001b[38;5;241m.\u001b[39m_isinit \u001b[38;5;241m=\u001b[39m \u001b[38;5;28;01mTrue\u001b[39;00m\n\u001b[1;32m   1056\u001b[0m     \u001b[38;5;28mself\u001b[39m\u001b[38;5;241m.\u001b[39m_set_extremes()\n",
      "File \u001b[0;32m~/.local/lib/python3.9/site-packages/matplotlib/colors.py:367\u001b[0m, in \u001b[0;36mto_rgba_array\u001b[0;34m(c, alpha)\u001b[0m\n\u001b[1;32m    364\u001b[0m     \u001b[38;5;28;01mpass\u001b[39;00m\n\u001b[1;32m    366\u001b[0m \u001b[38;5;28;01mif\u001b[39;00m \u001b[38;5;28misinstance\u001b[39m(c, \u001b[38;5;28mstr\u001b[39m):\n\u001b[0;32m--> 367\u001b[0m     \u001b[38;5;28;01mraise\u001b[39;00m \u001b[38;5;167;01mValueError\u001b[39;00m(\u001b[38;5;124m\"\u001b[39m\u001b[38;5;124mUsing a string of single character colors as \u001b[39m\u001b[38;5;124m\"\u001b[39m\n\u001b[1;32m    368\u001b[0m                      \u001b[38;5;124m\"\u001b[39m\u001b[38;5;124ma color sequence is not supported. The colors can \u001b[39m\u001b[38;5;124m\"\u001b[39m\n\u001b[1;32m    369\u001b[0m                      \u001b[38;5;124m\"\u001b[39m\u001b[38;5;124mbe passed as an explicit list instead.\u001b[39m\u001b[38;5;124m\"\u001b[39m)\n\u001b[1;32m    371\u001b[0m \u001b[38;5;28;01mif\u001b[39;00m \u001b[38;5;28mlen\u001b[39m(c) \u001b[38;5;241m==\u001b[39m \u001b[38;5;241m0\u001b[39m:\n\u001b[1;32m    372\u001b[0m     \u001b[38;5;28;01mreturn\u001b[39;00m np\u001b[38;5;241m.\u001b[39mzeros((\u001b[38;5;241m0\u001b[39m, \u001b[38;5;241m4\u001b[39m), \u001b[38;5;28mfloat\u001b[39m)\n",
      "\u001b[0;31mValueError\u001b[0m: Using a string of single character colors as a color sequence is not supported. The colors can be passed as an explicit list instead."
     ]
    },
    {
     "ename": "ValueError",
     "evalue": "Using a string of single character colors as a color sequence is not supported. The colors can be passed as an explicit list instead.",
     "output_type": "error",
     "traceback": [
      "\u001b[0;31m---------------------------------------------------------------------------\u001b[0m",
      "\u001b[0;31mValueError\u001b[0m                                Traceback (most recent call last)",
      "File \u001b[0;32m/g/data/hh5/public/apps/miniconda3/envs/analysis3-23.04/lib/python3.9/site-packages/IPython/core/formatters.py:344\u001b[0m, in \u001b[0;36mBaseFormatter.__call__\u001b[0;34m(self, obj)\u001b[0m\n\u001b[1;32m    342\u001b[0m     method \u001b[38;5;241m=\u001b[39m get_real_method(obj, \u001b[38;5;28mself\u001b[39m\u001b[38;5;241m.\u001b[39mprint_method)\n\u001b[1;32m    343\u001b[0m     \u001b[38;5;28;01mif\u001b[39;00m method \u001b[38;5;129;01mis\u001b[39;00m \u001b[38;5;129;01mnot\u001b[39;00m \u001b[38;5;28;01mNone\u001b[39;00m:\n\u001b[0;32m--> 344\u001b[0m         \u001b[38;5;28;01mreturn\u001b[39;00m \u001b[43mmethod\u001b[49m\u001b[43m(\u001b[49m\u001b[43m)\u001b[49m\n\u001b[1;32m    345\u001b[0m     \u001b[38;5;28;01mreturn\u001b[39;00m \u001b[38;5;28;01mNone\u001b[39;00m\n\u001b[1;32m    346\u001b[0m \u001b[38;5;28;01melse\u001b[39;00m:\n",
      "File \u001b[0;32m~/.local/lib/python3.9/site-packages/matplotlib/colors.py:785\u001b[0m, in \u001b[0;36mColormap._repr_png_\u001b[0;34m(self)\u001b[0m\n\u001b[1;32m    782\u001b[0m \u001b[38;5;250m\u001b[39m\u001b[38;5;124;03m\"\"\"Generate a PNG representation of the Colormap.\"\"\"\u001b[39;00m\n\u001b[1;32m    783\u001b[0m X \u001b[38;5;241m=\u001b[39m np\u001b[38;5;241m.\u001b[39mtile(np\u001b[38;5;241m.\u001b[39mlinspace(\u001b[38;5;241m0\u001b[39m, \u001b[38;5;241m1\u001b[39m, _REPR_PNG_SIZE[\u001b[38;5;241m0\u001b[39m]),\n\u001b[1;32m    784\u001b[0m             (_REPR_PNG_SIZE[\u001b[38;5;241m1\u001b[39m], \u001b[38;5;241m1\u001b[39m))\n\u001b[0;32m--> 785\u001b[0m pixels \u001b[38;5;241m=\u001b[39m \u001b[38;5;28;43mself\u001b[39;49m\u001b[43m(\u001b[49m\u001b[43mX\u001b[49m\u001b[43m,\u001b[49m\u001b[43m \u001b[49m\u001b[38;5;28;43mbytes\u001b[39;49m\u001b[38;5;241;43m=\u001b[39;49m\u001b[38;5;28;43;01mTrue\u001b[39;49;00m\u001b[43m)\u001b[49m\n\u001b[1;32m    786\u001b[0m png_bytes \u001b[38;5;241m=\u001b[39m io\u001b[38;5;241m.\u001b[39mBytesIO()\n\u001b[1;32m    787\u001b[0m title \u001b[38;5;241m=\u001b[39m \u001b[38;5;28mself\u001b[39m\u001b[38;5;241m.\u001b[39mname \u001b[38;5;241m+\u001b[39m \u001b[38;5;124m'\u001b[39m\u001b[38;5;124m colormap\u001b[39m\u001b[38;5;124m'\u001b[39m\n",
      "File \u001b[0;32m~/.local/lib/python3.9/site-packages/matplotlib/colors.py:612\u001b[0m, in \u001b[0;36mColormap.__call__\u001b[0;34m(self, X, alpha, bytes)\u001b[0m\n\u001b[1;32m    589\u001b[0m \u001b[38;5;250m\u001b[39m\u001b[38;5;124;03m\"\"\"\u001b[39;00m\n\u001b[1;32m    590\u001b[0m \u001b[38;5;124;03mParameters\u001b[39;00m\n\u001b[1;32m    591\u001b[0m \u001b[38;5;124;03m----------\u001b[39;00m\n\u001b[0;32m   (...)\u001b[0m\n\u001b[1;32m    609\u001b[0m \u001b[38;5;124;03mRGBA values with a shape of ``X.shape + (4, )``.\u001b[39;00m\n\u001b[1;32m    610\u001b[0m \u001b[38;5;124;03m\"\"\"\u001b[39;00m\n\u001b[1;32m    611\u001b[0m \u001b[38;5;28;01mif\u001b[39;00m \u001b[38;5;129;01mnot\u001b[39;00m \u001b[38;5;28mself\u001b[39m\u001b[38;5;241m.\u001b[39m_isinit:\n\u001b[0;32m--> 612\u001b[0m     \u001b[38;5;28;43mself\u001b[39;49m\u001b[38;5;241;43m.\u001b[39;49m\u001b[43m_init\u001b[49m\u001b[43m(\u001b[49m\u001b[43m)\u001b[49m\n\u001b[1;32m    614\u001b[0m mask_bad \u001b[38;5;241m=\u001b[39m X\u001b[38;5;241m.\u001b[39mmask \u001b[38;5;28;01mif\u001b[39;00m np\u001b[38;5;241m.\u001b[39mma\u001b[38;5;241m.\u001b[39mis_masked(X) \u001b[38;5;28;01melse\u001b[39;00m np\u001b[38;5;241m.\u001b[39misnan(X)  \u001b[38;5;66;03m# Mask nan's.\u001b[39;00m\n\u001b[1;32m    615\u001b[0m xa \u001b[38;5;241m=\u001b[39m np\u001b[38;5;241m.\u001b[39marray(X, copy\u001b[38;5;241m=\u001b[39m\u001b[38;5;28;01mTrue\u001b[39;00m)\n",
      "File \u001b[0;32m~/.local/lib/python3.9/site-packages/matplotlib/colors.py:1054\u001b[0m, in \u001b[0;36mListedColormap._init\u001b[0;34m(self)\u001b[0m\n\u001b[1;32m   1052\u001b[0m \u001b[38;5;28;01mdef\u001b[39;00m \u001b[38;5;21m_init\u001b[39m(\u001b[38;5;28mself\u001b[39m):\n\u001b[1;32m   1053\u001b[0m     \u001b[38;5;28mself\u001b[39m\u001b[38;5;241m.\u001b[39m_lut \u001b[38;5;241m=\u001b[39m np\u001b[38;5;241m.\u001b[39mzeros((\u001b[38;5;28mself\u001b[39m\u001b[38;5;241m.\u001b[39mN \u001b[38;5;241m+\u001b[39m \u001b[38;5;241m3\u001b[39m, \u001b[38;5;241m4\u001b[39m), \u001b[38;5;28mfloat\u001b[39m)\n\u001b[0;32m-> 1054\u001b[0m     \u001b[38;5;28mself\u001b[39m\u001b[38;5;241m.\u001b[39m_lut[:\u001b[38;5;241m-\u001b[39m\u001b[38;5;241m3\u001b[39m] \u001b[38;5;241m=\u001b[39m \u001b[43mto_rgba_array\u001b[49m\u001b[43m(\u001b[49m\u001b[38;5;28;43mself\u001b[39;49m\u001b[38;5;241;43m.\u001b[39;49m\u001b[43mcolors\u001b[49m\u001b[43m)\u001b[49m\n\u001b[1;32m   1055\u001b[0m     \u001b[38;5;28mself\u001b[39m\u001b[38;5;241m.\u001b[39m_isinit \u001b[38;5;241m=\u001b[39m \u001b[38;5;28;01mTrue\u001b[39;00m\n\u001b[1;32m   1056\u001b[0m     \u001b[38;5;28mself\u001b[39m\u001b[38;5;241m.\u001b[39m_set_extremes()\n",
      "File \u001b[0;32m~/.local/lib/python3.9/site-packages/matplotlib/colors.py:367\u001b[0m, in \u001b[0;36mto_rgba_array\u001b[0;34m(c, alpha)\u001b[0m\n\u001b[1;32m    364\u001b[0m     \u001b[38;5;28;01mpass\u001b[39;00m\n\u001b[1;32m    366\u001b[0m \u001b[38;5;28;01mif\u001b[39;00m \u001b[38;5;28misinstance\u001b[39m(c, \u001b[38;5;28mstr\u001b[39m):\n\u001b[0;32m--> 367\u001b[0m     \u001b[38;5;28;01mraise\u001b[39;00m \u001b[38;5;167;01mValueError\u001b[39;00m(\u001b[38;5;124m\"\u001b[39m\u001b[38;5;124mUsing a string of single character colors as \u001b[39m\u001b[38;5;124m\"\u001b[39m\n\u001b[1;32m    368\u001b[0m                      \u001b[38;5;124m\"\u001b[39m\u001b[38;5;124ma color sequence is not supported. The colors can \u001b[39m\u001b[38;5;124m\"\u001b[39m\n\u001b[1;32m    369\u001b[0m                      \u001b[38;5;124m\"\u001b[39m\u001b[38;5;124mbe passed as an explicit list instead.\u001b[39m\u001b[38;5;124m\"\u001b[39m)\n\u001b[1;32m    371\u001b[0m \u001b[38;5;28;01mif\u001b[39;00m \u001b[38;5;28mlen\u001b[39m(c) \u001b[38;5;241m==\u001b[39m \u001b[38;5;241m0\u001b[39m:\n\u001b[1;32m    372\u001b[0m     \u001b[38;5;28;01mreturn\u001b[39;00m np\u001b[38;5;241m.\u001b[39mzeros((\u001b[38;5;241m0\u001b[39m, \u001b[38;5;241m4\u001b[39m), \u001b[38;5;28mfloat\u001b[39m)\n",
      "\u001b[0;31mValueError\u001b[0m: Using a string of single character colors as a color sequence is not supported. The colors can be passed as an explicit list instead."
     ]
    },
    {
     "data": {
      "text/plain": [
       "<matplotlib.colors.ListedColormap at 0x1509168a81f0>"
      ]
     },
     "execution_count": 65,
     "metadata": {},
     "output_type": "execute_result"
    }
   ],
   "source": [
    "from matplotlib.colors import LinearSegmentedColormap, ListedColormap\n",
    "cmap_rgb =np.asarray([[241,238,246, 256], [215,181,216, 256], [223,101,176, 256], [221,28,119, 256] , [152,0,67, 256]])/256\n",
    "pinks = ListedColormap('my_list', cmap_rgb)\n",
    "pinks"
   ]
  },
  {
   "cell_type": "code",
   "execution_count": 66,
   "id": "25274e68-0a64-47e8-9f52-618ebeaa52a8",
   "metadata": {},
   "outputs": [
    {
     "data": {
      "text/plain": [
       "array([[0.94140625, 0.9296875 , 0.9609375 , 1.        ],\n",
       "       [0.83984375, 0.70703125, 0.84375   , 1.        ],\n",
       "       [0.87109375, 0.39453125, 0.6875    , 1.        ],\n",
       "       [0.86328125, 0.109375  , 0.46484375, 1.        ],\n",
       "       [0.59375   , 0.        , 0.26171875, 1.        ]])"
      ]
     },
     "execution_count": 66,
     "metadata": {},
     "output_type": "execute_result"
    }
   ],
   "source": [
    "cmap_rgb"
   ]
  },
  {
   "cell_type": "code",
   "execution_count": 74,
   "id": "ddb3d55c-8c69-49c6-98d7-2b5e8aefdfe5",
   "metadata": {},
   "outputs": [
    {
     "data": {
      "image/png": "[encoded data removed]",
      "text/html": [
       "<div style=\"vertical-align: middle;\"><strong>from_list</strong> </div><div class=\"cmap\"><img alt=\"from_list colormap\" title=\"from_list\" style=\"border: 1px solid #555;\" src=\"data:image/png;base64,iVBORw0KGgoAAAANSUhEUgAAAgAAAABACAYAAABsv8+/AAAAGHRFWHRUaXRsZQBmcm9tX2xpc3QgY29sb3JtYXBDL89FAAAAHnRFWHREZXNjcmlwdGlvbgBmcm9tX2xpc3QgY29sb3JtYXABtCnOAAAAMHRFWHRBdXRob3IATWF0cGxvdGxpYiB2My40LjMsIGh0dHBzOi8vbWF0cGxvdGxpYi5vcmcJXfPTAAAAMnRFWHRTb2Z0d2FyZQBNYXRwbG90bGliIHYzLjQuMywgaHR0cHM6Ly9tYXRwbG90bGliLm9yZyf7bPQAAAFPSURBVHic7daxDUFRAEBRVPafRKcwwG8MoJbQSTS/xQJP60nuORPc8m6fj/W94S/dl+vsBAb2h8vsBAZex2V2AgOn23l2Al/sZgcAAL9nAAAgyAAAQJABAIAgAwAAQQYAAIIMAAAEGQAACDIAABBkAAAgyAAAQJABAIAgAwAAQQYAAIIMAAAEGQAACDIAABBkAAAgyAAAQJABAIAgAwAAQQYAAIIMAAAEGQAACDIAABBkAAAgyAAAQJABAIAgAwAAQQYAAIIMAAAEGQAACDIAABBkAAAgyAAAQJABAIAgAwAAQQYAAIIMAAAEGQAACDIAABBkAAAgyAAAQJABAIAgAwAAQQYAAIIMAAAEGQAACDIAABBkAAAgyAAAQJABAIAgAwAAQQYAAIIMAAAEGQAACDIAABBkAAAgyAAAQJABAIAgAwAAQQYAAIIMAAAEfQAskQ1Y7elxLgAAAABJRU5ErkJggg==\"></div><div style=\"vertical-align: middle; max-width: 514px; display: flex; justify-content: space-between;\"><div style=\"float: left;\"><div title=\"#f0edf5ff\" style=\"display: inline-block; width: 1em; height: 1em; margin: 0; vertical-align: middle; border: 1px solid #555; background-color: #f0edf5ff;\"></div> under</div><div style=\"margin: 0 auto; display: inline-block;\">bad <div title=\"#00000000\" style=\"display: inline-block; width: 1em; height: 1em; margin: 0; vertical-align: middle; border: 1px solid #555; background-color: #00000000;\"></div></div><div style=\"float: right;\">over <div title=\"#970043ff\" style=\"display: inline-block; width: 1em; height: 1em; margin: 0; vertical-align: middle; border: 1px solid #555; background-color: #970043ff;\"></div></div>"
      ],
      "text/plain": [
       "<matplotlib.colors.ListedColormap at 0x1509168a2c70>"
      ]
     },
     "execution_count": 74,
     "metadata": {},
     "output_type": "execute_result"
    }
   ],
   "source": [
    "cmap = ListedColormap([[0.94140625, 0.9296875 , 0.9609375 , 1.], \n",
    "                       [0.83984375, 0.70703125, 0.84375   , 1.        ], \n",
    "                       [0.87109375, 0.39453125, 0.6875    , 1.        ],\n",
    "                       [0.86328125, 0.109375  , 0.46484375, 1.        ],\n",
    "                       [0.59375   , 0.        , 0.26171875, 1.        ]\n",
    "                      ])\n",
    "cmap"
   ]
  },
  {
   "cell_type": "code",
   "execution_count": 78,
   "id": "2be5fe0c-47b9-48cc-a3de-256df8a55266",
   "metadata": {},
   "outputs": [
    {
     "data": {
      "image/png": "[encoded data removed]",
      "text/html": [
       "<div style=\"vertical-align: middle;\"><strong>blend</strong> </div><div class=\"cmap\"><img alt=\"blend colormap\" title=\"blend\" style=\"border: 1px solid #555;\" src=\"data:image/png;base64,iVBORw0KGgoAAAANSUhEUgAAAgAAAABACAYAAABsv8+/AAAAFHRFWHRUaXRsZQBibGVuZCBjb2xvcm1hcKH0gPAAAAAadEVYdERlc2NyaXB0aW9uAGJsZW5kIGNvbG9ybWFwX6spFgAAADB0RVh0QXV0aG9yAE1hdHBsb3RsaWIgdjMuNC4zLCBodHRwczovL21hdHBsb3RsaWIub3JnCV3z0wAAADJ0RVh0U29mdHdhcmUATWF0cGxvdGxpYiB2My40LjMsIGh0dHBzOi8vbWF0cGxvdGxpYi5vcmcn+2z0AAABsklEQVR4nO3Wu26DQBBA0Un+/1sjpUlLirzkSIjF2NU9p7FZIzEGr3xf3t8+tpmZbdtmvt7M7fGcXL/9fHd9Vs/fbg4vzzeL8y2vL843D75/i3P8XXeWzr8+x8/L4nwn1w/nuPv53jvf7wPemfPJcxw+37V9cnq+f9/38v07O9/srD95jrP7+Orvff16Z9cP5pid9av372gfL/4vPHyO2Tv/vn2yPN/l53vnPv72OgBAjgAAgCABAABBAgAAggQAAAQJAAAIEgAAECQAACBIAABAkAAAgCABAABBAgAAggQAAAQJAAAIEgAAECQAACBIAABAkAAAgCABAABBAgAAggQAAAQJAAAIEgAAECQAACBIAABAkAAAgCABAABBAgAAggQAAAQJAAAIEgAAECQAACBIAABAkAAAgCABAABBAgAAggQAAAQJAAAIEgAAECQAACBIAABAkAAAgCABAABBAgAAggQAAAQJAAAIEgAAECQAACBIAABAkAAAgCABAABBAgAAggQAAAQJAAAIEgAAECQAACBIAABAkAAAgCABAABBAgAAggQAAAQJAAAIEgAAEPQJaAT8afCxaSsAAAAASUVORK5CYII=\"></div><div style=\"vertical-align: middle; max-width: 514px; display: flex; justify-content: space-between;\"><div style=\"float: left;\"><div title=\"#f1eef6ff\" style=\"display: inline-block; width: 1em; height: 1em; margin: 0; vertical-align: middle; border: 1px solid #555; background-color: #f1eef6ff;\"></div> under</div><div style=\"margin: 0 auto; display: inline-block;\">bad <div title=\"#00000000\" style=\"display: inline-block; width: 1em; height: 1em; margin: 0; vertical-align: middle; border: 1px solid #555; background-color: #00000000;\"></div></div><div style=\"float: right;\">over <div title=\"#980043ff\" style=\"display: inline-block; width: 1em; height: 1em; margin: 0; vertical-align: middle; border: 1px solid #555; background-color: #980043ff;\"></div></div>"
      ],
      "text/plain": [
       "<matplotlib.colors.LinearSegmentedColormap at 0x1509168a8610>"
      ]
     },
     "execution_count": 78,
     "metadata": {},
     "output_type": "execute_result"
    }
   ],
   "source": [
    "#cm = sns.color_palette(cmap, as_cmap=True)\n",
    "cm = sns.color_palette(\"blend:#f1eef6,#980043\", as_cmap=True)"
   ]
  },
  {
   "cell_type": "code",
   "execution_count": 109,
   "id": "9a9c5b4e-14c4-418b-9e5b-f3c4248e41e5",
   "metadata": {},
   "outputs": [
    {
     "data": {
      "image/png": "[encoded data removed]",
      "text/plain": [
       "<Figure size 662.628x496.971 with 1 Axes>"
      ]
     },
     "metadata": {},
     "output_type": "display_data"
    }
   ],
   "source": [
    "import seaborn as sns\n",
    "rc('text', usetex=True)\n",
    "SSR_STO = -np.asarray([-0.041276459, -0.036938319, -0.03315878, 0.005871959, -0.002828933, -0.034013991, -0.04274514, -0.081538865, -0.055312873])\n",
    "zero_mol = -np.asarray([-1.839231296, -1.105403392, -1.135494493, -0.733122744, -0.801317478, -0.986912568, -0.869732462, -1.420571644, -1.075082266, -0.824308405, -0.926527858])\n",
    "one_mol = -np.asarray([-1.557076007, -1.629060862, -1.586027008, -1.499969216])\n",
    "five_mol = -np.asarray([-1.153324725, -1.204826609])\n",
    "ten_mol = -np.asarray([-0.200098977, -0.204401411])\n",
    "\n",
    "\n",
    "# Plot settings\n",
    "rc('font',**{'family':'serif','serif':['Computer Modern Roman']})\n",
    "rc('text', usetex=False)\n",
    "textwidth = 3.31314*2\n",
    "aspect_ratio = 6/8\n",
    "scale = 1.0\n",
    "width = textwidth * scale\n",
    "height = width * aspect_ratio\n",
    "\n",
    "mpl.rcParams.update({\"axes.grid\" : True, \"grid.color\": [0.6, 0.6, 0.6]})\n",
    "sns.color_palette(\"colorblind\",15)\n",
    "\n",
    "COLOR = 'white'\n",
    "mpl.rcParams['text.color'] = COLOR\n",
    "mpl.rcParams['axes.labelcolor'] = COLOR\n",
    "mpl.rcParams['xtick.color'] = COLOR\n",
    "mpl.rcParams['ytick.color'] = COLOR\n",
    "\n",
    "\n",
    "fig = plt.figure(figsize=[width, height])\n",
    "\n",
    "ax = fig.add_subplot(1, 1, 1)\n",
    "\n",
    "df = pd.Series(SSR_STO, name=\"STO\").to_frame().join(pd.Series(zero_mol, name=\"Al:STO-$0\\%$\")).join(pd.Series(one_mol, name=\"Al:STO-$1\\%$\")).join(pd.Series(five_mol, name=\"Al:STO-$5\\%$\")).join(pd.Series(ten_mol, name=\"Al:STO-$10\\%$\"))\n",
    "cm = sns.color_palette(\"blend:#f1eef6,#980043\")#, as_cmap=True)\n",
    "sns.set_palette(sns.color_palette(\"blend:#f1eef6,#980043\"))\n",
    "PROPS = {\n",
    "    'boxprops':{'edgecolor':'gray'},\n",
    "    'medianprops':{'color':'gray'},\n",
    "    'whiskerprops':{'color':'gray'},\n",
    "    'capprops':{'color':'gray'}\n",
    "}\n",
    "sns.boxplot(data=df,\n",
    "            whis=[0, 100], width=.6, \n",
    "            **PROPS)#, palette = cm)\n",
    "\n",
    "sns.stripplot(data=df, size=4, #color=\".9\",\n",
    "              linewidth=0) # width = 0.2) \n",
    "\n",
    "ax.set(ylabel='k/h$^{-1}$')#, title='time/h', ylim=(0,2))\n",
    "plt.setp(ax.artists, edgecolor = 'w')#, facecolor='w')\n",
    "plt.setp(ax.lines, color='w')\n",
    "ax.spines['bottom'].set_color('gray')\n",
    "ax.spines['top'].set_color('gray')\n",
    "ax.spines['left'].set_color('gray')\n",
    "ax.spines['right'].set_color('gray')\n",
    "\n",
    "plt.savefig('mabel-histogram.png', dpi = 1000, transparent=True)\n",
    "\n",
    "\n",
    "#sns.boxplot(ax=ax, x = np.ones(len(SSR_STO)), y=SSR_STO)# x=\"day\", y=\"total_bill\",\n",
    "            #hue=\"smoker\", palette=[\"m\", \"g\"],\n",
    "            #data=tips)\n",
    "#sns.boxplot(ax=ax, x = 2*np.ones(len(zero_mol)), y=zero_mol)"
   ]
  },
  {
   "cell_type": "code",
   "execution_count": 112,
   "id": "7cb43293-290a-4986-aa9a-bf9e9da0e91f",
   "metadata": {},
   "outputs": [
    {
     "data": {
      "text/html": [
       "<div>\n",
       "<style scoped>\n",
       "    .dataframe tbody tr th:only-of-type {\n",
       "        vertical-align: middle;\n",
       "    }\n",
       "\n",
       "    .dataframe tbody tr th {\n",
       "        vertical-align: top;\n",
       "    }\n",
       "\n",
       "    .dataframe thead th {\n",
       "        text-align: right;\n",
       "    }\n",
       "</style>\n",
       "<table border=\"1\" class=\"dataframe\">\n",
       "  <thead>\n",
       "    <tr style=\"text-align: right;\">\n",
       "      <th></th>\n",
       "      <th>Name</th>\n",
       "      <th>k</th>\n",
       "    </tr>\n",
       "  </thead>\n",
       "  <tbody>\n",
       "    <tr>\n",
       "      <th>0</th>\n",
       "      <td>SSR-STO</td>\n",
       "      <td>-0.045906</td>\n",
       "    </tr>\n",
       "    <tr>\n",
       "      <th>1</th>\n",
       "      <td>SSR-STO</td>\n",
       "      <td>-0.058928</td>\n",
       "    </tr>\n",
       "    <tr>\n",
       "      <th>2</th>\n",
       "      <td>SSR-STO</td>\n",
       "      <td>-0.074758</td>\n",
       "    </tr>\n",
       "    <tr>\n",
       "      <th>3</th>\n",
       "      <td>SSR-STO</td>\n",
       "      <td>-0.061142</td>\n",
       "    </tr>\n",
       "    <tr>\n",
       "      <th>4</th>\n",
       "      <td>STO-Al-a</td>\n",
       "      <td>-3.066138</td>\n",
       "    </tr>\n",
       "    <tr>\n",
       "      <th>5</th>\n",
       "      <td>STO-Al-a</td>\n",
       "      <td>-2.773698</td>\n",
       "    </tr>\n",
       "    <tr>\n",
       "      <th>6</th>\n",
       "      <td>STO-Al-a</td>\n",
       "      <td>-5.113122</td>\n",
       "    </tr>\n",
       "    <tr>\n",
       "      <th>7</th>\n",
       "      <td>STO-Al-a</td>\n",
       "      <td>-5.405538</td>\n",
       "    </tr>\n",
       "    <tr>\n",
       "      <th>8</th>\n",
       "      <td>STO-Al-b</td>\n",
       "      <td>-1.067305</td>\n",
       "    </tr>\n",
       "    <tr>\n",
       "      <th>9</th>\n",
       "      <td>STO-Al-b</td>\n",
       "      <td>-1.105231</td>\n",
       "    </tr>\n",
       "    <tr>\n",
       "      <th>10</th>\n",
       "      <td>STO-Al-b</td>\n",
       "      <td>-0.901365</td>\n",
       "    </tr>\n",
       "    <tr>\n",
       "      <th>11</th>\n",
       "      <td>STO-Al-b</td>\n",
       "      <td>-0.861575</td>\n",
       "    </tr>\n",
       "    <tr>\n",
       "      <th>12</th>\n",
       "      <td>STO-Al-c</td>\n",
       "      <td>-0.652450</td>\n",
       "    </tr>\n",
       "    <tr>\n",
       "      <th>13</th>\n",
       "      <td>STO-Al-c</td>\n",
       "      <td>-0.562633</td>\n",
       "    </tr>\n",
       "    <tr>\n",
       "      <th>14</th>\n",
       "      <td>STO-Al-c</td>\n",
       "      <td>-0.710455</td>\n",
       "    </tr>\n",
       "    <tr>\n",
       "      <th>15</th>\n",
       "      <td>STO-Al-c</td>\n",
       "      <td>-0.566390</td>\n",
       "    </tr>\n",
       "    <tr>\n",
       "      <th>16</th>\n",
       "      <td>STO-Al-d</td>\n",
       "      <td>-0.064667</td>\n",
       "    </tr>\n",
       "    <tr>\n",
       "      <th>17</th>\n",
       "      <td>STO-Al-d</td>\n",
       "      <td>-0.056137</td>\n",
       "    </tr>\n",
       "    <tr>\n",
       "      <th>18</th>\n",
       "      <td>STO-Al-d</td>\n",
       "      <td>-0.061316</td>\n",
       "    </tr>\n",
       "    <tr>\n",
       "      <th>19</th>\n",
       "      <td>STO-Al-d</td>\n",
       "      <td>-0.060738</td>\n",
       "    </tr>\n",
       "  </tbody>\n",
       "</table>\n",
       "</div>"
      ],
      "text/plain": [
       "        Name         k\n",
       "0    SSR-STO -0.045906\n",
       "1    SSR-STO -0.058928\n",
       "2    SSR-STO -0.074758\n",
       "3    SSR-STO -0.061142\n",
       "4   STO-Al-a -3.066138\n",
       "5   STO-Al-a -2.773698\n",
       "6   STO-Al-a -5.113122\n",
       "7   STO-Al-a -5.405538\n",
       "8   STO-Al-b -1.067305\n",
       "9   STO-Al-b -1.105231\n",
       "10  STO-Al-b -0.901365\n",
       "11  STO-Al-b -0.861575\n",
       "12  STO-Al-c -0.652450\n",
       "13  STO-Al-c -0.562633\n",
       "14  STO-Al-c -0.710455\n",
       "15  STO-Al-c -0.566390\n",
       "16  STO-Al-d -0.064667\n",
       "17  STO-Al-d -0.056137\n",
       "18  STO-Al-d -0.061316\n",
       "19  STO-Al-d -0.060738"
      ]
     },
     "execution_count": 112,
     "metadata": {},
     "output_type": "execute_result"
    }
   ],
   "source": [
    "df"
   ]
  },
  {
   "cell_type": "code",
   "execution_count": 129,
   "id": "2d78f512-b714-45aa-8a3d-457429805e63",
   "metadata": {},
   "outputs": [
    {
     "name": "stderr",
     "output_type": "stream",
     "text": [
      "/jobfs/95388092.gadi-pbs/ipykernel_2881580/3309208073.py:40: FutureWarning: Passing `palette` without assigning `hue` is deprecated.\n",
      "  sns.stripplot(x=df[\"Name\"], y = df[\"k\"], #data=df,\n",
      "/jobfs/95388092.gadi-pbs/ipykernel_2881580/3309208073.py:40: UserWarning: The palette list has more values (6) than needed (5), which may not be intended.\n",
      "  sns.stripplot(x=df[\"Name\"], y = df[\"k\"], #data=df,\n"
     ]
    },
    {
     "data": {
      "image/png": "[encoded data removed]",
      "text/plain": [
       "<Figure size 662.628x496.971 with 1 Axes>"
      ]
     },
     "metadata": {},
     "output_type": "display_data"
    }
   ],
   "source": [
    "df = pd.read_csv('/home/566/nd0349/notebooks/data/STO-PC-MO-Cameron.csv')\n",
    "\n",
    "# Plot settings\n",
    "rc('font',**{'family':'serif','serif':['Computer Modern Roman']})\n",
    "rc('text', usetex=False)\n",
    "textwidth = 3.31314*2\n",
    "aspect_ratio = 6/8\n",
    "scale = 1.0\n",
    "width = textwidth * scale\n",
    "height = width * aspect_ratio\n",
    "\n",
    "mpl.rcParams.update({\"axes.grid\" : True, \"grid.color\": [0.6, 0.6, 0.6]})\n",
    "sns.color_palette(\"colorblind\",15)\n",
    "\n",
    "COLOR = 'white'\n",
    "mpl.rcParams['text.color'] = COLOR\n",
    "mpl.rcParams['axes.labelcolor'] = COLOR\n",
    "mpl.rcParams['xtick.color'] = COLOR\n",
    "mpl.rcParams['ytick.color'] = COLOR\n",
    "\n",
    "\n",
    "fig = plt.figure(figsize=[width, height])\n",
    "\n",
    "ax = fig.add_subplot(1, 1, 1)\n",
    "\n",
    "#df = pd.Series(SSR_STO, name=\"STO\").to_frame().join(pd.Series(zero_mol, name=\"Al:STO-$0\\%$\")).join(pd.Series(one_mol, name=\"Al:STO-$1\\%$\")).join(pd.Series(five_mol, name=\"Al:STO-$5\\%$\")).join(pd.Series(ten_mol, name=\"Al:STO-$10\\%$\"))\n",
    "cm = sns.color_palette(\"blend:#f1eef6,#980043\")#, as_cmap=True)\n",
    "sns.set_palette(sns.color_palette(\"blend:#f1eef6,#980043\"))\n",
    "PROPS = {\n",
    "    'boxprops':{'edgecolor':'gray'},\n",
    "    'medianprops':{'color':'gray'},\n",
    "    'whiskerprops':{'color':'gray'},\n",
    "    'capprops':{'color':'gray'}\n",
    "}\n",
    "df[\"k\"] = -df[\"k\"]\n",
    "sns.boxplot(x=df[\"Name\"], y = df[\"k\"],\n",
    "            whis=[0, 100], width=.6, \n",
    "            **PROPS)#, palette = cm)\n",
    "\n",
    "sns.stripplot(x=df[\"Name\"], y = df[\"k\"], #data=df, \n",
    "              size=4, palette = cm, #color=\".9\",\n",
    "              linewidth=0) # width = 0.2) \n",
    "\n",
    "ax.set(ylabel='k/h$^{-1}$')#, title='time/h', ylim=(0,2))\n",
    "plt.setp(ax.artists, edgecolor = 'w')#, facecolor='w')\n",
    "plt.setp(ax.lines, color='w')\n",
    "ax.spines['bottom'].set_color('gray')\n",
    "ax.spines['top'].set_color('gray')\n",
    "ax.spines['left'].set_color('gray')\n",
    "ax.spines['right'].set_color('gray')\n",
    "ax.set_xticklabels(['STO','Al:STO-$0\\%$','Al:STO-$1\\%$','Al:STO-$5\\%$','Al:STO-$10\\%$'])\n",
    "ax.set_xlabel('')\n",
    "\n",
    "plt.savefig('notebooks/mabel-histogram.png', dpi = 1000, transparent=True)\n"
   ]
  },
  {
   "cell_type": "code",
   "execution_count": 122,
   "id": "233f9227-933b-47d8-bd2d-ea7307449df3",
   "metadata": {},
   "outputs": [
    {
     "data": {
      "text/html": [
       "<div>\n",
       "<style scoped>\n",
       "    .dataframe tbody tr th:only-of-type {\n",
       "        vertical-align: middle;\n",
       "    }\n",
       "\n",
       "    .dataframe tbody tr th {\n",
       "        vertical-align: top;\n",
       "    }\n",
       "\n",
       "    .dataframe thead th {\n",
       "        text-align: right;\n",
       "    }\n",
       "</style>\n",
       "<table border=\"1\" class=\"dataframe\">\n",
       "  <thead>\n",
       "    <tr style=\"text-align: right;\">\n",
       "      <th></th>\n",
       "      <th>Name</th>\n",
       "      <th>k</th>\n",
       "    </tr>\n",
       "  </thead>\n",
       "  <tbody>\n",
       "    <tr>\n",
       "      <th>0</th>\n",
       "      <td>SSR-STO</td>\n",
       "      <td>0.045906</td>\n",
       "    </tr>\n",
       "    <tr>\n",
       "      <th>1</th>\n",
       "      <td>SSR-STO</td>\n",
       "      <td>0.058928</td>\n",
       "    </tr>\n",
       "    <tr>\n",
       "      <th>2</th>\n",
       "      <td>SSR-STO</td>\n",
       "      <td>0.074758</td>\n",
       "    </tr>\n",
       "    <tr>\n",
       "      <th>3</th>\n",
       "      <td>SSR-STO</td>\n",
       "      <td>0.061142</td>\n",
       "    </tr>\n",
       "    <tr>\n",
       "      <th>4</th>\n",
       "      <td>STO-Al-a</td>\n",
       "      <td>3.066138</td>\n",
       "    </tr>\n",
       "    <tr>\n",
       "      <th>5</th>\n",
       "      <td>STO-Al-a</td>\n",
       "      <td>2.773698</td>\n",
       "    </tr>\n",
       "    <tr>\n",
       "      <th>6</th>\n",
       "      <td>STO-Al-a</td>\n",
       "      <td>5.113122</td>\n",
       "    </tr>\n",
       "    <tr>\n",
       "      <th>7</th>\n",
       "      <td>STO-Al-a</td>\n",
       "      <td>5.405538</td>\n",
       "    </tr>\n",
       "    <tr>\n",
       "      <th>8</th>\n",
       "      <td>STO-Al-b</td>\n",
       "      <td>1.067305</td>\n",
       "    </tr>\n",
       "    <tr>\n",
       "      <th>9</th>\n",
       "      <td>STO-Al-b</td>\n",
       "      <td>1.105231</td>\n",
       "    </tr>\n",
       "    <tr>\n",
       "      <th>10</th>\n",
       "      <td>STO-Al-b</td>\n",
       "      <td>0.901365</td>\n",
       "    </tr>\n",
       "    <tr>\n",
       "      <th>11</th>\n",
       "      <td>STO-Al-b</td>\n",
       "      <td>0.861575</td>\n",
       "    </tr>\n",
       "    <tr>\n",
       "      <th>12</th>\n",
       "      <td>STO-Al-c</td>\n",
       "      <td>0.652450</td>\n",
       "    </tr>\n",
       "    <tr>\n",
       "      <th>13</th>\n",
       "      <td>STO-Al-c</td>\n",
       "      <td>0.562633</td>\n",
       "    </tr>\n",
       "    <tr>\n",
       "      <th>14</th>\n",
       "      <td>STO-Al-c</td>\n",
       "      <td>0.710455</td>\n",
       "    </tr>\n",
       "    <tr>\n",
       "      <th>15</th>\n",
       "      <td>STO-Al-c</td>\n",
       "      <td>0.566390</td>\n",
       "    </tr>\n",
       "    <tr>\n",
       "      <th>16</th>\n",
       "      <td>STO-Al-d</td>\n",
       "      <td>0.064667</td>\n",
       "    </tr>\n",
       "    <tr>\n",
       "      <th>17</th>\n",
       "      <td>STO-Al-d</td>\n",
       "      <td>0.056137</td>\n",
       "    </tr>\n",
       "    <tr>\n",
       "      <th>18</th>\n",
       "      <td>STO-Al-d</td>\n",
       "      <td>0.061316</td>\n",
       "    </tr>\n",
       "    <tr>\n",
       "      <th>19</th>\n",
       "      <td>STO-Al-d</td>\n",
       "      <td>0.060738</td>\n",
       "    </tr>\n",
       "  </tbody>\n",
       "</table>\n",
       "</div>"
      ],
      "text/plain": [
       "        Name         k\n",
       "0    SSR-STO  0.045906\n",
       "1    SSR-STO  0.058928\n",
       "2    SSR-STO  0.074758\n",
       "3    SSR-STO  0.061142\n",
       "4   STO-Al-a  3.066138\n",
       "5   STO-Al-a  2.773698\n",
       "6   STO-Al-a  5.113122\n",
       "7   STO-Al-a  5.405538\n",
       "8   STO-Al-b  1.067305\n",
       "9   STO-Al-b  1.105231\n",
       "10  STO-Al-b  0.901365\n",
       "11  STO-Al-b  0.861575\n",
       "12  STO-Al-c  0.652450\n",
       "13  STO-Al-c  0.562633\n",
       "14  STO-Al-c  0.710455\n",
       "15  STO-Al-c  0.566390\n",
       "16  STO-Al-d  0.064667\n",
       "17  STO-Al-d  0.056137\n",
       "18  STO-Al-d  0.061316\n",
       "19  STO-Al-d  0.060738"
      ]
     },
     "execution_count": 122,
     "metadata": {},
     "output_type": "execute_result"
    }
   ],
   "source": [
    "df"
   ]
  },
  {
   "cell_type": "code",
   "execution_count": null,
   "id": "4566a3e6-b51f-4f5d-a41f-b0b3e9497f06",
   "metadata": {},
   "outputs": [],
   "source": []
  },
  {
   "cell_type": "code",
   "execution_count": 22,
   "id": "d6698f84-4268-4a08-bcb5-13f2b2cf3161",
   "metadata": {},
   "outputs": [
    {
     "data": {
      "text/plain": [
       "<AxesSubplot:>"
      ]
     },
     "execution_count": 22,
     "metadata": {},
     "output_type": "execute_result"
    },
    {
     "data": {
      "image/png": "[encoded data removed]",
      "text/plain": [
       "<Figure size 640x480 with 1 Axes>"
      ]
     },
     "metadata": {},
     "output_type": "display_data"
    }
   ],
   "source": [
    "NA = [73, 49, 53, 20, 20, 20, 20, 20, 20, 20, 20, 20]\n",
    "HG = [73, 30, 60]\n",
    "\n",
    "df = pd.Series(NA, name=\"NA\").to_frame().join(pd.Series(HG, name=\"HG\"))\n",
    "sns.boxplot(data=df, width = 0.2) "
   ]
  },
  {
   "cell_type": "code",
   "execution_count": 19,
   "id": "dc9c5885-8a96-4efc-bbc8-a23b36c3fbaf",
   "metadata": {},
   "outputs": [
    {
     "data": {
      "text/plain": [
       "array([1., 1., 1., 1., 1., 1., 1., 1., 1., 1.])"
      ]
     },
     "execution_count": 19,
     "metadata": {},
     "output_type": "execute_result"
    }
   ],
   "source": [
    "np.ones(10)"
   ]
  },
  {
   "cell_type": "code",
   "execution_count": 12,
   "id": "a8abd654-ab51-482c-a64d-845243e2331a",
   "metadata": {},
   "outputs": [
    {
     "data": {
      "image/png": "[encoded data removed]",
      "text/plain": [
       "<Figure size 640x480 with 1 Axes>"
      ]
     },
     "metadata": {},
     "output_type": "display_data"
    }
   ],
   "source": [
    "sns.set_theme(style=\"ticks\", palette=\"pastel\")\n",
    "\n",
    "# Load the example tips dataset\n",
    "tips = sns.load_dataset(\"tips\")\n",
    "\n",
    "# Draw a nested boxplot to show bills by day and time\n",
    "sns.boxplot(x=\"day\", y=\"total_bill\",\n",
    "            hue=\"smoker\", palette=[\"m\", \"g\"],\n",
    "            data=tips)\n",
    "sns.despine(offset=10, trim=True)"
   ]
  }
 ],
 "metadata": {
  "kernelspec": {
   "display_name": "Python 3 (ipykernel)",
   "language": "python",
   "name": "python3"
  },
  "language_info": {
   "codemirror_mode": {
    "name": "ipython",
    "version": 3
   },
   "file_extension": ".py",
   "mimetype": "text/x-python",
   "name": "python",
   "nbconvert_exporter": "python",
   "pygments_lexer": "ipython3",
   "version": "3.9.17"
  }
 },
 "nbformat": 4,
 "nbformat_minor": 5
}
